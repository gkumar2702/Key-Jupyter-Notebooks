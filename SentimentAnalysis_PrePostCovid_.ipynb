{
 "cells": [
  {
   "cell_type": "markdown",
   "metadata": {},
   "source": [
    " <p style = \"font-size: 35px;font-weight: bold;text-align:center;color:#800000\"> Sentiment Analysis Pre-Post Covid Pandemic  </p>\n",
    "\n",
    "<div>\n",
    "    <img src = \"http://upload.wikimedia.org/wikipedia/en/0/0c/Mu_Sigma_Logo.jpg\" align=\"left\" style=\"height:100px;margin-right:100px\">\n",
    "</div>\n",
    "<div>\n",
    "    <img src = \"https://upload.wikimedia.org/wikipedia/commons/2/26/Ecolab.svg\" align=\"right\" style=\"height:40px;margin-left:100px; margin-top:25px\">\n",
    "</div>\n",
    " "
   ]
  },
  {
   "cell_type": "markdown",
   "metadata": {},
   "source": [
    "<p style=\"font-size:100%;text-align:right;font-weight:bold\"> Created by  : Mu Sigma team\n",
    "<p style=\"font-size:100%;text-align:right;font-weight:bold\"> Last updated by : Gourav Kumar\n",
    "<p style=\"font-size:100%;text-align:right;font-weight:bold;\"> Last edited : 03/15/2021"
   ]
  },
  {
   "cell_type": "markdown",
   "metadata": {},
   "source": [
    " <p style = \"font-size: 20px;font-weight: bold;text-align: left;color:#000000\"> Description:   </p>\n",
    " \n",
    "This notebook is used get sentiments create a wordcloud for positive and negative sentiments. <br>\n",
    "Also take reviews and start associating KPI's with those reviews, for example - Cleanliness, Hygiene .. etc."
   ]
  },
  {
   "cell_type": "code",
   "execution_count": 1,
   "metadata": {},
   "outputs": [
    {
     "data": {
      "text/html": [
       "<script>\n",
       "code_show=true; \n",
       "function code_toggle() {\n",
       " if (code_show){\n",
       " $('div.input').hide();\n",
       " } else {\n",
       " $('div.input').show();\n",
       " }\n",
       " code_show = !code_show\n",
       "} \n",
       "$( document ).ready(code_toggle);\n",
       "</script>\n",
       "<form action=\"javascript:code_toggle()\"><input type=\"submit\" value=\"Click here to toggle on/off the raw code.\"></form>"
      ],
      "text/plain": [
       "<IPython.core.display.HTML object>"
      ]
     },
     "execution_count": 1,
     "metadata": {},
     "output_type": "execute_result"
    }
   ],
   "source": [
    "from IPython.display import HTML\n",
    "\n",
    "HTML('''<script>\n",
    "code_show=true; \n",
    "function code_toggle() {\n",
    " if (code_show){\n",
    " $('div.input').hide();\n",
    " } else {\n",
    " $('div.input').show();\n",
    " }\n",
    " code_show = !code_show\n",
    "} \n",
    "$( document ).ready(code_toggle);\n",
    "</script>\n",
    "<form action=\"javascript:code_toggle()\"><input type=\"submit\" value=\"Click here to toggle on/off the raw code.\"></form>''')"
   ]
  },
  {
   "cell_type": "markdown",
   "metadata": {},
   "source": [
    "# Flair NLP\n",
    "\n",
    "Flair is a simple to use framework for state of the art NLP. \n",
    "\n",
    "It provided various functionalities such as:\n",
    "\n",
    "1. pre-trained sentiment analysis models\n",
    "2. text embeddings\n",
    "3. NER, POS tagging and more\n",
    "\n",
    "Flair pretrained sentiment analysis model is trained on IMDB dataset\n",
    "\n",
    "Link : https://www.analyticsvidhya.com/blog/2019/02/flair-nlp-library-python/"
   ]
  },
  {
   "cell_type": "code",
   "execution_count": 2,
   "metadata": {
    "scrolled": false
   },
   "outputs": [
    {
     "data": {
      "text/plain": [
       "'C:\\\\Users\\\\gourav.kumar'"
      ]
     },
     "execution_count": 2,
     "metadata": {},
     "output_type": "execute_result"
    }
   ],
   "source": [
    "import pandas as pd\n",
    "import numpy as np\n",
    "import os\n",
    "import warnings\n",
    "import itertools\n",
    "from collections import Counter\n",
    "import matplotlib as plt\n",
    "import seaborn as sns\n",
    "warnings.filterwarnings(\"ignore\")\n",
    "\n",
    "pd.set_option('display.max_rows', 500)\n",
    "pd.set_option('display.max_columns', 500)\n",
    "pd.set_option('display.width', 2000)\n",
    "pd.options.display.float_format = '{:.2f}'.format\n",
    "\n",
    "os.getcwd()"
   ]
  },
  {
   "cell_type": "code",
   "execution_count": 3,
   "metadata": {
    "scrolled": false
   },
   "outputs": [
    {
     "name": "stdout",
     "output_type": "stream",
     "text": [
      "2021-03-25 17:54:21,396 loading file C:\\Users\\gourav.kumar\\.flair\\models\\sentiment-en-mix-distillbert_4.pt\n"
     ]
    }
   ],
   "source": [
    "from flair.models import TextClassifier\n",
    "from flair.data import Sentence\n",
    "from tqdm import tqdm\n",
    "\n",
    "classifier = TextClassifier.load('en-sentiment')"
   ]
  },
  {
   "cell_type": "code",
   "execution_count": 4,
   "metadata": {},
   "outputs": [],
   "source": [
    "# UDF (user defined function using flair nlp to calculate the sentiment scores)\n",
    "def senti_score(n):\n",
    "    s = Sentence(n)\n",
    "    classifier.predict(s)\n",
    "    total_sentiment = s.labels[0]\n",
    "    assert total_sentiment.value in ['POSITIVE', 'NEGATIVE']\n",
    "    sign = 1 if total_sentiment.value == 'POSITIVE' else -1\n",
    "    score = total_sentiment.score\n",
    "    return sign * score"
   ]
  },
  {
   "cell_type": "code",
   "execution_count": 5,
   "metadata": {},
   "outputs": [],
   "source": [
    "# User defined function to tag the sentiment as positive,neutral and negative\n",
    "def sentiment_type(score):\n",
    "    '''\n",
    "    This function is used to tag the\n",
    "    review as postive or negative using\n",
    "    Flair scores.\n",
    "\n",
    "    Inputs:\n",
    "    @score: Flair score\n",
    "\n",
    "    Output:\n",
    "    Sentiment type\n",
    "    '''\n",
    "    if score<-0.7:\n",
    "        return 'Negative'\n",
    "    elif score>0.7:\n",
    "        return 'Positive'\n",
    "    else:\n",
    "        return 'Neutral'"
   ]
  },
  {
   "cell_type": "code",
   "execution_count": 6,
   "metadata": {},
   "outputs": [],
   "source": [
    "# iterating the posts using for loop to calculate the sentiment scores and storing it in a list\n",
    "def cal_score(text_col, rating_col):\n",
    "    '''\n",
    "    This function is used to calculate\n",
    "    sentiment scores and create a new\n",
    "    dataset with the scores for each review\n",
    "    '''\n",
    "    scores=[]\n",
    "    for i in tqdm(text_col):\n",
    "        s=senti_score(i)\n",
    "        scores.append(s)\n",
    "\n",
    "    # create a datframe with the post and sentiment score list calculated above\n",
    "    df_sentiment = pd.DataFrame(\n",
    "        {'Reviews': text_col,\n",
    "         'Rating': rating_col,\n",
    "         'flair_score': scores\n",
    "        })\n",
    "    df_sentiment['Sentiment_Type'] =\\\n",
    "    df_sentiment['flair_score'].apply(sentiment_type)\n",
    "\n",
    "    return df_sentiment"
   ]
  },
  {
   "cell_type": "code",
   "execution_count": 7,
   "metadata": {},
   "outputs": [],
   "source": [
    "def plot_count(rest_nme, df, col):\n",
    "    '''\n",
    "    This function is used to plot a countplot\n",
    "    of the sentiments\n",
    "    '''\n",
    "    plt.figure(figsize = (10,10))\n",
    "    plt.title(\" Distribution of Sentiment in \"+ rest_nme +\" Reviews\")\n",
    "    ax=sns.countplot(col, data = df)\n",
    "    plt.xticks(size=12)\n",
    "    plt.yticks(size=12)\n",
    "    plt.xlabel(col, size=12)\n",
    "    plt.ylabel('Count', size=12)\n",
    "    total = len(df[col])\n",
    "    for p in ax.patches:\n",
    "        percentage = '{:.1f}%'.format(100 * p.get_height()/total)\n",
    "        x = p.get_x() + p.get_width() / 2 - 0.05\n",
    "        y = p.get_y() + p.get_height()\n",
    "        ax.annotate(percentage, (x, y), size = 12)\n",
    "    plt.show()"
   ]
  },
  {
   "cell_type": "code",
   "execution_count": 8,
   "metadata": {},
   "outputs": [],
   "source": [
    "#  Reading the dataset (raw reviews extracted from data infinity)\n",
    "df_first_watch = pd.read_csv('./Raw_reviews/First_Watch.csv')\n",
    "df_first_watch = df_first_watch.loc[:, ~df_first_watch.columns.str.contains('^Unnamed')]\n",
    "df_first_watch = df_first_watch[df_first_watch['text'].notna()]\n",
    "\n",
    "df_modern_market = pd.read_csv('./Raw_reviews/Modern_Market.csv')\n",
    "df_modern_market = df_modern_market.loc[:, ~df_modern_market.columns.str.contains('^Unnamed')]\n",
    "df_modern_market = df_modern_market[df_modern_market['text'].notna()]\n",
    "\n",
    "df_top_golf = pd.read_csv('./Raw_reviews/Topgolf.csv')\n",
    "df_top_golf = df_top_golf.loc[:, ~df_top_golf.columns.str.contains('^Unnamed')]\n",
    "df_top_golf = df_top_golf[df_top_golf['text'].notna()]\n",
    "\n",
    "df_texas_roadhouse = pd.read_csv('./Raw_reviews/Texas_Roadhouse.csv')\n",
    "df_texas_roadhouse = df_texas_roadhouse.loc[:, ~df_texas_roadhouse.columns.str.contains('^Unnamed')]\n",
    "df_texas_roadhouse = df_texas_roadhouse[df_texas_roadhouse['text'].notna()]\n",
    "\n",
    "df_truefoodkitchen = pd.read_csv('./Raw_reviews/True Food Kitchen.csv')\n",
    "df_truefoodkitchen = df_truefoodkitchen.loc[:, ~df_truefoodkitchen.columns.str.contains('^Unnamed')]\n",
    "df_truefoodkitchen = df_truefoodkitchen[df_truefoodkitchen['text'].notna()]"
   ]
  },
  {
   "cell_type": "code",
   "execution_count": 9,
   "metadata": {},
   "outputs": [],
   "source": [
    "# convert date column to datetime column \n",
    "\n",
    "df_first_watch['date'] = pd.to_datetime(df_first_watch['date'])\n",
    "df_first_watch['Year'] = df_first_watch['date'].dt.year\n",
    "\n",
    "df_modern_market['date'] = pd.to_datetime(df_modern_market['date'])\n",
    "df_modern_market['Year'] = df_modern_market['date'].dt.year\n",
    "\n",
    "df_top_golf['date'] = pd.to_datetime(df_top_golf['date'])\n",
    "df_top_golf['Year'] = df_top_golf['date'].dt.year\n",
    "\n",
    "df_truefoodkitchen['date'] = pd.to_datetime(df_truefoodkitchen['date'])\n",
    "df_truefoodkitchen['Year'] = df_truefoodkitchen['date'].dt.year\n",
    "\n",
    "df_texas_roadhouse['date'] = pd.to_datetime(df_texas_roadhouse['date'])\n",
    "df_texas_roadhouse['Year'] = df_texas_roadhouse['date'].dt.year"
   ]
  },
  {
   "cell_type": "code",
   "execution_count": 10,
   "metadata": {},
   "outputs": [],
   "source": [
    "# UDF to create pre-covid & post-covid flags \n",
    "\n",
    "def create_covid_flag(year):\n",
    "    flag = ''\n",
    "    if year < 2020:\n",
    "        flag = 'Pre-covid'\n",
    "    else:\n",
    "        flag = 'Post-covid'\n",
    "        \n",
    "    return flag\n",
    "\n",
    "df_first_watch['Covid-Flag'] = df_first_watch.apply(lambda x: create_covid_flag(x['Year']), axis=1)\n",
    "df_modern_market['Covid-Flag'] = df_modern_market.apply(lambda x: create_covid_flag(x['Year']), axis=1)\n",
    "df_top_golf['Covid-Flag'] = df_top_golf.apply(lambda x: create_covid_flag(x['Year']), axis=1)\n",
    "df_truefoodkitchen['Covid-Flag'] = df_truefoodkitchen.apply(lambda x: create_covid_flag(x['Year']), axis=1)\n",
    "df_texas_roadhouse['Covid-Flag'] = df_texas_roadhouse.apply(lambda x: create_covid_flag(x['Year']), axis=1)"
   ]
  },
  {
   "cell_type": "code",
   "execution_count": 11,
   "metadata": {},
   "outputs": [
    {
     "name": "stdout",
     "output_type": "stream",
     "text": [
      "(26542, 13)\n"
     ]
    }
   ],
   "source": [
    "reviews = pd.concat([df_first_watch, df_modern_market, df_top_golf, df_truefoodkitchen, df_texas_roadhouse], ignore_index=True, sort=False)\n",
    "reviews.reset_index(drop=True, inplace=True)\n",
    "print(reviews.shape)"
   ]
  },
  {
   "cell_type": "code",
   "execution_count": 12,
   "metadata": {},
   "outputs": [
    {
     "name": "stdout",
     "output_type": "stream",
     "text": [
      "2001-01-10 00:00:00+00:00\n",
      "2019-12-31 00:00:00+00:00\n",
      "13284\n"
     ]
    }
   ],
   "source": [
    "pre_covid_reviews = reviews[reviews['Covid-Flag']=='Pre-covid']\n",
    "pre_covid_reviews.reset_index(drop=True, inplace=True)\n",
    "\n",
    "print(min(pre_covid_reviews['date']))\n",
    "print(max(pre_covid_reviews['date']))\n",
    "\n",
    "print(len(pre_covid_reviews))"
   ]
  },
  {
   "cell_type": "code",
   "execution_count": 13,
   "metadata": {},
   "outputs": [
    {
     "name": "stdout",
     "output_type": "stream",
     "text": [
      "2020-01-01 00:00:00+00:00\n",
      "2021-03-05 07:06:08.752000+00:00\n",
      "13258\n"
     ]
    }
   ],
   "source": [
    "post_covid_reviews = reviews[reviews['Covid-Flag']=='Post-covid']\n",
    "post_covid_reviews.reset_index(drop=True, inplace=True)\n",
    "\n",
    "print(min(post_covid_reviews['date']))\n",
    "print(max(post_covid_reviews['date']))\n",
    "\n",
    "print(len(post_covid_reviews))"
   ]
  },
  {
   "cell_type": "code",
   "execution_count": 14,
   "metadata": {
    "scrolled": true
   },
   "outputs": [],
   "source": [
    "# ## first watch\n",
    "# firstwatch_pre = df_first_watch[df_first_watch['Covid-Flag']=='Pre-covid']\n",
    "# firstwatch_pre.reset_index(drop=True, inplace=True)\n",
    "# print(firstwatch_pre.shape)\n",
    "\n",
    "# firstwatch_post = df_first_watch[df_first_watch['Covid-Flag']=='Post-covid']\n",
    "# firstwatch_post.reset_index(drop=True, inplace=True)\n",
    "# print(firstwatch_post.shape)\n",
    "\n",
    "# ## Modern Market\n",
    "# modernmarket_pre = df_modern_market[df_modern_market['Covid-Flag']=='Pre-covid']\n",
    "# modernmarket_pre.reset_index(drop=True, inplace=True)\n",
    "# print(modernmarket_pre.shape)\n",
    "\n",
    "# modernmarket_post = df_modern_market[df_modern_market['Covid-Flag']=='Post-covid']\n",
    "# modernmarket_post.reset_index(drop=True, inplace=True)\n",
    "# print(modernmarket_post.shape)\n",
    "\n",
    "# ## Top Golf\n",
    "# topgolf_pre = df_top_golf[df_top_golf['Covid-Flag']=='Pre-covid']\n",
    "# topgolf_pre.reset_index(drop=True, inplace=True)\n",
    "# print(topgolf_pre.shape)\n",
    "\n",
    "# topgolf_post = df_top_golf[df_top_golf['Covid-Flag']=='Post-covid']\n",
    "# topgolf_post.reset_index(drop=True, inplace=True)\n",
    "# print(topgolf_post.shape)\n",
    "\n",
    "# ## True Food Kitchen\n",
    "# truefoodkitchen_pre = df_truefoodkitchen[df_truefoodkitchen['Covid-Flag']=='Pre-covid']\n",
    "# truefoodkitchen_pre.reset_index(drop=True, inplace=True)\n",
    "# print(firstwatch_pre.shape)\n",
    "\n",
    "# truefoodkitchen_post = df_truefoodkitchen[df_truefoodkitchen['Covid-Flag']=='Post-covid']\n",
    "# truefoodkitchen_post.reset_index(drop=True, inplace=True)\n",
    "# print(truefoodkitchen_post.shape)\n",
    "\n",
    "# ## Texas Roadhouse\n",
    "# texasroadhouse_pre = df_texas_roadhouse[df_texas_roadhouse['Covid-Flag']=='Pre-covid']\n",
    "# texasroadhouse_pre.reset_index(drop=True, inplace=True)\n",
    "# print(texasroadhouse_pre.shape)\n",
    "\n",
    "# texasroadhouse_post = df_texas_roadhouse[df_texas_roadhouse['Covid-Flag']=='Post-covid']\n",
    "# texasroadhouse_post.reset_index(drop=True, inplace=True)\n",
    "# print(texasroadhouse_post.shape)"
   ]
  },
  {
   "cell_type": "code",
   "execution_count": 15,
   "metadata": {
    "scrolled": false
   },
   "outputs": [],
   "source": [
    "# # Getting only the text column\n",
    "# text_col_frst_wtch = firstwatch_pre[\"text\"].to_list()\n",
    "# rating_col_frst_wtch = firstwatch_pre['rating'].to_list()\n",
    "# firstwatch_pre_sentiment = cal_score(text_col_frst_wtch, rating_col_frst_wtch)\n",
    "\n",
    "# # Getting only the text column\n",
    "# text_col_frst_wtch = firstwatch_post[\"text\"].to_list()\n",
    "# rating_col_frst_wtch = firstwatch_post['rating'].to_list()\n",
    "# firstwatch_post_sentiment = cal_score(text_col_frst_wtch, rating_col_frst_wtch)\n",
    "\n",
    "# # Getting only the text column\n",
    "# text_col_mrdn_mrkt = modernmarket_pre[\"text\"].to_list()\n",
    "# rating_col_mrdn_mrkt = modernmarket_pre['rating'].to_list()\n",
    "# modernmarket_pre_sentiment = cal_score(text_col_mrdn_mrkt, rating_col_mrdn_mrkt)\n",
    "\n",
    "# # Getting only the text column\n",
    "# text_col_mrdn_mrkt = modernmarket_post[\"text\"].to_list()\n",
    "# rating_col_mrdn_mrkt = modernmarket_post['rating'].to_list()\n",
    "# modernmarket_post_sentiment = cal_score(text_col_mrdn_mrkt, rating_col_mrdn_mrkt)\n",
    "\n",
    "# # Getting only the text column\n",
    "# text_col_top_golf = topgolf_pre[\"text\"].to_list()\n",
    "# rating_col_top_golf  = topgolf_pre['rating'].to_list()\n",
    "# topgolf_pre_sentiment = cal_score(text_col_top_golf, rating_col_top_golf)\n",
    "\n",
    "# # Getting only the text column\n",
    "# text_col_top_golf = topgolf_post[\"text\"].to_list()\n",
    "# rating_col_top_golf  = topgolf_post['rating'].to_list()\n",
    "# topgolf_post_sentiment = cal_score(text_col_top_golf, rating_col_top_golf)\n",
    "\n",
    "# # Getting only the text column\n",
    "# text_col_truefoodkitchen = truefoodkitchen_pre[\"text\"].to_list()\n",
    "# rating_col_truefoodkitchen  = truefoodkitchen_pre['rating'].to_list()\n",
    "# truefoodkitchen_pre_sentiment = cal_score(text_col_truefoodkitchen, rating_col_truefoodkitchen)\n",
    "\n",
    "# # Getting only the text column\n",
    "# text_col_truefoodkitchen = truefoodkitchen_post[\"text\"].to_list()\n",
    "# rating_col_truefoodkitchen  = truefoodkitchen_post['rating'].to_list()\n",
    "# truefoodkitchen_post_sentiment = cal_score(text_col_truefoodkitchen, rating_col_truefoodkitchen)\n",
    "\n",
    "# # Getting only the text column\n",
    "# text_col_texasroadhouse = texasroadhouse_pre[\"text\"].to_list()\n",
    "# rating_col_texasroadhouse   = texasroadhouse_pre['rating'].to_list()\n",
    "# texasroadhouse_pre_sentiment = cal_score(text_col_texasroadhouse, rating_col_texasroadhouse)\n",
    "\n",
    "# # Getting only the text column\n",
    "# text_col_texasroadhouse = texasroadhouse_post[\"text\"].to_list()\n",
    "# rating_col_texasroadhouse   = texasroadhouse_post['rating'].to_list()\n",
    "# texasroadhouse_post_sentiment = cal_score(text_col_texasroadhouse, rating_col_texasroadhouse)"
   ]
  },
  {
   "cell_type": "code",
   "execution_count": 16,
   "metadata": {},
   "outputs": [],
   "source": [
    "# firstwatch_pre_sentiment.to_csv('./Sentiment/firstwatch_pre_sentiment.csv')\n",
    "# firstwatch_post_sentiment.to_csv('./Sentiment/firstwatch_post_sentiment.csv')\n",
    "# modernmarket_pre_sentiment.to_csv('./Sentiment/modernmarket_pre_sentiment.csv')\n",
    "# modernmarket_post_sentiment.to_csv('./Sentiment/modernmarket_post_sentiment.csv')\n",
    "# topgolf_pre_sentiment.to_csv('./Sentiment/topgolf_pre_sentiment.csv')\n",
    "# topgolf_post_sentiment.to_csv('./Sentiment/topgolf_post_sentiment.csv')\n",
    "# truefoodkitchen_pre_sentiment.to_csv('./Sentiment/truefoodkitchen_pre_sentiment.csv')\n",
    "# truefoodkitchen_post_sentiment.to_csv('./Sentiment/truefoodkitchen_post_sentiment.csv')\n",
    "# texasroadhouse_pre_sentiment.to_csv('./Sentiment/texasroadhouse_pre_sentiment.csv')\n",
    "# texasroadhouse_post_sentiment.to_csv('./Sentiment/texasroadhouse_post_sentiment.csv')"
   ]
  },
  {
   "cell_type": "code",
   "execution_count": 81,
   "metadata": {},
   "outputs": [],
   "source": [
    "firstwatch_pre_sentiment = pd.read_csv('./Sentiment/firstwatch_pre_sentiment.csv')\n",
    "firstwatch_post_sentiment = pd.read_csv('./Sentiment/firstwatch_post_sentiment.csv')\n",
    "modernmarket_pre_sentiment = pd.read_csv('./Sentiment/modernmarket_pre_sentiment.csv')\n",
    "modernmarket_post_sentiment = pd.read_csv('./Sentiment/modernmarket_post_sentiment.csv')\n",
    "topgolf_pre_sentiment = pd.read_csv('./Sentiment/topgolf_pre_sentiment.csv')\n",
    "topgolf_post_sentiment = pd.read_csv('./Sentiment/topgolf_post_sentiment.csv')\n",
    "truefoodkitchen_pre_sentiment = pd.read_csv('./Sentiment/truefoodkitchen_pre_sentiment.csv')\n",
    "truefoodkitchen_post_sentiment = pd.read_csv('./Sentiment/truefoodkitchen_post_sentiment.csv')\n",
    "texasroadhouse_pre_sentiment = pd.read_csv('./Sentiment/texasroadhouse_pre_sentiment.csv')\n",
    "texasroadhouse_post_sentiment = pd.read_csv('./Sentiment/texasroadhouse_post_sentiment.csv')"
   ]
  },
  {
   "cell_type": "code",
   "execution_count": 82,
   "metadata": {
    "scrolled": false
   },
   "outputs": [
    {
     "name": "stdout",
     "output_type": "stream",
     "text": [
      "75.46 % of Positive Sentiment for Pre-Covid First Watch\n",
      "21.67 % of Negative Sentiment for Pre-Covid First Watch\n",
      "2.87 % of Neutral Sentiment for Pre-Covid First Watch\n"
     ]
    }
   ],
   "source": [
    "print(\"{} % of Positive Sentiment for Pre-Covid First Watch\".format(round((len(firstwatch_pre_sentiment[firstwatch_pre_sentiment.Sentiment_Type == 'Positive'])/len(firstwatch_pre_sentiment)*100), 2)))\n",
    "print(\"{} % of Negative Sentiment for Pre-Covid First Watch\".format(round((len(firstwatch_pre_sentiment[firstwatch_pre_sentiment.Sentiment_Type == 'Negative'])/len(firstwatch_pre_sentiment)*100), 2)))\n",
    "print(\"{} % of Neutral Sentiment for Pre-Covid First Watch\".format(round((len(firstwatch_pre_sentiment[firstwatch_pre_sentiment.Sentiment_Type == 'Neutral'])/len(firstwatch_pre_sentiment)*100), 2)))"
   ]
  },
  {
   "cell_type": "code",
   "execution_count": 83,
   "metadata": {
    "scrolled": false
   },
   "outputs": [
    {
     "name": "stdout",
     "output_type": "stream",
     "text": [
      "65.96 % of Positive Sentiment for Post-Covid First Watch\n",
      "30.85 % of Negative Sentiment for Post-Covid First Watch\n",
      "3.19 % of Neutral Sentiment for Post-Covid First Watch\n"
     ]
    }
   ],
   "source": [
    "print(\"{} % of Positive Sentiment for Post-Covid First Watch\".format(round((len(firstwatch_post_sentiment[firstwatch_post_sentiment.Sentiment_Type == 'Positive'])/len(firstwatch_post_sentiment))*100, 2)))\n",
    "print(\"{} % of Negative Sentiment for Post-Covid First Watch\".format(round((len(firstwatch_post_sentiment[firstwatch_post_sentiment.Sentiment_Type == 'Negative'])/len(firstwatch_post_sentiment)*100), 2)))\n",
    "print(\"{} % of Neutral Sentiment for Post-Covid First Watch\".format(round((len(firstwatch_post_sentiment[firstwatch_post_sentiment.Sentiment_Type == 'Neutral'])/len(firstwatch_post_sentiment)*100), 2)))"
   ]
  },
  {
   "cell_type": "code",
   "execution_count": 84,
   "metadata": {
    "scrolled": true
   },
   "outputs": [
    {
     "name": "stdout",
     "output_type": "stream",
     "text": [
      "79.34 % of Positive Sentiment for Pre-Covid Modern Market\n",
      "17.61 % of Negative Sentiment for Pre-Covid Modern Market\n",
      "3.05 % of Neutral Sentiment for Pre-Covid Modern Market\n"
     ]
    }
   ],
   "source": [
    "print(\"{} % of Positive Sentiment for Pre-Covid Modern Market\".format(round((len(modernmarket_pre_sentiment[modernmarket_pre_sentiment.Sentiment_Type == 'Positive'])/len(modernmarket_pre_sentiment))*100, 2)))\n",
    "print(\"{} % of Negative Sentiment for Pre-Covid Modern Market\".format(round((len(modernmarket_pre_sentiment[modernmarket_pre_sentiment.Sentiment_Type == 'Negative'])/len(modernmarket_pre_sentiment)*100), 2)))\n",
    "print(\"{} % of Neutral Sentiment for Pre-Covid Modern Market\".format(round((len(modernmarket_pre_sentiment[modernmarket_pre_sentiment.Sentiment_Type == 'Neutral'])/len(modernmarket_pre_sentiment)*100), 2)))"
   ]
  },
  {
   "cell_type": "code",
   "execution_count": 85,
   "metadata": {
    "scrolled": true
   },
   "outputs": [
    {
     "name": "stdout",
     "output_type": "stream",
     "text": [
      "60.27 % of Positive Sentiment for Post-Covid Modern Market\n",
      "35.62 % of Negative Sentiment for Post-Covid Modern Market\n",
      "4.11 % of Neutral Sentiment for Post-Covid Modern Market\n"
     ]
    }
   ],
   "source": [
    "print(\"{} % of Positive Sentiment for Post-Covid Modern Market\".format(round((len(modernmarket_post_sentiment[modernmarket_post_sentiment.Sentiment_Type == 'Positive'])/len(modernmarket_post_sentiment))*100, 2)))\n",
    "print(\"{} % of Negative Sentiment for Post-Covid Modern Market\".format(round((len(modernmarket_post_sentiment[modernmarket_post_sentiment.Sentiment_Type == 'Negative'])/len(modernmarket_post_sentiment)*100), 2)))\n",
    "print(\"{} % of Neutral Sentiment for Post-Covid Modern Market\".format(round((len(modernmarket_post_sentiment[modernmarket_post_sentiment.Sentiment_Type == 'Neutral'])/len(modernmarket_post_sentiment)*100), 2)))"
   ]
  },
  {
   "cell_type": "code",
   "execution_count": 86,
   "metadata": {
    "scrolled": true
   },
   "outputs": [
    {
     "name": "stdout",
     "output_type": "stream",
     "text": [
      "75.42 % of Positive Sentiment for Pre-Covid Top Golf\n",
      "19.89 % of Negative Sentiment for Pre-Covid Top Golf\n",
      "4.69 % of Neutral Sentiment for Pre-Covid Top Golf\n"
     ]
    }
   ],
   "source": [
    "print(\"{} % of Positive Sentiment for Pre-Covid Top Golf\".format(round((len(topgolf_pre_sentiment[topgolf_pre_sentiment.Sentiment_Type == 'Positive'])/len(topgolf_pre_sentiment))*100, 2)))\n",
    "print(\"{} % of Negative Sentiment for Pre-Covid Top Golf\".format(round((len(topgolf_pre_sentiment[topgolf_pre_sentiment.Sentiment_Type == 'Negative'])/len(topgolf_pre_sentiment)*100), 2)))\n",
    "print(\"{} % of Neutral Sentiment for Pre-Covid Top Golf\".format(round((len(topgolf_pre_sentiment[topgolf_pre_sentiment.Sentiment_Type == 'Neutral'])/len(topgolf_pre_sentiment)*100), 2)))"
   ]
  },
  {
   "cell_type": "code",
   "execution_count": 87,
   "metadata": {
    "scrolled": true
   },
   "outputs": [
    {
     "name": "stdout",
     "output_type": "stream",
     "text": [
      "67.46 % of Positive Sentiment for Post-Covid Top Golf\n",
      "29.59 % of Negative Sentiment for Post-Covid Top Golf\n",
      "2.96 % of Neutral Sentiment for Post-Covid Top Golf\n"
     ]
    }
   ],
   "source": [
    "print(\"{} % of Positive Sentiment for Post-Covid Top Golf\".format(round((len(topgolf_post_sentiment[topgolf_post_sentiment.Sentiment_Type == 'Positive'])/len(topgolf_post_sentiment))*100, 2)))\n",
    "print(\"{} % of Negative Sentiment for Post-Covid Top Golf\".format(round((len(topgolf_post_sentiment[topgolf_post_sentiment.Sentiment_Type == 'Negative'])/len(topgolf_post_sentiment)*100), 2)))\n",
    "print(\"{} % of Neutral Sentiment for Post-Covid Top Golf\".format(round((len(topgolf_post_sentiment[topgolf_post_sentiment.Sentiment_Type == 'Neutral'])/len(topgolf_post_sentiment)*100), 2)))"
   ]
  },
  {
   "cell_type": "code",
   "execution_count": 88,
   "metadata": {},
   "outputs": [
    {
     "name": "stdout",
     "output_type": "stream",
     "text": [
      "75.95 % of Positive Sentiment for Pre-Covid True Food Kitchen\n",
      "22.27 % of Negative Sentiment for Pre-Covid True Food Kitchen\n",
      "1.78 % of Neutral Sentiment for Pre-Covid True Food Kitchen\n"
     ]
    }
   ],
   "source": [
    "print(\"{} % of Positive Sentiment for Pre-Covid True Food Kitchen\".format(round((len(truefoodkitchen_pre_sentiment[truefoodkitchen_pre_sentiment.Sentiment_Type == 'Positive'])/len(truefoodkitchen_pre_sentiment))*100, 2)))\n",
    "print(\"{} % of Negative Sentiment for Pre-Covid True Food Kitchen\".format(round((len(truefoodkitchen_pre_sentiment[truefoodkitchen_pre_sentiment.Sentiment_Type == 'Negative'])/len(truefoodkitchen_pre_sentiment)*100), 2)))\n",
    "print(\"{} % of Neutral Sentiment for Pre-Covid True Food Kitchen\".format(round((len(truefoodkitchen_pre_sentiment[truefoodkitchen_pre_sentiment.Sentiment_Type == 'Neutral'])/len(truefoodkitchen_pre_sentiment)*100), 2)))"
   ]
  },
  {
   "cell_type": "code",
   "execution_count": 89,
   "metadata": {
    "scrolled": true
   },
   "outputs": [
    {
     "name": "stdout",
     "output_type": "stream",
     "text": [
      "78.56 % of Positive Sentiment for Post-Covid True Food Kitchen\n",
      "19.82 % of Negative Sentiment for Post-Covid True Food Kitchen\n",
      "1.62 % of Neutral Sentiment for Post-Covid True Food Kitchen\n"
     ]
    }
   ],
   "source": [
    "print(\"{} % of Positive Sentiment for Post-Covid True Food Kitchen\".format(round((len(truefoodkitchen_post_sentiment[truefoodkitchen_post_sentiment.Sentiment_Type == 'Positive'])/len(truefoodkitchen_post_sentiment))*100, 2)))\n",
    "print(\"{} % of Negative Sentiment for Post-Covid True Food Kitchen\".format(round((len(truefoodkitchen_post_sentiment[truefoodkitchen_post_sentiment.Sentiment_Type == 'Negative'])/len(truefoodkitchen_post_sentiment)*100), 2)))\n",
    "print(\"{} % of Neutral Sentiment for Post-Covid True Food Kitchen\".format(round((len(truefoodkitchen_post_sentiment[truefoodkitchen_post_sentiment.Sentiment_Type == 'Neutral'])/len(truefoodkitchen_post_sentiment)*100), 2)))"
   ]
  },
  {
   "cell_type": "code",
   "execution_count": 90,
   "metadata": {
    "scrolled": true
   },
   "outputs": [
    {
     "name": "stdout",
     "output_type": "stream",
     "text": [
      "74.57 % of Positive Sentiment for Pre-Covid Texas Roadhouse\n",
      "23.15 % of Negative Sentiment for Pre-Covid Texas Roadhouse\n",
      "2.27 % of Neutral Sentiment for Pre-Covid Texas Roadhouse\n"
     ]
    }
   ],
   "source": [
    "print(\"{} % of Positive Sentiment for Pre-Covid Texas Roadhouse\".format(round((len(texasroadhouse_pre_sentiment[texasroadhouse_pre_sentiment.Sentiment_Type == 'Positive'])/len(texasroadhouse_pre_sentiment))*100, 2)))\n",
    "print(\"{} % of Negative Sentiment for Pre-Covid Texas Roadhouse\".format(round((len(texasroadhouse_pre_sentiment[texasroadhouse_pre_sentiment.Sentiment_Type == 'Negative'])/len(texasroadhouse_pre_sentiment)*100), 2)))\n",
    "print(\"{} % of Neutral Sentiment for Pre-Covid Texas Roadhouse\".format(round((len(texasroadhouse_pre_sentiment[texasroadhouse_pre_sentiment.Sentiment_Type == 'Neutral'])/len(texasroadhouse_pre_sentiment)*100), 2)))"
   ]
  },
  {
   "cell_type": "code",
   "execution_count": 91,
   "metadata": {},
   "outputs": [
    {
     "name": "stdout",
     "output_type": "stream",
     "text": [
      "79.46 % of Positive Sentiment for Post-Covid Texas Roadhouse\n",
      "18.75 % of Negative Sentiment for Post-Covid Texas Roadhouse\n",
      "1.79 % of Neutral Sentiment for Post-Covid Texas Roadhouse\n"
     ]
    }
   ],
   "source": [
    "print(\"{} % of Positive Sentiment for Post-Covid Texas Roadhouse\".format(round((len(texasroadhouse_post_sentiment[truefoodkitchen_post_sentiment.Sentiment_Type == 'Positive'])/len(texasroadhouse_post_sentiment))*100, 2)))\n",
    "print(\"{} % of Negative Sentiment for Post-Covid Texas Roadhouse\".format(round((len(texasroadhouse_post_sentiment[truefoodkitchen_post_sentiment.Sentiment_Type == 'Negative'])/len(texasroadhouse_post_sentiment)*100), 2)))\n",
    "print(\"{} % of Neutral Sentiment for Post-Covid Texas Roadhouse\".format(round((len(texasroadhouse_post_sentiment[truefoodkitchen_post_sentiment.Sentiment_Type == 'Neutral'])/len(texasroadhouse_post_sentiment)*100), 2)))"
   ]
  },
  {
   "cell_type": "code",
   "execution_count": 92,
   "metadata": {
    "scrolled": true
   },
   "outputs": [],
   "source": [
    "df_sentiment = pd.DataFrame({'Sentiment' : ['Positive % Pre Covid'],\n",
    "                             'First_Watch' : [75.46],\n",
    "                             'Modern_Market' : [79.34],\n",
    "                             'Top_Golf' : [75.42],\n",
    "                             'True_Food_Kitchen' : [75.95],\n",
    "                             'Texas_Roadhouse' : [79.46]})"
   ]
  },
  {
   "cell_type": "code",
   "execution_count": 93,
   "metadata": {
    "scrolled": false
   },
   "outputs": [
    {
     "data": {
      "text/html": [
       "<div>\n",
       "<style scoped>\n",
       "    .dataframe tbody tr th:only-of-type {\n",
       "        vertical-align: middle;\n",
       "    }\n",
       "\n",
       "    .dataframe tbody tr th {\n",
       "        vertical-align: top;\n",
       "    }\n",
       "\n",
       "    .dataframe thead th {\n",
       "        text-align: right;\n",
       "    }\n",
       "</style>\n",
       "<table border=\"1\" class=\"dataframe\">\n",
       "  <thead>\n",
       "    <tr style=\"text-align: right;\">\n",
       "      <th></th>\n",
       "      <th>Sentiment</th>\n",
       "      <th>First_Watch</th>\n",
       "      <th>Modern_Market</th>\n",
       "      <th>Top_Golf</th>\n",
       "      <th>True_Food_Kitchen</th>\n",
       "      <th>Texas_Roadhouse</th>\n",
       "    </tr>\n",
       "  </thead>\n",
       "  <tbody>\n",
       "    <tr>\n",
       "      <th>0</th>\n",
       "      <td>Positive % Pre Covid</td>\n",
       "      <td>75.46</td>\n",
       "      <td>79.34</td>\n",
       "      <td>75.42</td>\n",
       "      <td>75.95</td>\n",
       "      <td>79.46</td>\n",
       "    </tr>\n",
       "  </tbody>\n",
       "</table>\n",
       "</div>"
      ],
      "text/plain": [
       "              Sentiment  First_Watch  Modern_Market  Top_Golf  True_Food_Kitchen  Texas_Roadhouse\n",
       "0  Positive % Pre Covid        75.46          79.34     75.42              75.95            79.46"
      ]
     },
     "execution_count": 93,
     "metadata": {},
     "output_type": "execute_result"
    }
   ],
   "source": [
    "df_sentiment"
   ]
  },
  {
   "cell_type": "code",
   "execution_count": 94,
   "metadata": {},
   "outputs": [],
   "source": [
    "# list of synonyms/words related to topic chosen\n",
    "\n",
    "clean_fsr = ['antiseptic', 'immaculate', 'pristine', 'spotless', 'squeaky-clean',\n",
    "             'stainless', 'unsoiled', 'clean', 'washed', 'scrubbed', 'cleansed', 'cleaned', 'polished',\n",
    "             'spotless', 'unspotted', 'unblemished', 'grubby', 'smirched', 'soiled',\n",
    "             'spotted', 'stained', 'sullied', 'unclean', 'uncleaned']\n",
    "\n",
    "clean_restrooms = ['bathrooms', 'baths', 'restroom', 'johns', 'lavatories', 'loos', 'toilets',\n",
    "                   'washrooms', 'waterclosets', 'wc']\n",
    "\n",
    "food_hygiene = ['unhealthy' 'freshness', 'safe', 'fresh', 'hygiene', 'hygienic',\n",
    "                'sanitary', 'sterile', 'tidy', 'pure', 'contaminated', 'dirty',\n",
    "                'germ-free', 'stale', 'musty', 'bacteria', 'germs', 'filthy', 'hair',\n",
    "                'undercooked', 'overcooked', 'ungloved', 'messy', 'lukewarm', 'dry']\n",
    "\n",
    "food_service = ['variety', 'taste', 'presentation', 'portion', 'subpar', 'soggy', 'pleasant',\n",
    "                'exceptional', 'responsive', 'nutritious', 'tasty', 'overpriced', 'meal', 'inattentive', 'mediocre']\n",
    "\n",
    "operations = ['wait', 'checkout', 'checkin', 'ease', 'easy', 'professionalism',\n",
    "              'waiter', 'waitress', 'employee', 'service', 'reservation', 'refund', 'loud']\n",
    "\n",
    "delivery_service = ['deliver', 'delivery', 'pickup', 'predictability', 'estimate', 'to-go',\n",
    "                    'togo', 'onlineorder', 'online-order' 'ubereats', 'doordash', 'seamless', 'grubhub']\n",
    "\n",
    "packaging_service = ['packaging', 'package', 'box', 'packing', 'visual',\n",
    "                     'spill', 'container', 'presentation', 'pack', 'parcel', 'leak']\n",
    "\n",
    "location_and_parking = ['drive', 'drivetime', 'drive-time', 'parking', 'lot', 'valet', 'park',\n",
    "                        'picture', 'driving', 'traffic', 'curbside', 'vehicle']\n",
    "\n",
    "infrastructure = ['waiting', 'outdoor', 'indoor', 'patio', 'reservation-facility', 'reservationfacility', 'buffet', \n",
    "                  'atmosphere', 'vibe', 'spacious', 'distancing', 'seating']\n",
    "\n",
    "def search_keywords(list_of_words, x):\n",
    "    counter = 0\n",
    "    for i in list_of_words:\n",
    "        if(x.lower().find(i) != -1):\n",
    "            counter = 1\n",
    "            \n",
    "    return counter  "
   ]
  },
  {
   "cell_type": "code",
   "execution_count": 95,
   "metadata": {},
   "outputs": [],
   "source": [
    "words = ['antiseptic', 'immaculate', 'pristine', 'spotless', 'squeaky-clean',\n",
    "             'stainless', 'unsoiled', 'clean', 'washed', 'scrubbed', 'cleansed', 'cleaned', 'polished',\n",
    "             'spotless', 'unspotted', 'unblemished', 'immaculate', 'grubby', 'smirched', 'soiled',\n",
    "             'spotted', 'stained', 'sullied', 'unclean', 'uncleaned',\n",
    "            'bathrooms', 'baths', 'restroom', 'johns', 'lavatories', 'loos', 'toilets',\n",
    "                   'washrooms', 'waterclosets', 'wc',\n",
    "         'unhealthy' 'freshness', 'safe', 'fresh', 'hygiene', 'hygienic',\n",
    "                'sanitary', 'sterile', 'tidy', 'pure', 'contaminated', 'dirty',\n",
    "                'germ-free', 'stale', 'musty', 'bacteria', 'germs', 'filthy', 'hair',\n",
    "                'undercooked', 'overcooked', 'ungloved', 'messy', 'lukewarm', 'dry',\n",
    "        'variety', 'taste', 'presentation', 'portion', 'subpar', 'soggy', 'pleasant',\n",
    "                'exceptional', 'responsive', 'nutritious', 'tasty', 'overpriced', 'meal', 'inattentive', 'mediocre',\n",
    "        'wait', 'checkout', 'checkin', 'ease', 'easy', 'professionalism',\n",
    "              'waiter', 'waitress', 'employee', 'service', 'reservation', 'refund', 'loud',\n",
    "        'deliver', 'delivery', 'pickup', 'predictability', 'estimate', 'to-go',\n",
    "                    'togo', 'onlineorder', 'online-order' 'ubereats', 'doordash', 'seamless', 'grubhub',\n",
    "        'packaging', 'package', 'box', 'packing', 'visual',\n",
    "                     'spill', 'container', 'presentation', 'pack', 'parcel', 'leak',\n",
    "        'drive', 'drivetime', 'drive-time', 'parking', 'lot', 'valet', 'park',\n",
    "                        'picture', 'driving', 'valet', 'traffic', 'curbside', 'vehicle', 'car',\n",
    "        'waiting', 'outdoor', 'indoor', 'patio', 'reservation-facility', 'reservationfacility', 'buffet', \n",
    "                  'atmosphere', 'vibe', 'spacious', 'distancing', 'seating']"
   ]
  },
  {
   "cell_type": "code",
   "execution_count": 96,
   "metadata": {
    "scrolled": true
   },
   "outputs": [],
   "source": [
    "def search_keywords_add(list_of_words, x):\n",
    "    counter = []\n",
    "    for i in list_of_words:\n",
    "        if(x.lower().find(i) != -1):\n",
    "            counter.append(i)\n",
    "    return counter  "
   ]
  },
  {
   "cell_type": "markdown",
   "metadata": {},
   "source": [
    "## First Watch "
   ]
  },
  {
   "cell_type": "code",
   "execution_count": 97,
   "metadata": {},
   "outputs": [
    {
     "data": {
      "text/plain": [
       "(383, 5)"
      ]
     },
     "execution_count": 97,
     "metadata": {},
     "output_type": "execute_result"
    }
   ],
   "source": [
    "firstwatch_pre_sentiment.shape"
   ]
  },
  {
   "cell_type": "code",
   "execution_count": 98,
   "metadata": {
    "scrolled": true
   },
   "outputs": [],
   "source": [
    "firstwatch_pre_sentiment = firstwatch_pre_sentiment[firstwatch_pre_sentiment.Sentiment_Type=='Negative']\n",
    "firstwatch_pre_sentiment.reset_index(drop=True, inplace=True)\n",
    "\n",
    "firstwatch_post_sentiment = firstwatch_post_sentiment[firstwatch_post_sentiment.Sentiment_Type=='Negative']\n",
    "firstwatch_post_sentiment.reset_index(drop=True, inplace=True)"
   ]
  },
  {
   "cell_type": "code",
   "execution_count": 99,
   "metadata": {},
   "outputs": [],
   "source": [
    "firstwatch_pre_sentiment['clean_fsr'] = firstwatch_pre_sentiment.apply(lambda x: search_keywords(clean_fsr, x['Reviews']), axis=1)\n",
    "\n",
    "firstwatch_pre_sentiment['clean_restrooms'] = firstwatch_pre_sentiment.apply(lambda x: search_keywords(clean_restrooms, x['Reviews']), axis=1)\n",
    "\n",
    "firstwatch_pre_sentiment['food_hygiene'] = firstwatch_pre_sentiment.apply(lambda x: search_keywords(food_hygiene, x['Reviews']), axis=1)\n",
    "\n",
    "firstwatch_pre_sentiment['food_service'] = firstwatch_pre_sentiment.apply(lambda x: search_keywords(food_service, x['Reviews']), axis=1)\n",
    "\n",
    "firstwatch_pre_sentiment['operations'] = firstwatch_pre_sentiment.apply(lambda x: search_keywords(operations, x['Reviews']), axis=1)\n",
    "\n",
    "firstwatch_pre_sentiment['delivery_service'] = firstwatch_pre_sentiment.apply(lambda x: search_keywords(delivery_service, x['Reviews']), axis=1)\n",
    "\n",
    "firstwatch_pre_sentiment['packaging_service'] = firstwatch_pre_sentiment.apply(lambda x: search_keywords(packaging_service, x['Reviews']), axis=1)\n",
    "\n",
    "firstwatch_pre_sentiment['location_and_parking'] = firstwatch_pre_sentiment.apply(lambda x: search_keywords(location_and_parking, x['Reviews']), axis=1)\n",
    "\n",
    "firstwatch_pre_sentiment['infrastructure'] = firstwatch_pre_sentiment.apply(lambda x: search_keywords(infrastructure, x['Reviews']), axis=1)"
   ]
  },
  {
   "cell_type": "code",
   "execution_count": 100,
   "metadata": {
    "scrolled": true
   },
   "outputs": [
    {
     "data": {
      "text/plain": [
       "[Text(0.5, 0, 'Frequency'),\n",
       " Text(0, 0.5, 'Matching Words'),\n",
       " Text(0.5, 1.0, 'Negative Sentiment Matching Words First Watch Pre Covid')]"
      ]
     },
     "execution_count": 100,
     "metadata": {},
     "output_type": "execute_result"
    },
    {
     "data": {
      "image/png": "[encoded data removed]",
      "text/plain": [
       "<Figure size 842.4x595.44 with 1 Axes>"
      ]
     },
     "metadata": {},
     "output_type": "display_data"
    }
   ],
   "source": [
    "firstwatch_pre_sentiment['Matching_Words'] = firstwatch_pre_sentiment.apply(lambda x: search_keywords_add(words, x['Reviews']), axis=1)\n",
    "\n",
    "matching_words = []\n",
    "\n",
    "for index, rows in firstwatch_pre_sentiment.iterrows():\n",
    "    my_list = [rows.Matching_Words]\n",
    "    \n",
    "    matching_words.append(my_list)\n",
    "    \n",
    "merged = list(itertools.chain.from_iterable(matching_words))\n",
    "merged2 = list(itertools.chain.from_iterable(merged))\n",
    "counts = Counter(merged2)\n",
    "# print(counts)\n",
    "\n",
    "\n",
    "df = pd.DataFrame.from_dict(counts, orient='index').reset_index()\n",
    "df.sort_values([0], ascending=False, inplace=True)\n",
    "df.reset_index(drop=True, inplace=True)\n",
    "df = df.head(10)\n",
    "\n",
    "sns.set(rc={'figure.figsize':(11.7,8.27)})\n",
    "sns.set(style=\"whitegrid\", color_codes=True)\n",
    "\n",
    "ax = sns.barplot(x=0, y=\"index\", data=df, palette = sns.color_palette(\"pastel\"))\n",
    "ax.set(xlabel='Frequency', ylabel='Matching Words', title = 'Negative Sentiment Matching Words First Watch Pre Covid')"
   ]
  },
  {
   "cell_type": "code",
   "execution_count": 101,
   "metadata": {},
   "outputs": [],
   "source": [
    "firstwatch_post_sentiment['clean_fsr'] = firstwatch_post_sentiment.apply(lambda x: search_keywords(clean_fsr, x['Reviews']), axis=1)\n",
    "\n",
    "firstwatch_post_sentiment['clean_restrooms'] = firstwatch_post_sentiment.apply(lambda x: search_keywords(clean_restrooms, x['Reviews']), axis=1)\n",
    "\n",
    "firstwatch_post_sentiment['food_hygiene'] = firstwatch_post_sentiment.apply(lambda x: search_keywords(food_hygiene, x['Reviews']), axis=1)\n",
    "\n",
    "firstwatch_post_sentiment['food_service'] = firstwatch_post_sentiment.apply(lambda x: search_keywords(food_service, x['Reviews']), axis=1)\n",
    "\n",
    "firstwatch_post_sentiment['operations'] = firstwatch_post_sentiment.apply(lambda x: search_keywords(operations, x['Reviews']), axis=1)\n",
    "\n",
    "firstwatch_post_sentiment['delivery_service'] = firstwatch_post_sentiment.apply(lambda x: search_keywords(delivery_service, x['Reviews']), axis=1)\n",
    "\n",
    "firstwatch_post_sentiment['packaging_service'] = firstwatch_post_sentiment.apply(lambda x: search_keywords(packaging_service, x['Reviews']), axis=1)\n",
    "\n",
    "firstwatch_post_sentiment['location_and_parking'] = firstwatch_post_sentiment.apply(lambda x: search_keywords(location_and_parking, x['Reviews']), axis=1)\n",
    "\n",
    "firstwatch_post_sentiment['infrastructure'] = firstwatch_post_sentiment.apply(lambda x: search_keywords(infrastructure, x['Reviews']), axis=1)"
   ]
  },
  {
   "cell_type": "code",
   "execution_count": 102,
   "metadata": {
    "scrolled": false
   },
   "outputs": [
    {
     "data": {
      "text/plain": [
       "[Text(0.5, 0, 'Frequency'),\n",
       " Text(0, 0.5, 'Matching Words'),\n",
       " Text(0.5, 1.0, 'Negative Sentiment Matching Words First Watch Post Covid')]"
      ]
     },
     "execution_count": 102,
     "metadata": {},
     "output_type": "execute_result"
    },
    {
     "data": {
      "image/png": "[encoded data removed]",
      "text/plain": [
       "<Figure size 842.4x595.44 with 1 Axes>"
      ]
     },
     "metadata": {},
     "output_type": "display_data"
    }
   ],
   "source": [
    "firstwatch_post_sentiment['Matching_Words'] = firstwatch_post_sentiment.apply(lambda x: search_keywords_add(words, x['Reviews']), axis=1)\n",
    "\n",
    "matching_words = []\n",
    "\n",
    "for index, rows in firstwatch_post_sentiment.iterrows():\n",
    "    my_list = [rows.Matching_Words]\n",
    "    \n",
    "    matching_words.append(my_list)\n",
    "    \n",
    "merged = list(itertools.chain.from_iterable(matching_words))\n",
    "merged2 = list(itertools.chain.from_iterable(merged))\n",
    "counts = Counter(merged2)\n",
    "# print(counts)\n",
    "\n",
    "\n",
    "df = pd.DataFrame.from_dict(counts, orient='index').reset_index()\n",
    "df.sort_values([0], ascending=False, inplace=True)\n",
    "df.reset_index(drop=True, inplace=True)\n",
    "df = df.head(10)\n",
    "\n",
    "sns.set(rc={'figure.figsize':(11.7,8.27)})\n",
    "sns.set(style=\"whitegrid\", color_codes=True)\n",
    "\n",
    "ax = sns.barplot(x=0, y=\"index\", data=df, palette = sns.color_palette(\"pastel\"))\n",
    "ax.set(xlabel='Frequency', ylabel='Matching Words', title = 'Negative Sentiment Matching Words First Watch Post Covid')"
   ]
  },
  {
   "cell_type": "code",
   "execution_count": 103,
   "metadata": {
    "scrolled": false
   },
   "outputs": [
    {
     "name": "stdout",
     "output_type": "stream",
     "text": [
      "0.52 % of Pre Covid Reviews mention Clean FSR for First Watch\n",
      "0.26 % of Pre Covid Reviews mention Clean Restrooms for First Watch\n",
      "3.92 % of Pre Covid Reviews mention Food Hygiene for First Watch\n",
      "7.83 % of Pre Covid Reviews mention Food Service for First Watch\n",
      "12.53 % of Pre Covid Reviews mention Operations for First Watch\n",
      "0.26 % of Pre Covid Reviews mention Delivery Service for First Watch\n",
      "1.04 % of Pre Covid Reviews mention Packaging Service for First Watch\n",
      "0.78 % of Pre Covid Reviews mention Location & Parking for First Watch\n",
      "2.87 % of Pre Covid Reviews mention Infrastructure for First Watch\n"
     ]
    }
   ],
   "source": [
    "print(\"{} % of Pre Covid Reviews mention Clean FSR for First Watch\".format(round(((firstwatch_pre_sentiment['clean_fsr'].sum()/383)*100), 2)))\n",
    "print(\"{} % of Pre Covid Reviews mention Clean Restrooms for First Watch\".format(round(((firstwatch_pre_sentiment['clean_restrooms'].sum()/383)*100), 2)))\n",
    "\n",
    "print(\"{} % of Pre Covid Reviews mention Food Hygiene for First Watch\".format(round(((firstwatch_pre_sentiment['food_hygiene'].sum()/383)*100), 2)))\n",
    "print(\"{} % of Pre Covid Reviews mention Food Service for First Watch\".format(round(((firstwatch_pre_sentiment['food_service'].sum()/383)*100), 2)))\n",
    "\n",
    "print(\"{} % of Pre Covid Reviews mention Operations for First Watch\".format(round(((firstwatch_pre_sentiment['operations'].sum()/383)*100), 2)))\n",
    "print(\"{} % of Pre Covid Reviews mention Delivery Service for First Watch\".format(round(((firstwatch_pre_sentiment['delivery_service'].sum()/383)*100), 2)))\n",
    "\n",
    "print(\"{} % of Pre Covid Reviews mention Packaging Service for First Watch\".format(round(((firstwatch_pre_sentiment['packaging_service'].sum()/383)*100), 2)))\n",
    "print(\"{} % of Pre Covid Reviews mention Location & Parking for First Watch\".format(round(((firstwatch_pre_sentiment['location_and_parking'].sum()/383)*100), 2)))\n",
    "\n",
    "print(\"{} % of Pre Covid Reviews mention Infrastructure for First Watch\".format(round(((firstwatch_pre_sentiment['infrastructure'].sum()/383)*100), 2)))"
   ]
  },
  {
   "cell_type": "code",
   "execution_count": 104,
   "metadata": {
    "scrolled": true
   },
   "outputs": [
    {
     "name": "stdout",
     "output_type": "stream",
     "text": [
      "83 Total No of Negative Reviews Pre Covid for First Watch\n"
     ]
    }
   ],
   "source": [
    "print(\"{} Total No of Negative Reviews Pre Covid for First Watch\".format(len(firstwatch_pre_sentiment)))"
   ]
  },
  {
   "cell_type": "code",
   "execution_count": 105,
   "metadata": {
    "scrolled": true
   },
   "outputs": [
    {
     "name": "stdout",
     "output_type": "stream",
     "text": [
      "1.06 % of Post Covid Reviews mention Clean FSR for First Watch\n",
      "0.0 % of Post Covid Reviews mention Clean Restrooms for First Watch\n",
      "7.45 % of Post Covid Reviews mention Food Hygiene for First Watch\n",
      "8.51 % of Post Covid Reviews mention Food Service for First Watch\n",
      "17.02 % of Post Covid Reviews mention Operations for First Watch\n",
      "1.06 % of Post Covid Reviews mention Delivery Service for First Watch\n",
      "2.13 % of Post Covid Reviews mention Packaging Service for First Watch\n",
      "2.13 % of Post Covid Reviews mention Location & Parking for First Watch\n",
      "3.19 % of Post Covid Reviews mention Infrastructure for First Watch\n"
     ]
    }
   ],
   "source": [
    "print(\"{} % of Post Covid Reviews mention Clean FSR for First Watch\".format(round(((firstwatch_post_sentiment['clean_fsr'].sum()/94)*100), 2)))\n",
    "print(\"{} % of Post Covid Reviews mention Clean Restrooms for First Watch\".format(round(((firstwatch_post_sentiment['clean_restrooms'].sum()/94)*100), 2)))\n",
    "\n",
    "print(\"{} % of Post Covid Reviews mention Food Hygiene for First Watch\".format(round(((firstwatch_post_sentiment['food_hygiene'].sum()/94)*100), 2)))\n",
    "print(\"{} % of Post Covid Reviews mention Food Service for First Watch\".format(round(((firstwatch_post_sentiment['food_service'].sum()/94)*100), 2)))\n",
    "\n",
    "print(\"{} % of Post Covid Reviews mention Operations for First Watch\".format(round(((firstwatch_post_sentiment['operations'].sum()/94)*100), 2)))\n",
    "print(\"{} % of Post Covid Reviews mention Delivery Service for First Watch\".format(round(((firstwatch_post_sentiment['delivery_service'].sum()/94)*100), 2)))\n",
    "\n",
    "print(\"{} % of Post Covid Reviews mention Packaging Service for First Watch\".format(round(((firstwatch_post_sentiment['packaging_service'].sum()/94)*100), 2)))\n",
    "print(\"{} % of Post Covid Reviews mention Location & Parking for First Watch\".format(round(((firstwatch_post_sentiment['location_and_parking'].sum()/94)*100), 2)))\n",
    "\n",
    "print(\"{} % of Post Covid Reviews mention Infrastructure for First Watch\".format(round(((firstwatch_post_sentiment['infrastructure'].sum()/94)*100), 2)))"
   ]
  },
  {
   "cell_type": "code",
   "execution_count": 106,
   "metadata": {
    "scrolled": false
   },
   "outputs": [
    {
     "name": "stdout",
     "output_type": "stream",
     "text": [
      "29 Total No of Negative Reviews Post Covid for First Watch\n"
     ]
    }
   ],
   "source": [
    "print(\"{} Total No of Negative Reviews Post Covid for First Watch\".format(len(firstwatch_post_sentiment)))"
   ]
  },
  {
   "cell_type": "code",
   "execution_count": 107,
   "metadata": {},
   "outputs": [],
   "source": [
    "firstwatch_post_sentiment.to_csv('FirstWatchPost.csv')"
   ]
  },
  {
   "cell_type": "markdown",
   "metadata": {},
   "source": [
    "## Modern Market "
   ]
  },
  {
   "cell_type": "code",
   "execution_count": 108,
   "metadata": {},
   "outputs": [
    {
     "name": "stdout",
     "output_type": "stream",
     "text": [
      "(426, 5)\n",
      "(73, 5)\n"
     ]
    }
   ],
   "source": [
    "print(modernmarket_pre_sentiment.shape)\n",
    "print(modernmarket_post_sentiment.shape)"
   ]
  },
  {
   "cell_type": "code",
   "execution_count": 109,
   "metadata": {},
   "outputs": [],
   "source": [
    "modernmarket_pre_sentiment = modernmarket_pre_sentiment[modernmarket_pre_sentiment.Sentiment_Type=='Negative']\n",
    "modernmarket_pre_sentiment.reset_index(drop=True, inplace=True)\n",
    "\n",
    "modernmarket_post_sentiment = modernmarket_post_sentiment[modernmarket_post_sentiment.Sentiment_Type=='Negative']\n",
    "modernmarket_post_sentiment.reset_index(drop=True, inplace=True)"
   ]
  },
  {
   "cell_type": "code",
   "execution_count": 110,
   "metadata": {},
   "outputs": [],
   "source": [
    "modernmarket_pre_sentiment.to_csv('Modern_Market_Pre.csv')\n",
    "modernmarket_post_sentiment.to_csv('Modern_Market_Post.csv')"
   ]
  },
  {
   "cell_type": "code",
   "execution_count": 111,
   "metadata": {},
   "outputs": [],
   "source": [
    "modernmarket_pre_sentiment['clean_fsr'] = modernmarket_pre_sentiment.apply(lambda x: search_keywords(clean_fsr, x['Reviews']), axis=1)\n",
    "\n",
    "modernmarket_pre_sentiment['clean_restrooms'] = modernmarket_pre_sentiment.apply(lambda x: search_keywords(clean_restrooms, x['Reviews']), axis=1)\n",
    "\n",
    "modernmarket_pre_sentiment['food_hygiene'] = modernmarket_pre_sentiment.apply(lambda x: search_keywords(food_hygiene, x['Reviews']), axis=1)\n",
    "\n",
    "modernmarket_pre_sentiment['food_service'] = modernmarket_pre_sentiment.apply(lambda x: search_keywords(food_service, x['Reviews']), axis=1)\n",
    "\n",
    "modernmarket_pre_sentiment['operations'] = modernmarket_pre_sentiment.apply(lambda x: search_keywords(operations, x['Reviews']), axis=1)\n",
    "\n",
    "modernmarket_pre_sentiment['delivery_service'] = modernmarket_pre_sentiment.apply(lambda x: search_keywords(delivery_service, x['Reviews']), axis=1)\n",
    "\n",
    "modernmarket_pre_sentiment['packaging_service'] = modernmarket_pre_sentiment.apply(lambda x: search_keywords(packaging_service, x['Reviews']), axis=1)\n",
    "\n",
    "modernmarket_pre_sentiment['location_and_parking'] = modernmarket_pre_sentiment.apply(lambda x: search_keywords(location_and_parking, x['Reviews']), axis=1)\n",
    "\n",
    "modernmarket_pre_sentiment['infrastructure'] = modernmarket_pre_sentiment.apply(lambda x: search_keywords(infrastructure, x['Reviews']), axis=1)"
   ]
  },
  {
   "cell_type": "code",
   "execution_count": 112,
   "metadata": {
    "scrolled": false
   },
   "outputs": [
    {
     "data": {
      "text/plain": [
       "[Text(0.5, 0, 'Frequency'),\n",
       " Text(0, 0.5, 'Matching Words'),\n",
       " Text(0.5, 1.0, 'Negative Sentiment Matching Words Modern Market Pre Covid')]"
      ]
     },
     "execution_count": 112,
     "metadata": {},
     "output_type": "execute_result"
    },
    {
     "data": {
      "image/png": "[encoded data removed]",
      "text/plain": [
       "<Figure size 842.4x595.44 with 1 Axes>"
      ]
     },
     "metadata": {},
     "output_type": "display_data"
    }
   ],
   "source": [
    "modernmarket_pre_sentiment['Matching_Words'] = modernmarket_pre_sentiment.apply(lambda x: search_keywords_add(words, x['Reviews']), axis=1)\n",
    "\n",
    "matching_words = []\n",
    "\n",
    "for index, rows in modernmarket_pre_sentiment.iterrows():\n",
    "    my_list = [rows.Matching_Words]\n",
    "    \n",
    "    matching_words.append(my_list)\n",
    "    \n",
    "merged = list(itertools.chain.from_iterable(matching_words))\n",
    "merged2 = list(itertools.chain.from_iterable(merged))\n",
    "counts = Counter(merged2)\n",
    "# print(counts)\n",
    "\n",
    "\n",
    "df = pd.DataFrame.from_dict(counts, orient='index').reset_index()\n",
    "df.sort_values([0], ascending=False, inplace=True)\n",
    "df.reset_index(drop=True, inplace=True)\n",
    "df = df.head(10)\n",
    "\n",
    "sns.set(rc={'figure.figsize':(11.7,8.27)})\n",
    "sns.set(style=\"whitegrid\", color_codes=True)\n",
    "\n",
    "ax = sns.barplot(x=0, y=\"index\", data=df, palette = sns.color_palette(\"pastel\"))\n",
    "ax.set(xlabel='Frequency', ylabel='Matching Words', title = 'Negative Sentiment Matching Words Modern Market Pre Covid')"
   ]
  },
  {
   "cell_type": "code",
   "execution_count": 113,
   "metadata": {},
   "outputs": [],
   "source": [
    "modernmarket_post_sentiment['clean_fsr'] = modernmarket_post_sentiment.apply(lambda x: search_keywords(clean_fsr, x['Reviews']), axis=1)\n",
    "\n",
    "modernmarket_post_sentiment['clean_restrooms'] = modernmarket_post_sentiment.apply(lambda x: search_keywords(clean_restrooms, x['Reviews']), axis=1)\n",
    "\n",
    "modernmarket_post_sentiment['food_hygiene'] = modernmarket_post_sentiment.apply(lambda x: search_keywords(food_hygiene, x['Reviews']), axis=1)\n",
    "\n",
    "modernmarket_post_sentiment['food_service'] = modernmarket_post_sentiment.apply(lambda x: search_keywords(food_service, x['Reviews']), axis=1)\n",
    "\n",
    "modernmarket_post_sentiment['operations'] = modernmarket_post_sentiment.apply(lambda x: search_keywords(operations, x['Reviews']), axis=1)\n",
    "\n",
    "modernmarket_post_sentiment['delivery_service'] = modernmarket_post_sentiment.apply(lambda x: search_keywords(delivery_service, x['Reviews']), axis=1)\n",
    "\n",
    "modernmarket_post_sentiment['packaging_service'] = modernmarket_post_sentiment.apply(lambda x: search_keywords(packaging_service, x['Reviews']), axis=1)\n",
    "\n",
    "modernmarket_post_sentiment['location_and_parking'] = modernmarket_post_sentiment.apply(lambda x: search_keywords(location_and_parking, x['Reviews']), axis=1)\n",
    "\n",
    "modernmarket_post_sentiment['infrastructure'] = modernmarket_post_sentiment.apply(lambda x: search_keywords(infrastructure, x['Reviews']), axis=1)"
   ]
  },
  {
   "cell_type": "code",
   "execution_count": 114,
   "metadata": {
    "scrolled": false
   },
   "outputs": [
    {
     "data": {
      "text/plain": [
       "[Text(0.5, 0, 'Frequency'),\n",
       " Text(0, 0.5, 'Matching Words'),\n",
       " Text(0.5, 1.0, 'Negative Sentiment Matching Words Modern Market Post Covid')]"
      ]
     },
     "execution_count": 114,
     "metadata": {},
     "output_type": "execute_result"
    },
    {
     "data": {
      "image/png": "[encoded data removed]",
      "text/plain": [
       "<Figure size 842.4x595.44 with 1 Axes>"
      ]
     },
     "metadata": {},
     "output_type": "display_data"
    }
   ],
   "source": [
    "modernmarket_post_sentiment['Matching_Words'] = modernmarket_post_sentiment.apply(lambda x: search_keywords_add(words, x['Reviews']), axis=1)\n",
    "\n",
    "matching_words = []\n",
    "\n",
    "for index, rows in modernmarket_post_sentiment.iterrows():\n",
    "    my_list = [rows.Matching_Words]\n",
    "    \n",
    "    matching_words.append(my_list)\n",
    "    \n",
    "merged = list(itertools.chain.from_iterable(matching_words))\n",
    "merged2 = list(itertools.chain.from_iterable(merged))\n",
    "counts = Counter(merged2)\n",
    "# print(counts)\n",
    "\n",
    "\n",
    "df = pd.DataFrame.from_dict(counts, orient='index').reset_index()\n",
    "df.sort_values([0], ascending=False, inplace=True)\n",
    "df.reset_index(drop=True, inplace=True)\n",
    "df = df.head(10)\n",
    "\n",
    "sns.set(rc={'figure.figsize':(11.7,8.27)})\n",
    "sns.set(style=\"whitegrid\", color_codes=True)\n",
    "\n",
    "ax = sns.barplot(x=0, y=\"index\", data=df, palette = sns.color_palette(\"pastel\"))\n",
    "ax.set(xlabel='Frequency', ylabel='Matching Words', title = 'Negative Sentiment Matching Words Modern Market Post Covid')"
   ]
  },
  {
   "cell_type": "code",
   "execution_count": 115,
   "metadata": {
    "scrolled": false
   },
   "outputs": [
    {
     "name": "stdout",
     "output_type": "stream",
     "text": [
      "1.17 % of Pre Covid Reviews mention Clean FSR for Modern Market\n",
      "0.0 % of Pre Covid Reviews mention Clean Restrooms for Modern Market\n",
      "2.58 % of Pre Covid Reviews mention Food Hygiene for Modern Market\n",
      "5.16 % of Pre Covid Reviews mention Food Service for Modern Market\n",
      "5.87 % of Pre Covid Reviews mention Operations for Modern Market\n",
      "0.47 % of Pre Covid Reviews mention Delivery Service for Modern Market\n",
      "0.47 % of Pre Covid Reviews mention Packaging Service for Modern Market\n",
      "0.94 % of Pre Covid Reviews mention Location & Parking for Modern Market\n",
      "1.17 % of Pre Covid Reviews mention Infrastructure for Modern Market\n"
     ]
    }
   ],
   "source": [
    "print(\"{} % of Pre Covid Reviews mention Clean FSR for Modern Market\".format(round(((modernmarket_pre_sentiment['clean_fsr'].sum()/426)*100), 2)))\n",
    "print(\"{} % of Pre Covid Reviews mention Clean Restrooms for Modern Market\".format(round(((modernmarket_pre_sentiment['clean_restrooms'].sum()/426)*100), 2)))\n",
    "\n",
    "print(\"{} % of Pre Covid Reviews mention Food Hygiene for Modern Market\".format(round(((modernmarket_pre_sentiment['food_hygiene'].sum()/426)*100), 2)))\n",
    "print(\"{} % of Pre Covid Reviews mention Food Service for Modern Market\".format(round(((modernmarket_pre_sentiment['food_service'].sum()/426)*100), 2)))\n",
    "\n",
    "print(\"{} % of Pre Covid Reviews mention Operations for Modern Market\".format(round(((modernmarket_pre_sentiment['operations'].sum()/426)*100), 2)))\n",
    "print(\"{} % of Pre Covid Reviews mention Delivery Service for Modern Market\".format(round(((modernmarket_pre_sentiment['delivery_service'].sum()/426)*100), 2)))\n",
    "\n",
    "print(\"{} % of Pre Covid Reviews mention Packaging Service for Modern Market\".format(round(((modernmarket_pre_sentiment['packaging_service'].sum()/426)*100), 2)))\n",
    "print(\"{} % of Pre Covid Reviews mention Location & Parking for Modern Market\".format(round(((modernmarket_pre_sentiment['location_and_parking'].sum()/426)*100), 2)))\n",
    "\n",
    "print(\"{} % of Pre Covid Reviews mention Infrastructure for Modern Market\".format(round(((modernmarket_pre_sentiment['infrastructure'].sum()/426)*100), 2)))"
   ]
  },
  {
   "cell_type": "code",
   "execution_count": 116,
   "metadata": {},
   "outputs": [
    {
     "name": "stdout",
     "output_type": "stream",
     "text": [
      "75 Total No of Negative Reviews Pre Covid for Modern Market\n"
     ]
    }
   ],
   "source": [
    "print(\"{} Total No of Negative Reviews Pre Covid for Modern Market\".format(len(modernmarket_pre_sentiment)))"
   ]
  },
  {
   "cell_type": "code",
   "execution_count": 117,
   "metadata": {
    "scrolled": true
   },
   "outputs": [
    {
     "name": "stdout",
     "output_type": "stream",
     "text": [
      "4.11 % of Post Covid Reviews mention Clean FSR for Modern Market\n",
      "0.0 % of Post Covid Reviews mention Clean Restrooms for Modern Market\n",
      "9.59 % of Post Covid Reviews mention Food Hygiene for Modern Market\n",
      "16.44 % of Post Covid Reviews mention Food Service for Modern Market\n",
      "15.07 % of Post Covid Reviews mention Operations for Modern Market\n",
      "1.37 % of Post Covid Reviews mention Delivery Service for Modern Market\n",
      "5.48 % of Post Covid Reviews mention Packaging Service for Modern Market\n",
      "4.11 % of Post Covid Reviews mention Location & Parking for Modern Market\n",
      "4.11 % of Post Covid Reviews mention Infrastructure for Modern Market\n"
     ]
    }
   ],
   "source": [
    "print(\"{} % of Post Covid Reviews mention Clean FSR for Modern Market\".format(round(((modernmarket_post_sentiment['clean_fsr'].sum()/73)*100), 2)))\n",
    "print(\"{} % of Post Covid Reviews mention Clean Restrooms for Modern Market\".format(round(((modernmarket_post_sentiment['clean_restrooms'].sum()/73)*100), 2)))\n",
    "\n",
    "print(\"{} % of Post Covid Reviews mention Food Hygiene for Modern Market\".format(round(((modernmarket_post_sentiment['food_hygiene'].sum()/73)*100), 2)))\n",
    "print(\"{} % of Post Covid Reviews mention Food Service for Modern Market\".format(round(((modernmarket_post_sentiment['food_service'].sum()/73)*100), 2)))\n",
    "\n",
    "print(\"{} % of Post Covid Reviews mention Operations for Modern Market\".format(round(((modernmarket_post_sentiment['operations'].sum()/73)*100), 2)))\n",
    "print(\"{} % of Post Covid Reviews mention Delivery Service for Modern Market\".format(round(((modernmarket_post_sentiment['delivery_service'].sum()/73)*100), 2)))\n",
    "\n",
    "print(\"{} % of Post Covid Reviews mention Packaging Service for Modern Market\".format(round(((modernmarket_post_sentiment['packaging_service'].sum()/73)*100), 2)))\n",
    "print(\"{} % of Post Covid Reviews mention Location & Parking for Modern Market\".format(round(((modernmarket_post_sentiment['location_and_parking'].sum()/73)*100), 2)))\n",
    "\n",
    "print(\"{} % of Post Covid Reviews mention Infrastructure for Modern Market\".format(round(((modernmarket_post_sentiment['infrastructure'].sum()/73)*100), 2)))"
   ]
  },
  {
   "cell_type": "code",
   "execution_count": 118,
   "metadata": {
    "scrolled": true
   },
   "outputs": [
    {
     "name": "stdout",
     "output_type": "stream",
     "text": [
      "26 Total No of Negative Reviews Post Covid for Modern Market\n"
     ]
    }
   ],
   "source": [
    "print(\"{} Total No of Negative Reviews Post Covid for Modern Market\".format(len(modernmarket_post_sentiment)))"
   ]
  },
  {
   "cell_type": "code",
   "execution_count": 119,
   "metadata": {},
   "outputs": [],
   "source": [
    "modernmarket_post_sentiment.to_csv('Modern_Market_Post.csv')"
   ]
  },
  {
   "cell_type": "markdown",
   "metadata": {},
   "source": [
    "## Top Golf "
   ]
  },
  {
   "cell_type": "code",
   "execution_count": 120,
   "metadata": {},
   "outputs": [
    {
     "name": "stdout",
     "output_type": "stream",
     "text": [
      "(895, 5)\n",
      "(169, 5)\n"
     ]
    }
   ],
   "source": [
    "print(topgolf_pre_sentiment.shape)\n",
    "print(topgolf_post_sentiment.shape)"
   ]
  },
  {
   "cell_type": "code",
   "execution_count": 121,
   "metadata": {},
   "outputs": [],
   "source": [
    "topgolf_pre_sentiment = topgolf_pre_sentiment[topgolf_pre_sentiment.Sentiment_Type=='Negative']\n",
    "topgolf_pre_sentiment.reset_index(drop=True, inplace=True)\n",
    "\n",
    "topgolf_post_sentiment = topgolf_post_sentiment[topgolf_post_sentiment.Sentiment_Type=='Negative']\n",
    "topgolf_post_sentiment.reset_index(drop=True, inplace=True)"
   ]
  },
  {
   "cell_type": "code",
   "execution_count": 122,
   "metadata": {},
   "outputs": [],
   "source": [
    "topgolf_pre_sentiment.to_csv('Top_Golf_Pre.csv')\n",
    "topgolf_pre_sentiment.to_csv('Top_Golf_Post.csv')"
   ]
  },
  {
   "cell_type": "code",
   "execution_count": 123,
   "metadata": {},
   "outputs": [],
   "source": [
    "topgolf_pre_sentiment['clean_fsr'] = topgolf_pre_sentiment.apply(lambda x: search_keywords(clean_fsr, x['Reviews']), axis=1)\n",
    "\n",
    "topgolf_pre_sentiment['clean_restrooms'] = topgolf_pre_sentiment.apply(lambda x: search_keywords(clean_restrooms, x['Reviews']), axis=1)\n",
    "\n",
    "topgolf_pre_sentiment['food_hygiene'] = topgolf_pre_sentiment.apply(lambda x: search_keywords(food_hygiene, x['Reviews']), axis=1)\n",
    "\n",
    "topgolf_pre_sentiment['food_service'] = topgolf_pre_sentiment.apply(lambda x: search_keywords(food_service, x['Reviews']), axis=1)\n",
    "\n",
    "topgolf_pre_sentiment['operations'] = topgolf_pre_sentiment.apply(lambda x: search_keywords(operations, x['Reviews']), axis=1)\n",
    "\n",
    "topgolf_pre_sentiment['delivery_service'] = topgolf_pre_sentiment.apply(lambda x: search_keywords(delivery_service, x['Reviews']), axis=1)\n",
    "\n",
    "topgolf_pre_sentiment['packaging_service'] = topgolf_pre_sentiment.apply(lambda x: search_keywords(packaging_service, x['Reviews']), axis=1)\n",
    "\n",
    "topgolf_pre_sentiment['location_and_parking'] = topgolf_pre_sentiment.apply(lambda x: search_keywords(location_and_parking, x['Reviews']), axis=1)\n",
    "\n",
    "topgolf_pre_sentiment['infrastructure'] = topgolf_pre_sentiment.apply(lambda x: search_keywords(infrastructure, x['Reviews']), axis=1)"
   ]
  },
  {
   "cell_type": "code",
   "execution_count": 124,
   "metadata": {},
   "outputs": [],
   "source": [
    "topgolf_post_sentiment['clean_fsr'] = topgolf_post_sentiment.apply(lambda x: search_keywords(clean_fsr, x['Reviews']), axis=1)\n",
    "\n",
    "topgolf_post_sentiment['clean_restrooms'] = topgolf_post_sentiment.apply(lambda x: search_keywords(clean_restrooms, x['Reviews']), axis=1)\n",
    "\n",
    "topgolf_post_sentiment['food_hygiene'] = topgolf_post_sentiment.apply(lambda x: search_keywords(food_hygiene, x['Reviews']), axis=1)\n",
    "\n",
    "topgolf_post_sentiment['food_service'] = topgolf_post_sentiment.apply(lambda x: search_keywords(food_service, x['Reviews']), axis=1)\n",
    "\n",
    "topgolf_post_sentiment['operations'] = topgolf_post_sentiment.apply(lambda x: search_keywords(operations, x['Reviews']), axis=1)\n",
    "\n",
    "topgolf_post_sentiment['delivery_service'] = topgolf_post_sentiment.apply(lambda x: search_keywords(delivery_service, x['Reviews']), axis=1)\n",
    "\n",
    "topgolf_post_sentiment['packaging_service'] = topgolf_post_sentiment.apply(lambda x: search_keywords(packaging_service, x['Reviews']), axis=1)\n",
    "\n",
    "topgolf_post_sentiment['location_and_parking'] = topgolf_post_sentiment.apply(lambda x: search_keywords(location_and_parking, x['Reviews']), axis=1)\n",
    "\n",
    "topgolf_post_sentiment['infrastructure'] = topgolf_post_sentiment.apply(lambda x: search_keywords(infrastructure, x['Reviews']), axis=1)"
   ]
  },
  {
   "cell_type": "code",
   "execution_count": 125,
   "metadata": {},
   "outputs": [
    {
     "data": {
      "text/plain": [
       "[Text(0.5, 0, 'Frequency'),\n",
       " Text(0, 0.5, 'Matching Words'),\n",
       " Text(0.5, 1.0, 'Negative Sentiment Matching Words Top Golf Pre Covid')]"
      ]
     },
     "execution_count": 125,
     "metadata": {},
     "output_type": "execute_result"
    },
    {
     "data": {
      "image/png": "[encoded data removed]",
      "text/plain": [
       "<Figure size 842.4x595.44 with 1 Axes>"
      ]
     },
     "metadata": {},
     "output_type": "display_data"
    }
   ],
   "source": [
    "topgolf_pre_sentiment['Matching_Words'] = topgolf_pre_sentiment.apply(lambda x: search_keywords_add(words, x['Reviews']), axis=1)\n",
    "\n",
    "matching_words = []\n",
    "\n",
    "for index, rows in topgolf_pre_sentiment.iterrows():\n",
    "    my_list = [rows.Matching_Words]\n",
    "    \n",
    "    matching_words.append(my_list)\n",
    "    \n",
    "merged = list(itertools.chain.from_iterable(matching_words))\n",
    "merged2 = list(itertools.chain.from_iterable(merged))\n",
    "counts = Counter(merged2)\n",
    "# print(counts)\n",
    "\n",
    "\n",
    "df = pd.DataFrame.from_dict(counts, orient='index').reset_index()\n",
    "df.sort_values([0], ascending=False, inplace=True)\n",
    "df.reset_index(drop=True, inplace=True)\n",
    "df = df.head(10)\n",
    "\n",
    "sns.set(rc={'figure.figsize':(11.7,8.27)})\n",
    "sns.set(style=\"whitegrid\", color_codes=True)\n",
    "\n",
    "ax = sns.barplot(x=0, y=\"index\", data=df, palette = sns.color_palette(\"pastel\"))\n",
    "ax.set(xlabel='Frequency', ylabel='Matching Words', title = 'Negative Sentiment Matching Words Top Golf Pre Covid')"
   ]
  },
  {
   "cell_type": "code",
   "execution_count": 126,
   "metadata": {},
   "outputs": [
    {
     "data": {
      "text/plain": [
       "[Text(0.5, 0, 'Frequency'),\n",
       " Text(0, 0.5, 'Matching Words'),\n",
       " Text(0.5, 1.0, 'Negative Sentiment Matching Words Top Golf Post Covid')]"
      ]
     },
     "execution_count": 126,
     "metadata": {},
     "output_type": "execute_result"
    },
    {
     "data": {
      "image/png": "[encoded data removed]",
      "text/plain": [
       "<Figure size 842.4x595.44 with 1 Axes>"
      ]
     },
     "metadata": {},
     "output_type": "display_data"
    }
   ],
   "source": [
    "topgolf_post_sentiment['Matching_Words'] = topgolf_post_sentiment.apply(lambda x: search_keywords_add(words, x['Reviews']), axis=1)\n",
    "\n",
    "matching_words = []\n",
    "\n",
    "for index, rows in topgolf_post_sentiment.iterrows():\n",
    "    my_list = [rows.Matching_Words]\n",
    "    \n",
    "    matching_words.append(my_list)\n",
    "    \n",
    "merged = list(itertools.chain.from_iterable(matching_words))\n",
    "merged2 = list(itertools.chain.from_iterable(merged))\n",
    "counts = Counter(merged2)\n",
    "# print(counts)\n",
    "\n",
    "\n",
    "df = pd.DataFrame.from_dict(counts, orient='index').reset_index()\n",
    "df.sort_values([0], ascending=False, inplace=True)\n",
    "df.reset_index(drop=True, inplace=True)\n",
    "df = df.head(10)\n",
    "\n",
    "sns.set(rc={'figure.figsize':(11.7,8.27)})\n",
    "sns.set(style=\"whitegrid\", color_codes=True)\n",
    "\n",
    "ax = sns.barplot(x=0, y=\"index\", data=df, palette = sns.color_palette(\"pastel\"))\n",
    "ax.set(xlabel='Frequency', ylabel='Matching Words', title = 'Negative Sentiment Matching Words Top Golf Post Covid')"
   ]
  },
  {
   "cell_type": "code",
   "execution_count": 127,
   "metadata": {
    "scrolled": false
   },
   "outputs": [
    {
     "name": "stdout",
     "output_type": "stream",
     "text": [
      "1.01 % of Pre Covid Reviews mention Clean FSR for Top Golf\n",
      "0.22 % of Pre Covid Reviews mention Clean Restrooms for Top Golf\n",
      "0.45 % of Pre Covid Reviews mention Food Hygiene for Top Golf\n",
      "0.78 % of Pre Covid Reviews mention Food Service for Top Golf\n",
      "11.84 % of Pre Covid Reviews mention Operations for Top Golf\n",
      "0.0 % of Pre Covid Reviews mention Delivery Service for Top Golf\n",
      "1.01 % of Pre Covid Reviews mention Packaging Service for Top Golf\n",
      "2.57 % of Pre Covid Reviews mention Location & Parking for Top Golf\n",
      "1.34 % of Pre Covid Reviews mention Infrastructure for Top Golf\n"
     ]
    }
   ],
   "source": [
    "print(\"{} % of Pre Covid Reviews mention Clean FSR for Top Golf\".format(round(((topgolf_pre_sentiment['clean_fsr'].sum()/895)*100), 2)))\n",
    "print(\"{} % of Pre Covid Reviews mention Clean Restrooms for Top Golf\".format(round(((topgolf_pre_sentiment['clean_restrooms'].sum()/895)*100), 2)))\n",
    "\n",
    "print(\"{} % of Pre Covid Reviews mention Food Hygiene for Top Golf\".format(round(((topgolf_pre_sentiment['food_hygiene'].sum()/895)*100), 2)))\n",
    "print(\"{} % of Pre Covid Reviews mention Food Service for Top Golf\".format(round(((topgolf_pre_sentiment['food_service'].sum()/895)*100), 2)))\n",
    "\n",
    "print(\"{} % of Pre Covid Reviews mention Operations for Top Golf\".format(round(((topgolf_pre_sentiment['operations'].sum()/895)*100), 2)))\n",
    "print(\"{} % of Pre Covid Reviews mention Delivery Service for Top Golf\".format(round(((topgolf_pre_sentiment['delivery_service'].sum()/895)*100), 2)))\n",
    "\n",
    "print(\"{} % of Pre Covid Reviews mention Packaging Service for Top Golf\".format(round(((topgolf_pre_sentiment['packaging_service'].sum()/895)*100), 2)))\n",
    "print(\"{} % of Pre Covid Reviews mention Location & Parking for Top Golf\".format(round(((topgolf_pre_sentiment['location_and_parking'].sum()/895)*100), 2)))\n",
    "\n",
    "print(\"{} % of Pre Covid Reviews mention Infrastructure for Top Golf\".format(round(((topgolf_pre_sentiment['infrastructure'].sum()/895)*100), 2)))"
   ]
  },
  {
   "cell_type": "code",
   "execution_count": 128,
   "metadata": {},
   "outputs": [
    {
     "name": "stdout",
     "output_type": "stream",
     "text": [
      "178 Total No of Negative Reviews Pre Covid for Top Golf\n"
     ]
    }
   ],
   "source": [
    "print(\"{} Total No of Negative Reviews Pre Covid for Top Golf\".format(len(topgolf_pre_sentiment)))"
   ]
  },
  {
   "cell_type": "code",
   "execution_count": 129,
   "metadata": {
    "scrolled": true
   },
   "outputs": [
    {
     "name": "stdout",
     "output_type": "stream",
     "text": [
      "4.11 % of Post Covid Reviews mention Clean FSR for Top Golf\n",
      "1.37 % of Post Covid Reviews mention Clean Restrooms for Top Golf\n",
      "6.85 % of Post Covid Reviews mention Food Hygiene for Top Golf\n",
      "12.33 % of Post Covid Reviews mention Food Service for Top Golf\n",
      "47.95 % of Post Covid Reviews mention Operations for Top Golf\n",
      "2.74 % of Post Covid Reviews mention Delivery Service for Top Golf\n",
      "0.0 % of Post Covid Reviews mention Packaging Service for Top Golf\n",
      "15.07 % of Post Covid Reviews mention Location & Parking for Top Golf\n",
      "8.22 % of Post Covid Reviews mention Infrastructure for Top Golf\n"
     ]
    }
   ],
   "source": [
    "print(\"{} % of Post Covid Reviews mention Clean FSR for Top Golf\".format(round(((topgolf_post_sentiment['clean_fsr'].sum()/73)*100), 2)))\n",
    "print(\"{} % of Post Covid Reviews mention Clean Restrooms for Top Golf\".format(round(((topgolf_post_sentiment['clean_restrooms'].sum()/73)*100), 2)))\n",
    "\n",
    "print(\"{} % of Post Covid Reviews mention Food Hygiene for Top Golf\".format(round(((topgolf_post_sentiment['food_hygiene'].sum()/73)*100), 2)))\n",
    "print(\"{} % of Post Covid Reviews mention Food Service for Top Golf\".format(round(((topgolf_post_sentiment['food_service'].sum()/73)*100), 2)))\n",
    "\n",
    "print(\"{} % of Post Covid Reviews mention Operations for Top Golf\".format(round(((topgolf_post_sentiment['operations'].sum()/73)*100), 2)))\n",
    "print(\"{} % of Post Covid Reviews mention Delivery Service for Top Golf\".format(round(((topgolf_post_sentiment['delivery_service'].sum()/73)*100), 2)))\n",
    "\n",
    "print(\"{} % of Post Covid Reviews mention Packaging Service for Top Golf\".format(round(((topgolf_post_sentiment['packaging_service'].sum()/73)*100), 2)))\n",
    "print(\"{} % of Post Covid Reviews mention Location & Parking for Top Golf\".format(round(((topgolf_post_sentiment['location_and_parking'].sum()/73)*100), 2)))\n",
    "\n",
    "print(\"{} % of Post Covid Reviews mention Infrastructure for Top Golf\".format(round(((topgolf_post_sentiment['infrastructure'].sum()/73)*100), 2)))"
   ]
  },
  {
   "cell_type": "code",
   "execution_count": 130,
   "metadata": {},
   "outputs": [
    {
     "name": "stdout",
     "output_type": "stream",
     "text": [
      "50 Total No of Negative Reviews Post Covid for Top Golf\n"
     ]
    }
   ],
   "source": [
    "print(\"{} Total No of Negative Reviews Post Covid for Top Golf\".format(len(topgolf_post_sentiment)))"
   ]
  },
  {
   "cell_type": "code",
   "execution_count": 131,
   "metadata": {},
   "outputs": [],
   "source": [
    "topgolf_post_sentiment.to_csv('Topgolf_post.csv')"
   ]
  },
  {
   "cell_type": "markdown",
   "metadata": {},
   "source": [
    "## True Food Kitchen"
   ]
  },
  {
   "cell_type": "code",
   "execution_count": 132,
   "metadata": {},
   "outputs": [
    {
     "name": "stdout",
     "output_type": "stream",
     "text": [
      "(10349, 5)\n",
      "(12586, 5)\n"
     ]
    }
   ],
   "source": [
    "print(truefoodkitchen_pre_sentiment.shape)\n",
    "print(truefoodkitchen_post_sentiment.shape)"
   ]
  },
  {
   "cell_type": "code",
   "execution_count": 133,
   "metadata": {},
   "outputs": [],
   "source": [
    "truefoodkitchen_pre_sentiment = truefoodkitchen_pre_sentiment[truefoodkitchen_pre_sentiment.Sentiment_Type=='Negative']\n",
    "truefoodkitchen_pre_sentiment.reset_index(drop=True, inplace=True)\n",
    "\n",
    "truefoodkitchen_post_sentiment = truefoodkitchen_post_sentiment[truefoodkitchen_post_sentiment.Sentiment_Type=='Negative']\n",
    "truefoodkitchen_post_sentiment.reset_index(drop=True, inplace=True)"
   ]
  },
  {
   "cell_type": "code",
   "execution_count": 134,
   "metadata": {},
   "outputs": [],
   "source": [
    "# truefoodkitchen_pre_sentiment.to_csv('TrueFoodKitchen_Pre.csv')"
   ]
  },
  {
   "cell_type": "code",
   "execution_count": 135,
   "metadata": {},
   "outputs": [],
   "source": [
    "truefoodkitchen_pre_sentiment['clean_fsr'] = truefoodkitchen_pre_sentiment.apply(lambda x: search_keywords(clean_fsr, x['Reviews']), axis=1)\n",
    "\n",
    "truefoodkitchen_pre_sentiment['clean_restrooms'] = truefoodkitchen_pre_sentiment.apply(lambda x: search_keywords(clean_restrooms, x['Reviews']), axis=1)\n",
    "\n",
    "truefoodkitchen_pre_sentiment['food_hygiene'] = truefoodkitchen_pre_sentiment.apply(lambda x: search_keywords(food_hygiene, x['Reviews']), axis=1)\n",
    "\n",
    "truefoodkitchen_pre_sentiment['food_service'] = truefoodkitchen_pre_sentiment.apply(lambda x: search_keywords(food_service, x['Reviews']), axis=1)\n",
    "\n",
    "truefoodkitchen_pre_sentiment['operations'] = truefoodkitchen_pre_sentiment.apply(lambda x: search_keywords(operations, x['Reviews']), axis=1)\n",
    "\n",
    "truefoodkitchen_pre_sentiment['delivery_service'] = truefoodkitchen_pre_sentiment.apply(lambda x: search_keywords(delivery_service, x['Reviews']), axis=1)\n",
    "\n",
    "truefoodkitchen_pre_sentiment['packaging_service'] = truefoodkitchen_pre_sentiment.apply(lambda x: search_keywords(packaging_service, x['Reviews']), axis=1)\n",
    "\n",
    "truefoodkitchen_pre_sentiment['location_and_parking'] = truefoodkitchen_pre_sentiment.apply(lambda x: search_keywords(location_and_parking, x['Reviews']), axis=1)\n",
    "\n",
    "truefoodkitchen_pre_sentiment['infrastructure'] = truefoodkitchen_pre_sentiment.apply(lambda x: search_keywords(infrastructure, x['Reviews']), axis=1)"
   ]
  },
  {
   "cell_type": "code",
   "execution_count": 136,
   "metadata": {},
   "outputs": [],
   "source": [
    "truefoodkitchen_post_sentiment['clean_fsr'] = truefoodkitchen_post_sentiment.apply(lambda x: search_keywords(clean_fsr, x['Reviews']), axis=1)\n",
    "\n",
    "truefoodkitchen_post_sentiment['clean_restrooms'] = truefoodkitchen_post_sentiment.apply(lambda x: search_keywords(clean_restrooms, x['Reviews']), axis=1)\n",
    "\n",
    "truefoodkitchen_post_sentiment['food_hygiene'] = truefoodkitchen_post_sentiment.apply(lambda x: search_keywords(food_hygiene, x['Reviews']), axis=1)\n",
    "\n",
    "truefoodkitchen_post_sentiment['food_service'] = truefoodkitchen_post_sentiment.apply(lambda x: search_keywords(food_service, x['Reviews']), axis=1)\n",
    "\n",
    "truefoodkitchen_post_sentiment['operations'] = truefoodkitchen_post_sentiment.apply(lambda x: search_keywords(operations, x['Reviews']), axis=1)\n",
    "\n",
    "truefoodkitchen_post_sentiment['delivery_service'] = truefoodkitchen_post_sentiment.apply(lambda x: search_keywords(delivery_service, x['Reviews']), axis=1)\n",
    "\n",
    "truefoodkitchen_post_sentiment['packaging_service'] = truefoodkitchen_post_sentiment.apply(lambda x: search_keywords(packaging_service, x['Reviews']), axis=1)\n",
    "\n",
    "truefoodkitchen_post_sentiment['location_and_parking'] = truefoodkitchen_post_sentiment.apply(lambda x: search_keywords(location_and_parking, x['Reviews']), axis=1)\n",
    "\n",
    "truefoodkitchen_post_sentiment['infrastructure'] = truefoodkitchen_post_sentiment.apply(lambda x: search_keywords(infrastructure, x['Reviews']), axis=1)"
   ]
  },
  {
   "cell_type": "code",
   "execution_count": 137,
   "metadata": {},
   "outputs": [
    {
     "data": {
      "text/plain": [
       "[Text(0.5, 0, 'Frequency'),\n",
       " Text(0, 0.5, 'Matching Words'),\n",
       " Text(0.5, 1.0, 'Negative Sentiment Matching Words True Food Kitchen Pre Covid')]"
      ]
     },
     "execution_count": 137,
     "metadata": {},
     "output_type": "execute_result"
    },
    {
     "data": {
      "image/png": "[encoded data removed]",
      "text/plain": [
       "<Figure size 842.4x595.44 with 1 Axes>"
      ]
     },
     "metadata": {},
     "output_type": "display_data"
    }
   ],
   "source": [
    "truefoodkitchen_pre_sentiment['Matching_Words'] = truefoodkitchen_pre_sentiment.apply(lambda x: search_keywords_add(words, x['Reviews']), axis=1)\n",
    "\n",
    "matching_words = []\n",
    "\n",
    "for index, rows in truefoodkitchen_pre_sentiment.iterrows():\n",
    "    my_list = [rows.Matching_Words]\n",
    "    \n",
    "    matching_words.append(my_list)\n",
    "    \n",
    "merged = list(itertools.chain.from_iterable(matching_words))\n",
    "merged2 = list(itertools.chain.from_iterable(merged))\n",
    "counts = Counter(merged2)\n",
    "# print(counts)\n",
    "\n",
    "\n",
    "df = pd.DataFrame.from_dict(counts, orient='index').reset_index()\n",
    "df.sort_values([0], ascending=False, inplace=True)\n",
    "df.reset_index(drop=True, inplace=True)\n",
    "df = df.head(10)\n",
    "\n",
    "sns.set(rc={'figure.figsize':(11.7,8.27)})\n",
    "sns.set(style=\"whitegrid\", color_codes=True)\n",
    "\n",
    "ax = sns.barplot(x=0, y=\"index\", data=df, palette = sns.color_palette(\"pastel\"))\n",
    "ax.set(xlabel='Frequency', ylabel='Matching Words', title = 'Negative Sentiment Matching Words True Food Kitchen Pre Covid')"
   ]
  },
  {
   "cell_type": "code",
   "execution_count": 138,
   "metadata": {
    "scrolled": false
   },
   "outputs": [
    {
     "data": {
      "text/plain": [
       "[Text(0.5, 0, 'Frequency'),\n",
       " Text(0, 0.5, 'Matching Words'),\n",
       " Text(0.5, 1.0, 'Negative Sentiment Matching Words True Food Kitchen Post Covid')]"
      ]
     },
     "execution_count": 138,
     "metadata": {},
     "output_type": "execute_result"
    },
    {
     "data": {
      "image/png": "[encoded data removed]",
      "text/plain": [
       "<Figure size 842.4x595.44 with 1 Axes>"
      ]
     },
     "metadata": {},
     "output_type": "display_data"
    }
   ],
   "source": [
    "truefoodkitchen_post_sentiment['Matching_Words'] = truefoodkitchen_post_sentiment.apply(lambda x: search_keywords_add(words, x['Reviews']), axis=1)\n",
    "\n",
    "matching_words = []\n",
    "\n",
    "for index, rows in truefoodkitchen_post_sentiment.iterrows():\n",
    "    my_list = [rows.Matching_Words]\n",
    "    \n",
    "    matching_words.append(my_list)\n",
    "    \n",
    "merged = list(itertools.chain.from_iterable(matching_words))\n",
    "merged2 = list(itertools.chain.from_iterable(merged))\n",
    "counts = Counter(merged2)\n",
    "# print(counts)\n",
    "\n",
    "\n",
    "df = pd.DataFrame.from_dict(counts, orient='index').reset_index()\n",
    "df.sort_values([0], ascending=False, inplace=True)\n",
    "df.reset_index(drop=True, inplace=True)\n",
    "df = df.head(10)\n",
    "\n",
    "sns.set(rc={'figure.figsize':(11.7,8.27)})\n",
    "sns.set(style=\"whitegrid\", color_codes=True)\n",
    "\n",
    "ax = sns.barplot(x=0, y=\"index\", data=df, palette = sns.color_palette(\"pastel\"))\n",
    "ax.set(xlabel='Frequency', ylabel='Matching Words', title = 'Negative Sentiment Matching Words True Food Kitchen Post Covid')"
   ]
  },
  {
   "cell_type": "code",
   "execution_count": 139,
   "metadata": {
    "scrolled": false
   },
   "outputs": [
    {
     "name": "stdout",
     "output_type": "stream",
     "text": [
      "0.41 % of Pre Covid Reviews mention Clean FSR for True Food Kitchen\n",
      "0.14 % of Pre Covid Reviews mention Clean Restrooms for True Food Kitchen\n",
      "2.37 % of Pre Covid Reviews mention Food Hygiene for True Food Kitchen\n",
      "5.99 % of Pre Covid Reviews mention Food Service for True Food Kitchen\n",
      "13.17 % of Pre Covid Reviews mention Operations for True Food Kitchen\n",
      "0.5 % of Pre Covid Reviews mention Delivery Service for True Food Kitchen\n",
      "0.53 % of Pre Covid Reviews mention Packaging Service for True Food Kitchen\n",
      "1.18 % of Pre Covid Reviews mention Location & Parking for True Food Kitchen\n",
      "1.85 % of Pre Covid Reviews mention Infrastructure for True Food Kitchen\n"
     ]
    }
   ],
   "source": [
    "print(\"{} % of Pre Covid Reviews mention Clean FSR for True Food Kitchen\".format(round(((truefoodkitchen_pre_sentiment['clean_fsr'].sum()/10349)*100), 2)))\n",
    "print(\"{} % of Pre Covid Reviews mention Clean Restrooms for True Food Kitchen\".format(round(((truefoodkitchen_pre_sentiment['clean_restrooms'].sum()/10349)*100), 2)))\n",
    "\n",
    "print(\"{} % of Pre Covid Reviews mention Food Hygiene for True Food Kitchen\".format(round(((truefoodkitchen_pre_sentiment['food_hygiene'].sum()/10349)*100), 2)))\n",
    "print(\"{} % of Pre Covid Reviews mention Food Service for True Food Kitchen\".format(round(((truefoodkitchen_pre_sentiment['food_service'].sum()/10349)*100), 2)))\n",
    "\n",
    "print(\"{} % of Pre Covid Reviews mention Operations for True Food Kitchen\".format(round(((truefoodkitchen_pre_sentiment['operations'].sum()/10349)*100), 2)))\n",
    "print(\"{} % of Pre Covid Reviews mention Delivery Service for True Food Kitchen\".format(round(((truefoodkitchen_pre_sentiment['delivery_service'].sum()/10349)*100), 2)))\n",
    "\n",
    "print(\"{} % of Pre Covid Reviews mention Packaging Service for True Food Kitchen\".format(round(((truefoodkitchen_pre_sentiment['packaging_service'].sum()/10349)*100), 2)))\n",
    "print(\"{} % of Pre Covid Reviews mention Location & Parking for True Food Kitchen\".format(round(((truefoodkitchen_pre_sentiment['location_and_parking'].sum()/10349)*100), 2)))\n",
    "\n",
    "print(\"{} % of Pre Covid Reviews mention Infrastructure for True Food Kitchen\".format(round(((truefoodkitchen_pre_sentiment['infrastructure'].sum()/10349)*100), 2)))"
   ]
  },
  {
   "cell_type": "code",
   "execution_count": 140,
   "metadata": {
    "scrolled": true
   },
   "outputs": [
    {
     "name": "stdout",
     "output_type": "stream",
     "text": [
      "2305 Total No of Negative Reviews Pre Covid for True Food Kitchen\n"
     ]
    }
   ],
   "source": [
    "print(\"{} Total No of Negative Reviews Pre Covid for True Food Kitchen\".format(len(truefoodkitchen_pre_sentiment)))"
   ]
  },
  {
   "cell_type": "code",
   "execution_count": 141,
   "metadata": {
    "scrolled": false
   },
   "outputs": [
    {
     "name": "stdout",
     "output_type": "stream",
     "text": [
      "0.53 % of Post Covid Reviews mention Clean FSR for True Food Kitchen\n",
      "0.17 % of Post Covid Reviews mention Clean Restrooms for True Food Kitchen\n",
      "2.55 % of Post Covid Reviews mention Food Hygiene for True Food Kitchen\n",
      "5.5 % of Post Covid Reviews mention Food Service for True Food Kitchen\n",
      "9.45 % of Post Covid Reviews mention Operations for True Food Kitchen\n",
      "0.52 % of Post Covid Reviews mention Delivery Service for True Food Kitchen\n",
      "0.49 % of Post Covid Reviews mention Packaging Service for True Food Kitchen\n",
      "1.21 % of Post Covid Reviews mention Location & Parking for True Food Kitchen\n",
      "2.42 % of Post Covid Reviews mention Infrastructure for True Food Kitchen\n"
     ]
    }
   ],
   "source": [
    "print(\"{} % of Post Covid Reviews mention Clean FSR for True Food Kitchen\".format(round(((truefoodkitchen_post_sentiment['clean_fsr'].sum()/12586)*100), 2)))\n",
    "print(\"{} % of Post Covid Reviews mention Clean Restrooms for True Food Kitchen\".format(round(((truefoodkitchen_post_sentiment['clean_restrooms'].sum()/12586)*100), 2)))\n",
    "\n",
    "print(\"{} % of Post Covid Reviews mention Food Hygiene for True Food Kitchen\".format(round(((truefoodkitchen_post_sentiment['food_hygiene'].sum()/12586)*100), 2)))\n",
    "print(\"{} % of Post Covid Reviews mention Food Service for True Food Kitchen\".format(round(((truefoodkitchen_post_sentiment['food_service'].sum()/12586)*100), 2)))\n",
    "\n",
    "print(\"{} % of Post Covid Reviews mention Operations for True Food Kitchen\".format(round(((truefoodkitchen_post_sentiment['operations'].sum()/12586)*100), 2)))\n",
    "print(\"{} % of Post Covid Reviews mention Delivery Service for True Food Kitchen\".format(round(((truefoodkitchen_post_sentiment['delivery_service'].sum()/12586)*100), 2)))\n",
    "\n",
    "print(\"{} % of Post Covid Reviews mention Packaging Service for True Food Kitchen\".format(round(((truefoodkitchen_post_sentiment['packaging_service'].sum()/12586)*100), 2)))\n",
    "print(\"{} % of Post Covid Reviews mention Location & Parking for True Food Kitchen\".format(round(((truefoodkitchen_post_sentiment['location_and_parking'].sum()/12586)*100), 2)))\n",
    "\n",
    "print(\"{} % of Post Covid Reviews mention Infrastructure for True Food Kitchen\".format(round(((truefoodkitchen_post_sentiment['infrastructure'].sum()/12586)*100), 2)))"
   ]
  },
  {
   "cell_type": "code",
   "execution_count": 142,
   "metadata": {
    "scrolled": false
   },
   "outputs": [
    {
     "name": "stdout",
     "output_type": "stream",
     "text": [
      "2495 Total No of Negative Reviews Post Covid for True Food Kitchen\n"
     ]
    }
   ],
   "source": [
    "print(\"{} Total No of Negative Reviews Post Covid for True Food Kitchen\".format(len(truefoodkitchen_post_sentiment)))"
   ]
  },
  {
   "cell_type": "code",
   "execution_count": 154,
   "metadata": {},
   "outputs": [],
   "source": [
    "truefoodkitchen_post_sentiment.to_csv('TrueFoodKitchen_Post.csv')"
   ]
  },
  {
   "cell_type": "markdown",
   "metadata": {},
   "source": [
    "## Texas Roadhouse"
   ]
  },
  {
   "cell_type": "code",
   "execution_count": 143,
   "metadata": {},
   "outputs": [
    {
     "name": "stdout",
     "output_type": "stream",
     "text": [
      "(1231, 5)\n",
      "(336, 5)\n"
     ]
    }
   ],
   "source": [
    "print(texasroadhouse_pre_sentiment.shape)\n",
    "print(texasroadhouse_post_sentiment.shape)"
   ]
  },
  {
   "cell_type": "code",
   "execution_count": 144,
   "metadata": {},
   "outputs": [],
   "source": [
    "texasroadhouse_pre_sentiment = texasroadhouse_pre_sentiment[texasroadhouse_pre_sentiment.Sentiment_Type=='Negative']\n",
    "texasroadhouse_pre_sentiment.reset_index(drop=True, inplace=True)\n",
    "\n",
    "texasroadhouse_post_sentiment = texasroadhouse_post_sentiment[texasroadhouse_post_sentiment.Sentiment_Type=='Negative']\n",
    "texasroadhouse_post_sentiment.reset_index(drop=True, inplace=True)"
   ]
  },
  {
   "cell_type": "code",
   "execution_count": 145,
   "metadata": {},
   "outputs": [],
   "source": [
    "texasroadhouse_pre_sentiment.to_csv('Texas_Roadhouse_Post.csv')"
   ]
  },
  {
   "cell_type": "code",
   "execution_count": 146,
   "metadata": {},
   "outputs": [],
   "source": [
    "texasroadhouse_pre_sentiment['clean_fsr'] = texasroadhouse_pre_sentiment.apply(lambda x: search_keywords(clean_fsr, x['Reviews']), axis=1)\n",
    "\n",
    "texasroadhouse_pre_sentiment['clean_restrooms'] = texasroadhouse_pre_sentiment.apply(lambda x: search_keywords(clean_restrooms, x['Reviews']), axis=1)\n",
    "\n",
    "texasroadhouse_pre_sentiment['food_hygiene'] = texasroadhouse_pre_sentiment.apply(lambda x: search_keywords(food_hygiene, x['Reviews']), axis=1)\n",
    "\n",
    "texasroadhouse_pre_sentiment['food_service'] = texasroadhouse_pre_sentiment.apply(lambda x: search_keywords(food_service, x['Reviews']), axis=1)\n",
    "\n",
    "texasroadhouse_pre_sentiment['operations'] = texasroadhouse_pre_sentiment.apply(lambda x: search_keywords(operations, x['Reviews']), axis=1)\n",
    "\n",
    "texasroadhouse_pre_sentiment['delivery_service'] = texasroadhouse_pre_sentiment.apply(lambda x: search_keywords(delivery_service, x['Reviews']), axis=1)\n",
    "\n",
    "texasroadhouse_pre_sentiment['packaging_service'] = texasroadhouse_pre_sentiment.apply(lambda x: search_keywords(packaging_service, x['Reviews']), axis=1)\n",
    "\n",
    "texasroadhouse_pre_sentiment['location_and_parking'] = texasroadhouse_pre_sentiment.apply(lambda x: search_keywords(location_and_parking, x['Reviews']), axis=1)\n",
    "\n",
    "texasroadhouse_pre_sentiment['infrastructure'] = texasroadhouse_pre_sentiment.apply(lambda x: search_keywords(infrastructure, x['Reviews']), axis=1)"
   ]
  },
  {
   "cell_type": "code",
   "execution_count": 147,
   "metadata": {},
   "outputs": [],
   "source": [
    "texasroadhouse_post_sentiment['clean_fsr'] = texasroadhouse_post_sentiment.apply(lambda x: search_keywords(clean_fsr, x['Reviews']), axis=1)\n",
    "\n",
    "texasroadhouse_post_sentiment['clean_restrooms'] = texasroadhouse_post_sentiment.apply(lambda x: search_keywords(clean_restrooms, x['Reviews']), axis=1)\n",
    "\n",
    "texasroadhouse_post_sentiment['food_hygiene'] = texasroadhouse_post_sentiment.apply(lambda x: search_keywords(food_hygiene, x['Reviews']), axis=1)\n",
    "\n",
    "texasroadhouse_post_sentiment['food_service'] = texasroadhouse_post_sentiment.apply(lambda x: search_keywords(food_service, x['Reviews']), axis=1)\n",
    "\n",
    "texasroadhouse_post_sentiment['operations'] = texasroadhouse_post_sentiment.apply(lambda x: search_keywords(operations, x['Reviews']), axis=1)\n",
    "\n",
    "texasroadhouse_post_sentiment['delivery_service'] = texasroadhouse_post_sentiment.apply(lambda x: search_keywords(delivery_service, x['Reviews']), axis=1)\n",
    "\n",
    "texasroadhouse_post_sentiment['packaging_service'] = texasroadhouse_post_sentiment.apply(lambda x: search_keywords(packaging_service, x['Reviews']), axis=1)\n",
    "\n",
    "texasroadhouse_post_sentiment['location_and_parking'] = texasroadhouse_post_sentiment.apply(lambda x: search_keywords(location_and_parking, x['Reviews']), axis=1)\n",
    "\n",
    "texasroadhouse_post_sentiment['infrastructure'] = texasroadhouse_post_sentiment.apply(lambda x: search_keywords(infrastructure, x['Reviews']), axis=1)"
   ]
  },
  {
   "cell_type": "code",
   "execution_count": 148,
   "metadata": {},
   "outputs": [
    {
     "data": {
      "text/plain": [
       "[Text(0.5, 0, 'Frequency'),\n",
       " Text(0, 0.5, 'Matching Words'),\n",
       " Text(0.5, 1.0, 'Negative Sentiment Matching Words Texas Roadhouse Pre Covid')]"
      ]
     },
     "execution_count": 148,
     "metadata": {},
     "output_type": "execute_result"
    },
    {
     "data": {
      "image/png": "[encoded data removed]",
      "text/plain": [
       "<Figure size 842.4x595.44 with 1 Axes>"
      ]
     },
     "metadata": {},
     "output_type": "display_data"
    }
   ],
   "source": [
    "texasroadhouse_pre_sentiment['Matching_Words'] = texasroadhouse_pre_sentiment.apply(lambda x: search_keywords_add(words, x['Reviews']), axis=1)\n",
    "\n",
    "matching_words = []\n",
    "\n",
    "for index, rows in texasroadhouse_pre_sentiment.iterrows():\n",
    "    my_list = [rows.Matching_Words]\n",
    "    \n",
    "    matching_words.append(my_list)\n",
    "    \n",
    "merged = list(itertools.chain.from_iterable(matching_words))\n",
    "merged2 = list(itertools.chain.from_iterable(merged))\n",
    "counts = Counter(merged2)\n",
    "# print(counts)\n",
    "\n",
    "\n",
    "df = pd.DataFrame.from_dict(counts, orient='index').reset_index()\n",
    "df.sort_values([0], ascending=False, inplace=True)\n",
    "df.reset_index(drop=True, inplace=True)\n",
    "df = df.head(10)\n",
    "\n",
    "sns.set(rc={'figure.figsize':(11.7,8.27)})\n",
    "sns.set(style=\"whitegrid\", color_codes=True)\n",
    "\n",
    "ax = sns.barplot(x=0, y=\"index\", data=df, palette = sns.color_palette(\"pastel\"))\n",
    "ax.set(xlabel='Frequency', ylabel='Matching Words', title = 'Negative Sentiment Matching Words Texas Roadhouse Pre Covid')"
   ]
  },
  {
   "cell_type": "code",
   "execution_count": 149,
   "metadata": {},
   "outputs": [
    {
     "data": {
      "text/plain": [
       "[Text(0.5, 0, 'Frequency'),\n",
       " Text(0, 0.5, 'Matching Words'),\n",
       " Text(0.5, 1.0, 'Negative Sentiment Matching Words Texas Roadhouse Post Covid')]"
      ]
     },
     "execution_count": 149,
     "metadata": {},
     "output_type": "execute_result"
    },
    {
     "data": {
      "image/png": "[encoded data removed]",
      "text/plain": [
       "<Figure size 842.4x595.44 with 1 Axes>"
      ]
     },
     "metadata": {},
     "output_type": "display_data"
    }
   ],
   "source": [
    "texasroadhouse_post_sentiment['Matching_Words'] = texasroadhouse_post_sentiment.apply(lambda x: search_keywords_add(words, x['Reviews']), axis=1)\n",
    "\n",
    "matching_words = []\n",
    "\n",
    "for index, rows in texasroadhouse_pre_sentiment.iterrows():\n",
    "    my_list = [rows.Matching_Words]\n",
    "    \n",
    "    matching_words.append(my_list)\n",
    "    \n",
    "merged = list(itertools.chain.from_iterable(matching_words))\n",
    "merged2 = list(itertools.chain.from_iterable(merged))\n",
    "counts = Counter(merged2)\n",
    "# print(counts)\n",
    "\n",
    "\n",
    "df = pd.DataFrame.from_dict(counts, orient='index').reset_index()\n",
    "df.sort_values([0], ascending=False, inplace=True)\n",
    "df.reset_index(drop=True, inplace=True)\n",
    "df = df.head(10)\n",
    "\n",
    "sns.set(rc={'figure.figsize':(11.7,8.27)})\n",
    "sns.set(style=\"whitegrid\", color_codes=True)\n",
    "\n",
    "ax = sns.barplot(x=0, y=\"index\", data=df, palette = sns.color_palette(\"pastel\"))\n",
    "ax.set(xlabel='Frequency', ylabel='Matching Words', title = 'Negative Sentiment Matching Words Texas Roadhouse Post Covid')"
   ]
  },
  {
   "cell_type": "code",
   "execution_count": 150,
   "metadata": {
    "scrolled": false
   },
   "outputs": [
    {
     "name": "stdout",
     "output_type": "stream",
     "text": [
      "0.41 % of Pre Covid Reviews mention Clean FSR for Texas Roadhouse\n",
      "0.41 % of Pre Covid Reviews mention Clean Restrooms for Texas Roadhouse\n",
      "3.82 % of Pre Covid Reviews mention Food Hygiene for Texas Roadhouse\n",
      "4.71 % of Pre Covid Reviews mention Food Service for Texas Roadhouse\n",
      "11.54 % of Pre Covid Reviews mention Operations for Texas Roadhouse\n",
      "0.73 % of Pre Covid Reviews mention Delivery Service for Texas Roadhouse\n",
      "0.81 % of Pre Covid Reviews mention Packaging Service for Texas Roadhouse\n",
      "1.06 % of Pre Covid Reviews mention Location & Parking for Texas Roadhouse\n",
      "2.92 % of Pre Covid Reviews mention Infrastructure for Texas Roadhouse\n"
     ]
    }
   ],
   "source": [
    "print(\"{} % of Pre Covid Reviews mention Clean FSR for Texas Roadhouse\".format(round(((texasroadhouse_pre_sentiment['clean_fsr'].sum()/1231)*100), 2)))\n",
    "print(\"{} % of Pre Covid Reviews mention Clean Restrooms for Texas Roadhouse\".format(round(((texasroadhouse_pre_sentiment['clean_restrooms'].sum()/1231)*100), 2)))\n",
    "\n",
    "print(\"{} % of Pre Covid Reviews mention Food Hygiene for Texas Roadhouse\".format(round(((texasroadhouse_pre_sentiment['food_hygiene'].sum()/1231)*100), 2)))\n",
    "print(\"{} % of Pre Covid Reviews mention Food Service for Texas Roadhouse\".format(round(((texasroadhouse_pre_sentiment['food_service'].sum()/1231)*100), 2)))\n",
    "\n",
    "print(\"{} % of Pre Covid Reviews mention Operations for Texas Roadhouse\".format(round(((texasroadhouse_pre_sentiment['operations'].sum()/1231)*100), 2)))\n",
    "print(\"{} % of Pre Covid Reviews mention Delivery Service for Texas Roadhouse\".format(round(((texasroadhouse_pre_sentiment['delivery_service'].sum()/1231)*100), 2)))\n",
    "\n",
    "print(\"{} % of Pre Covid Reviews mention Packaging Service for Texas Roadhouse\".format(round(((texasroadhouse_pre_sentiment['packaging_service'].sum()/1231)*100), 2)))\n",
    "print(\"{} % of Pre Covid Reviews mention Location & Parking for Texas Roadhouse\".format(round(((texasroadhouse_pre_sentiment['location_and_parking'].sum()/1231)*100), 2)))\n",
    "\n",
    "print(\"{} % of Pre Covid Reviews mention Infrastructure for Texas Roadhouse\".format(round(((texasroadhouse_pre_sentiment['infrastructure'].sum()/1231)*100), 2)))"
   ]
  },
  {
   "cell_type": "code",
   "execution_count": 151,
   "metadata": {
    "scrolled": true
   },
   "outputs": [
    {
     "name": "stdout",
     "output_type": "stream",
     "text": [
      "285 Total No of Negative Reviews Pre Covid for Texas Road House\n"
     ]
    }
   ],
   "source": [
    "print(\"{} Total No of Negative Reviews Pre Covid for Texas Road House\".format(len(texasroadhouse_pre_sentiment)))"
   ]
  },
  {
   "cell_type": "code",
   "execution_count": 152,
   "metadata": {
    "scrolled": false
   },
   "outputs": [
    {
     "name": "stdout",
     "output_type": "stream",
     "text": [
      "1.19 % of Post Covid Reviews mention Clean FSR for Texas Roadhouse\n",
      "0.0 % of Post Covid Reviews mention Clean Restrooms for Texas Roadhouse\n",
      "4.76 % of Post Covid Reviews mention Food Hygiene for Texas Roadhouse\n",
      "8.04 % of Post Covid Reviews mention Food Service for Texas Roadhouse\n",
      "15.48 % of Post Covid Reviews mention Operations for Texas Roadhouse\n",
      "1.49 % of Post Covid Reviews mention Delivery Service for Texas Roadhouse\n",
      "2.38 % of Post Covid Reviews mention Packaging Service for Texas Roadhouse\n",
      "3.87 % of Post Covid Reviews mention Location & Parking for Texas Roadhouse\n",
      "4.46 % of Post Covid Reviews mention Infrastructure for Texas Roadhouse\n"
     ]
    }
   ],
   "source": [
    "print(\"{} % of Post Covid Reviews mention Clean FSR for Texas Roadhouse\".format(round(((texasroadhouse_post_sentiment['clean_fsr'].sum()/336)*100), 2)))\n",
    "print(\"{} % of Post Covid Reviews mention Clean Restrooms for Texas Roadhouse\".format(round(((texasroadhouse_post_sentiment['clean_restrooms'].sum()/336)*100), 2)))\n",
    "\n",
    "print(\"{} % of Post Covid Reviews mention Food Hygiene for Texas Roadhouse\".format(round(((texasroadhouse_post_sentiment['food_hygiene'].sum()/336)*100), 2)))\n",
    "print(\"{} % of Post Covid Reviews mention Food Service for Texas Roadhouse\".format(round(((texasroadhouse_post_sentiment['food_service'].sum()/336)*100), 2)))\n",
    "\n",
    "print(\"{} % of Post Covid Reviews mention Operations for Texas Roadhouse\".format(round(((texasroadhouse_post_sentiment['operations'].sum()/336)*100), 2)))\n",
    "print(\"{} % of Post Covid Reviews mention Delivery Service for Texas Roadhouse\".format(round(((texasroadhouse_post_sentiment['delivery_service'].sum()/336)*100), 2)))\n",
    "\n",
    "print(\"{} % of Post Covid Reviews mention Packaging Service for Texas Roadhouse\".format(round(((texasroadhouse_post_sentiment['packaging_service'].sum()/336)*100), 2)))\n",
    "print(\"{} % of Post Covid Reviews mention Location & Parking for Texas Roadhouse\".format(round(((texasroadhouse_post_sentiment['location_and_parking'].sum()/336)*100), 2)))\n",
    "\n",
    "print(\"{} % of Post Covid Reviews mention Infrastructure for Texas Roadhouse\".format(round(((texasroadhouse_post_sentiment['infrastructure'].sum()/336)*100), 2)))"
   ]
  },
  {
   "cell_type": "code",
   "execution_count": 153,
   "metadata": {
    "scrolled": false
   },
   "outputs": [
    {
     "name": "stdout",
     "output_type": "stream",
     "text": [
      "82 Total No of Negative Reviews Post Covid for Texas Road House\n"
     ]
    }
   ],
   "source": [
    "print(\"{} Total No of Negative Reviews Post Covid for Texas Road House\".format(len(texasroadhouse_post_sentiment)))"
   ]
  },
  {
   "cell_type": "markdown",
   "metadata": {},
   "source": [
    "## Overall Negative Reviews"
   ]
  },
  {
   "cell_type": "code",
   "execution_count": null,
   "metadata": {
    "scrolled": true
   },
   "outputs": [],
   "source": [
    "neg_reviews_pre = pd.concat([firstwatch_pre_sentiment, modernmarket_pre_sentiment, topgolf_pre_sentiment, truefoodkitchen_pre_sentiment, texasroadhouse_pre_sentiment], ignore_index=True, sort=False)\n",
    "neg_reviews_pre.reset_index(drop=True, inplace=True)\n",
    "print(neg_reviews_pre.shape)"
   ]
  },
  {
   "cell_type": "code",
   "execution_count": null,
   "metadata": {},
   "outputs": [],
   "source": [
    "neg_reviews_pre.to_csv('negative_pre.csv')"
   ]
  },
  {
   "cell_type": "code",
   "execution_count": null,
   "metadata": {},
   "outputs": [],
   "source": [
    "neg_reviews_pre = neg_reviews_pre.loc[:, ~neg_reviews_pre.columns.str.contains('^Unnamed')]"
   ]
  },
  {
   "cell_type": "code",
   "execution_count": null,
   "metadata": {},
   "outputs": [],
   "source": [
    "words = ['antiseptic', 'immaculate', 'pristine', 'spotless', 'squeaky-clean',\n",
    "             'stainless', 'unsoiled', 'clean', 'washed', 'scrubbed', 'cleansed', 'cleaned', 'polished',\n",
    "             'spotless', 'unspotted', 'unblemished', 'immaculate', 'grubby', 'smirched', 'soiled',\n",
    "             'spotted', 'stained', 'sullied', 'unclean', 'uncleaned''bathrooms', 'baths',\n",
    "         'restroom', 'johns', 'lavatories', 'loos', 'toilets',\n",
    "                   'washrooms', 'waterclosets', 'wc', 'unhealthy' 'freshness', 'safe', 'fresh', 'hygiene', 'hygienic',\n",
    "                'sanitary', 'sterile', 'tidy', 'pure', 'contaminated', 'dirty',\n",
    "                'germ-free', 'stale', 'musty', 'bacteria', 'germs', 'variety', 'taste', 'presentation',\n",
    "         'portion', 'subpar', 'soggy', 'pleasant',\n",
    "                'exceptional', 'responsive', 'nutritious', 'tasty', 'wait', 'checkout',\n",
    "         'checkin', 'ease', 'easy', 'professionalism',\n",
    "              'waiter', 'waitress', 'employee', 'service', 'reservation', 'deliver',\n",
    "         'delivery', 'pickup', 'predictability', 'estimate', 'to-go',\n",
    "                    'togo', 'onlineorder', 'online-order' 'ubereats', 'doordash', 'seamless', 'grubhub',\n",
    "         'packaging', 'package', 'box', 'packing', 'visual',\n",
    "                     'spill', 'container', 'presentation', 'pack', 'parcel', 'leak',\n",
    "         'drive', 'drivetime', 'drive-time', 'parking', 'lot', 'valet', 'park',\n",
    "                        'picture', 'driving', 'valet', 'traffic', 'curbside', 'vehicle',\n",
    "         'waiting', 'outdoor', 'indoor', 'patio', 'reservation-facility', 'reservationfacility', 'buffet', \n",
    "                  'atmosphere', 'vibe', 'spacious', 'distancing', 'seating']\n"
   ]
  },
  {
   "cell_type": "code",
   "execution_count": null,
   "metadata": {},
   "outputs": [],
   "source": [
    "def search_keywords_add(list_of_words, x):\n",
    "    counter = []\n",
    "    for i in list_of_words:\n",
    "        if(x.lower().find(i) != -1):\n",
    "            counter.append(i)\n",
    "    return counter  \n",
    "\n",
    "neg_reviews_pre['Matching_Words'] = neg_reviews_pre.apply(lambda x: search_keywords_add(words, x['Reviews']), axis=1)"
   ]
  },
  {
   "cell_type": "code",
   "execution_count": null,
   "metadata": {
    "scrolled": false
   },
   "outputs": [],
   "source": [
    "neg_reviews_pre['Matching_Words'] = neg_reviews_pre.apply(lambda x: search_keywords_add(words, x['Reviews']), axis=1)"
   ]
  },
  {
   "cell_type": "code",
   "execution_count": null,
   "metadata": {
    "scrolled": true
   },
   "outputs": [],
   "source": [
    "neg_reviews_pre.to_csv('Negative_Sentiment_Combined.csv')"
   ]
  },
  {
   "cell_type": "code",
   "execution_count": null,
   "metadata": {},
   "outputs": [],
   "source": [
    "neg_reviews_post = pd.concat([firstwatch_post_sentiment, modernmarket_post_sentiment, topgolf_post_sentiment, truefoodkitchen_post_sentiment, texasroadhouse_post_sentiment], ignore_index=True, sort=False)\n",
    "neg_reviews_post.reset_index(drop=True, inplace=True)\n",
    "print(neg_reviews_post.shape)"
   ]
  },
  {
   "cell_type": "code",
   "execution_count": null,
   "metadata": {},
   "outputs": [],
   "source": [
    "neg_reviews_pre = neg_reviews_pre[neg_reviews_pre.Sentiment_Type=='Negative']\n",
    "neg_reviews_pre.reset_index(drop=True, inplace=True)"
   ]
  },
  {
   "cell_type": "code",
   "execution_count": null,
   "metadata": {},
   "outputs": [],
   "source": [
    "neg_reviews_post = neg_reviews_post[neg_reviews_post.Sentiment_Type=='Negative']\n",
    "neg_reviews_post.reset_index(drop=True, inplace=True)"
   ]
  },
  {
   "cell_type": "code",
   "execution_count": null,
   "metadata": {},
   "outputs": [],
   "source": [
    "neg_reviews_pre['clean_fsr'] = neg_reviews_pre.apply(lambda x: search_keywords(clean_fsr, x['Reviews']), axis=1)\n",
    "\n",
    "neg_reviews_pre['clean_restrooms'] = neg_reviews_pre.apply(lambda x: search_keywords(clean_restrooms, x['Reviews']), axis=1)\n",
    "\n",
    "neg_reviews_pre['food_hygiene'] = neg_reviews_pre.apply(lambda x: search_keywords(food_hygiene, x['Reviews']), axis=1)\n",
    "\n",
    "neg_reviews_pre['food_service'] = neg_reviews_pre.apply(lambda x: search_keywords(food_service, x['Reviews']), axis=1)\n",
    "\n",
    "neg_reviews_pre['operations'] = neg_reviews_pre.apply(lambda x: search_keywords(operations, x['Reviews']), axis=1)\n",
    "\n",
    "neg_reviews_pre['delivery_service'] = neg_reviews_pre.apply(lambda x: search_keywords(delivery_service, x['Reviews']), axis=1)\n",
    "\n",
    "neg_reviews_pre['packaging_service'] = neg_reviews_pre.apply(lambda x: search_keywords(packaging_service, x['Reviews']), axis=1)\n",
    "\n",
    "neg_reviews_pre['location_and_parking'] = neg_reviews_pre.apply(lambda x: search_keywords(location_and_parking, x['Reviews']), axis=1)\n",
    "\n",
    "neg_reviews_pre['infrastructure'] = neg_reviews_pre.apply(lambda x: search_keywords(infrastructure, x['Reviews']), axis=1)"
   ]
  },
  {
   "cell_type": "code",
   "execution_count": null,
   "metadata": {},
   "outputs": [],
   "source": [
    "neg_reviews_post['clean_fsr'] = neg_reviews_post.apply(lambda x: search_keywords(clean_fsr, x['Reviews']), axis=1)\n",
    "\n",
    "neg_reviews_post['clean_restrooms'] = neg_reviews_post.apply(lambda x: search_keywords(clean_restrooms, x['Reviews']), axis=1)\n",
    "\n",
    "neg_reviews_post['food_hygiene'] = neg_reviews_post.apply(lambda x: search_keywords(food_hygiene, x['Reviews']), axis=1)\n",
    "\n",
    "neg_reviews_post['food_service'] = neg_reviews_post.apply(lambda x: search_keywords(food_service, x['Reviews']), axis=1)\n",
    "\n",
    "neg_reviews_post['operations'] = neg_reviews_post.apply(lambda x: search_keywords(operations, x['Reviews']), axis=1)\n",
    "\n",
    "neg_reviews_post['delivery_service'] = neg_reviews_post.apply(lambda x: search_keywords(delivery_service, x['Reviews']), axis=1)\n",
    "\n",
    "neg_reviews_post['packaging_service'] = neg_reviews_post.apply(lambda x: search_keywords(packaging_service, x['Reviews']), axis=1)\n",
    "\n",
    "neg_reviews_post['location_and_parking'] = neg_reviews_post.apply(lambda x: search_keywords(location_and_parking, x['Reviews']), axis=1)\n",
    "\n",
    "neg_reviews_post['infrastructure'] = neg_reviews_post.apply(lambda x: search_keywords(infrastructure, x['Reviews']), axis=1)"
   ]
  },
  {
   "cell_type": "code",
   "execution_count": null,
   "metadata": {
    "scrolled": false
   },
   "outputs": [],
   "source": [
    "print(\"{} % of Reviews mention Clean FSR\".format(round((neg_reviews_pre['clean_fsr'].sum()/len(neg_reviews_pre)*100), 2)))\n",
    "print(\"{} % of Reviews mention Clean Restrooms\".format(round((neg_reviews_pre['clean_restrooms'].sum()/len(neg_reviews_pre)*100), 2)))\n",
    "\n",
    "print(\"{} % of Reviews mention Food Hygiene\".format(round((neg_reviews_pre['food_hygiene'].sum()/len(neg_reviews_pre)*100), 2)))\n",
    "print(\"{} % of Reviews mention Food Service\".format(round((neg_reviews_pre['food_service'].sum()/len(neg_reviews_pre)*100), 2)))\n",
    "\n",
    "print(\"{} % of Reviews mention Operations\".format(round((neg_reviews_pre['operations'].sum()/len(neg_reviews_pre)*100), 2)))\n",
    "print(\"{} % of Reviews mention Delivery Service\".format(round((neg_reviews_pre['delivery_service'].sum()/len(neg_reviews_pre)*100), 2)))\n",
    "\n",
    "print(\"{} % of Reviews mention Packaging Service\".format(round((neg_reviews_pre['packaging_service'].sum()/len(neg_reviews_pre)*100), 2)))\n",
    "print(\"{} % of Reviews mention Location & Parking\".format(round((neg_reviews_pre['location_and_parking'].sum()/len(neg_reviews_pre)*100), 2)))\n",
    "\n",
    "print(\"{} % of Reviews mention Infrastructure\".format(round((neg_reviews_pre['infrastructure'].sum()/len(neg_reviews_pre)*100), 2)))"
   ]
  },
  {
   "cell_type": "code",
   "execution_count": null,
   "metadata": {
    "scrolled": true
   },
   "outputs": [],
   "source": [
    "print(\"{} % of Reviews mention Clean FSR\".format(round((neg_reviews_post['clean_fsr'].sum()/len(neg_reviews_post)*100), 2)))\n",
    "print(\"{} % of Reviews mention Clean Restrooms\".format(round((neg_reviews_post['clean_restrooms'].sum()/len(neg_reviews_post)*100), 2)))\n",
    "\n",
    "print(\"{} % of Reviews mention Food Hygiene\".format(round((neg_reviews_post['food_hygiene'].sum()/len(neg_reviews_post)*100), 2)))\n",
    "print(\"{} % of Reviews mention Food Service\".format(round((neg_reviews_post['food_service'].sum()/len(neg_reviews_post)*100), 2)))\n",
    "\n",
    "print(\"{} % of Reviews mention Operations\".format(round((neg_reviews_post['operations'].sum()/len(neg_reviews_post)*100), 2)))\n",
    "print(\"{} % of Reviews mention Delivery Service\".format(round((neg_reviews_post['delivery_service'].sum()/len(neg_reviews_post)*100), 2)))\n",
    "\n",
    "print(\"{} % of Reviews mention Packaging Service\".format(round((neg_reviews_post['packaging_service'].sum()/len(neg_reviews_post)*100), 2)))\n",
    "print(\"{} % of Reviews mention Location & Parking\".format(round((neg_reviews_post['location_and_parking'].sum()/len(neg_reviews_post)*100), 2)))\n",
    "\n",
    "print(\"{} % of Reviews mention Infrastructure\".format(round((neg_reviews_post['infrastructure'].sum()/len(neg_reviews_post)*100), 2)))"
   ]
  },
  {
   "cell_type": "code",
   "execution_count": null,
   "metadata": {},
   "outputs": [],
   "source": []
  },
  {
   "cell_type": "code",
   "execution_count": null,
   "metadata": {},
   "outputs": [],
   "source": []
  },
  {
   "cell_type": "code",
   "execution_count": null,
   "metadata": {},
   "outputs": [],
   "source": []
  },
  {
   "cell_type": "code",
   "execution_count": null,
   "metadata": {},
   "outputs": [],
   "source": []
  }
 ],
 "metadata": {
  "kernelspec": {
   "display_name": "Python 3",
   "language": "python",
   "name": "python3"
  },
  "language_info": {
   "codemirror_mode": {
    "name": "ipython",
    "version": 3
   },
   "file_extension": ".py",
   "mimetype": "text/x-python",
   "name": "python",
   "nbconvert_exporter": "python",
   "pygments_lexer": "ipython3",
   "version": "3.7.1"
  }
 },
 "nbformat": 4,
 "nbformat_minor": 2
}
