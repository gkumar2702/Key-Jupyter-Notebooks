{
 "cells": [
  {
   "cell_type": "code",
   "execution_count": 1,
   "metadata": {},
   "outputs": [],
   "source": [
    "random_State = 500"
   ]
  },
  {
   "cell_type": "code",
   "execution_count": 2,
   "metadata": {},
   "outputs": [],
   "source": [
    "from sklearn.metrics import explained_variance_score\n",
    "from sklearn.metrics import mean_absolute_error\n",
    "from sklearn.metrics import mean_squared_error\n",
    "from sklearn.metrics import r2_score\n",
    "from sklearn.preprocessing import StandardScaler\n",
    "from sklearn.metrics import accuracy_score\n",
    "from sklearn.svm import SVR\n",
    "from sklearn.cross_decomposition import PLSRegression\n",
    "from sklearn.linear_model import Ridge"
   ]
  },
  {
   "cell_type": "code",
   "execution_count": 3,
   "metadata": {},
   "outputs": [],
   "source": [
    "import pandas as pd\n",
    "import numpy as np\n",
    "\n",
    "import matplotlib.pyplot as plt\n",
    "import seaborn as sns\n",
    "\n",
    "%matplotlib inline\n",
    "\n",
    "from sklearn import linear_model\n",
    "from sklearn.preprocessing import StandardScaler\n",
    "from sklearn.model_selection import train_test_split\n",
    "from sklearn.linear_model import LarsCV\n",
    "from sklearn.datasets import make_regression"
   ]
  },
  {
   "cell_type": "code",
   "execution_count": 4,
   "metadata": {},
   "outputs": [
    {
     "data": {
      "text/plain": [
       "(1029, 392)"
      ]
     },
     "execution_count": 4,
     "metadata": {},
     "output_type": "execute_result"
    }
   ],
   "source": [
    "data = pd.read_csv('C:\\\\Users\\\\gourav.kumar\\\\ADS\\\\ADS_DayLevel_6December2019_master.csv')\n",
    "data.shape"
   ]
  },
  {
   "cell_type": "code",
   "execution_count": 5,
   "metadata": {},
   "outputs": [
    {
     "data": {
      "text/html": [
       "<div>\n",
       "<style scoped>\n",
       "    .dataframe tbody tr th:only-of-type {\n",
       "        vertical-align: middle;\n",
       "    }\n",
       "\n",
       "    .dataframe tbody tr th {\n",
       "        vertical-align: top;\n",
       "    }\n",
       "\n",
       "    .dataframe thead th {\n",
       "        text-align: right;\n",
       "    }\n",
       "</style>\n",
       "<table border=\"1\" class=\"dataframe\">\n",
       "  <thead>\n",
       "    <tr style=\"text-align: right;\">\n",
       "      <th></th>\n",
       "      <th>Date</th>\n",
       "      <th>AL1_mmbtu</th>\n",
       "      <th>AL2_mmbtu</th>\n",
       "      <th>AL3_mmbtu</th>\n",
       "      <th>AL4_mmbtu</th>\n",
       "      <th>AL5_mmbtu</th>\n",
       "      <th>AL6_mmbtu</th>\n",
       "      <th>AL1_MWh</th>\n",
       "      <th>AL2_MWh</th>\n",
       "      <th>AL3_MWh</th>\n",
       "      <th>...</th>\n",
       "      <th>AL3_mmbtu_new_lead1</th>\n",
       "      <th>AL4_mmbtu_new_lead1</th>\n",
       "      <th>AL5_mmbtu_new_lead1</th>\n",
       "      <th>AL6_mmbtu_new_lead1</th>\n",
       "      <th>RB5_mmbtu_new_lead1</th>\n",
       "      <th>RB6_mmbtu_new_lead1</th>\n",
       "      <th>RB7_mmbtu_new_lead1</th>\n",
       "      <th>RB8_mmbtu_new_lead1</th>\n",
       "      <th>HB1_mmbtu_new_lead1</th>\n",
       "      <th>HB2_mmbtu_new_lead1</th>\n",
       "    </tr>\n",
       "  </thead>\n",
       "  <tbody>\n",
       "    <tr>\n",
       "      <th>0</th>\n",
       "      <td>2017-01-03T00:00:00.000Z</td>\n",
       "      <td>0.0</td>\n",
       "      <td>9170.117867</td>\n",
       "      <td>0.000000</td>\n",
       "      <td>12879.446547</td>\n",
       "      <td>0.0</td>\n",
       "      <td>0.0</td>\n",
       "      <td>-5.707080</td>\n",
       "      <td>434.730323</td>\n",
       "      <td>32.710330</td>\n",
       "      <td>...</td>\n",
       "      <td>0.000000</td>\n",
       "      <td>11371.386189</td>\n",
       "      <td>0.0</td>\n",
       "      <td>0.0</td>\n",
       "      <td>0.0</td>\n",
       "      <td>0.000000</td>\n",
       "      <td>0.0</td>\n",
       "      <td>0.0</td>\n",
       "      <td>0.0</td>\n",
       "      <td>0.0</td>\n",
       "    </tr>\n",
       "    <tr>\n",
       "      <th>1</th>\n",
       "      <td>2017-01-04T00:00:00.000Z</td>\n",
       "      <td>0.0</td>\n",
       "      <td>7960.174206</td>\n",
       "      <td>1321.112101</td>\n",
       "      <td>11371.386189</td>\n",
       "      <td>0.0</td>\n",
       "      <td>0.0</td>\n",
       "      <td>-5.944236</td>\n",
       "      <td>306.785332</td>\n",
       "      <td>32.863205</td>\n",
       "      <td>...</td>\n",
       "      <td>12156.593153</td>\n",
       "      <td>14065.098698</td>\n",
       "      <td>0.0</td>\n",
       "      <td>0.0</td>\n",
       "      <td>0.0</td>\n",
       "      <td>0.000000</td>\n",
       "      <td>0.0</td>\n",
       "      <td>0.0</td>\n",
       "      <td>0.0</td>\n",
       "      <td>0.0</td>\n",
       "    </tr>\n",
       "    <tr>\n",
       "      <th>2</th>\n",
       "      <td>2017-01-05T00:00:00.000Z</td>\n",
       "      <td>0.0</td>\n",
       "      <td>7885.041166</td>\n",
       "      <td>13256.376877</td>\n",
       "      <td>14065.098698</td>\n",
       "      <td>0.0</td>\n",
       "      <td>0.0</td>\n",
       "      <td>-5.896547</td>\n",
       "      <td>333.509191</td>\n",
       "      <td>790.108821</td>\n",
       "      <td>...</td>\n",
       "      <td>1674.568495</td>\n",
       "      <td>0.000000</td>\n",
       "      <td>0.0</td>\n",
       "      <td>0.0</td>\n",
       "      <td>0.0</td>\n",
       "      <td>392.986649</td>\n",
       "      <td>0.0</td>\n",
       "      <td>0.0</td>\n",
       "      <td>0.0</td>\n",
       "      <td>0.0</td>\n",
       "    </tr>\n",
       "    <tr>\n",
       "      <th>3</th>\n",
       "      <td>2017-01-06T00:00:00.000Z</td>\n",
       "      <td>0.0</td>\n",
       "      <td>1138.631549</td>\n",
       "      <td>1732.853881</td>\n",
       "      <td>187.864977</td>\n",
       "      <td>0.0</td>\n",
       "      <td>0.0</td>\n",
       "      <td>-5.542895</td>\n",
       "      <td>0.904645</td>\n",
       "      <td>121.823903</td>\n",
       "      <td>...</td>\n",
       "      <td>0.000000</td>\n",
       "      <td>0.000000</td>\n",
       "      <td>0.0</td>\n",
       "      <td>0.0</td>\n",
       "      <td>0.0</td>\n",
       "      <td>10027.461855</td>\n",
       "      <td>0.0</td>\n",
       "      <td>0.0</td>\n",
       "      <td>0.0</td>\n",
       "      <td>0.0</td>\n",
       "    </tr>\n",
       "    <tr>\n",
       "      <th>4</th>\n",
       "      <td>2017-01-07T00:00:00.000Z</td>\n",
       "      <td>0.0</td>\n",
       "      <td>9493.417606</td>\n",
       "      <td>0.000000</td>\n",
       "      <td>72.649181</td>\n",
       "      <td>0.0</td>\n",
       "      <td>0.0</td>\n",
       "      <td>-6.082018</td>\n",
       "      <td>459.654879</td>\n",
       "      <td>32.893616</td>\n",
       "      <td>...</td>\n",
       "      <td>0.000000</td>\n",
       "      <td>0.000000</td>\n",
       "      <td>0.0</td>\n",
       "      <td>0.0</td>\n",
       "      <td>0.0</td>\n",
       "      <td>0.000000</td>\n",
       "      <td>0.0</td>\n",
       "      <td>0.0</td>\n",
       "      <td>0.0</td>\n",
       "      <td>0.0</td>\n",
       "    </tr>\n",
       "  </tbody>\n",
       "</table>\n",
       "<p>5 rows × 392 columns</p>\n",
       "</div>"
      ],
      "text/plain": [
       "                       Date  AL1_mmbtu    AL2_mmbtu     AL3_mmbtu  \\\n",
       "0  2017-01-03T00:00:00.000Z        0.0  9170.117867      0.000000   \n",
       "1  2017-01-04T00:00:00.000Z        0.0  7960.174206   1321.112101   \n",
       "2  2017-01-05T00:00:00.000Z        0.0  7885.041166  13256.376877   \n",
       "3  2017-01-06T00:00:00.000Z        0.0  1138.631549   1732.853881   \n",
       "4  2017-01-07T00:00:00.000Z        0.0  9493.417606      0.000000   \n",
       "\n",
       "      AL4_mmbtu  AL5_mmbtu  AL6_mmbtu   AL1_MWh     AL2_MWh     AL3_MWh  \\\n",
       "0  12879.446547        0.0        0.0 -5.707080  434.730323   32.710330   \n",
       "1  11371.386189        0.0        0.0 -5.944236  306.785332   32.863205   \n",
       "2  14065.098698        0.0        0.0 -5.896547  333.509191  790.108821   \n",
       "3    187.864977        0.0        0.0 -5.542895    0.904645  121.823903   \n",
       "4     72.649181        0.0        0.0 -6.082018  459.654879   32.893616   \n",
       "\n",
       "          ...           AL3_mmbtu_new_lead1  AL4_mmbtu_new_lead1  \\\n",
       "0         ...                      0.000000         11371.386189   \n",
       "1         ...                  12156.593153         14065.098698   \n",
       "2         ...                   1674.568495             0.000000   \n",
       "3         ...                      0.000000             0.000000   \n",
       "4         ...                      0.000000             0.000000   \n",
       "\n",
       "   AL5_mmbtu_new_lead1  AL6_mmbtu_new_lead1  RB5_mmbtu_new_lead1  \\\n",
       "0                  0.0                  0.0                  0.0   \n",
       "1                  0.0                  0.0                  0.0   \n",
       "2                  0.0                  0.0                  0.0   \n",
       "3                  0.0                  0.0                  0.0   \n",
       "4                  0.0                  0.0                  0.0   \n",
       "\n",
       "   RB6_mmbtu_new_lead1  RB7_mmbtu_new_lead1  RB8_mmbtu_new_lead1  \\\n",
       "0             0.000000                  0.0                  0.0   \n",
       "1             0.000000                  0.0                  0.0   \n",
       "2           392.986649                  0.0                  0.0   \n",
       "3         10027.461855                  0.0                  0.0   \n",
       "4             0.000000                  0.0                  0.0   \n",
       "\n",
       "   HB1_mmbtu_new_lead1  HB2_mmbtu_new_lead1  \n",
       "0                  0.0                  0.0  \n",
       "1                  0.0                  0.0  \n",
       "2                  0.0                  0.0  \n",
       "3                  0.0                  0.0  \n",
       "4                  0.0                  0.0  \n",
       "\n",
       "[5 rows x 392 columns]"
      ]
     },
     "execution_count": 5,
     "metadata": {},
     "output_type": "execute_result"
    }
   ],
   "source": [
    "data.head()"
   ]
  },
  {
   "cell_type": "code",
   "execution_count": 6,
   "metadata": {},
   "outputs": [
    {
     "data": {
      "text/plain": [
       "(1029, 365)"
      ]
     },
     "execution_count": 6,
     "metadata": {},
     "output_type": "execute_result"
    }
   ],
   "source": [
    "numerics = ['int16','int32','int64','float16','float32','float64']\n",
    "numerical_vars = list(data.select_dtypes(include=numerics).columns)\n",
    "data[numerical_vars] = data[numerical_vars].astype(np.int64)\n",
    "data = data[numerical_vars]\n",
    "data.shape"
   ]
  },
  {
   "cell_type": "code",
   "execution_count": 7,
   "metadata": {
    "scrolled": true
   },
   "outputs": [
    {
     "name": "stdout",
     "output_type": "stream",
     "text": [
      "['AL1_mmbtu', 'AL2_mmbtu', 'AL3_mmbtu', 'AL4_mmbtu', 'AL5_mmbtu', 'AL6_mmbtu', 'AL1_MWh', 'AL2_MWh', 'AL3_MWh', 'AL4_MWh', 'AL5_MWh', 'AL6_MWh', 'RB5_mmbtu', 'RB6_mmbtu', 'RB7_mmbtu', 'RB8_mmbtu', 'RB5_MWh', 'RB6_MWh', 'RB7_MWh', 'RB8_MWh', 'HB1_mmbtu', 'HB2_mmbtu', 'HB1_MWh', 'HB2_MWh', 'DAM', 'Bias_SCE_Load', 'Gen_SP_15_Solar_forecasted', 'Gen_SP_15_Wind_forecasted', 'TotCapacity_PlantFacingOutages', 'Curtailed_MW_SCE', 'AL1_mmbtu_new', 'AL2_mmbtu_new', 'AL3_mmbtu_new', 'AL4_mmbtu_new', 'AL5_mmbtu_new', 'AL6_mmbtu_new', 'HB1_mmbtu_new', 'HB2_mmbtu_new', 'RB5_mmbtu_new', 'RB6_mmbtu_new', 'RB7_mmbtu_new', 'RB8_mmbtu_new', 'Consumer_los_angeles_dewpoint_f', 'Consumer_los_angeles_cloudcover_f', 'Consumer_los_angeles_pressure_f', 'Consumer_los_angeles_windspeedKmph_f', 'Consumer_long_beach_dewpoint_f', 'Consumer_long_beach_cloudcover_f', 'Consumer_long_beach_precip_f', 'Consumer_long_beach_pressure_f', 'Consumer_long_beach_windspeedKmph_f', 'Consumer_burbank_dewpoint_f', 'Consumer_burbank_cloudcover_f', 'Consumer_burbank_precip_f', 'Consumer_burbank_pressure_f', 'Consumer_burbank_windspeedKmph_f', 'Gen_baker_cloudcover_f', 'Gen_boron_cloudcover_f', 'Gen_calexico_cloudcover_f', 'Gen_desert_center_cloudcover_f', 'Gen_el_centro_cloudcover_f', 'Gen_hinkley_cloudcover_f', 'Gen_lancaster_cloudcover_f', 'Gen_lemoore_cloudcover_f', 'Gen_paicines_cloudcover_f', 'Gen_rosamond_cloudcover_f', 'Gen_santa_margarita_cloudcover_f', 'Gen_seeley_cloudcover_f', 'Gen_shandon_cloudcover_f', 'Gen_lost_hills_cloudcover_f', 'Gen_alpaugh_cloudcover_f', 'Gen_san_miguel_cloudcover_f', 'Gen_tranquillity_cloudcover_f', 'Gen_bakersfield_cloudcover_f', 'Gen_cantua_creek_cloudcover_f', 'Gen_gustine_cloudcover_f', 'Gen_calipatria_cloudcover_f', 'Gen_nipton_cloudcover_f', 'Gen_huron_cloudcover_f', 'Gen_ducor_cloudcover_f', 'Gen_palmdale_cloudcover_f', 'Gen_hanford_cloudcover_f', 'Gen_mecca_cloudcover_f', 'Gen_mendota_cloudcover_f', 'Gen_mojave_windspeedKmph_f', 'Gen_tehachapi_windspeedKmph_f', 'Consumer_burbank_temp_f', 'Consumer_los_angeles_temp_f', 'Consumer_long_beach_temp_f', 'Gen_butte_precip_f', 'Gen_el_dorado_precip_f', 'Gen_fresno_precip_f', 'Gen_merced_precip_f', 'Gen_placer_precip_f', 'Gen_plumas_precip_f', 'Gen_san_Bernardino_precip_f', 'Gen_shasta_precip_f', 'Gen_tuolumne_precip_f', 'Consumer_los_angeles_precip_f', 'Gen_Precipitation_f', 'Consumer_burbank_tempF_degreedays', 'Consumer_los_angeles_tempF_degreedays', 'Consumer_long_beach_tempF_degreedays', 'Available_Capacity_MW_atSCE', 'Ratio1_Avl_Cap_Sce_load', 'Ratio2_Curtailed_Sce_load', 'Consumer_los_angeles_dewpoint_f_lead1', 'Consumer_los_angeles_dewpoint_f_lead2', 'Consumer_los_angeles_cloudcover_f_lead1', 'Consumer_los_angeles_cloudcover_f_lead2', 'Consumer_los_angeles_precip_f_lead1', 'Consumer_los_angeles_precip_f_lead2', 'Consumer_los_angeles_pressure_f_lead1', 'Consumer_los_angeles_pressure_f_lead2', 'Consumer_los_angeles_windspeedKmph_f_lead1', 'Consumer_los_angeles_windspeedKmph_f_lead2', 'Consumer_long_beach_dewpoint_f_lead1', 'Consumer_long_beach_dewpoint_f_lead2', 'Consumer_long_beach_cloudcover_f_lead1', 'Consumer_long_beach_cloudcover_f_lead2', 'Consumer_long_beach_precip_f_lead1', 'Consumer_long_beach_precip_f_lead2', 'Consumer_long_beach_pressure_f_lead1', 'Consumer_long_beach_pressure_f_lead2', 'Consumer_long_beach_windspeedKmph_f_lead1', 'Consumer_long_beach_windspeedKmph_f_lead2', 'Consumer_burbank_dewpoint_f_lead1', 'Consumer_burbank_dewpoint_f_lead2', 'Consumer_burbank_cloudcover_f_lead1', 'Consumer_burbank_cloudcover_f_lead2', 'Consumer_burbank_precip_f_lead1', 'Consumer_burbank_precip_f_lead2', 'Consumer_burbank_pressure_f_lead1', 'Consumer_burbank_pressure_f_lead2', 'Consumer_burbank_windspeedKmph_f_lead1', 'Consumer_burbank_windspeedKmph_f_lead2', 'Consumer_burbank_temp_f_lead1', 'Consumer_burbank_temp_f_lead2', 'Consumer_los_angeles_temp_f_lead1', 'Consumer_los_angeles_temp_f_lead2', 'Consumer_long_beach_temp_f_lead1', 'Consumer_long_beach_temp_f_lead2', 'Consumer_burbank_temp_actual_lag2', 'Consumer_burbank_dewpoint_actual_lag2', 'Consumer_burbank_rh_actual_lag2', 'Consumer_burbank_windspeed_actual_lag2', 'Consumer_burbank_cloudcover_actual_lag2', 'Consumer_burbank_pressure_actual_lag2', 'Consumer_burbank_precip_actual_lag2', 'Consumer_los_angeles_temp_actual_lag2', 'Consumer_los_angeles_dewpoint_actual_lag2', 'Consumer_los_angeles_rh_actual_lag2', 'Consumer_los_angeles_windspeed_actual_lag2', 'Consumer_los_angeles_cloudcover_actual_lag2', 'Consumer_los_angeles_pressure_actual_lag2', 'Consumer_los_angeles_precip_actual_lag2', 'Consumer_long_beach_temp_actual_lag2', 'Consumer_long_beach_dewpoint_actual_lag2', 'Consumer_long_beach_rh_actual_lag2', 'Consumer_long_beach_windspeed_actual_lag2', 'Consumer_long_beach_cloudcover_actual_lag2', 'Consumer_long_beach_pressure_actual_lag2', 'Consumer_long_beach_precip_actual_lag2', 'Consumer_burbank_tempF_degreedays_lead1', 'Consumer_burbank_tempF_degreedays_lead2', 'Consumer_los_angeles_tempF_degreedays_lead1', 'Consumer_los_angeles_tempF_degreedays_lead2', 'Consumer_long_beach_tempF_degreedays_lead1', 'Consumer_long_beach_tempF_degreedays_lead2', 'Consumer_Temperature_KBUR_actual_degreedays_lag2', 'Consumer_Temperature_KLAX_actual_degreedays_lag2', 'Consumer_Temperature_KLGB_actual_degreedays_lag2', 'Gen_baker_cloudcover_f_lead1', 'Gen_baker_cloudcover_f_lead2', 'Gen_baker_cloudcover_f_lag1', 'Gen_boron_cloudcover_f_lead1', 'Gen_boron_cloudcover_f_lead2', 'Gen_boron_cloudcover_f_lag1', 'Gen_calexico_cloudcover_f_lead1', 'Gen_calexico_cloudcover_f_lead2', 'Gen_calexico_cloudcover_f_lag1', 'Gen_desert_center_cloudcover_f_lead1', 'Gen_desert_center_cloudcover_f_lead2', 'Gen_desert_center_cloudcover_f_lag1', 'Gen_el_centro_cloudcover_f_lead1', 'Gen_el_centro_cloudcover_f_lead2', 'Gen_el_centro_cloudcover_f_lag1', 'Gen_hinkley_cloudcover_f_lead1', 'Gen_hinkley_cloudcover_f_lead2', 'Gen_hinkley_cloudcover_f_lag1', 'Gen_lancaster_cloudcover_f_lead1', 'Gen_lancaster_cloudcover_f_lead2', 'Gen_lancaster_cloudcover_f_lag1', 'Gen_lemoore_cloudcover_f_lead1', 'Gen_lemoore_cloudcover_f_lead2', 'Gen_lemoore_cloudcover_f_lag1', 'Gen_paicines_cloudcover_f_lead1', 'Gen_paicines_cloudcover_f_lead2', 'Gen_paicines_cloudcover_f_lag1', 'Gen_rosamond_cloudcover_f_lead1', 'Gen_rosamond_cloudcover_f_lead2', 'Gen_rosamond_cloudcover_f_lag1', 'Gen_santa_margarita_cloudcover_f_lead1', 'Gen_santa_margarita_cloudcover_f_lead2', 'Gen_santa_margarita_cloudcover_f_lag1', 'Gen_seeley_cloudcover_f_lead1', 'Gen_seeley_cloudcover_f_lead2', 'Gen_seeley_cloudcover_f_lag1', 'Gen_shandon_cloudcover_f_lead1', 'Gen_shandon_cloudcover_f_lead2', 'Gen_shandon_cloudcover_f_lag1', 'Gen_lost_hills_cloudcover_f_lead1', 'Gen_lost_hills_cloudcover_f_lead2', 'Gen_lost_hills_cloudcover_f_lag1', 'Gen_alpaugh_cloudcover_f_lead1', 'Gen_alpaugh_cloudcover_f_lead2', 'Gen_alpaugh_cloudcover_f_lag1', 'Gen_san_miguel_cloudcover_f_lead1', 'Gen_san_miguel_cloudcover_f_lead2', 'Gen_san_miguel_cloudcover_f_lag1', 'Gen_tranquillity_cloudcover_f_lead1', 'Gen_tranquillity_cloudcover_f_lead2', 'Gen_tranquillity_cloudcover_f_lag1', 'Gen_bakersfield_cloudcover_f_lead1', 'Gen_bakersfield_cloudcover_f_lead2', 'Gen_bakersfield_cloudcover_f_lag1', 'Gen_cantua_creek_cloudcover_f_lead1', 'Gen_cantua_creek_cloudcover_f_lead2', 'Gen_cantua_creek_cloudcover_f_lag1', 'Gen_gustine_cloudcover_f_lead1', 'Gen_gustine_cloudcover_f_lead2', 'Gen_gustine_cloudcover_f_lag1', 'Gen_calipatria_cloudcover_f_lead1', 'Gen_calipatria_cloudcover_f_lead2', 'Gen_calipatria_cloudcover_f_lag1', 'Gen_nipton_cloudcover_f_lead1', 'Gen_nipton_cloudcover_f_lead2', 'Gen_nipton_cloudcover_f_lag1', 'Gen_huron_cloudcover_f_lead1', 'Gen_huron_cloudcover_f_lead2', 'Gen_huron_cloudcover_f_lag1', 'Gen_ducor_cloudcover_f_lead1', 'Gen_ducor_cloudcover_f_lead2', 'Gen_ducor_cloudcover_f_lag1', 'Gen_palmdale_cloudcover_f_lead1', 'Gen_palmdale_cloudcover_f_lead2', 'Gen_palmdale_cloudcover_f_lag1', 'Gen_hanford_cloudcover_f_lead1', 'Gen_hanford_cloudcover_f_lead2', 'Gen_hanford_cloudcover_f_lag1', 'Gen_mecca_cloudcover_f_lead1', 'Gen_mecca_cloudcover_f_lead2', 'Gen_mecca_cloudcover_f_lag1', 'Gen_mendota_cloudcover_f_lead1', 'Gen_mendota_cloudcover_f_lead2', 'Gen_mendota_cloudcover_f_lag1', 'Gen_mojave_windspeedKmph_f_lead1', 'Gen_mojave_windspeedKmph_f_lead2', 'Gen_mojave_windspeedKmph_f_lag1', 'Gen_tehachapi_windspeedKmph_f_lead1', 'Gen_tehachapi_windspeedKmph_f_lead2', 'Gen_tehachapi_windspeedKmph_f_lag1', 'Gen_SP_15_Solar_actual_lag2', 'Gen_SP_15_Wind_actual_lag2', 'SCE_Load_SP_15_lag2', 'DAM_lead1', 'DAM_lead2', 'Gen_SP_15_Solar_forecasted_lead1', 'Gen_SP_15_Solar_forecasted_lead2', 'Gen_SP_15_Wind_forecasted_lead1', 'Gen_SP_15_Wind_forecasted_lead2', 'AL1_mmbtu_new_lag2', 'AL2_mmbtu_new_lag2', 'AL3_mmbtu_new_lag2', 'AL4_mmbtu_new_lag2', 'AL5_mmbtu_new_lag2', 'AL6_mmbtu_new_lag2', 'RB5_mmbtu_new_lag2', 'RB6_mmbtu_new_lag2', 'RB7_mmbtu_new_lag2', 'RB8_mmbtu_new_lag2', 'HB1_mmbtu_new_lag2', 'HB2_mmbtu_new_lag2', 'AL1_mmbtu_lag2', 'AL2_mmbtu_lag2', 'AL3_mmbtu_lag2', 'AL4_mmbtu_lag2', 'AL5_mmbtu_lag2', 'AL6_mmbtu_lag2', 'RB5_mmbtu_lag2', 'RB6_mmbtu_lag2', 'RB7_mmbtu_lag2', 'RB8_mmbtu_lag2', 'HB1_mmbtu_lag2', 'HB2_mmbtu_lag2', 'Gen_butte_precip_f_lead1', 'Gen_butte_precip_f_lead2', 'Gen_butte_precip_f_lag1', 'Gen_el_dorado_precip_f_lead1', 'Gen_el_dorado_precip_f_lead2', 'Gen_el_dorado_precip_f_lag1', 'Gen_fresno_precip_f_lead1', 'Gen_fresno_precip_f_lead2', 'Gen_fresno_precip_f_lag1', 'Gen_merced_precip_f_lead1', 'Gen_merced_precip_f_lead2', 'Gen_merced_precip_f_lag1', 'Gen_placer_precip_f_lead1', 'Gen_placer_precip_f_lead2', 'Gen_placer_precip_f_lag1', 'Gen_plumas_precip_f_lead1', 'Gen_plumas_precip_f_lead2', 'Gen_plumas_precip_f_lag1', 'Gen_san_Bernardino_precip_f_lead1', 'Gen_san_Bernardino_precip_f_lead2', 'Gen_san_Bernardino_precip_f_lag1', 'Gen_shasta_precip_f_lead1', 'Gen_shasta_precip_f_lead2', 'Gen_shasta_precip_f_lag1', 'Gen_tuolumne_precip_f_lead1', 'Gen_tuolumne_precip_f_lead2', 'Gen_tuolumne_precip_f_lag1', 'Gen_Precipitation_f_lead1', 'Gen_Precipitation_f_lead2', 'Gen_Precipitation_f_lag1', 'season_flag', 'Month_Flag', 'Year_Flag', 'Week_of_year_Flag', 'ER2_AL1', 'ER2_AL2', 'ER2_AL3', 'ER2_AL4', 'ER2_AL5', 'ER2_AL6', 'ER2_HB1', 'ER2_HB2', 'ER2_RB5', 'ER2_RB6', 'ER2_RB7', 'ER2_RB8', 'ER1_AL1', 'ER1_AL2', 'ER1_AL3', 'ER1_AL4', 'ER1_AL5', 'ER1_AL6', 'ER1_HB1', 'ER1_HB2', 'ER1_RB5', 'ER1_RB6', 'ER1_RB7', 'ER1_RB8', 'AL1_mmbtu_new_lead1', 'AL2_mmbtu_new_lead1', 'AL3_mmbtu_new_lead1', 'AL4_mmbtu_new_lead1', 'AL5_mmbtu_new_lead1', 'AL6_mmbtu_new_lead1', 'RB5_mmbtu_new_lead1', 'RB6_mmbtu_new_lead1', 'RB7_mmbtu_new_lead1', 'RB8_mmbtu_new_lead1', 'HB1_mmbtu_new_lead1', 'HB2_mmbtu_new_lead1']\n"
     ]
    }
   ],
   "source": [
    "print(list(data.columns))"
   ]
  },
  {
   "cell_type": "code",
   "execution_count": 8,
   "metadata": {
    "scrolled": true
   },
   "outputs": [
    {
     "name": "stdout",
     "output_type": "stream",
     "text": [
      "AL1_mmbtu                         int64\n",
      "AL2_mmbtu                         int64\n",
      "AL3_mmbtu                         int64\n",
      "AL4_mmbtu                         int64\n",
      "AL5_mmbtu                         int64\n",
      "AL6_mmbtu                         int64\n",
      "AL1_MWh                           int64\n",
      "AL2_MWh                           int64\n",
      "AL3_MWh                           int64\n",
      "AL4_MWh                           int64\n",
      "AL5_MWh                           int64\n",
      "AL6_MWh                           int64\n",
      "RB5_mmbtu                         int64\n",
      "RB6_mmbtu                         int64\n",
      "RB7_mmbtu                         int64\n",
      "RB8_mmbtu                         int64\n",
      "RB5_MWh                           int64\n",
      "RB6_MWh                           int64\n",
      "RB7_MWh                           int64\n",
      "RB8_MWh                           int64\n",
      "HB1_mmbtu                         int64\n",
      "HB2_mmbtu                         int64\n",
      "HB1_MWh                           int64\n",
      "HB2_MWh                           int64\n",
      "DAM                               int64\n",
      "Bias_SCE_Load                     int64\n",
      "Gen_SP_15_Solar_forecasted        int64\n",
      "Gen_SP_15_Wind_forecasted         int64\n",
      "TotCapacity_PlantFacingOutages    int64\n",
      "Curtailed_MW_SCE                  int64\n",
      "                                  ...  \n",
      "ER2_HB1                           int64\n",
      "ER2_HB2                           int64\n",
      "ER2_RB5                           int64\n",
      "ER2_RB6                           int64\n",
      "ER2_RB7                           int64\n",
      "ER2_RB8                           int64\n",
      "ER1_AL1                           int64\n",
      "ER1_AL2                           int64\n",
      "ER1_AL3                           int64\n",
      "ER1_AL4                           int64\n",
      "ER1_AL5                           int64\n",
      "ER1_AL6                           int64\n",
      "ER1_HB1                           int64\n",
      "ER1_HB2                           int64\n",
      "ER1_RB5                           int64\n",
      "ER1_RB6                           int64\n",
      "ER1_RB7                           int64\n",
      "ER1_RB8                           int64\n",
      "AL1_mmbtu_new_lead1               int64\n",
      "AL2_mmbtu_new_lead1               int64\n",
      "AL3_mmbtu_new_lead1               int64\n",
      "AL4_mmbtu_new_lead1               int64\n",
      "AL5_mmbtu_new_lead1               int64\n",
      "AL6_mmbtu_new_lead1               int64\n",
      "RB5_mmbtu_new_lead1               int64\n",
      "RB6_mmbtu_new_lead1               int64\n",
      "RB7_mmbtu_new_lead1               int64\n",
      "RB8_mmbtu_new_lead1               int64\n",
      "HB1_mmbtu_new_lead1               int64\n",
      "HB2_mmbtu_new_lead1               int64\n",
      "Length: 365, dtype: object\n"
     ]
    }
   ],
   "source": [
    "print(data.dtypes)"
   ]
  },
  {
   "cell_type": "code",
   "execution_count": 9,
   "metadata": {},
   "outputs": [
    {
     "name": "stdout",
     "output_type": "stream",
     "text": [
      "(720, 364)\n",
      "(309, 364)\n"
     ]
    }
   ],
   "source": [
    "# Separating the data into training and tests set\n",
    "\n",
    "X_train, X_test, y_train, y_test = train_test_split(data.drop(labels=['AL1_mmbtu_new'], axis=1),\n",
    "                                                    data['AL1_mmbtu_new'],test_size=0.3,random_state=random_State)\n",
    "print(X_train.shape)\n",
    "print(X_test.shape)"
   ]
  },
  {
   "cell_type": "code",
   "execution_count": 10,
   "metadata": {},
   "outputs": [
    {
     "name": "stderr",
     "output_type": "stream",
     "text": [
      "C:\\Anaconda3\\lib\\site-packages\\sklearn\\preprocessing\\data.py:625: DataConversionWarning: Data with input dtype int64 were all converted to float64 by StandardScaler.\n",
      "  return self.partial_fit(X, y)\n"
     ]
    },
    {
     "data": {
      "text/plain": [
       "StandardScaler(copy=True, with_mean=True, with_std=True)"
      ]
     },
     "execution_count": 10,
     "metadata": {},
     "output_type": "execute_result"
    }
   ],
   "source": [
    "# Scaling the data, as linear models benefits from feature scaling\n",
    "\n",
    "scaler = StandardScaler()\n",
    "scaler.fit(X_train.fillna(0))"
   ]
  },
  {
   "cell_type": "code",
   "execution_count": 11,
   "metadata": {
    "scrolled": false
   },
   "outputs": [
    {
     "name": "stderr",
     "output_type": "stream",
     "text": [
      "C:\\Anaconda3\\lib\\site-packages\\ipykernel_launcher.py:4: DataConversionWarning: Data with input dtype int64 were all converted to float64 by StandardScaler.\n",
      "  after removing the cwd from sys.path.\n"
     ]
    },
    {
     "data": {
      "text/plain": [
       "-44420469.424627684"
      ]
     },
     "execution_count": 11,
     "metadata": {},
     "output_type": "execute_result"
    }
   ],
   "source": [
    "# Lasso Lars\n",
    "\n",
    "X, y = make_regression(n_samples=200, noise=4.0, random_state=0)\n",
    "reg = LarsCV(cv=10, n_jobs=3, max_iter=2000, normalize=False).fit(scaler.transform(X_train.fillna(0)), y_train)\n",
    "reg.score(X_train.fillna(0), y_train)"
   ]
  },
  {
   "cell_type": "code",
   "execution_count": 12,
   "metadata": {
    "scrolled": true
   },
   "outputs": [
    {
     "data": {
      "text/plain": [
       "18.37004769510017"
      ]
     },
     "execution_count": 12,
     "metadata": {},
     "output_type": "execute_result"
    }
   ],
   "source": [
    "reg.alpha_"
   ]
  },
  {
   "cell_type": "code",
   "execution_count": 13,
   "metadata": {
    "scrolled": true
   },
   "outputs": [],
   "source": [
    "y_pred = reg.predict(X_test)"
   ]
  },
  {
   "cell_type": "code",
   "execution_count": 14,
   "metadata": {},
   "outputs": [],
   "source": [
    "# function to calculate mean absolute percentage error\n",
    "def mean_absolute_percentage_error(y_true, y_pred):\n",
    "    y_true, y_pred = np.array(y_true), np.array(y_pred)\n",
    "    return np.mean(np.abs((y_true - y_pred) / y_true)) * 100\n"
   ]
  },
  {
   "cell_type": "code",
   "execution_count": 16,
   "metadata": {},
   "outputs": [],
   "source": [
    "mse_test = mean_squared_error(y_test, y_pred)\n",
    "rmse_test = np.sqrt(mean_squared_error(y_test,y_pred))\n",
    "var_test = explained_variance_score(y_test, y_pred)\n",
    "mae_test = mean_absolute_error(y_test, y_pred)\n",
    "r2_test = r2_score(y_test, y_pred)\n",
    "# r2adj_test = 1 - (((1 - r2_test) * (y_pred.__len__() - 1))/(y_pred.__len__() - (len(cols)-1) - 1))\n",
    "# mape_test = mean_absolute_percentage_error(y_test,y_pred)"
   ]
  },
  {
   "cell_type": "code",
   "execution_count": 17,
   "metadata": {},
   "outputs": [
    {
     "name": "stdout",
     "output_type": "stream",
     "text": [
      "RMSE ====================================================== 32122055.201371968\n",
      "VARIANCE SCORE ============================================ -40269597.48780532\n",
      "MEAN ABSOLUTE ERROR ======================================= 11496534.277618876\n",
      "MSE ======================================================= 1031826430359988.0\n",
      "R2 ======================================================= -45810042.8543066\n",
      "\n",
      "\n"
     ]
    }
   ],
   "source": [
    "print(\"RMSE ======================================================\",rmse_test)\n",
    "print(\"VARIANCE SCORE ============================================\",var_test)\n",
    "print(\"MEAN ABSOLUTE ERROR =======================================\",mae_test)\n",
    "print(\"MSE =======================================================\",mse_test)\n",
    "print(\"R2 =======================================================\",r2_test)\n",
    "print(\"\\n\")"
   ]
  },
  {
   "cell_type": "code",
   "execution_count": null,
   "metadata": {},
   "outputs": [],
   "source": []
  }
 ],
 "metadata": {
  "kernelspec": {
   "display_name": "Python 3",
   "language": "python",
   "name": "python3"
  },
  "language_info": {
   "codemirror_mode": {
    "name": "ipython",
    "version": 3
   },
   "file_extension": ".py",
   "mimetype": "text/x-python",
   "name": "python",
   "nbconvert_exporter": "python",
   "pygments_lexer": "ipython3",
   "version": "3.7.1"
  }
 },
 "nbformat": 4,
 "nbformat_minor": 2
}
