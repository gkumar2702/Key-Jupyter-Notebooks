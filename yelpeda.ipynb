{
 "cells": [
  {
   "cell_type": "markdown",
   "metadata": {},
   "source": [
    " <p style = \"font-size: 35px;font-weight: bold;text-align:center;color:#800000\"> Yelp API Reviews : Exploratory Data Analysis </p>\n",
    "\n",
    "<div>\n",
    "    <img src = \"http://upload.wikimedia.org/wikipedia/en/0/0c/Mu_Sigma_Logo.jpg\" align=\"left\" style=\"height:100px;margin-right:100px\">\n",
    "</div>\n",
    "<div>\n",
    "    <img src = \"https://upload.wikimedia.org/wikipedia/commons/2/26/Ecolab.svg\" align=\"right\" style=\"height:40px;margin-left:100px; margin-top:25px\">\n",
    "</div>"
   ]
  },
  {
   "cell_type": "markdown",
   "metadata": {},
   "source": [
    "<p style=\"font-size:100%;text-align:left;font-weight:bold\"> Created by  : Mu Sigma team for Ecolab\n",
    "<p style=\"font-size:100%;text-align:left;font-weight:bold;\"> Last edited : 06/01/2021"
   ]
  },
  {
   "cell_type": "markdown",
   "metadata": {},
   "source": [
    " <p style = \"font-size: 20px;font-weight: bold;text-align: left;color:#000000\"> Description:   </p>\n",
    " \n",
    "This notebook is used to perform exploratory data analysis for reviews from Yelp API.<br>\n",
    "\n",
    "Data Used: <br>\n",
    "* For <b>Sentiment Information</b>, across different brands, we have used different review sample pulled from <b>Yelp API</b> and run a sentiment analysis from a pre trained model using Flair package"
   ]
  },
  {
   "cell_type": "code",
   "execution_count": 1,
   "metadata": {},
   "outputs": [
    {
     "data": {
      "text/html": [
       "<script>\n",
       "code_show=true; \n",
       "function code_toggle() {\n",
       " if (code_show){\n",
       " $('div.input').hide();\n",
       " } else {\n",
       " $('div.input').show();\n",
       " }\n",
       " code_show = !code_show\n",
       "} \n",
       "$( document ).ready(code_toggle);\n",
       "</script>\n",
       "<form action=\"javascript:code_toggle()\"><input type=\"submit\" value=\"Click here to toggle on/off the raw code.\"></form>"
      ],
      "text/plain": [
       "<IPython.core.display.HTML object>"
      ]
     },
     "execution_count": 1,
     "metadata": {},
     "output_type": "execute_result"
    }
   ],
   "source": [
    "from IPython.display import HTML\n",
    "\n",
    "HTML('''<script>\n",
    "code_show=true; \n",
    "function code_toggle() {\n",
    " if (code_show){\n",
    " $('div.input').hide();\n",
    " } else {\n",
    " $('div.input').show();\n",
    " }\n",
    " code_show = !code_show\n",
    "} \n",
    "$( document ).ready(code_toggle);\n",
    "</script>\n",
    "<form action=\"javascript:code_toggle()\"><input type=\"submit\" value=\"Click here to toggle on/off the raw code.\"></form>''')"
   ]
  },
  {
   "cell_type": "code",
   "execution_count": 2,
   "metadata": {},
   "outputs": [],
   "source": [
    "import pandas as pd\n",
    "import numpy as np\n",
    "import os\n",
    "import warnings\n",
    "import itertools\n",
    "import datetime\n",
    "from collections import Counter\n",
    "import matplotlib.pyplot as plt\n",
    "from scipy.stats import spearmanr\n",
    "from scipy.stats.stats import pearsonr\n",
    "from scipy import stats\n",
    "import matplotlib\n",
    "import seaborn as sns\n",
    "import pytz\n",
    "import pyodbc\n",
    "utc=pytz.UTC\n",
    "warnings.filterwarnings(\"ignore\")\n",
    "\n",
    "pd.set_option('display.max_rows', 1000)\n",
    "pd.set_option('display.max_columns', 1000)\n",
    "pd.set_option('display.width', 2000)\n",
    "pd.options.display.float_format = '{:.4f}'.format"
   ]
  },
  {
   "cell_type": "code",
   "execution_count": 9,
   "metadata": {},
   "outputs": [],
   "source": [
    "########################################################## Reviews Data #################################################################\n",
    "#########################################################################################################################################\n",
    "\n",
    "# Reading reviews data\n",
    "df_panera  = pd.read_csv('/User/yelpapi/Sentiment/Panera.csv')\n",
    "df_panera = df_panera.loc[:, ~df_panera.columns.str.contains('^Unnamed')]\n",
    "df_panera['Brand'] = 'Panera'\n",
    "\n",
    "df_ihop  = pd.read_csv('/User/yelpapi/Sentiment/Ihop.csv')\n",
    "df_ihop = df_ihop.loc[:, ~df_ihop.columns.str.contains('^Unnamed')]\n",
    "df_ihop['Brand'] = 'IHOP'\n",
    "\n",
    "df_buffalow = pd.read_csv('/User/yelpapi/Sentiment/Buffalo_Wild_Wings.csv')\n",
    "df_buffalow = df_buffalow.loc[:, ~df_buffalow.columns.str.contains('^Unnamed')]\n",
    "df_buffalow['Brand'] = 'Buffalo Wild Wings'\n",
    "\n",
    "df_noodles = pd.read_csv('/User/yelpapi/Sentiment/Noodles.csv')\n",
    "df_noodles = df_noodles.loc[:, ~df_noodles.columns.str.contains('^Unnamed')]\n",
    "df_noodles['Brand'] = 'Noodles & Co.'\n",
    "\n",
    "df_benihana = pd.read_csv('/User/yelpapi/Sentiment/Benihana.csv')\n",
    "df_benihana = df_benihana.loc[:, ~df_benihana.columns.str.contains('^Unnamed')]\n",
    "df_benihana['Brand'] = 'Benihana National Corp'\n",
    "\n",
    "df_ontheboard = pd.read_csv('/User/yelpapi/Sentiment/On_the_border.csv')\n",
    "df_ontheboard = df_ontheboard.loc[:, ~df_ontheboard.columns.str.contains('^Unnamed')]\n",
    "df_ontheboard['Brand'] = 'On the Border'\n",
    "\n",
    "df_applebees = pd.read_csv('/User/yelpapi/Sentiment/Applebee.csv')\n",
    "df_applebees = df_applebees.loc[:, ~df_applebees.columns.str.contains('^Unnamed')]\n",
    "df_applebees['Brand'] = \"Applebee's\"\n",
    "\n",
    "df_friendlys = pd.read_csv('/User/yelpapi/Sentiment/Friendlys.csv')\n",
    "df_friendlys = df_friendlys.loc[:, ~df_friendlys.columns.str.contains('^Unnamed')]\n",
    "df_friendlys['Brand'] = \"Friendly's\"\n",
    "\n",
    "df_margaritaville = pd.read_csv('/User/yelpapi/Sentiment/Margaritaville.csv')\n",
    "df_margaritaville = df_margaritaville.loc[:, ~df_margaritaville.columns.str.contains('^Unnamed')]\n",
    "df_margaritaville['Brand'] = 'Margaritaville'\n",
    "\n",
    "df_rubytuesday = pd.read_csv('/User/yelpapi/Sentiment/Ruby_Tuesday.csv')\n",
    "df_rubytuesday = df_rubytuesday.loc[:, ~df_rubytuesday.columns.str.contains('^Unnamed')]\n",
    "df_rubytuesday['Brand'] = 'Ruby Tuesday Inc.'\n",
    "\n",
    "df_wingstop = pd.read_csv('/User/yelpapi/Sentiment/WingStop.csv')\n",
    "df_wingstop = df_wingstop.loc[:, ~df_wingstop.columns.str.contains('^Unnamed')]\n",
    "df_wingstop['Brand'] = 'WingStop'\n",
    "\n",
    "df_modmarket = pd.read_csv('/User/yelpapi/Sentiment/Modern_Market.csv')\n",
    "df_modmarket = df_modmarket.loc[:, ~df_modmarket.columns.str.contains('^Unnamed')]\n",
    "df_modmarket['Brand'] = 'Modern Market'\n",
    "\n",
    "df_truefood = pd.read_csv('/User/yelpapi/Sentiment/True_Food_Kitchen.csv')\n",
    "df_truefood = df_truefood.loc[:, ~df_truefood.columns.str.contains('^Unnamed')]\n",
    "df_truefood['Brand'] = 'True Food Kitchen'\n",
    "\n",
    "df_txroadhouse = pd.read_csv('/User/yelpapi/Sentiment/Texas_Roadhouse.csv')\n",
    "df_txroadhouse = df_txroadhouse.loc[:, ~df_txroadhouse.columns.str.contains('^Unnamed')]\n",
    "df_txroadhouse['Brand'] = 'Texas Roadhouse'\n",
    "\n",
    "df_famousdave = pd.read_csv('/User/yelpapi/Sentiment/Famous_Dave.csv')\n",
    "df_famousdave = df_famousdave.loc[:, ~df_famousdave.columns.str.contains('^Unnamed')]\n",
    "df_famousdave['Brand'] = \"Famous Dave's of America,  Inc.\"\n",
    "\n",
    "df_zupas = pd.read_csv('/User/yelpapi/Sentiment/Cafe_Zupas.csv')\n",
    "df_zupas = df_zupas.loc[:, ~df_zupas.columns.str.contains('^Unnamed')]\n",
    "df_zupas['Brand'] = 'Cafe Zupas'\n",
    "\n",
    "# df_fourcorners = pd.read_csv('./csv/Four_Corners.csv')\n",
    "# df_fourcorners = df_fourcorners.loc[:, ~df_fourcorners.columns.str.contains('^Unnamed')]\n",
    "# df_fourcorners['Brand'] = 'Four Corners Tavern Group'\n",
    "\n",
    "df_charleys = pd.read_csv('/User/yelpapi/Sentiment/O_Charleys.csv')\n",
    "df_charleys = df_charleys.loc[:, ~df_charleys.columns.str.contains('^Unnamed')]\n",
    "df_charleys['Brand'] = \"O'Charley's, Inc.\"\n",
    "\n",
    "df_twinpeaks = pd.read_csv('/User/yelpapi/Sentiment/Twin_Peaks.csv')\n",
    "df_twinpeaks = df_twinpeaks.loc[:, ~df_twinpeaks.columns.str.contains('^Unnamed')]\n",
    "df_twinpeaks['Brand'] = 'Twin Peaks'\n",
    "\n",
    "df_woodranch = pd.read_csv('/User/yelpapi/Sentiment/Wood_Ranch.csv')\n",
    "df_woodranch = df_woodranch.loc[:, ~df_woodranch.columns.str.contains('^Unnamed')]\n",
    "df_woodranch['Brand'] = 'Wood Ranch'\n",
    "\n",
    "df_review = df_panera.append([df_ihop, df_buffalow, df_noodles,\n",
    "                              df_benihana, df_ontheboard, df_applebees, df_friendlys,\n",
    "                              df_margaritaville, df_rubytuesday, df_wingstop, df_modmarket,\n",
    "                              df_truefood, df_txroadhouse, df_famousdave, df_zupas, df_charleys,\n",
    "                              df_twinpeaks, df_woodranch])\n",
    "\n",
    "df_review = df_review[df_review['date'].notnull()]\n",
    "\n",
    "# Getting Month-Year from date\n",
    "df_review['Date'] = pd.to_datetime(df_review['date'], errors='coerce')\n",
    "df_review['Date'] = df_review['Date'].dt.date\n",
    "df_review['month_year'] = df_review['Date'].apply(lambda x: x.strftime('%B-%Y'))\n",
    "\n",
    "# Flags to be used in aggregation\n",
    "df_review['Negative_flag'] = np.where(df_review['Flair_Score'] < 0,1,0)\n",
    "df_review['Positive_flag'] = np.where(df_review['Flair_Score'] > 0,1,0)\n",
    "\n",
    "df_grouped_review = df_review.groupby(['month_year', 'Brand'], as_index=False).agg({'Flair_Score' : 'mean',\n",
    "                                                                           'Positive_flag' : 'sum',\n",
    "                                                                           'Negative_flag' : 'sum',\n",
    "                                                                           'rating' : 'mean',\n",
    "                                                                           'text' : 'count'})\n",
    "df_grouped_review.rename({'text' : 'No_of_Reviews',\n",
    "                          'rating' : 'Rating',\n",
    "                          'Positive_flag': 'Positive_Reviews',\n",
    "                          'Negative_flag': 'Negative_Reviews'}, axis=1, inplace=True)\n",
    "\n",
    "# Calculating KPIs\n",
    "df_grouped_review['Positive_Review_Percent'] = (df_grouped_review['Positive_Reviews']/df_grouped_review['No_of_Reviews'])*100\n",
    "df_grouped_review['Negative_Review_Percent'] = (df_grouped_review['Negative_Reviews']/df_grouped_review['No_of_Reviews'])*100"
   ]
  },
  {
   "cell_type": "code",
   "execution_count": 10,
   "metadata": {},
   "outputs": [
    {
     "name": "stdout",
     "output_type": "stream",
     "text": [
      "19\n",
      "[\"O'Charley's, Inc.\" 'Panera' 'IHOP' 'Noodles & Co.' 'Texas Roadhouse'\n",
      " \"Applebee's\" 'Buffalo Wild Wings' 'On the Border' 'WingStop' \"Friendly's\"\n",
      " 'Ruby Tuesday Inc.' 'Twin Peaks' 'Cafe Zupas'\n",
      " \"Famous Dave's of America,  Inc.\" 'Margaritaville' 'Modern Market'\n",
      " 'Wood Ranch' 'True Food Kitchen' 'Benihana National Corp']\n"
     ]
    }
   ],
   "source": [
    "print(df_grouped_review.Brand.nunique())\n",
    "print(df_grouped_review.Brand.unique())"
   ]
  },
  {
   "cell_type": "markdown",
   "metadata": {},
   "source": [
    "## Timeline for each brand - a table with min date , max date and No of Reviews"
   ]
  },
  {
   "cell_type": "code",
   "execution_count": 41,
   "metadata": {},
   "outputs": [
    {
     "data": {
      "text/html": [
       "<div>\n",
       "<style scoped>\n",
       "    .dataframe tbody tr th:only-of-type {\n",
       "        vertical-align: middle;\n",
       "    }\n",
       "\n",
       "    .dataframe tbody tr th {\n",
       "        vertical-align: top;\n",
       "    }\n",
       "\n",
       "    .dataframe thead th {\n",
       "        text-align: right;\n",
       "    }\n",
       "</style>\n",
       "<table border=\"1\" class=\"dataframe\">\n",
       "  <thead>\n",
       "    <tr style=\"text-align: right;\">\n",
       "      <th></th>\n",
       "      <th>Brand_</th>\n",
       "      <th>Date_min</th>\n",
       "      <th>Date_max</th>\n",
       "      <th>No_of_Reviews</th>\n",
       "    </tr>\n",
       "  </thead>\n",
       "  <tbody>\n",
       "    <tr>\n",
       "      <th>0</th>\n",
       "      <td>Applebee's</td>\n",
       "      <td>2005-07-06</td>\n",
       "      <td>2021-05-26</td>\n",
       "      <td>93291</td>\n",
       "    </tr>\n",
       "    <tr>\n",
       "      <th>1</th>\n",
       "      <td>Benihana National Corp</td>\n",
       "      <td>2019-08-19</td>\n",
       "      <td>2021-05-20</td>\n",
       "      <td>200</td>\n",
       "    </tr>\n",
       "    <tr>\n",
       "      <th>2</th>\n",
       "      <td>Buffalo Wild Wings</td>\n",
       "      <td>2006-06-21</td>\n",
       "      <td>2021-05-24</td>\n",
       "      <td>33921</td>\n",
       "    </tr>\n",
       "    <tr>\n",
       "      <th>3</th>\n",
       "      <td>Cafe Zupas</td>\n",
       "      <td>2008-02-20</td>\n",
       "      <td>2021-05-20</td>\n",
       "      <td>6638</td>\n",
       "    </tr>\n",
       "    <tr>\n",
       "      <th>4</th>\n",
       "      <td>Famous Dave's of America,  Inc.</td>\n",
       "      <td>2008-02-20</td>\n",
       "      <td>2021-05-20</td>\n",
       "      <td>6638</td>\n",
       "    </tr>\n",
       "    <tr>\n",
       "      <th>5</th>\n",
       "      <td>Friendly's</td>\n",
       "      <td>2006-03-10</td>\n",
       "      <td>2021-05-21</td>\n",
       "      <td>5664</td>\n",
       "    </tr>\n",
       "    <tr>\n",
       "      <th>6</th>\n",
       "      <td>IHOP</td>\n",
       "      <td>2005-06-12</td>\n",
       "      <td>2021-05-25</td>\n",
       "      <td>111364</td>\n",
       "    </tr>\n",
       "    <tr>\n",
       "      <th>7</th>\n",
       "      <td>Margaritaville</td>\n",
       "      <td>2010-10-06</td>\n",
       "      <td>2021-05-20</td>\n",
       "      <td>3922</td>\n",
       "    </tr>\n",
       "    <tr>\n",
       "      <th>8</th>\n",
       "      <td>Modern Market</td>\n",
       "      <td>2013-07-29</td>\n",
       "      <td>2021-05-20</td>\n",
       "      <td>4331</td>\n",
       "    </tr>\n",
       "    <tr>\n",
       "      <th>9</th>\n",
       "      <td>Noodles &amp; Co.</td>\n",
       "      <td>2005-05-19</td>\n",
       "      <td>2021-05-20</td>\n",
       "      <td>23293</td>\n",
       "    </tr>\n",
       "    <tr>\n",
       "      <th>10</th>\n",
       "      <td>O'Charley's, Inc.</td>\n",
       "      <td>2005-04-05</td>\n",
       "      <td>2021-05-23</td>\n",
       "      <td>9285</td>\n",
       "    </tr>\n",
       "    <tr>\n",
       "      <th>11</th>\n",
       "      <td>On the Border</td>\n",
       "      <td>2005-09-04</td>\n",
       "      <td>2021-05-23</td>\n",
       "      <td>16408</td>\n",
       "    </tr>\n",
       "    <tr>\n",
       "      <th>12</th>\n",
       "      <td>Panera</td>\n",
       "      <td>2005-04-17</td>\n",
       "      <td>2021-05-23</td>\n",
       "      <td>127290</td>\n",
       "    </tr>\n",
       "    <tr>\n",
       "      <th>13</th>\n",
       "      <td>Ruby Tuesday Inc.</td>\n",
       "      <td>2005-07-08</td>\n",
       "      <td>2021-05-24</td>\n",
       "      <td>17668</td>\n",
       "    </tr>\n",
       "    <tr>\n",
       "      <th>14</th>\n",
       "      <td>Texas Roadhouse</td>\n",
       "      <td>2006-01-04</td>\n",
       "      <td>2021-05-25</td>\n",
       "      <td>56816</td>\n",
       "    </tr>\n",
       "    <tr>\n",
       "      <th>15</th>\n",
       "      <td>True Food Kitchen</td>\n",
       "      <td>2018-07-08</td>\n",
       "      <td>2021-05-24</td>\n",
       "      <td>5432</td>\n",
       "    </tr>\n",
       "    <tr>\n",
       "      <th>16</th>\n",
       "      <td>Twin Peaks</td>\n",
       "      <td>2006-09-05</td>\n",
       "      <td>2021-05-24</td>\n",
       "      <td>11977</td>\n",
       "    </tr>\n",
       "    <tr>\n",
       "      <th>17</th>\n",
       "      <td>WingStop</td>\n",
       "      <td>2005-09-04</td>\n",
       "      <td>2021-05-23</td>\n",
       "      <td>16408</td>\n",
       "    </tr>\n",
       "    <tr>\n",
       "      <th>18</th>\n",
       "      <td>Wood Ranch</td>\n",
       "      <td>2016-05-23</td>\n",
       "      <td>2021-05-24</td>\n",
       "      <td>3000</td>\n",
       "    </tr>\n",
       "  </tbody>\n",
       "</table>\n",
       "</div>"
      ],
      "text/plain": [
       "                             Brand_    Date_min    Date_max  No_of_Reviews\n",
       "0                        Applebee's  2005-07-06  2021-05-26          93291\n",
       "1            Benihana National Corp  2019-08-19  2021-05-20            200\n",
       "2                Buffalo Wild Wings  2006-06-21  2021-05-24          33921\n",
       "3                        Cafe Zupas  2008-02-20  2021-05-20           6638\n",
       "4   Famous Dave's of America,  Inc.  2008-02-20  2021-05-20           6638\n",
       "5                        Friendly's  2006-03-10  2021-05-21           5664\n",
       "6                              IHOP  2005-06-12  2021-05-25         111364\n",
       "7                    Margaritaville  2010-10-06  2021-05-20           3922\n",
       "8                     Modern Market  2013-07-29  2021-05-20           4331\n",
       "9                     Noodles & Co.  2005-05-19  2021-05-20          23293\n",
       "10                O'Charley's, Inc.  2005-04-05  2021-05-23           9285\n",
       "11                    On the Border  2005-09-04  2021-05-23          16408\n",
       "12                           Panera  2005-04-17  2021-05-23         127290\n",
       "13                Ruby Tuesday Inc.  2005-07-08  2021-05-24          17668\n",
       "14                  Texas Roadhouse  2006-01-04  2021-05-25          56816\n",
       "15                True Food Kitchen  2018-07-08  2021-05-24           5432\n",
       "16                       Twin Peaks  2006-09-05  2021-05-24          11977\n",
       "17                         WingStop  2005-09-04  2021-05-23          16408\n",
       "18                       Wood Ranch  2016-05-23  2021-05-24           3000"
      ]
     },
     "execution_count": 41,
     "metadata": {},
     "output_type": "execute_result"
    }
   ],
   "source": [
    "table = df_review.groupby(['Brand'], as_index=False).agg({'Date' : ['min', 'max'], 'text' : 'count'})\n",
    "table.columns = ['_'.join(col) for col in table.columns]\n",
    "table.rename({'text_count' : 'No_of_Reviews'}, axis=1, inplace=True)\n",
    "table"
   ]
  },
  {
   "cell_type": "markdown",
   "metadata": {},
   "source": [
    "## Sentiment vs No. of reviews - bar graphs "
   ]
  },
  {
   "cell_type": "code",
   "execution_count": 47,
   "metadata": {},
   "outputs": [
    {
     "data": {
      "image/png": "[encoded data removed]",
      "text/plain": [
       "<Figure size 1080x576 with 1 Axes>"
      ]
     },
     "metadata": {
      "needs_background": "light"
     },
     "output_type": "display_data"
    }
   ],
   "source": [
    "def req_intervals(x):\n",
    "    if (x < -0.5) & (x > -1):\n",
    "        return 'Score (-0.5 to -1)'\n",
    "    elif (x < 0) & (x > -0.5):\n",
    "        return 'Score (-0.5 to 0)'\n",
    "    elif (x < 0.5) & (x > 0):\n",
    "        return 'Score (0 to 0.5)'\n",
    "    else:\n",
    "        return 'Score (0.5 to 1)'\n",
    "\n",
    "\n",
    "df_dist_senti['sentiment_bucket'] = df_dist_senti['Flair_Score'].apply(req_intervals)\n",
    "\n",
    "new_order = ['Score (-0.5 to -1)', 'Score (-0.5 to 0)', 'Score (0 to 0.5)', 'Score (0.5 to 1)']\n",
    "\n",
    "plt.figure(figsize=(15,8))\n",
    "ax = sns.countplot(x='Sentiment_Type', data=df_dist_senti, palette = 'deep')\n",
    "ax.set(xlabel = 'Sentiment Type', ylabel = 'No of Reviews')\n",
    "ax.set_title('No of Reviews across different Sentiment Type')\n",
    "plt.xticks(rotation=45)\n",
    "plt.show()"
   ]
  },
  {
   "cell_type": "code",
   "execution_count": 15,
   "metadata": {},
   "outputs": [
    {
     "data": {
      "text/plain": [
       "Negative    328488\n",
       "Positive    215579\n",
       "Neutral       9479\n",
       "Name: Sentiment_Type, dtype: int64"
      ]
     },
     "execution_count": 15,
     "metadata": {},
     "output_type": "execute_result"
    }
   ],
   "source": [
    "df_review.Sentiment_Type.value_counts()"
   ]
  },
  {
   "cell_type": "code",
   "execution_count": 14,
   "metadata": {},
   "outputs": [],
   "source": [
    "df_review[\"text_word_count\"] = df_review[\"text\"].apply(lambda text: len(text.split()))"
   ]
  },
  {
   "cell_type": "code",
   "execution_count": 16,
   "metadata": {},
   "outputs": [
    {
     "data": {
      "text/plain": [
       "82.0"
      ]
     },
     "execution_count": 16,
     "metadata": {},
     "output_type": "execute_result"
    }
   ],
   "source": [
    "df_review[df_review.Sentiment_Type=='Negative'].text_word_count.median()"
   ]
  },
  {
   "cell_type": "code",
   "execution_count": 17,
   "metadata": {},
   "outputs": [
    {
     "data": {
      "text/plain": [
       "55.0"
      ]
     },
     "execution_count": 17,
     "metadata": {},
     "output_type": "execute_result"
    }
   ],
   "source": [
    "df_review[df_review.Sentiment_Type=='Positive'].text_word_count.median()"
   ]
  },
  {
   "cell_type": "code",
   "execution_count": 18,
   "metadata": {},
   "outputs": [
    {
     "data": {
      "text/plain": [
       "67.0"
      ]
     },
     "execution_count": 18,
     "metadata": {},
     "output_type": "execute_result"
    }
   ],
   "source": [
    "df_review[df_review.Sentiment_Type=='Neutral'].text_word_count.median()"
   ]
  },
  {
   "cell_type": "code",
   "execution_count": 26,
   "metadata": {},
   "outputs": [
    {
     "data": {
      "text/html": [
       "<div>\n",
       "<style scoped>\n",
       "    .dataframe tbody tr th:only-of-type {\n",
       "        vertical-align: middle;\n",
       "    }\n",
       "\n",
       "    .dataframe tbody tr th {\n",
       "        vertical-align: top;\n",
       "    }\n",
       "\n",
       "    .dataframe thead th {\n",
       "        text-align: right;\n",
       "    }\n",
       "</style>\n",
       "<table border=\"1\" class=\"dataframe\">\n",
       "  <thead>\n",
       "    <tr style=\"text-align: right;\">\n",
       "      <th></th>\n",
       "      <th>Word_Count</th>\n",
       "      <th>Sentiment</th>\n",
       "    </tr>\n",
       "  </thead>\n",
       "  <tbody>\n",
       "    <tr>\n",
       "      <th>0</th>\n",
       "      <td>82</td>\n",
       "      <td>Negative</td>\n",
       "    </tr>\n",
       "    <tr>\n",
       "      <th>1</th>\n",
       "      <td>55</td>\n",
       "      <td>Positive</td>\n",
       "    </tr>\n",
       "    <tr>\n",
       "      <th>2</th>\n",
       "      <td>67</td>\n",
       "      <td>Neutral</td>\n",
       "    </tr>\n",
       "  </tbody>\n",
       "</table>\n",
       "</div>"
      ],
      "text/plain": [
       "   Word_Count Sentiment\n",
       "0          82  Negative\n",
       "1          55  Positive\n",
       "2          67   Neutral"
      ]
     },
     "execution_count": 26,
     "metadata": {},
     "output_type": "execute_result"
    }
   ],
   "source": [
    "df = pd.DataFrame({'Word_Count' : [82, 55, 67], 'Sentiment' : ['Negative', 'Positive', 'Neutral']})\n",
    "df"
   ]
  },
  {
   "cell_type": "markdown",
   "metadata": {},
   "source": [
    "## Avg No. of words per review - across Sentiment Type"
   ]
  },
  {
   "cell_type": "code",
   "execution_count": 29,
   "metadata": {},
   "outputs": [
    {
     "data": {
      "image/png": "[encoded data removed]",
      "text/plain": [
       "<Figure size 1080x576 with 1 Axes>"
      ]
     },
     "metadata": {
      "needs_background": "light"
     },
     "output_type": "display_data"
    }
   ],
   "source": [
    "plt.figure(figsize=(15,8))\n",
    "ax = sns.barplot(x='Sentiment', y='Word_Count', data=df, palette = 'deep')\n",
    "ax.set(xlabel = 'Sentiment Type', ylabel = 'Word Count from Reviews')\n",
    "ax.set_title('Word Count for different Sentiment Type')\n",
    "plt.xticks(rotation=45)\n",
    "plt.show()"
   ]
  },
  {
   "cell_type": "code",
   "execution_count": null,
   "metadata": {},
   "outputs": [],
   "source": []
  }
 ],
 "metadata": {
  "kernelspec": {
   "display_name": "Python 3",
   "language": "python",
   "name": "python3"
  },
  "language_info": {
   "codemirror_mode": {
    "name": "ipython",
    "version": 3
   },
   "file_extension": ".py",
   "mimetype": "text/x-python",
   "name": "python",
   "nbconvert_exporter": "python",
   "pygments_lexer": "ipython3",
   "version": "3.7.6"
  }
 },
 "nbformat": 4,
 "nbformat_minor": 4
}
