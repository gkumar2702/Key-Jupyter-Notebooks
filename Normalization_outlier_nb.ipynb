{
 "cells": [
  {
   "cell_type": "markdown",
   "metadata": {},
   "source": [
    "### Importing required libraries"
   ]
  },
  {
   "cell_type": "code",
   "execution_count": 150,
   "metadata": {
    "ExecuteTime": {
     "end_time": "2021-03-16T12:49:07.951635Z",
     "start_time": "2021-03-16T12:49:07.915675Z"
    }
   },
   "outputs": [],
   "source": [
    "#Importing the required libraries\n",
    "%matplotlib inline\n",
    "\n",
    "import numpy as np\n",
    "import pandas as pd\n",
    "import matplotlib.pyplot as plt\n",
    "from scipy.stats import norm\n",
    "import seaborn as sns\n",
    "from scipy import stats\n",
    "\n",
    "import warnings\n",
    "warnings.filterwarnings('ignore')\n",
    "pd.options.display.max_columns = None"
   ]
  },
  {
   "cell_type": "markdown",
   "metadata": {},
   "source": [
    "### Importing the dataset "
   ]
  },
  {
   "cell_type": "code",
   "execution_count": 191,
   "metadata": {
    "ExecuteTime": {
     "end_time": "2021-03-16T13:05:41.793195Z",
     "start_time": "2021-03-16T13:05:41.750277Z"
    }
   },
   "outputs": [
    {
     "data": {
      "text/html": [
       "<div>\n",
       "<style scoped>\n",
       "    .dataframe tbody tr th:only-of-type {\n",
       "        vertical-align: middle;\n",
       "    }\n",
       "\n",
       "    .dataframe tbody tr th {\n",
       "        vertical-align: top;\n",
       "    }\n",
       "\n",
       "    .dataframe thead th {\n",
       "        text-align: right;\n",
       "    }\n",
       "</style>\n",
       "<table border=\"1\" class=\"dataframe\">\n",
       "  <thead>\n",
       "    <tr style=\"text-align: right;\">\n",
       "      <th></th>\n",
       "      <th>Alcohol</th>\n",
       "      <th>Malic.acid</th>\n",
       "      <th>Ash</th>\n",
       "      <th>Acl</th>\n",
       "      <th>Mg</th>\n",
       "      <th>Phenols</th>\n",
       "      <th>Flavanoids</th>\n",
       "      <th>Nonflavanoid.phenols</th>\n",
       "      <th>Proanth</th>\n",
       "      <th>Color.int</th>\n",
       "      <th>Hue</th>\n",
       "      <th>OD</th>\n",
       "      <th>Proline</th>\n",
       "    </tr>\n",
       "  </thead>\n",
       "  <tbody>\n",
       "    <tr>\n",
       "      <th>0</th>\n",
       "      <td>14.23</td>\n",
       "      <td>1.71</td>\n",
       "      <td>2.43</td>\n",
       "      <td>15.6</td>\n",
       "      <td>127</td>\n",
       "      <td>2.80</td>\n",
       "      <td>3.06</td>\n",
       "      <td>0.28</td>\n",
       "      <td>2.29</td>\n",
       "      <td>5.64</td>\n",
       "      <td>1.04</td>\n",
       "      <td>3.92</td>\n",
       "      <td>1065</td>\n",
       "    </tr>\n",
       "    <tr>\n",
       "      <th>1</th>\n",
       "      <td>13.20</td>\n",
       "      <td>1.78</td>\n",
       "      <td>2.14</td>\n",
       "      <td>11.2</td>\n",
       "      <td>100</td>\n",
       "      <td>2.65</td>\n",
       "      <td>2.76</td>\n",
       "      <td>0.26</td>\n",
       "      <td>1.28</td>\n",
       "      <td>4.38</td>\n",
       "      <td>1.05</td>\n",
       "      <td>3.40</td>\n",
       "      <td>1050</td>\n",
       "    </tr>\n",
       "    <tr>\n",
       "      <th>2</th>\n",
       "      <td>13.16</td>\n",
       "      <td>2.36</td>\n",
       "      <td>2.67</td>\n",
       "      <td>18.6</td>\n",
       "      <td>101</td>\n",
       "      <td>2.80</td>\n",
       "      <td>3.24</td>\n",
       "      <td>0.30</td>\n",
       "      <td>2.81</td>\n",
       "      <td>5.68</td>\n",
       "      <td>1.03</td>\n",
       "      <td>3.17</td>\n",
       "      <td>1185</td>\n",
       "    </tr>\n",
       "    <tr>\n",
       "      <th>3</th>\n",
       "      <td>14.37</td>\n",
       "      <td>1.95</td>\n",
       "      <td>2.50</td>\n",
       "      <td>16.8</td>\n",
       "      <td>113</td>\n",
       "      <td>3.85</td>\n",
       "      <td>3.49</td>\n",
       "      <td>0.24</td>\n",
       "      <td>2.18</td>\n",
       "      <td>7.80</td>\n",
       "      <td>0.86</td>\n",
       "      <td>3.45</td>\n",
       "      <td>1480</td>\n",
       "    </tr>\n",
       "    <tr>\n",
       "      <th>4</th>\n",
       "      <td>13.24</td>\n",
       "      <td>2.59</td>\n",
       "      <td>2.87</td>\n",
       "      <td>21.0</td>\n",
       "      <td>118</td>\n",
       "      <td>2.80</td>\n",
       "      <td>2.69</td>\n",
       "      <td>0.39</td>\n",
       "      <td>1.82</td>\n",
       "      <td>4.32</td>\n",
       "      <td>1.04</td>\n",
       "      <td>2.93</td>\n",
       "      <td>735</td>\n",
       "    </tr>\n",
       "  </tbody>\n",
       "</table>\n",
       "</div>"
      ],
      "text/plain": [
       "   Alcohol  Malic.acid   Ash   Acl   Mg  Phenols  Flavanoids  \\\n",
       "0    14.23        1.71  2.43  15.6  127     2.80        3.06   \n",
       "1    13.20        1.78  2.14  11.2  100     2.65        2.76   \n",
       "2    13.16        2.36  2.67  18.6  101     2.80        3.24   \n",
       "3    14.37        1.95  2.50  16.8  113     3.85        3.49   \n",
       "4    13.24        2.59  2.87  21.0  118     2.80        2.69   \n",
       "\n",
       "   Nonflavanoid.phenols  Proanth  Color.int   Hue    OD  Proline  \n",
       "0                  0.28     2.29       5.64  1.04  3.92     1065  \n",
       "1                  0.26     1.28       4.38  1.05  3.40     1050  \n",
       "2                  0.30     2.81       5.68  1.03  3.17     1185  \n",
       "3                  0.24     2.18       7.80  0.86  3.45     1480  \n",
       "4                  0.39     1.82       4.32  1.04  2.93      735  "
      ]
     },
     "execution_count": 191,
     "metadata": {},
     "output_type": "execute_result"
    }
   ],
   "source": [
    "# Read & Display data\n",
    "data1 = pd.read_csv(\"C:/Users/Aman.aggarwal/Documents/Exelon/Chem Sampling/wine.csv\")\n",
    "data = data1.copy()\n",
    "data.head()"
   ]
  },
  {
   "cell_type": "markdown",
   "metadata": {},
   "source": [
    "### Initialising the class "
   ]
  },
  {
   "cell_type": "code",
   "execution_count": 192,
   "metadata": {
    "ExecuteTime": {
     "end_time": "2021-03-16T13:05:43.864622Z",
     "start_time": "2021-03-16T13:05:43.858669Z"
    }
   },
   "outputs": [],
   "source": [
    "class Data:\n",
    "    def __init__(self,df, pfeatures):\n",
    "        '''\n",
    "        function to intialise the class object \n",
    "        @params\n",
    "        df = dataframe containing all the data with target variable \n",
    "        pfeatures=  list of columns other than target to do feature selection\n",
    "        '''\n",
    "        self.df = df\n",
    "        self.pfeatures = pfeatures\n",
    "        "
   ]
  },
  {
   "cell_type": "markdown",
   "metadata": {},
   "source": [
    "#### Normalization "
   ]
  },
  {
   "cell_type": "code",
   "execution_count": 193,
   "metadata": {
    "ExecuteTime": {
     "end_time": "2021-03-16T13:05:45.858286Z",
     "start_time": "2021-03-16T13:05:45.809418Z"
    }
   },
   "outputs": [],
   "source": [
    "class Normalization(Data):\n",
    "    \n",
    "    def __init__(self, Data):\n",
    "        '''\n",
    "        function to intialise the class object \n",
    "        '''\n",
    "        self.data = Data.df\n",
    "        self.pfeatures = Data.pfeatures\n",
    "    \n",
    "    def plot(self, x):\n",
    "        '''\n",
    "        function to plot:\n",
    "        Distplot : It represents the univariate distribution of data \n",
    "        i.e. data distribution of a variable against the density distribution\n",
    "        Probability Plot :The data are plotted against a theoretical distribution\n",
    "        in such a way that the points should form approximately a straight line.\n",
    "        Accepts data variable as argument\n",
    "        '''\n",
    "        sns.set(rc={'figure.figsize':(16,5)})\n",
    "        sns.set_style(\"white\")\n",
    "        sns.distplot(x,fit=norm);\n",
    "        fig = plt.figure()\n",
    "        print('\\n')\n",
    "        res = stats.probplot(x, plot=plt)\n",
    "        fig = plt.figure()\n",
    "    \n",
    "    def log_transform(self, x):\n",
    "        '''\n",
    "        function to log tranform the data variable\n",
    "        Accepts data variable as argument\n",
    "        Returns the transformed data variable\n",
    "        '''\n",
    "        x = np.log(x)\n",
    "        self.plot(x)\n",
    "        return x\n",
    "    \n",
    "    def scaling(self, x):\n",
    "        '''\n",
    "        function for scaling of the data variable\n",
    "        Data is rescaled and new values are in [0, 1]\n",
    "        Accepts data variable as argument\n",
    "        Returns the transformed data variable\n",
    "        '''\n",
    "        x = x/x.max()\n",
    "        self.plot(x)\n",
    "        return x\n",
    "    \n",
    "    def min_max_scaling(self, x):\n",
    "        '''\n",
    "        function for min-max scaling of the data variable\n",
    "        Data is rescaled and new values are in [0, 1]\n",
    "        Accepts data variable as argument\n",
    "        Returns the transformed data variable\n",
    "        '''\n",
    "        x = (x - x.min())/(x.max() - x.min())\n",
    "        self.plot(x)\n",
    "        return x\n",
    "    \n",
    "    def z_score_scaling(self, x):\n",
    "        '''\n",
    "        function for scaling of the data variable using the z-score method\n",
    "        Data will have a Gaussian distribution with μ=0 and σ=1\n",
    "        Accepts data variable as argument\n",
    "        Returns the transformed data variable\n",
    "        '''\n",
    "        x = (x - x.mean())/x.std()\n",
    "        self.plot(x)\n",
    "        return x\n",
    "    \n",
    "    def sq_root(self, x):\n",
    "        '''\n",
    "        function for square-root transformation of the data variable\n",
    "        Accepts data variable as argument\n",
    "        Returns the transformed data variable\n",
    "        '''\n",
    "        x = x**(1/2)\n",
    "        self.plot(x)\n",
    "        return x\n",
    "    \n",
    "    def cube_root(self, x):\n",
    "        '''\n",
    "        function for cube-root transformation of the data variable\n",
    "        Accepts data variable as argument\n",
    "        Returns the transformed data variable\n",
    "        '''\n",
    "        x = x**(1/3)\n",
    "        self.plot(x)\n",
    "        return x\n",
    "    \n",
    "    def transform_log(self, feature = None):\n",
    "        '''\n",
    "        function for log transformation of the data variable\n",
    "        Accepts features which need to be transformed as argument\n",
    "        Returns the transformed dataframe(with specific columns transformed if specified)\n",
    "        '''\n",
    "        df = self.data.copy()\n",
    "        feature = feature\n",
    "        if(len(feature) != 0):\n",
    "            feature = feature\n",
    "        else:\n",
    "            feature = self.pfeatures\n",
    "        for i in range(len(feature)):\n",
    "            df[feature[i]] = self.log_transform(df[feature[i]])\n",
    "        return df\n",
    "    \n",
    "    def transform_scaling(self, feature = None):\n",
    "        '''\n",
    "        function for scaling of the data variable\n",
    "        Accepts features which need to be transformed as argument\n",
    "        Returns the transformed dataframe(with specific columns transformed if specified)\n",
    "        '''\n",
    "        df = self.data.copy()\n",
    "        feature = feature\n",
    "        if(len(feature) != 0):\n",
    "            feature = feature\n",
    "        else:\n",
    "            feature = self.pfeatures\n",
    "        for i in range(len(feature)):\n",
    "            df[feature[i]] = self.scaling(df[feature[i]])\n",
    "        return df\n",
    "    \n",
    "    def transform_minmax(self, feature = None):\n",
    "        '''\n",
    "        function for scaling of the data variable using min-max scaling\n",
    "        Accepts features which need to be transformed as argument\n",
    "        Returns the transformed dataframe(with specific columns transformed if specified)\n",
    "        '''\n",
    "        df = self.data.copy()\n",
    "        feature = feature\n",
    "        if(len(feature) != 0):\n",
    "            feature = feature\n",
    "        else:\n",
    "            feature = self.pfeatures\n",
    "        for i in range(len(feature)):\n",
    "            df[feature[i]] = self.min_max_scaling(df[feature[i]])\n",
    "        return df\n",
    "    \n",
    "    def transform_zscore(self, feature = None):\n",
    "        '''\n",
    "        function for scaling of the data variable using z-score method\n",
    "        Accepts features which need to be transformed as argument\n",
    "        Returns the transformed dataframe(with specific columns transformed if specified)\n",
    "        '''\n",
    "        df = self.data.copy()\n",
    "        feature = feature\n",
    "        if(len(feature) != 0):\n",
    "            feature = feature\n",
    "        else:\n",
    "            feature = self.pfeatures\n",
    "        for i in range(len(feature)):\n",
    "            df[feature[i]] = self.z_score_scaling(df[feature[i]])\n",
    "        return df\n",
    "    \n",
    "    def transform_sqroot(self, feature = None):\n",
    "        '''\n",
    "        function for square-root transformation of the data variable\n",
    "        Accepts features which need to be transformed as argument\n",
    "        Returns the transformed dataframe(with specific columns transformed if specified)\n",
    "        '''\n",
    "        df = self.data.copy()\n",
    "        feature = feature\n",
    "        if(len(feature) != 0):\n",
    "            feature = feature\n",
    "        else:\n",
    "            feature = self.pfeatures\n",
    "        for i in range(len(feature)):\n",
    "            df[feature[i]] = self.sq_root(df[feature[i]])\n",
    "        return df\n",
    "    \n",
    "    def transform_cuberoot(self, feature = None):\n",
    "        '''\n",
    "        function for cube-root transformation of the data variable\n",
    "        Accepts features which need to be transformed as argument\n",
    "        Returns the transformed dataframe(with specific columns transformed if specified)\n",
    "        '''\n",
    "        df = self.data.copy()\n",
    "        feature = feature\n",
    "        if(len(feature) != 0):\n",
    "            feature = feature\n",
    "        else:\n",
    "            feature = self.pfeatures\n",
    "        for i in range(len(feature)):\n",
    "            df[feature[i]] = self.cube_root(df[feature[i]])\n",
    "        return df\n",
    "    \n",
    "    def transform(self, method, feature = None):\n",
    "        '''\n",
    "        function for transformation of the data variable\n",
    "        Accepts features which need to be transformed as argument and method number to be used\n",
    "        1:Log, 2:Scaling, 3:Min-Max Scaling, 4:Z-Score Scaling, 5:Square-root, 6:Cube-root\n",
    "        Returns the transformed dataframe(with specific columns transformed if specified)\n",
    "        '''\n",
    "        df = self.data.copy()\n",
    "        feature = feature\n",
    "        if(len(feature) != 0):\n",
    "            feature = feature\n",
    "        else:\n",
    "            feature = self.pfeatures\n",
    "        if(method == 1):\n",
    "            for i in range(len(feature)):\n",
    "                df[feature[i]] = self.log_transform(df[feature[i]])\n",
    "        elif(method == 2):\n",
    "            for i in range(len(feature)):\n",
    "                df[feature[i]] = self.scaling(df[feature[i]])\n",
    "        elif(method == 3):\n",
    "            for i in range(len(feature)):\n",
    "                df[feature[i]] = self.min_max_scaling(df[feature[i]])\n",
    "        elif(method == 4):\n",
    "            for i in range(len(feature)):\n",
    "                df[feature[i]] = self.z_score_scaling(df[feature[i]])\n",
    "        elif(method == 5):\n",
    "            for i in range(len(feature)):\n",
    "                df[feature[i]] = self.sq_root(df[feature[i]])\n",
    "        elif(method == 6):\n",
    "            for i in range(len(feature)):\n",
    "                df[feature[i]] = self.cube_root(df[feature[i]])\n",
    "        return df\n",
    "    \n",
    "    "
   ]
  },
  {
   "cell_type": "markdown",
   "metadata": {},
   "source": [
    "#### Creating class object, Implementing methods\n",
    "Below are the functions of normalization class\n",
    "- m.plot(data['col_name'])\n",
    "- m.log_transform(data['col_name'])\n",
    "- m.scaling(data['col_name'])\n",
    "- m.min_max_scaling(data['col_name'])\n",
    "- m.z_score_scaling(data['col_name'])\n",
    "- m.sq_root(data['col_name'])\n",
    "- m.cube_root(data['col_name'])\n",
    "- m.transform(2, feature = optional) - 1:Log, 2:Scaling, 3:Min-Max Scaling, 4:Z-Score Scaling, 5:Square-root, 6:Cube-root"
   ]
  },
  {
   "cell_type": "code",
   "execution_count": 194,
   "metadata": {
    "ExecuteTime": {
     "end_time": "2021-03-16T13:05:47.940718Z",
     "start_time": "2021-03-16T13:05:47.935731Z"
    }
   },
   "outputs": [],
   "source": [
    "#Assigning the dependent & independent variable\n",
    "pfeatures = ['Alcohol', 'Malic.acid', 'Ash', 'Acl', 'Mg', 'Phenols',\n",
    "             'Flavanoids', 'Nonflavanoid.phenols', 'Proanth', 'Color.int', 'Hue', 'OD', 'Proline']\n",
    "r = Data(data, pfeatures)\n",
    "\n",
    "# #Getting all columns and removing the one not required\n",
    "# pfeatures = list(data.columns)\n",
    "# pfeatures.remove('Alcohol')\n",
    "# print(pfeatures)"
   ]
  },
  {
   "cell_type": "code",
   "execution_count": 196,
   "metadata": {
    "ExecuteTime": {
     "end_time": "2021-03-16T13:05:52.873526Z",
     "start_time": "2021-03-16T13:05:52.868573Z"
    }
   },
   "outputs": [],
   "source": [
    "m = Normalization(r)"
   ]
  },
  {
   "cell_type": "code",
   "execution_count": 197,
   "metadata": {
    "ExecuteTime": {
     "end_time": "2021-03-16T13:05:54.479268Z",
     "start_time": "2021-03-16T13:05:53.869859Z"
    }
   },
   "outputs": [
    {
     "name": "stdout",
     "output_type": "stream",
     "text": [
      "\n",
      "\n",
      "\n",
      "\n"
     ]
    },
    {
     "data": {
      "image/png": "[encoded data removed]",
      "text/plain": [
       "<Figure size 1152x360 with 1 Axes>"
      ]
     },
     "metadata": {},
     "output_type": "display_data"
    },
    {
     "data": {
      "image/png": "[encoded data removed]",
      "text/plain": [
       "<Figure size 1152x360 with 1 Axes>"
      ]
     },
     "metadata": {},
     "output_type": "display_data"
    },
    {
     "data": {
      "image/png": "[encoded data removed]",
      "text/plain": [
       "<Figure size 1152x360 with 1 Axes>"
      ]
     },
     "metadata": {},
     "output_type": "display_data"
    },
    {
     "data": {
      "image/png": "[encoded data removed]",
      "text/plain": [
       "<Figure size 1152x360 with 1 Axes>"
      ]
     },
     "metadata": {},
     "output_type": "display_data"
    },
    {
     "data": {
      "text/plain": [
       "<Figure size 1152x360 with 0 Axes>"
      ]
     },
     "metadata": {},
     "output_type": "display_data"
    }
   ],
   "source": [
    "#Implementation of transform function\n",
    "feature = ['Alcohol', 'Malic.acid']\n",
    "df2 = m.transform(2, feature) #returned the transformed df (only specific columns transformed if specified)"
   ]
  },
  {
   "cell_type": "code",
   "execution_count": 198,
   "metadata": {
    "ExecuteTime": {
     "end_time": "2021-03-16T13:05:55.224238Z",
     "start_time": "2021-03-16T13:05:55.204293Z"
    }
   },
   "outputs": [
    {
     "data": {
      "text/html": [
       "<div>\n",
       "<style scoped>\n",
       "    .dataframe tbody tr th:only-of-type {\n",
       "        vertical-align: middle;\n",
       "    }\n",
       "\n",
       "    .dataframe tbody tr th {\n",
       "        vertical-align: top;\n",
       "    }\n",
       "\n",
       "    .dataframe thead th {\n",
       "        text-align: right;\n",
       "    }\n",
       "</style>\n",
       "<table border=\"1\" class=\"dataframe\">\n",
       "  <thead>\n",
       "    <tr style=\"text-align: right;\">\n",
       "      <th></th>\n",
       "      <th>Alcohol</th>\n",
       "      <th>Malic.acid</th>\n",
       "      <th>Ash</th>\n",
       "      <th>Acl</th>\n",
       "      <th>Mg</th>\n",
       "      <th>Phenols</th>\n",
       "      <th>Flavanoids</th>\n",
       "      <th>Nonflavanoid.phenols</th>\n",
       "      <th>Proanth</th>\n",
       "      <th>Color.int</th>\n",
       "      <th>Hue</th>\n",
       "      <th>OD</th>\n",
       "      <th>Proline</th>\n",
       "    </tr>\n",
       "  </thead>\n",
       "  <tbody>\n",
       "    <tr>\n",
       "      <th>0</th>\n",
       "      <td>0.959541</td>\n",
       "      <td>0.294828</td>\n",
       "      <td>2.43</td>\n",
       "      <td>15.6</td>\n",
       "      <td>127</td>\n",
       "      <td>2.80</td>\n",
       "      <td>3.06</td>\n",
       "      <td>0.28</td>\n",
       "      <td>2.29</td>\n",
       "      <td>5.64</td>\n",
       "      <td>1.04</td>\n",
       "      <td>3.92</td>\n",
       "      <td>1065</td>\n",
       "    </tr>\n",
       "    <tr>\n",
       "      <th>1</th>\n",
       "      <td>0.890088</td>\n",
       "      <td>0.306897</td>\n",
       "      <td>2.14</td>\n",
       "      <td>11.2</td>\n",
       "      <td>100</td>\n",
       "      <td>2.65</td>\n",
       "      <td>2.76</td>\n",
       "      <td>0.26</td>\n",
       "      <td>1.28</td>\n",
       "      <td>4.38</td>\n",
       "      <td>1.05</td>\n",
       "      <td>3.40</td>\n",
       "      <td>1050</td>\n",
       "    </tr>\n",
       "    <tr>\n",
       "      <th>2</th>\n",
       "      <td>0.887390</td>\n",
       "      <td>0.406897</td>\n",
       "      <td>2.67</td>\n",
       "      <td>18.6</td>\n",
       "      <td>101</td>\n",
       "      <td>2.80</td>\n",
       "      <td>3.24</td>\n",
       "      <td>0.30</td>\n",
       "      <td>2.81</td>\n",
       "      <td>5.68</td>\n",
       "      <td>1.03</td>\n",
       "      <td>3.17</td>\n",
       "      <td>1185</td>\n",
       "    </tr>\n",
       "    <tr>\n",
       "      <th>3</th>\n",
       "      <td>0.968982</td>\n",
       "      <td>0.336207</td>\n",
       "      <td>2.50</td>\n",
       "      <td>16.8</td>\n",
       "      <td>113</td>\n",
       "      <td>3.85</td>\n",
       "      <td>3.49</td>\n",
       "      <td>0.24</td>\n",
       "      <td>2.18</td>\n",
       "      <td>7.80</td>\n",
       "      <td>0.86</td>\n",
       "      <td>3.45</td>\n",
       "      <td>1480</td>\n",
       "    </tr>\n",
       "    <tr>\n",
       "      <th>4</th>\n",
       "      <td>0.892785</td>\n",
       "      <td>0.446552</td>\n",
       "      <td>2.87</td>\n",
       "      <td>21.0</td>\n",
       "      <td>118</td>\n",
       "      <td>2.80</td>\n",
       "      <td>2.69</td>\n",
       "      <td>0.39</td>\n",
       "      <td>1.82</td>\n",
       "      <td>4.32</td>\n",
       "      <td>1.04</td>\n",
       "      <td>2.93</td>\n",
       "      <td>735</td>\n",
       "    </tr>\n",
       "  </tbody>\n",
       "</table>\n",
       "</div>"
      ],
      "text/plain": [
       "    Alcohol  Malic.acid   Ash   Acl   Mg  Phenols  Flavanoids  \\\n",
       "0  0.959541    0.294828  2.43  15.6  127     2.80        3.06   \n",
       "1  0.890088    0.306897  2.14  11.2  100     2.65        2.76   \n",
       "2  0.887390    0.406897  2.67  18.6  101     2.80        3.24   \n",
       "3  0.968982    0.336207  2.50  16.8  113     3.85        3.49   \n",
       "4  0.892785    0.446552  2.87  21.0  118     2.80        2.69   \n",
       "\n",
       "   Nonflavanoid.phenols  Proanth  Color.int   Hue    OD  Proline  \n",
       "0                  0.28     2.29       5.64  1.04  3.92     1065  \n",
       "1                  0.26     1.28       4.38  1.05  3.40     1050  \n",
       "2                  0.30     2.81       5.68  1.03  3.17     1185  \n",
       "3                  0.24     2.18       7.80  0.86  3.45     1480  \n",
       "4                  0.39     1.82       4.32  1.04  2.93      735  "
      ]
     },
     "execution_count": 198,
     "metadata": {},
     "output_type": "execute_result"
    }
   ],
   "source": [
    "#Transformed dataframe(only Alcohol and Malic acid is transformed)\n",
    "df2.head()"
   ]
  },
  {
   "cell_type": "markdown",
   "metadata": {},
   "source": [
    "#### Outlier Detection & Treatment"
   ]
  },
  {
   "cell_type": "code",
   "execution_count": 210,
   "metadata": {
    "ExecuteTime": {
     "end_time": "2021-03-16T14:10:25.873255Z",
     "start_time": "2021-03-16T14:10:25.807388Z"
    }
   },
   "outputs": [],
   "source": [
    "class Outliers(Data):\n",
    "    \n",
    "    def __init__(self, Data):\n",
    "        '''\n",
    "        function to intialise the class object \n",
    "        '''\n",
    "        self.data = Data.df\n",
    "        self.pfeatures = Data.pfeatures\n",
    "\n",
    "    \n",
    "    def box_plot(self, variable):\n",
    "        '''\n",
    "        function to plot the box plot \n",
    "        outliers could be visualized using this\n",
    "        Accepts variable name as an argument\n",
    "        '''\n",
    "        df = self.data.copy()\n",
    "        sns.boxplot(data=df,x=df[variable])\n",
    "    \n",
    "    def iqr_method(self, variable):\n",
    "        '''\n",
    "        function identifies outliers based on IQR method\n",
    "        Accepts variable name(as string) as an argument\n",
    "        Returns two dataframes :\n",
    "        - first df without outliers \n",
    "        - second df with outliers\n",
    "        '''\n",
    "        df = self.data.copy()\n",
    "        q1 = df[variable].quantile(0.25)\n",
    "        q3 = df[variable].quantile(0.75)\n",
    "        iqr = q3-q1\n",
    "        inner_fence = 1.5*iqr\n",
    "        outer_fence = 3*iqr\n",
    "    \n",
    "        #inner fence lower and upper end\n",
    "        inner_fence_le = q1-inner_fence\n",
    "        inner_fence_ue = q3+inner_fence\n",
    "        \n",
    "        df_include = df.loc[(df[variable] >= inner_fence_le) & \\\n",
    "                            (df[variable] <= inner_fence_ue)] # meeting the acceptable range\n",
    "        df_exclude = df.loc[(df[variable] < inner_fence_le) | \\\n",
    "                            (df[variable] > inner_fence_ue)] #not meeting acceptable range\n",
    "        \n",
    "        #outer fence lower and upper end\n",
    "        outer_fence_le = q1-outer_fence\n",
    "        outer_fence_ue = q3+outer_fence\n",
    "        \n",
    "        outliers_prob = []\n",
    "        outliers_poss = []\n",
    "        for index, x in enumerate(df[variable]):\n",
    "            if x <= outer_fence_le or x >= outer_fence_ue:\n",
    "                outliers_prob.append(index)\n",
    "        for index, x in enumerate(df[variable]):\n",
    "            if x <= inner_fence_le or x >= inner_fence_ue:\n",
    "                outliers_poss.append(index)\n",
    "        return df_include, df_exclude\n",
    "         \n",
    "    def z_score(self, variable_name):\n",
    "        '''\n",
    "        function identifies outliers based on Z-score method\n",
    "        Accepts variable name(as string) as an argument\n",
    "        Returns two dataframes :\n",
    "        - first df without outliers \n",
    "        - second df with outliers\n",
    "        '''\n",
    "        df = self.data.copy()\n",
    "        z = np.abs(stats.zscore(df[variable_name]))\n",
    "        threshold = 3\n",
    "        df_include = df[(z < threshold)]\n",
    "        df_exclude = df[(z > threshold)]\n",
    "        return df_include, df_exclude\n",
    "    \n",
    "    def mad_score(self, variable_name):\n",
    "        '''\n",
    "        function identifies outliers based on MAD(Median Absolute Deviation) method\n",
    "        Accepts variable name(as string) as an argument\n",
    "        Returns two dataframes :\n",
    "        - first df without outliers \n",
    "        - second df with outliers\n",
    "        '''\n",
    "        df = self.data.copy()\n",
    "        median = np.median(df[variable_name], axis = 0)\n",
    "        mad = np.abs(stats.median_absolute_deviation(df[variable_name]))\n",
    "        score = (df[variable_name] - median)/mad\n",
    "        threshold = 3\n",
    "        df_include = df[score < threshold]\n",
    "        df_exclude = df[score > threshold]\n",
    "        return df_include, df_exclude\n",
    "    \n",
    "    def imput_mean(self, df1, df2, variable_name):\n",
    "        '''\n",
    "        function imputes the outlier values with mean\n",
    "        Accepts three argument:\n",
    "        - first df without outliers \n",
    "        - second df with outliers\n",
    "        - variable name(as string)\n",
    "        Returns dataframe\n",
    "        '''\n",
    "        mean = int(df1[variable_name].mean())\n",
    "        df2[variable_name] = mean\n",
    "        df = pd.concat([df1, df2]) #concatenating both dfs to get the original shape\n",
    "        return df\n",
    "    \n",
    "    def imput_median(self, df1, df2, variable_name):\n",
    "        '''\n",
    "        function imputes the outlier values with median\n",
    "        Accepts three argument:\n",
    "        - first df without outliers \n",
    "        - second df with outliers\n",
    "        - variable name(as string)\n",
    "        Returns dataframe\n",
    "        '''\n",
    "        median = int(df1[variable_name].median())\n",
    "        df2[variable_name] = median\n",
    "        df = pd.concat([df1, df2]) #concatenating both dfs to get the original shape\n",
    "        return df\n",
    "    \n",
    "    def imput_mode(self, df1, df2, variable_name):\n",
    "        '''\n",
    "        function imputes the outlier values with mode\n",
    "        Accepts three argument:\n",
    "        - first df without outliers \n",
    "        - second df with outliers\n",
    "        - variable name(as string)\n",
    "        Returns dataframe\n",
    "        '''\n",
    "        mode = int(df1[variable_name].mode())\n",
    "        df2[variable_name] = mode\n",
    "        df = pd.concat([df1, df2]) #concatenating both dfs to get the original shape\n",
    "        return df\n",
    "\n",
    "    def capping(self, df1, df2, variable_name, low, high):\n",
    "        '''\n",
    "        function caps the outlier value\n",
    "        Accepts three argument:\n",
    "        - first df without outliers \n",
    "        - second df with outliers\n",
    "        - variable name(as string)\n",
    "        - low (lower bound value for capping if outlier value is below it)\n",
    "        - high (upper bound value for capping if outlier value is above it)\n",
    "        Returns dataframe\n",
    "        '''\n",
    "        #low = df1[variable_name].min()\n",
    "        #high = df1[variable_name].max()\n",
    "        df2.loc[df2[variable_name] <low, variable_name] = low\n",
    "        df2.loc[df2[variable_name] >high, variable_name] = high\n",
    "        df = pd.concat([df1, df2])\n",
    "        return df\n",
    "    "
   ]
  },
  {
   "cell_type": "markdown",
   "metadata": {},
   "source": [
    "#### Creating class instance, Implementing methods\n",
    "Below are the functions under outlier class\n",
    "- box_plot('col_name')\n",
    "- iqr_method('col_name')\n",
    "- z_score('col_name')\n",
    "- mad_score('col_name')\n",
    "- imput_mean(df1(without outliers), df2(with outliers), 'col_name')\n",
    "- imput_median(df1(without outliers), df2(with outliers), 'col_name')\n",
    "- imput_mode(df1(without outliers), df2(with outliers), 'col_name')\n",
    "- capping(df1(without outliers), df2(with outliers), 'col_name', low(lower cap value), high(upper cap value))"
   ]
  },
  {
   "cell_type": "code",
   "execution_count": 204,
   "metadata": {
    "ExecuteTime": {
     "end_time": "2021-03-16T13:08:01.158417Z",
     "start_time": "2021-03-16T13:08:01.154429Z"
    }
   },
   "outputs": [],
   "source": [
    "outlier = Outliers(r)"
   ]
  },
  {
   "cell_type": "code",
   "execution_count": 205,
   "metadata": {
    "ExecuteTime": {
     "end_time": "2021-03-16T13:08:03.636790Z",
     "start_time": "2021-03-16T13:08:03.617843Z"
    }
   },
   "outputs": [
    {
     "name": "stdout",
     "output_type": "stream",
     "text": [
      "(178, 13)\n",
      "(0, 13)\n"
     ]
    }
   ],
   "source": [
    "# IQR Method\n",
    "df_without_outlier, df_with_outlier = outlier.iqr_method(\"Alcohol\")\n",
    "print(df_without_outlier.shape)\n",
    "print(df_with_outlier.shape)"
   ]
  },
  {
   "cell_type": "code",
   "execution_count": 206,
   "metadata": {
    "ExecuteTime": {
     "end_time": "2021-03-16T13:08:05.846878Z",
     "start_time": "2021-03-16T13:08:05.835910Z"
    }
   },
   "outputs": [
    {
     "name": "stdout",
     "output_type": "stream",
     "text": [
      "(178, 13)\n",
      "(0, 13)\n"
     ]
    }
   ],
   "source": [
    "# Z-Score Method\n",
    "df_without_outlier, df_with_outlier = outlier.z_score('Alcohol')\n",
    "print(df_without_outlier.shape)\n",
    "print(df_with_outlier.shape)"
   ]
  },
  {
   "cell_type": "code",
   "execution_count": 208,
   "metadata": {
    "ExecuteTime": {
     "end_time": "2021-03-16T13:08:32.217386Z",
     "start_time": "2021-03-16T13:08:32.199399Z"
    }
   },
   "outputs": [],
   "source": [
    "# Imputing with mean\n",
    "df_mean = outlier.imput_mean(df_without_outlier, df_with_outlier, 'Alcohol')"
   ]
  },
  {
   "cell_type": "code",
   "execution_count": 209,
   "metadata": {
    "ExecuteTime": {
     "end_time": "2021-03-16T13:08:34.805463Z",
     "start_time": "2021-03-16T13:08:34.778537Z"
    }
   },
   "outputs": [
    {
     "data": {
      "text/html": [
       "<div>\n",
       "<style scoped>\n",
       "    .dataframe tbody tr th:only-of-type {\n",
       "        vertical-align: middle;\n",
       "    }\n",
       "\n",
       "    .dataframe tbody tr th {\n",
       "        vertical-align: top;\n",
       "    }\n",
       "\n",
       "    .dataframe thead th {\n",
       "        text-align: right;\n",
       "    }\n",
       "</style>\n",
       "<table border=\"1\" class=\"dataframe\">\n",
       "  <thead>\n",
       "    <tr style=\"text-align: right;\">\n",
       "      <th></th>\n",
       "      <th>Alcohol</th>\n",
       "      <th>Malic.acid</th>\n",
       "      <th>Ash</th>\n",
       "      <th>Acl</th>\n",
       "      <th>Mg</th>\n",
       "      <th>Phenols</th>\n",
       "      <th>Flavanoids</th>\n",
       "      <th>Nonflavanoid.phenols</th>\n",
       "      <th>Proanth</th>\n",
       "      <th>Color.int</th>\n",
       "      <th>Hue</th>\n",
       "      <th>OD</th>\n",
       "      <th>Proline</th>\n",
       "    </tr>\n",
       "  </thead>\n",
       "  <tbody>\n",
       "    <tr>\n",
       "      <th>0</th>\n",
       "      <td>14.23</td>\n",
       "      <td>1.71</td>\n",
       "      <td>2.43</td>\n",
       "      <td>15.6</td>\n",
       "      <td>127</td>\n",
       "      <td>2.80</td>\n",
       "      <td>3.06</td>\n",
       "      <td>0.28</td>\n",
       "      <td>2.29</td>\n",
       "      <td>5.64</td>\n",
       "      <td>1.04</td>\n",
       "      <td>3.92</td>\n",
       "      <td>1065</td>\n",
       "    </tr>\n",
       "    <tr>\n",
       "      <th>1</th>\n",
       "      <td>13.20</td>\n",
       "      <td>1.78</td>\n",
       "      <td>2.14</td>\n",
       "      <td>11.2</td>\n",
       "      <td>100</td>\n",
       "      <td>2.65</td>\n",
       "      <td>2.76</td>\n",
       "      <td>0.26</td>\n",
       "      <td>1.28</td>\n",
       "      <td>4.38</td>\n",
       "      <td>1.05</td>\n",
       "      <td>3.40</td>\n",
       "      <td>1050</td>\n",
       "    </tr>\n",
       "    <tr>\n",
       "      <th>2</th>\n",
       "      <td>13.16</td>\n",
       "      <td>2.36</td>\n",
       "      <td>2.67</td>\n",
       "      <td>18.6</td>\n",
       "      <td>101</td>\n",
       "      <td>2.80</td>\n",
       "      <td>3.24</td>\n",
       "      <td>0.30</td>\n",
       "      <td>2.81</td>\n",
       "      <td>5.68</td>\n",
       "      <td>1.03</td>\n",
       "      <td>3.17</td>\n",
       "      <td>1185</td>\n",
       "    </tr>\n",
       "    <tr>\n",
       "      <th>3</th>\n",
       "      <td>14.37</td>\n",
       "      <td>1.95</td>\n",
       "      <td>2.50</td>\n",
       "      <td>16.8</td>\n",
       "      <td>113</td>\n",
       "      <td>3.85</td>\n",
       "      <td>3.49</td>\n",
       "      <td>0.24</td>\n",
       "      <td>2.18</td>\n",
       "      <td>7.80</td>\n",
       "      <td>0.86</td>\n",
       "      <td>3.45</td>\n",
       "      <td>1480</td>\n",
       "    </tr>\n",
       "    <tr>\n",
       "      <th>4</th>\n",
       "      <td>13.24</td>\n",
       "      <td>2.59</td>\n",
       "      <td>2.87</td>\n",
       "      <td>21.0</td>\n",
       "      <td>118</td>\n",
       "      <td>2.80</td>\n",
       "      <td>2.69</td>\n",
       "      <td>0.39</td>\n",
       "      <td>1.82</td>\n",
       "      <td>4.32</td>\n",
       "      <td>1.04</td>\n",
       "      <td>2.93</td>\n",
       "      <td>735</td>\n",
       "    </tr>\n",
       "  </tbody>\n",
       "</table>\n",
       "</div>"
      ],
      "text/plain": [
       "   Alcohol  Malic.acid   Ash   Acl   Mg  Phenols  Flavanoids  \\\n",
       "0    14.23        1.71  2.43  15.6  127     2.80        3.06   \n",
       "1    13.20        1.78  2.14  11.2  100     2.65        2.76   \n",
       "2    13.16        2.36  2.67  18.6  101     2.80        3.24   \n",
       "3    14.37        1.95  2.50  16.8  113     3.85        3.49   \n",
       "4    13.24        2.59  2.87  21.0  118     2.80        2.69   \n",
       "\n",
       "   Nonflavanoid.phenols  Proanth  Color.int   Hue    OD  Proline  \n",
       "0                  0.28     2.29       5.64  1.04  3.92     1065  \n",
       "1                  0.26     1.28       4.38  1.05  3.40     1050  \n",
       "2                  0.30     2.81       5.68  1.03  3.17     1185  \n",
       "3                  0.24     2.18       7.80  0.86  3.45     1480  \n",
       "4                  0.39     1.82       4.32  1.04  2.93      735  "
      ]
     },
     "execution_count": 209,
     "metadata": {},
     "output_type": "execute_result"
    }
   ],
   "source": [
    "df_mean.head()"
   ]
  },
  {
   "cell_type": "code",
   "execution_count": 30,
   "metadata": {
    "ExecuteTime": {
     "end_time": "2021-03-11T13:43:15.463359Z",
     "start_time": "2021-03-11T13:43:15.441417Z"
    }
   },
   "outputs": [
    {
     "name": "stdout",
     "output_type": "stream",
     "text": [
      "-0.051482331077134784\n"
     ]
    }
   ],
   "source": [
    "print(data['Alcohol'].skew())"
   ]
  }
 ],
 "metadata": {
  "kernelspec": {
   "display_name": "Python 3",
   "language": "python",
   "name": "python3"
  },
  "toc": {
   "base_numbering": 1,
   "nav_menu": {},
   "number_sections": true,
   "sideBar": true,
   "skip_h1_title": false,
   "title_cell": "Table of Contents",
   "title_sidebar": "Contents",
   "toc_cell": false,
   "toc_position": {},
   "toc_section_display": true,
   "toc_window_display": false
  },
  "varInspector": {
   "cols": {
    "lenName": 16,
    "lenType": 16,
    "lenVar": 40
   },
   "kernels_config": {
    "python": {
     "delete_cmd_postfix": "",
     "delete_cmd_prefix": "del ",
     "library": "var_list.py",
     "varRefreshCmd": "print(var_dic_list())"
    },
    "r": {
     "delete_cmd_postfix": ") ",
     "delete_cmd_prefix": "rm(",
     "library": "var_list.r",
     "varRefreshCmd": "cat(var_dic_list()) "
    }
   },
   "types_to_exclude": [
    "module",
    "function",
    "builtin_function_or_method",
    "instance",
    "_Feature"
   ],
   "window_display": false
  }
 },
 "nbformat": 4,
 "nbformat_minor": 2
}
