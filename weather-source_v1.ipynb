{
 "cells": [
  {
   "cell_type": "code",
   "execution_count": 1,
   "metadata": {
    "Collapsed": "false"
   },
   "outputs": [],
   "source": [
    "import json\n",
    "import requests\n",
    "import pandas as pd\n",
    "import numpy as np\n",
    "from pandas.io.json import json_normalize\n",
    "\n",
    "pd.set_option('display.max_rows', 1000)\n",
    "pd.set_option('display.max_columns', 500)\n",
    "pd.set_option('display.width', 2000)\n",
    "pd.options.display.float_format = '{:.2f}'.format\n",
    "\n",
    "# proxy settings for api calls\n",
    "headers = {'User-Agent': 'Chrome/78and.0.3865.90'}\n",
    "http_proxy  = \"http://10.245.5.249:8080\"\n",
    "https_proxy = \"https://10.245.5.249:8080\"\n",
    "ftp_proxy   = \"ftp://10.245.5.249:8080\"\n",
    "\n",
    "proxyDict = { \"http\"  : http_proxy, \"https\" : https_proxy, \"ftp\"   : ftp_proxy }"
   ]
  },
  {
   "cell_type": "markdown",
   "metadata": {
    "Collapsed": "false"
   },
   "source": [
    "<br>\n",
    "\n",
    "Weather Source Full Documentation : https://developer.weathersource.com/documentation/resources/\n",
    "\n",
    "<br>"
   ]
  },
  {
   "cell_type": "markdown",
   "metadata": {
    "Collapsed": "false"
   },
   "source": [
    "## **Get Points History**\n",
    "\n",
    "Description : Returns a collection of weather history data for a latitude/longitude point.\n",
    "\n",
    "Our patented OnPoint™ weather data is not confined to weather station locations, but is computed by overlaying multiple past weather sources (including weather station, satellite, radar, weather balloon, and model data – among others). The resulting quality-checked, error-corrected, gap-filled, and contiguous data is uniquely derived for possible every latitude/longitude location. This resource is globally available, everywhere there is landmass (except Antartica), for 2007 onward.\n",
    "\n",
    "Requires a subscription plan with the “read_history” and “access_points” capabilities to access this resource.\n",
    "\n",
    "Resource URL : https://api.weathersource.com/v1/{{api_key}}/points/{{latitude}},{{longitude}}/history.{{format}}\n",
    "\n",
    "Documentation Used : https://developer.weathersource.com/documentation/resources/get-points-latitude_and_longitude-history/"
   ]
  },
  {
   "cell_type": "code",
   "execution_count": 9,
   "metadata": {
    "Collapsed": "false"
   },
   "outputs": [],
   "source": [
    "def ws_historical_data(start, end, lat, long, period='day', fields='all'):\n",
    "    '''\n",
    "    If duration is more than 1 year separate calls should be used\n",
    "    Timestamp should be converted to ISO 8601 format\n",
    "    Docstring with examples and function return values:\n",
    "    \n",
    "    Input :\n",
    "    start - (%Y-%m-%d) format\n",
    "    end - (%Y-%m-%d) format\n",
    "    lat - latitude \n",
    "    long - longitude\n",
    "    period - hour, day (default=day)\n",
    "    \n",
    "    Output : return a callection of weather historical data for a latitude/longitude point\n",
    "    \n",
    "    '''\n",
    "    headers = {'User-Agent': 'Chrome/78and.0.3865.90'}\n",
    "    http_proxy  = \"http://10.245.5.249:8080\"\n",
    "    https_proxy = \"https://10.245.5.249:8080\"\n",
    "    ftp_proxy   = \"ftp://10.245.5.249:8080\"\n",
    "\n",
    "    proxyDict = { \n",
    "                \"http\"  : http_proxy, \n",
    "                \"https\" : https_proxy, \n",
    "                \"ftp\"   : ftp_proxy\n",
    "                 }\n",
    "    \n",
    "    key = 'e721181f854ac2268ee8'\n",
    "    start = pd.to_datetime(start,format='%Y-%m-%d')\n",
    "    end = pd.to_datetime(end, format='%Y-%m-%d')\n",
    "    \n",
    "    start = start.strftime('%Y-%m-%dT%H:%M:%S')\n",
    "    end = end.strftime('%Y-%m-%dT%H:%M:%S')\n",
    "    \n",
    "    weather_ = pd.DataFrame()\n",
    "    link = 'https://api.weathersource.com/v1/'+key+'/points/'+lat+','+long+'/history.json?period='+period+'&timestamp_between='+start+','+end+'&fields='+fields\n",
    "    response = requests.get(link, headers=headers,proxies=proxyDict)\n",
    "    print(response)\n",
    "    json_obj = json.loads(response.content.decode('utf-8'))\n",
    "    print(json_obj)\n",
    "    weather_ = json_normalize(json_obj)\n",
    "    \n",
    "    return weather_"
   ]
  },
  {
   "cell_type": "code",
   "execution_count": 10,
   "metadata": {
    "Collapsed": "false"
   },
   "outputs": [
    {
     "name": "stdout",
     "output_type": "stream",
     "text": [
      "<Response [200]>\n"
     ]
    },
    {
     "ename": "JSONDecodeError",
     "evalue": "Expecting value: line 1 column 1 (char 0)",
     "output_type": "error",
     "traceback": [
      "\u001b[0;31m---------------------------------------------------------------------------\u001b[0m",
      "\u001b[0;31mJSONDecodeError\u001b[0m                           Traceback (most recent call last)",
      "\u001b[0;32m<ipython-input-10-969b02f6e8f6>\u001b[0m in \u001b[0;36m<module>\u001b[0;34m\u001b[0m\n\u001b[1;32m      3\u001b[0m \u001b[0mlocation\u001b[0m \u001b[0;34m=\u001b[0m \u001b[0;34m(\u001b[0m\u001b[0;34m'39.9613'\u001b[0m\u001b[0;34m,\u001b[0m \u001b[0;34m'-86.4034'\u001b[0m\u001b[0;34m)\u001b[0m\u001b[0;34m\u001b[0m\u001b[0;34m\u001b[0m\u001b[0m\n\u001b[1;32m      4\u001b[0m \u001b[0;34m\u001b[0m\u001b[0m\n\u001b[0;32m----> 5\u001b[0;31m \u001b[0mdata\u001b[0m \u001b[0;34m=\u001b[0m \u001b[0mws_historical_data\u001b[0m\u001b[0;34m(\u001b[0m\u001b[0mstart\u001b[0m\u001b[0;34m=\u001b[0m\u001b[0mstart_time\u001b[0m\u001b[0;34m,\u001b[0m \u001b[0mend\u001b[0m\u001b[0;34m=\u001b[0m\u001b[0mend_time\u001b[0m\u001b[0;34m,\u001b[0m \u001b[0mlat\u001b[0m\u001b[0;34m=\u001b[0m\u001b[0mlocation\u001b[0m\u001b[0;34m[\u001b[0m\u001b[0;36m0\u001b[0m\u001b[0;34m]\u001b[0m\u001b[0;34m,\u001b[0m \u001b[0mlong\u001b[0m\u001b[0;34m=\u001b[0m\u001b[0mlocation\u001b[0m\u001b[0;34m[\u001b[0m\u001b[0;36m1\u001b[0m\u001b[0;34m]\u001b[0m\u001b[0;34m,\u001b[0m \u001b[0mperiod\u001b[0m\u001b[0;34m=\u001b[0m\u001b[0;34m'hour'\u001b[0m\u001b[0;34m)\u001b[0m\u001b[0;34m\u001b[0m\u001b[0;34m\u001b[0m\u001b[0m\n\u001b[0m\u001b[1;32m      6\u001b[0m \u001b[0mdata\u001b[0m\u001b[0;34m.\u001b[0m\u001b[0mhead\u001b[0m\u001b[0;34m(\u001b[0m\u001b[0;34m)\u001b[0m\u001b[0;34m\u001b[0m\u001b[0;34m\u001b[0m\u001b[0m\n",
      "\u001b[0;32m<ipython-input-9-b204b0f1128a>\u001b[0m in \u001b[0;36mws_historical_data\u001b[0;34m(start, end, lat, long, period, fields)\u001b[0m\n\u001b[1;32m     37\u001b[0m     \u001b[0mresponse\u001b[0m \u001b[0;34m=\u001b[0m \u001b[0mrequests\u001b[0m\u001b[0;34m.\u001b[0m\u001b[0mget\u001b[0m\u001b[0;34m(\u001b[0m\u001b[0mlink\u001b[0m\u001b[0;34m,\u001b[0m \u001b[0mheaders\u001b[0m\u001b[0;34m=\u001b[0m\u001b[0mheaders\u001b[0m\u001b[0;34m,\u001b[0m\u001b[0mproxies\u001b[0m\u001b[0;34m=\u001b[0m\u001b[0mproxyDict\u001b[0m\u001b[0;34m)\u001b[0m\u001b[0;34m\u001b[0m\u001b[0;34m\u001b[0m\u001b[0m\n\u001b[1;32m     38\u001b[0m     \u001b[0mprint\u001b[0m\u001b[0;34m(\u001b[0m\u001b[0mresponse\u001b[0m\u001b[0;34m)\u001b[0m\u001b[0;34m\u001b[0m\u001b[0;34m\u001b[0m\u001b[0m\n\u001b[0;32m---> 39\u001b[0;31m     \u001b[0mjson_obj\u001b[0m \u001b[0;34m=\u001b[0m \u001b[0mjson\u001b[0m\u001b[0;34m.\u001b[0m\u001b[0mloads\u001b[0m\u001b[0;34m(\u001b[0m\u001b[0mresponse\u001b[0m\u001b[0;34m.\u001b[0m\u001b[0mcontent\u001b[0m\u001b[0;34m.\u001b[0m\u001b[0mdecode\u001b[0m\u001b[0;34m(\u001b[0m\u001b[0;34m'utf-8'\u001b[0m\u001b[0;34m)\u001b[0m\u001b[0;34m)\u001b[0m\u001b[0;34m\u001b[0m\u001b[0;34m\u001b[0m\u001b[0m\n\u001b[0m\u001b[1;32m     40\u001b[0m     \u001b[0mprint\u001b[0m\u001b[0;34m(\u001b[0m\u001b[0mjson_obj\u001b[0m\u001b[0;34m)\u001b[0m\u001b[0;34m\u001b[0m\u001b[0;34m\u001b[0m\u001b[0m\n\u001b[1;32m     41\u001b[0m     \u001b[0mweather_\u001b[0m \u001b[0;34m=\u001b[0m \u001b[0mjson_normalize\u001b[0m\u001b[0;34m(\u001b[0m\u001b[0mjson_obj\u001b[0m\u001b[0;34m)\u001b[0m\u001b[0;34m\u001b[0m\u001b[0;34m\u001b[0m\u001b[0m\n",
      "\u001b[0;32m/opt/conda/anaconda/lib/python3.7/json/__init__.py\u001b[0m in \u001b[0;36mloads\u001b[0;34m(s, encoding, cls, object_hook, parse_float, parse_int, parse_constant, object_pairs_hook, **kw)\u001b[0m\n\u001b[1;32m    346\u001b[0m             \u001b[0mparse_int\u001b[0m \u001b[0;32mis\u001b[0m \u001b[0;32mNone\u001b[0m \u001b[0;32mand\u001b[0m \u001b[0mparse_float\u001b[0m \u001b[0;32mis\u001b[0m \u001b[0;32mNone\u001b[0m \u001b[0;32mand\u001b[0m\u001b[0;34m\u001b[0m\u001b[0;34m\u001b[0m\u001b[0m\n\u001b[1;32m    347\u001b[0m             parse_constant is None and object_pairs_hook is None and not kw):\n\u001b[0;32m--> 348\u001b[0;31m         \u001b[0;32mreturn\u001b[0m \u001b[0m_default_decoder\u001b[0m\u001b[0;34m.\u001b[0m\u001b[0mdecode\u001b[0m\u001b[0;34m(\u001b[0m\u001b[0ms\u001b[0m\u001b[0;34m)\u001b[0m\u001b[0;34m\u001b[0m\u001b[0;34m\u001b[0m\u001b[0m\n\u001b[0m\u001b[1;32m    349\u001b[0m     \u001b[0;32mif\u001b[0m \u001b[0mcls\u001b[0m \u001b[0;32mis\u001b[0m \u001b[0;32mNone\u001b[0m\u001b[0;34m:\u001b[0m\u001b[0;34m\u001b[0m\u001b[0;34m\u001b[0m\u001b[0m\n\u001b[1;32m    350\u001b[0m         \u001b[0mcls\u001b[0m \u001b[0;34m=\u001b[0m \u001b[0mJSONDecoder\u001b[0m\u001b[0;34m\u001b[0m\u001b[0;34m\u001b[0m\u001b[0m\n",
      "\u001b[0;32m/opt/conda/anaconda/lib/python3.7/json/decoder.py\u001b[0m in \u001b[0;36mdecode\u001b[0;34m(self, s, _w)\u001b[0m\n\u001b[1;32m    335\u001b[0m \u001b[0;34m\u001b[0m\u001b[0m\n\u001b[1;32m    336\u001b[0m         \"\"\"\n\u001b[0;32m--> 337\u001b[0;31m         \u001b[0mobj\u001b[0m\u001b[0;34m,\u001b[0m \u001b[0mend\u001b[0m \u001b[0;34m=\u001b[0m \u001b[0mself\u001b[0m\u001b[0;34m.\u001b[0m\u001b[0mraw_decode\u001b[0m\u001b[0;34m(\u001b[0m\u001b[0ms\u001b[0m\u001b[0;34m,\u001b[0m \u001b[0midx\u001b[0m\u001b[0;34m=\u001b[0m\u001b[0m_w\u001b[0m\u001b[0;34m(\u001b[0m\u001b[0ms\u001b[0m\u001b[0;34m,\u001b[0m \u001b[0;36m0\u001b[0m\u001b[0;34m)\u001b[0m\u001b[0;34m.\u001b[0m\u001b[0mend\u001b[0m\u001b[0;34m(\u001b[0m\u001b[0;34m)\u001b[0m\u001b[0;34m)\u001b[0m\u001b[0;34m\u001b[0m\u001b[0;34m\u001b[0m\u001b[0m\n\u001b[0m\u001b[1;32m    338\u001b[0m         \u001b[0mend\u001b[0m \u001b[0;34m=\u001b[0m \u001b[0m_w\u001b[0m\u001b[0;34m(\u001b[0m\u001b[0ms\u001b[0m\u001b[0;34m,\u001b[0m \u001b[0mend\u001b[0m\u001b[0;34m)\u001b[0m\u001b[0;34m.\u001b[0m\u001b[0mend\u001b[0m\u001b[0;34m(\u001b[0m\u001b[0;34m)\u001b[0m\u001b[0;34m\u001b[0m\u001b[0;34m\u001b[0m\u001b[0m\n\u001b[1;32m    339\u001b[0m         \u001b[0;32mif\u001b[0m \u001b[0mend\u001b[0m \u001b[0;34m!=\u001b[0m \u001b[0mlen\u001b[0m\u001b[0;34m(\u001b[0m\u001b[0ms\u001b[0m\u001b[0;34m)\u001b[0m\u001b[0;34m:\u001b[0m\u001b[0;34m\u001b[0m\u001b[0;34m\u001b[0m\u001b[0m\n",
      "\u001b[0;32m/opt/conda/anaconda/lib/python3.7/json/decoder.py\u001b[0m in \u001b[0;36mraw_decode\u001b[0;34m(self, s, idx)\u001b[0m\n\u001b[1;32m    353\u001b[0m             \u001b[0mobj\u001b[0m\u001b[0;34m,\u001b[0m \u001b[0mend\u001b[0m \u001b[0;34m=\u001b[0m \u001b[0mself\u001b[0m\u001b[0;34m.\u001b[0m\u001b[0mscan_once\u001b[0m\u001b[0;34m(\u001b[0m\u001b[0ms\u001b[0m\u001b[0;34m,\u001b[0m \u001b[0midx\u001b[0m\u001b[0;34m)\u001b[0m\u001b[0;34m\u001b[0m\u001b[0;34m\u001b[0m\u001b[0m\n\u001b[1;32m    354\u001b[0m         \u001b[0;32mexcept\u001b[0m \u001b[0mStopIteration\u001b[0m \u001b[0;32mas\u001b[0m \u001b[0merr\u001b[0m\u001b[0;34m:\u001b[0m\u001b[0;34m\u001b[0m\u001b[0;34m\u001b[0m\u001b[0m\n\u001b[0;32m--> 355\u001b[0;31m             \u001b[0;32mraise\u001b[0m \u001b[0mJSONDecodeError\u001b[0m\u001b[0;34m(\u001b[0m\u001b[0;34m\"Expecting value\"\u001b[0m\u001b[0;34m,\u001b[0m \u001b[0ms\u001b[0m\u001b[0;34m,\u001b[0m \u001b[0merr\u001b[0m\u001b[0;34m.\u001b[0m\u001b[0mvalue\u001b[0m\u001b[0;34m)\u001b[0m \u001b[0;32mfrom\u001b[0m \u001b[0;32mNone\u001b[0m\u001b[0;34m\u001b[0m\u001b[0;34m\u001b[0m\u001b[0m\n\u001b[0m\u001b[1;32m    356\u001b[0m         \u001b[0;32mreturn\u001b[0m \u001b[0mobj\u001b[0m\u001b[0;34m,\u001b[0m \u001b[0mend\u001b[0m\u001b[0;34m\u001b[0m\u001b[0;34m\u001b[0m\u001b[0m\n",
      "\u001b[0;31mJSONDecodeError\u001b[0m: Expecting value: line 1 column 1 (char 0)"
     ]
    }
   ],
   "source": [
    "start_time = \"2020-06-09\"\n",
    "end_time = \"2020-06-10\"\n",
    "location = ('39.9613', '-86.4034')\n",
    "\n",
    "data = ws_historical_data(start=start_time, end=end_time, lat=location[0], long=location[1], period='hour')\n",
    "data.head()"
   ]
  },
  {
   "cell_type": "code",
   "execution_count": 6,
   "metadata": {},
   "outputs": [
    {
     "ename": "NameError",
     "evalue": "name 'data' is not defined",
     "output_type": "error",
     "traceback": [
      "\u001b[0;31m---------------------------------------------------------------------------\u001b[0m",
      "\u001b[0;31mNameError\u001b[0m                                 Traceback (most recent call last)",
      "\u001b[0;32m<ipython-input-6-6b8b0c96a958>\u001b[0m in \u001b[0;36m<module>\u001b[0;34m\u001b[0m\n\u001b[0;32m----> 1\u001b[0;31m \u001b[0mlist_of_history\u001b[0m \u001b[0;34m=\u001b[0m \u001b[0mlist\u001b[0m\u001b[0;34m(\u001b[0m\u001b[0mdata\u001b[0m\u001b[0;34m.\u001b[0m\u001b[0mcolumns\u001b[0m\u001b[0;34m)\u001b[0m\u001b[0;34m\u001b[0m\u001b[0;34m\u001b[0m\u001b[0m\n\u001b[0m",
      "\u001b[0;31mNameError\u001b[0m: name 'data' is not defined"
     ]
    }
   ],
   "source": [
    "list_of_history = list(data.columns)"
   ]
  },
  {
   "cell_type": "markdown",
   "metadata": {
    "Collapsed": "false"
   },
   "source": [
    "## **Get Points Forecast**\n",
    "\n",
    "Description : Returns up to 15 days of daily weather forecast data or 240 hours of hourly weather forecast data for a latitude/longitude point.\n",
    "\n",
    "Our patented OnPoint™ system uniquely derives contiguous data for every possible latitude/longitude location. This resource is globally available, everywhere there is landmass (except Antartica).\n",
    "\n",
    "Requires a subscription plan with the “read_forecast” and “access_points” capabilities to access this resource.\n",
    "\n",
    "Resource Url : https://api.weathersource.com/v1/{{api_key}}/points/{{latitude}},{{longitude}}/forecast.{{format}}\n",
    "\n",
    "Documentation Used : https://developer.weathersource.com/documentation/resources/get-points-latitude_and_longitude-forecast/"
   ]
  },
  {
   "cell_type": "code",
   "execution_count": 12,
   "metadata": {
    "Collapsed": "false"
   },
   "outputs": [],
   "source": [
    "def ws_forecast_data(start, end, lat, long, period='hour', fields='all'):\n",
    "    '''\n",
    "    Timestamp should be converted to ISO 8601 format\n",
    "    Docstring with examples and function return values:\n",
    "    \n",
    "    Input :\n",
    "    start - (%Y-%m-%d) format\n",
    "    end - (%Y-%m-%d) format\n",
    "    lat - latitude \n",
    "    long - longitude\n",
    "    period - hour, day (default=day)\n",
    "    \n",
    "    Output : returns forecast data upto 15 days ahead of forecast data and 240 hours of hourly weather data for a latitude/longitude point\n",
    "    \n",
    "    '''\n",
    "    headers = {'User-Agent': 'Chrome/78and.0.3865.90'}\n",
    "    http_proxy  = \"http://10.245.5.249:8080\"\n",
    "    https_proxy = \"https://10.245.5.249:8080\"\n",
    "    ftp_proxy   = \"ftp://10.245.5.249:8080\"\n",
    "\n",
    "    proxyDict = { \n",
    "                \"http\"  : http_proxy, \n",
    "                \"https\" : https_proxy, \n",
    "                \"ftp\"   : ftp_proxy\n",
    "                 }\n",
    "    \n",
    "    key = 'e721181f854ac2268ee8'\n",
    "    start = pd.to_datetime(start,format='%Y-%m-%d')\n",
    "    start = start.strftime('%Y-%m-%d')\n",
    "    end = pd.to_datetime(end, format='%Y-%m-%d')\n",
    "    end = end.strftime('%Y-%m-%d')\n",
    "    \n",
    "#     start = start.strftime('%Y-%m-%dT%H:%M:%S')\n",
    "#     end = end.strftime('%Y-%m-%dT%H:%M:%S')\n",
    "    \n",
    "    weather_ = pd.DataFrame()\n",
    "    link = 'https://api.weathersource.com/v1/'+key+'/points/'+lat+','+long+'/forecast.json?period='+period+'&timestamp_between='+start+','+end+'&fields='+fields\n",
    "    response = requests.get(link, headers=headers,proxies=proxyDict)\n",
    "    json_obj = json.loads(response.content.decode('utf-8'))\n",
    "    weather_ = json_normalize(json_obj)\n",
    "    \n",
    "    return weather_"
   ]
  },
  {
   "cell_type": "code",
   "execution_count": 20,
   "metadata": {
    "Collapsed": "false"
   },
   "outputs": [
    {
     "name": "stderr",
     "output_type": "stream",
     "text": [
      "/opt/conda/anaconda/lib/python3.7/site-packages/ipykernel_launcher.py:40: FutureWarning: pandas.io.json.json_normalize is deprecated, use pandas.json_normalize instead\n"
     ]
    },
    {
     "data": {
      "text/plain": [
       "array(['2020-11-19T07:00:00-05:00'], dtype=object)"
      ]
     },
     "execution_count": 20,
     "metadata": {},
     "output_type": "execute_result"
    }
   ],
   "source": [
    "start_time = \"2020-11-15\"\n",
    "end_time = \"2020-11-22\"\n",
    "location = ('39.9613', '-86.4034')\n",
    "\n",
    "data = ws_forecast_data(start=start_time, end=end_time, lat=location[0], long=location[1], period='hour')\n",
    "data.timestampInit.unique()"
   ]
  },
  {
   "cell_type": "code",
   "execution_count": 13,
   "metadata": {
    "Collapsed": "false"
   },
   "outputs": [],
   "source": [
    "list_of_forecast = list(data.columns)"
   ]
  },
  {
   "cell_type": "code",
   "execution_count": 16,
   "metadata": {},
   "outputs": [],
   "source": [
    "list_of_history = set(list_of_history)\n",
    "#Find common elements of set and list.\n",
    "intersection = list_of_history. intersection(list_of_forecast) "
   ]
  },
  {
   "cell_type": "code",
   "execution_count": 18,
   "metadata": {},
   "outputs": [
    {
     "name": "stdout",
     "output_type": "stream",
     "text": [
      "{'windSpd80mMin', 'spcHumMax', 'windSpdMin', 'latitude', 'windSpdAvg', 'heatIndexMin', 'feelsLikeAvg', 'relHumMax', 'tempMax', 'spcHumMin', 'radSolarAvg', 'windSpd80mAvg', 'windSpdMax', 'cldCvrAvg', 'sfcPresMin', 'timestamp', 'wetBulbMax', 'spcHumAvg', 'sfcPresAvg', 'windChillMin', 'windSpd100mMax', 'windDir100mAvg', 'mslPresMax', 'snowfall', 'mslPresAvg', 'dewPtAvg', 'dewPtMin', 'relHumMin', 'radSolarMax', 'windSpd100mMin', 'cldCvrMin', 'windSpd80mMax', 'heatIndexAvg', 'windDir80mAvg', 'sfcPresMax', 'feelsLikeMin', 'longitude', 'feelsLikeMax', 'tempMin', 'dewPtMax', 'tempAvg', 'precip', 'windChillMax', 'windSpd100mAvg', 'wetBulbMin', 'windChillAvg', 'wetBulbAvg', 'relHumAvg', 'windDirAvg', 'mslPresMin', 'cldCvrMax', 'heatIndexMax', 'radSolarTot', 'radSolarMin'}\n"
     ]
    }
   ],
   "source": [
    "print(intersection)"
   ]
  },
  {
   "cell_type": "code",
   "execution_count": 20,
   "metadata": {},
   "outputs": [
    {
     "name": "stdout",
     "output_type": "stream",
     "text": [
      "['timestampInit', 'precipProb', 'snowfallProb']\n",
      "['presTendMax', 'presTendMin', 'presTendAvg', 'snowDepth']\n"
     ]
    }
   ],
   "source": [
    "def Diff(li1, li2): \n",
    "    return (list(set(li1) - set(li2))) \n",
    "\n",
    "print(Diff(list_of_forecast, list_of_history)) \n",
    "print(Diff(list_of_history, list_of_forecast)) "
   ]
  },
  {
   "cell_type": "code",
   "execution_count": null,
   "metadata": {},
   "outputs": [],
   "source": []
  }
 ],
 "metadata": {
  "kernelspec": {
   "display_name": "Python 3",
   "language": "python",
   "name": "python3"
  },
  "language_info": {
   "codemirror_mode": {
    "name": "ipython",
    "version": 3
   },
   "file_extension": ".py",
   "mimetype": "text/x-python",
   "name": "python",
   "nbconvert_exporter": "python",
   "pygments_lexer": "ipython3",
   "version": "3.7.1"
  }
 },
 "nbformat": 4,
 "nbformat_minor": 4
}
