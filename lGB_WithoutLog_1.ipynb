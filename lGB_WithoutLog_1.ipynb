{
 "cells": [
  {
   "cell_type": "markdown",
   "metadata": {},
   "source": [
    "# **Importing libraries and data**"
   ]
  },
  {
   "cell_type": "code",
   "execution_count": 23,
   "metadata": {
    "Collapsed": "false"
   },
   "outputs": [
    {
     "data": {
      "text/html": [
       "<script>jQuery(function() {if (jQuery(\"body.notebook_app\").length == 0) { jQuery(\".input_area\").toggle(); jQuery(\".prompt\").toggle();}});</script>"
      ]
     },
     "metadata": {},
     "output_type": "display_data"
    },
    {
     "data": {
      "text/html": [
       "<button style=\"color:\"black\";right:75%;\" onclick=\"jQuery('.input_area').toggle(); jQuery('.prompt').toggle();\">Toggle code</button>"
      ]
     },
     "metadata": {},
     "output_type": "display_data"
    }
   ],
   "source": [
    "import csv\n",
    "import math\n",
    "import pickle\n",
    "import datetime as dt\n",
    "import pandas as pd\n",
    "import numpy as np\n",
    "import warnings\n",
    "warnings.filterwarnings('ignore')\n",
    "import sklearn\n",
    "\n",
    "from scipy import stats\n",
    "from dateutil.parser import parse\n",
    "from datetime import datetime\n",
    "from IPython.display import display_html\n",
    "from sklearn.linear_model import LinearRegression\n",
    "from sklearn.cross_decomposition import PLSRegression\n",
    "from sklearn.ensemble import RandomForestRegressor\n",
    "import xgboost as xgb\n",
    "from sklearn.model_selection import train_test_split\n",
    "from sklearn.metrics import mean_absolute_error\n",
    "from sklearn.metrics import mean_squared_error\n",
    "from sklearn.metrics import r2_score\n",
    "from sklearn.model_selection import cross_val_score, GridSearchCV\n",
    "from sklearn.model_selection import RandomizedSearchCV\n",
    "from sklearn.linear_model import RidgeCV, LassoCV, Ridge, Lasso\n",
    "from yellowbrick.regressor import ResidualsPlot\n",
    "from sklearn import linear_model\n",
    "from pprint import pprint\n",
    "from sklearn.preprocessing import OrdinalEncoder\n",
    "import lightgbm as lgb\n",
    "\n",
    "import matplotlib.pyplot as plt\n",
    "import seaborn as sns\n",
    "\n",
    "%matplotlib inline\n",
    "\n",
    "pd.set_option('display.max_rows', 1000)\n",
    "pd.set_option('display.max_columns', 500)\n",
    "pd.set_option('display.width', 1000)\n",
    "plt.style.use('fivethirtyeight')\n",
    "\n",
    "import IPython.core.display as di # Example: di.display_html('<h3>%s:</h3>' % str, raw=True)\n",
    "\n",
    "# This line will hide code by default when the notebook is exported as HTML\n",
    "di.display_html('<script>jQuery(function() {if (jQuery(\"body.notebook_app\").length == 0) { jQuery(\".input_area\").toggle(); jQuery(\".prompt\").toggle();}});</script>', raw=True)\n",
    "\n",
    "# This line will add a button to toggle visibility of code blocks, for use with the HTML export version\n",
    "di.display_html('''<button style=\"color:\"black\";right:75%;\" onclick=\"jQuery('.input_area').toggle(); jQuery('.prompt').toggle();\">Toggle code</button>''', raw=True)"
   ]
  },
  {
   "cell_type": "code",
   "execution_count": 28,
   "metadata": {
    "Collapsed": "false"
   },
   "outputs": [
    {
     "name": "stdout",
     "output_type": "stream",
     "text": [
      "(79979, 139)\n"
     ]
    },
    {
     "data": {
      "text/html": [
       "<div>\n",
       "<style scoped>\n",
       "    .dataframe tbody tr th:only-of-type {\n",
       "        vertical-align: middle;\n",
       "    }\n",
       "\n",
       "    .dataframe tbody tr th {\n",
       "        vertical-align: top;\n",
       "    }\n",
       "\n",
       "    .dataframe thead th {\n",
       "        text-align: right;\n",
       "    }\n",
       "</style>\n",
       "<table border=\"1\" class=\"dataframe\">\n",
       "  <thead>\n",
       "    <tr style=\"text-align: right;\">\n",
       "      <th></th>\n",
       "      <th>PHASE_A</th>\n",
       "      <th>PHASE_B</th>\n",
       "      <th>PHASE_C</th>\n",
       "      <th>PHASE_T</th>\n",
       "      <th>LFS_CUSTS</th>\n",
       "      <th>MED_CUSTS</th>\n",
       "      <th>EMR_CUSTS</th>\n",
       "      <th>UTL_CUSTS</th>\n",
       "      <th>MAJ_CUSTS</th>\n",
       "      <th>GOV_CUSTS</th>\n",
       "      <th>LRT_CUSTS</th>\n",
       "      <th>WIREDOWN_PTH</th>\n",
       "      <th>WIREDOWN_PTP</th>\n",
       "      <th>TREEONWIRE_PTH</th>\n",
       "      <th>TREEONWIRE_PTP</th>\n",
       "      <th>BROKENPOLE</th>\n",
       "      <th>FIREEXPLOSION</th>\n",
       "      <th>DAMAGEDTRANS</th>\n",
       "      <th>PRIORITY</th>\n",
       "      <th>CONFIDENCE</th>\n",
       "      <th>CUSTSTILLOUT</th>\n",
       "      <th>TTR</th>\n",
       "      <th>MAJOR</th>\n",
       "      <th>TORD_False</th>\n",
       "      <th>TORD_True</th>\n",
       "      <th>ACCOUNT_TYPE_COM</th>\n",
       "      <th>ACCOUNT_TYPE_CUS</th>\n",
       "      <th>ACCOUNT_TYPE_GOV</th>\n",
       "      <th>ACCOUNT_TYPE_IND</th>\n",
       "      <th>ACCOUNT_TYPE_RES</th>\n",
       "      <th>Day_flag</th>\n",
       "      <th>Hour_Sin</th>\n",
       "      <th>Hour_Cos</th>\n",
       "      <th>RANK_SUBSEQUENT_OTG</th>\n",
       "      <th>weekday</th>\n",
       "      <th>Weekend_flag</th>\n",
       "      <th>Marker_Location</th>\n",
       "      <th>Outages_in_last_1hr</th>\n",
       "      <th>Outages_in_last_2hr</th>\n",
       "      <th>Outages_in_last_3hr</th>\n",
       "      <th>Outages_in_last_4hr</th>\n",
       "      <th>Outages_in_last_5hr</th>\n",
       "      <th>Outages_in_last_6hr</th>\n",
       "      <th>Outages_in_last_7hr</th>\n",
       "      <th>Outages_in_last_8hr</th>\n",
       "      <th>Outages_in_last_9hr</th>\n",
       "      <th>Outages_in_last_10hr</th>\n",
       "      <th>Min_Distance_service_Center</th>\n",
       "      <th>Nearest_service_center</th>\n",
       "      <th>cldCvrMin</th>\n",
       "      <th>cldCvrAvg</th>\n",
       "      <th>cldCvrMax</th>\n",
       "      <th>dewPtMin</th>\n",
       "      <th>dewPtAvg</th>\n",
       "      <th>dewPtMax</th>\n",
       "      <th>feelsLikeMin</th>\n",
       "      <th>feelsLikeAvg</th>\n",
       "      <th>feelsLikeMax</th>\n",
       "      <th>heatIndexMin</th>\n",
       "      <th>heatIndexAvg</th>\n",
       "      <th>heatIndexMax</th>\n",
       "      <th>mslPresMin</th>\n",
       "      <th>mslPresAvg</th>\n",
       "      <th>mslPresMax</th>\n",
       "      <th>precip</th>\n",
       "      <th>radSolarMin</th>\n",
       "      <th>radSolarAvg</th>\n",
       "      <th>radSolarMax</th>\n",
       "      <th>radSolarTot</th>\n",
       "      <th>relHumMin</th>\n",
       "      <th>relHumAvg</th>\n",
       "      <th>relHumMax</th>\n",
       "      <th>sfcPresMin</th>\n",
       "      <th>sfcPresAvg</th>\n",
       "      <th>sfcPresMax</th>\n",
       "      <th>snowfall</th>\n",
       "      <th>spcHumMin</th>\n",
       "      <th>spcHumAvg</th>\n",
       "      <th>spcHumMax</th>\n",
       "      <th>tempMin</th>\n",
       "      <th>tempAvg</th>\n",
       "      <th>tempMax</th>\n",
       "      <th>windChillMin</th>\n",
       "      <th>windChillAvg</th>\n",
       "      <th>windChillMax</th>\n",
       "      <th>windDirAvg</th>\n",
       "      <th>windDir80mAvg</th>\n",
       "      <th>windDir100mAvg</th>\n",
       "      <th>windSpdMin</th>\n",
       "      <th>windSpdAvg</th>\n",
       "      <th>windSpdMax</th>\n",
       "      <th>windSpd80mMin</th>\n",
       "      <th>windSpd80mAvg</th>\n",
       "      <th>windSpd80mMax</th>\n",
       "      <th>windSpd100mMin</th>\n",
       "      <th>windSpd100mAvg</th>\n",
       "      <th>windSpd100mMax</th>\n",
       "      <th>wetBulbMin</th>\n",
       "      <th>wetBulbAvg</th>\n",
       "      <th>wetBulbMax</th>\n",
       "      <th>tempRange</th>\n",
       "      <th>windSpdRange</th>\n",
       "      <th>sfcPresRange</th>\n",
       "      <th>cldCvrRange</th>\n",
       "      <th>relHumRange</th>\n",
       "      <th>relHumRatio</th>\n",
       "      <th>sfcPresRatio</th>\n",
       "      <th>DEVICETYPE</th>\n",
       "      <th>TOPFUSE</th>\n",
       "      <th>TOTCUST_A</th>\n",
       "      <th>TOTCUST_B</th>\n",
       "      <th>TOTCUST_C</th>\n",
       "      <th>TOTCUST_T</th>\n",
       "      <th>VOLTAGE</th>\n",
       "      <th>UNDERGD</th>\n",
       "      <th>NORMALLYOPEN</th>\n",
       "      <th>TOTKVA_A</th>\n",
       "      <th>TOTKVA_B</th>\n",
       "      <th>TOTKVA_C</th>\n",
       "      <th>Total_Crew_dispatched</th>\n",
       "      <th>Total_Crew_available</th>\n",
       "      <th>Line_crew</th>\n",
       "      <th>Service_crew</th>\n",
       "      <th>Substation_crew</th>\n",
       "      <th>Network_crew</th>\n",
       "      <th>Contractor</th>\n",
       "      <th>rank</th>\n",
       "      <th>rank_cd</th>\n",
       "      <th>Slope_outages</th>\n",
       "      <th>Slope_ROC_outages</th>\n",
       "      <th>max_ROC_outages</th>\n",
       "      <th>max_index_ROC</th>\n",
       "      <th>weight_ROC</th>\n",
       "      <th>Total_Customers</th>\n",
       "      <th>Total_Key_Customers</th>\n",
       "      <th>Month_Sin</th>\n",
       "      <th>Month_Cos</th>\n",
       "      <th>Pole</th>\n",
       "      <th>Nearest_service_center_mod</th>\n",
       "    </tr>\n",
       "  </thead>\n",
       "  <tbody>\n",
       "    <tr>\n",
       "      <th>0</th>\n",
       "      <td>True</td>\n",
       "      <td>False</td>\n",
       "      <td>False</td>\n",
       "      <td>False</td>\n",
       "      <td>0.0</td>\n",
       "      <td>0.0</td>\n",
       "      <td>0.0</td>\n",
       "      <td>0.0</td>\n",
       "      <td>0.0</td>\n",
       "      <td>0.0</td>\n",
       "      <td>0.0</td>\n",
       "      <td>False</td>\n",
       "      <td>False</td>\n",
       "      <td>False</td>\n",
       "      <td>False</td>\n",
       "      <td>False</td>\n",
       "      <td>False</td>\n",
       "      <td>True</td>\n",
       "      <td>False</td>\n",
       "      <td>H</td>\n",
       "      <td>0</td>\n",
       "      <td>351.40</td>\n",
       "      <td>0.0</td>\n",
       "      <td>8.0</td>\n",
       "      <td>0.0</td>\n",
       "      <td>False</td>\n",
       "      <td>False</td>\n",
       "      <td>False</td>\n",
       "      <td>False</td>\n",
       "      <td>False</td>\n",
       "      <td>False</td>\n",
       "      <td>0.258819</td>\n",
       "      <td>0.965926</td>\n",
       "      <td>1.0</td>\n",
       "      <td>Tuesday</td>\n",
       "      <td>False</td>\n",
       "      <td>Marker 25</td>\n",
       "      <td>0</td>\n",
       "      <td>0</td>\n",
       "      <td>0</td>\n",
       "      <td>0</td>\n",
       "      <td>0</td>\n",
       "      <td>2</td>\n",
       "      <td>3</td>\n",
       "      <td>4</td>\n",
       "      <td>4</td>\n",
       "      <td>4</td>\n",
       "      <td>9.594646</td>\n",
       "      <td>DSB</td>\n",
       "      <td>99.0</td>\n",
       "      <td>100.0</td>\n",
       "      <td>100.0</td>\n",
       "      <td>12.5</td>\n",
       "      <td>23.4</td>\n",
       "      <td>26.9</td>\n",
       "      <td>0.0</td>\n",
       "      <td>14.1</td>\n",
       "      <td>19.1</td>\n",
       "      <td>17.3</td>\n",
       "      <td>27.6</td>\n",
       "      <td>30.9</td>\n",
       "      <td>1006.5</td>\n",
       "      <td>1013.2</td>\n",
       "      <td>1021.3</td>\n",
       "      <td>1.31</td>\n",
       "      <td>0.0</td>\n",
       "      <td>29.7</td>\n",
       "      <td>154.9</td>\n",
       "      <td>711.9</td>\n",
       "      <td>77.4</td>\n",
       "      <td>84.0</td>\n",
       "      <td>90.5</td>\n",
       "      <td>972.7</td>\n",
       "      <td>979.1</td>\n",
       "      <td>986.8</td>\n",
       "      <td>10.8</td>\n",
       "      <td>1.7</td>\n",
       "      <td>2.8</td>\n",
       "      <td>3.1</td>\n",
       "      <td>17.3</td>\n",
       "      <td>27.6</td>\n",
       "      <td>30.9</td>\n",
       "      <td>0.0</td>\n",
       "      <td>14.1</td>\n",
       "      <td>19.1</td>\n",
       "      <td>52.0</td>\n",
       "      <td>54.0</td>\n",
       "      <td>54.0</td>\n",
       "      <td>14.3</td>\n",
       "      <td>20.3</td>\n",
       "      <td>23.3</td>\n",
       "      <td>16.9</td>\n",
       "      <td>22.7</td>\n",
       "      <td>25.7</td>\n",
       "      <td>16.6</td>\n",
       "      <td>22.5</td>\n",
       "      <td>25.5</td>\n",
       "      <td>16.1</td>\n",
       "      <td>26.2</td>\n",
       "      <td>29.2</td>\n",
       "      <td>13.6</td>\n",
       "      <td>9.0</td>\n",
       "      <td>14.1</td>\n",
       "      <td>1.0</td>\n",
       "      <td>13.1</td>\n",
       "      <td>1.169251</td>\n",
       "      <td>1.014496</td>\n",
       "      <td>FUSE</td>\n",
       "      <td>False</td>\n",
       "      <td>45.0</td>\n",
       "      <td>0.0</td>\n",
       "      <td>0.0</td>\n",
       "      <td>0.0</td>\n",
       "      <td>12KV (100%)</td>\n",
       "      <td>False</td>\n",
       "      <td>False</td>\n",
       "      <td>387.0</td>\n",
       "      <td>0.0</td>\n",
       "      <td>0.0</td>\n",
       "      <td>0</td>\n",
       "      <td>13</td>\n",
       "      <td>11</td>\n",
       "      <td>2</td>\n",
       "      <td>0</td>\n",
       "      <td>0</td>\n",
       "      <td>1</td>\n",
       "      <td>1.0</td>\n",
       "      <td>1.0</td>\n",
       "      <td>1.479751</td>\n",
       "      <td>7.105263e-01</td>\n",
       "      <td>2</td>\n",
       "      <td>5</td>\n",
       "      <td>1.0</td>\n",
       "      <td>45.0</td>\n",
       "      <td>0.0</td>\n",
       "      <td>0.5</td>\n",
       "      <td>0.866025</td>\n",
       "      <td>False</td>\n",
       "      <td>Center</td>\n",
       "    </tr>\n",
       "    <tr>\n",
       "      <th>1</th>\n",
       "      <td>False</td>\n",
       "      <td>False</td>\n",
       "      <td>True</td>\n",
       "      <td>False</td>\n",
       "      <td>0.0</td>\n",
       "      <td>0.0</td>\n",
       "      <td>0.0</td>\n",
       "      <td>0.0</td>\n",
       "      <td>0.0</td>\n",
       "      <td>0.0</td>\n",
       "      <td>0.0</td>\n",
       "      <td>False</td>\n",
       "      <td>False</td>\n",
       "      <td>False</td>\n",
       "      <td>False</td>\n",
       "      <td>False</td>\n",
       "      <td>False</td>\n",
       "      <td>False</td>\n",
       "      <td>False</td>\n",
       "      <td>H</td>\n",
       "      <td>0</td>\n",
       "      <td>188.82</td>\n",
       "      <td>0.0</td>\n",
       "      <td>3.0</td>\n",
       "      <td>0.0</td>\n",
       "      <td>False</td>\n",
       "      <td>False</td>\n",
       "      <td>False</td>\n",
       "      <td>False</td>\n",
       "      <td>False</td>\n",
       "      <td>True</td>\n",
       "      <td>0.965926</td>\n",
       "      <td>-0.258819</td>\n",
       "      <td>2.0</td>\n",
       "      <td>Tuesday</td>\n",
       "      <td>False</td>\n",
       "      <td>Marker 41</td>\n",
       "      <td>0</td>\n",
       "      <td>0</td>\n",
       "      <td>0</td>\n",
       "      <td>0</td>\n",
       "      <td>0</td>\n",
       "      <td>1</td>\n",
       "      <td>1</td>\n",
       "      <td>1</td>\n",
       "      <td>1</td>\n",
       "      <td>1</td>\n",
       "      <td>44.024088</td>\n",
       "      <td>Washington Court House</td>\n",
       "      <td>100.0</td>\n",
       "      <td>100.0</td>\n",
       "      <td>100.0</td>\n",
       "      <td>18.8</td>\n",
       "      <td>27.3</td>\n",
       "      <td>28.8</td>\n",
       "      <td>7.6</td>\n",
       "      <td>19.0</td>\n",
       "      <td>22.0</td>\n",
       "      <td>22.7</td>\n",
       "      <td>30.8</td>\n",
       "      <td>33.2</td>\n",
       "      <td>1004.4</td>\n",
       "      <td>1011.7</td>\n",
       "      <td>1020.8</td>\n",
       "      <td>1.39</td>\n",
       "      <td>0.0</td>\n",
       "      <td>29.4</td>\n",
       "      <td>140.0</td>\n",
       "      <td>705.1</td>\n",
       "      <td>80.9</td>\n",
       "      <td>86.9</td>\n",
       "      <td>91.0</td>\n",
       "      <td>967.4</td>\n",
       "      <td>974.7</td>\n",
       "      <td>983.0</td>\n",
       "      <td>0.5</td>\n",
       "      <td>2.3</td>\n",
       "      <td>3.2</td>\n",
       "      <td>3.4</td>\n",
       "      <td>22.7</td>\n",
       "      <td>30.8</td>\n",
       "      <td>33.2</td>\n",
       "      <td>7.6</td>\n",
       "      <td>19.0</td>\n",
       "      <td>22.0</td>\n",
       "      <td>54.0</td>\n",
       "      <td>56.0</td>\n",
       "      <td>56.0</td>\n",
       "      <td>13.8</td>\n",
       "      <td>18.2</td>\n",
       "      <td>21.1</td>\n",
       "      <td>16.0</td>\n",
       "      <td>20.2</td>\n",
       "      <td>23.1</td>\n",
       "      <td>15.8</td>\n",
       "      <td>20.0</td>\n",
       "      <td>23.0</td>\n",
       "      <td>21.5</td>\n",
       "      <td>29.5</td>\n",
       "      <td>31.3</td>\n",
       "      <td>10.5</td>\n",
       "      <td>7.3</td>\n",
       "      <td>15.6</td>\n",
       "      <td>0.0</td>\n",
       "      <td>10.1</td>\n",
       "      <td>1.124845</td>\n",
       "      <td>1.016126</td>\n",
       "      <td>FUSE</td>\n",
       "      <td>False</td>\n",
       "      <td>0.0</td>\n",
       "      <td>0.0</td>\n",
       "      <td>5.0</td>\n",
       "      <td>0.0</td>\n",
       "      <td>12KV (100%)</td>\n",
       "      <td>False</td>\n",
       "      <td>False</td>\n",
       "      <td>0.0</td>\n",
       "      <td>0.0</td>\n",
       "      <td>75.0</td>\n",
       "      <td>2</td>\n",
       "      <td>22</td>\n",
       "      <td>20</td>\n",
       "      <td>2</td>\n",
       "      <td>0</td>\n",
       "      <td>0</td>\n",
       "      <td>1</td>\n",
       "      <td>1.0</td>\n",
       "      <td>1.0</td>\n",
       "      <td>5.000000</td>\n",
       "      <td>-1.873501e-16</td>\n",
       "      <td>1</td>\n",
       "      <td>5</td>\n",
       "      <td>0.5</td>\n",
       "      <td>5.0</td>\n",
       "      <td>0.0</td>\n",
       "      <td>0.5</td>\n",
       "      <td>0.866025</td>\n",
       "      <td>False</td>\n",
       "      <td>Not_Center</td>\n",
       "    </tr>\n",
       "    <tr>\n",
       "      <th>2</th>\n",
       "      <td>False</td>\n",
       "      <td>False</td>\n",
       "      <td>True</td>\n",
       "      <td>False</td>\n",
       "      <td>0.0</td>\n",
       "      <td>0.0</td>\n",
       "      <td>0.0</td>\n",
       "      <td>0.0</td>\n",
       "      <td>0.0</td>\n",
       "      <td>0.0</td>\n",
       "      <td>0.0</td>\n",
       "      <td>False</td>\n",
       "      <td>False</td>\n",
       "      <td>False</td>\n",
       "      <td>False</td>\n",
       "      <td>False</td>\n",
       "      <td>False</td>\n",
       "      <td>False</td>\n",
       "      <td>False</td>\n",
       "      <td>H</td>\n",
       "      <td>0</td>\n",
       "      <td>87.47</td>\n",
       "      <td>0.0</td>\n",
       "      <td>2.0</td>\n",
       "      <td>0.0</td>\n",
       "      <td>False</td>\n",
       "      <td>False</td>\n",
       "      <td>False</td>\n",
       "      <td>False</td>\n",
       "      <td>False</td>\n",
       "      <td>True</td>\n",
       "      <td>0.965926</td>\n",
       "      <td>-0.258819</td>\n",
       "      <td>3.0</td>\n",
       "      <td>Tuesday</td>\n",
       "      <td>False</td>\n",
       "      <td>Marker 13</td>\n",
       "      <td>1</td>\n",
       "      <td>1</td>\n",
       "      <td>1</td>\n",
       "      <td>1</td>\n",
       "      <td>1</td>\n",
       "      <td>2</td>\n",
       "      <td>2</td>\n",
       "      <td>2</td>\n",
       "      <td>2</td>\n",
       "      <td>2</td>\n",
       "      <td>19.700468</td>\n",
       "      <td>Marysville</td>\n",
       "      <td>100.0</td>\n",
       "      <td>100.0</td>\n",
       "      <td>100.0</td>\n",
       "      <td>11.8</td>\n",
       "      <td>18.0</td>\n",
       "      <td>23.9</td>\n",
       "      <td>-1.6</td>\n",
       "      <td>6.7</td>\n",
       "      <td>16.4</td>\n",
       "      <td>16.2</td>\n",
       "      <td>22.0</td>\n",
       "      <td>27.3</td>\n",
       "      <td>1009.0</td>\n",
       "      <td>1016.1</td>\n",
       "      <td>1023.6</td>\n",
       "      <td>1.31</td>\n",
       "      <td>0.0</td>\n",
       "      <td>25.8</td>\n",
       "      <td>115.3</td>\n",
       "      <td>617.8</td>\n",
       "      <td>79.1</td>\n",
       "      <td>84.8</td>\n",
       "      <td>89.3</td>\n",
       "      <td>961.0</td>\n",
       "      <td>967.8</td>\n",
       "      <td>975.0</td>\n",
       "      <td>18.6</td>\n",
       "      <td>1.7</td>\n",
       "      <td>2.2</td>\n",
       "      <td>2.8</td>\n",
       "      <td>16.2</td>\n",
       "      <td>22.0</td>\n",
       "      <td>27.3</td>\n",
       "      <td>-1.6</td>\n",
       "      <td>6.7</td>\n",
       "      <td>16.4</td>\n",
       "      <td>47.0</td>\n",
       "      <td>49.0</td>\n",
       "      <td>49.0</td>\n",
       "      <td>12.9</td>\n",
       "      <td>20.5</td>\n",
       "      <td>24.1</td>\n",
       "      <td>15.5</td>\n",
       "      <td>23.2</td>\n",
       "      <td>27.0</td>\n",
       "      <td>15.3</td>\n",
       "      <td>22.9</td>\n",
       "      <td>26.6</td>\n",
       "      <td>15.2</td>\n",
       "      <td>20.8</td>\n",
       "      <td>26.1</td>\n",
       "      <td>11.1</td>\n",
       "      <td>11.2</td>\n",
       "      <td>14.0</td>\n",
       "      <td>0.0</td>\n",
       "      <td>10.2</td>\n",
       "      <td>1.128951</td>\n",
       "      <td>1.014568</td>\n",
       "      <td>FUSE</td>\n",
       "      <td>False</td>\n",
       "      <td>0.0</td>\n",
       "      <td>0.0</td>\n",
       "      <td>3.0</td>\n",
       "      <td>0.0</td>\n",
       "      <td>12KV (100%)</td>\n",
       "      <td>False</td>\n",
       "      <td>False</td>\n",
       "      <td>0.0</td>\n",
       "      <td>0.0</td>\n",
       "      <td>100.0</td>\n",
       "      <td>3</td>\n",
       "      <td>23</td>\n",
       "      <td>21</td>\n",
       "      <td>2</td>\n",
       "      <td>0</td>\n",
       "      <td>0</td>\n",
       "      <td>1</td>\n",
       "      <td>1.0</td>\n",
       "      <td>1.0</td>\n",
       "      <td>5.000000</td>\n",
       "      <td>-1.873501e-16</td>\n",
       "      <td>1</td>\n",
       "      <td>5</td>\n",
       "      <td>0.5</td>\n",
       "      <td>3.0</td>\n",
       "      <td>0.0</td>\n",
       "      <td>0.5</td>\n",
       "      <td>0.866025</td>\n",
       "      <td>False</td>\n",
       "      <td>Not_Center</td>\n",
       "    </tr>\n",
       "    <tr>\n",
       "      <th>3</th>\n",
       "      <td>False</td>\n",
       "      <td>False</td>\n",
       "      <td>True</td>\n",
       "      <td>False</td>\n",
       "      <td>0.0</td>\n",
       "      <td>0.0</td>\n",
       "      <td>0.0</td>\n",
       "      <td>0.0</td>\n",
       "      <td>0.0</td>\n",
       "      <td>0.0</td>\n",
       "      <td>0.0</td>\n",
       "      <td>False</td>\n",
       "      <td>False</td>\n",
       "      <td>False</td>\n",
       "      <td>False</td>\n",
       "      <td>False</td>\n",
       "      <td>False</td>\n",
       "      <td>False</td>\n",
       "      <td>False</td>\n",
       "      <td>H</td>\n",
       "      <td>0</td>\n",
       "      <td>85.97</td>\n",
       "      <td>0.0</td>\n",
       "      <td>6.0</td>\n",
       "      <td>0.0</td>\n",
       "      <td>True</td>\n",
       "      <td>False</td>\n",
       "      <td>False</td>\n",
       "      <td>False</td>\n",
       "      <td>False</td>\n",
       "      <td>True</td>\n",
       "      <td>0.707107</td>\n",
       "      <td>-0.707107</td>\n",
       "      <td>4.0</td>\n",
       "      <td>Tuesday</td>\n",
       "      <td>False</td>\n",
       "      <td>Marker 55</td>\n",
       "      <td>0</td>\n",
       "      <td>1</td>\n",
       "      <td>2</td>\n",
       "      <td>2</td>\n",
       "      <td>2</td>\n",
       "      <td>2</td>\n",
       "      <td>2</td>\n",
       "      <td>3</td>\n",
       "      <td>3</td>\n",
       "      <td>3</td>\n",
       "      <td>16.515180</td>\n",
       "      <td>Xenia</td>\n",
       "      <td>100.0</td>\n",
       "      <td>100.0</td>\n",
       "      <td>100.0</td>\n",
       "      <td>16.1</td>\n",
       "      <td>24.6</td>\n",
       "      <td>26.9</td>\n",
       "      <td>3.7</td>\n",
       "      <td>14.8</td>\n",
       "      <td>18.5</td>\n",
       "      <td>19.8</td>\n",
       "      <td>27.8</td>\n",
       "      <td>30.9</td>\n",
       "      <td>1005.6</td>\n",
       "      <td>1013.0</td>\n",
       "      <td>1021.8</td>\n",
       "      <td>1.36</td>\n",
       "      <td>0.0</td>\n",
       "      <td>28.9</td>\n",
       "      <td>150.0</td>\n",
       "      <td>694.7</td>\n",
       "      <td>82.6</td>\n",
       "      <td>88.0</td>\n",
       "      <td>92.0</td>\n",
       "      <td>966.2</td>\n",
       "      <td>973.5</td>\n",
       "      <td>981.4</td>\n",
       "      <td>4.0</td>\n",
       "      <td>2.0</td>\n",
       "      <td>2.9</td>\n",
       "      <td>3.2</td>\n",
       "      <td>19.8</td>\n",
       "      <td>27.8</td>\n",
       "      <td>30.9</td>\n",
       "      <td>3.7</td>\n",
       "      <td>14.8</td>\n",
       "      <td>18.5</td>\n",
       "      <td>52.0</td>\n",
       "      <td>54.0</td>\n",
       "      <td>53.0</td>\n",
       "      <td>13.6</td>\n",
       "      <td>19.2</td>\n",
       "      <td>23.0</td>\n",
       "      <td>16.0</td>\n",
       "      <td>21.5</td>\n",
       "      <td>25.2</td>\n",
       "      <td>15.8</td>\n",
       "      <td>21.4</td>\n",
       "      <td>25.2</td>\n",
       "      <td>18.8</td>\n",
       "      <td>26.7</td>\n",
       "      <td>29.4</td>\n",
       "      <td>11.1</td>\n",
       "      <td>9.4</td>\n",
       "      <td>15.2</td>\n",
       "      <td>0.0</td>\n",
       "      <td>9.4</td>\n",
       "      <td>1.113801</td>\n",
       "      <td>1.015732</td>\n",
       "      <td>FUSE</td>\n",
       "      <td>False</td>\n",
       "      <td>0.0</td>\n",
       "      <td>0.0</td>\n",
       "      <td>10.0</td>\n",
       "      <td>0.0</td>\n",
       "      <td>12KV (100%)</td>\n",
       "      <td>False</td>\n",
       "      <td>False</td>\n",
       "      <td>0.0</td>\n",
       "      <td>0.0</td>\n",
       "      <td>0.0</td>\n",
       "      <td>6</td>\n",
       "      <td>29</td>\n",
       "      <td>27</td>\n",
       "      <td>2</td>\n",
       "      <td>0</td>\n",
       "      <td>0</td>\n",
       "      <td>1</td>\n",
       "      <td>1.0</td>\n",
       "      <td>1.0</td>\n",
       "      <td>2.875000</td>\n",
       "      <td>-2.500000e+00</td>\n",
       "      <td>1</td>\n",
       "      <td>1</td>\n",
       "      <td>0.1</td>\n",
       "      <td>10.0</td>\n",
       "      <td>0.0</td>\n",
       "      <td>0.5</td>\n",
       "      <td>0.866025</td>\n",
       "      <td>False</td>\n",
       "      <td>Not_Center</td>\n",
       "    </tr>\n",
       "    <tr>\n",
       "      <th>4</th>\n",
       "      <td>False</td>\n",
       "      <td>False</td>\n",
       "      <td>True</td>\n",
       "      <td>False</td>\n",
       "      <td>0.0</td>\n",
       "      <td>0.0</td>\n",
       "      <td>0.0</td>\n",
       "      <td>0.0</td>\n",
       "      <td>0.0</td>\n",
       "      <td>0.0</td>\n",
       "      <td>0.0</td>\n",
       "      <td>False</td>\n",
       "      <td>False</td>\n",
       "      <td>False</td>\n",
       "      <td>False</td>\n",
       "      <td>False</td>\n",
       "      <td>False</td>\n",
       "      <td>False</td>\n",
       "      <td>False</td>\n",
       "      <td>H</td>\n",
       "      <td>0</td>\n",
       "      <td>154.60</td>\n",
       "      <td>0.0</td>\n",
       "      <td>1.0</td>\n",
       "      <td>0.0</td>\n",
       "      <td>False</td>\n",
       "      <td>False</td>\n",
       "      <td>False</td>\n",
       "      <td>False</td>\n",
       "      <td>True</td>\n",
       "      <td>True</td>\n",
       "      <td>0.500000</td>\n",
       "      <td>-0.866025</td>\n",
       "      <td>6.0</td>\n",
       "      <td>Tuesday</td>\n",
       "      <td>False</td>\n",
       "      <td>Marker 26</td>\n",
       "      <td>1</td>\n",
       "      <td>2</td>\n",
       "      <td>3</td>\n",
       "      <td>4</td>\n",
       "      <td>4</td>\n",
       "      <td>4</td>\n",
       "      <td>4</td>\n",
       "      <td>4</td>\n",
       "      <td>5</td>\n",
       "      <td>5</td>\n",
       "      <td>2.921356</td>\n",
       "      <td>DSB</td>\n",
       "      <td>100.0</td>\n",
       "      <td>100.0</td>\n",
       "      <td>100.0</td>\n",
       "      <td>11.7</td>\n",
       "      <td>21.7</td>\n",
       "      <td>26.2</td>\n",
       "      <td>-0.8</td>\n",
       "      <td>12.1</td>\n",
       "      <td>18.9</td>\n",
       "      <td>16.8</td>\n",
       "      <td>26.1</td>\n",
       "      <td>29.6</td>\n",
       "      <td>1007.5</td>\n",
       "      <td>1014.1</td>\n",
       "      <td>1021.8</td>\n",
       "      <td>1.36</td>\n",
       "      <td>0.0</td>\n",
       "      <td>28.6</td>\n",
       "      <td>141.2</td>\n",
       "      <td>686.1</td>\n",
       "      <td>76.9</td>\n",
       "      <td>83.0</td>\n",
       "      <td>89.2</td>\n",
       "      <td>976.7</td>\n",
       "      <td>983.0</td>\n",
       "      <td>990.5</td>\n",
       "      <td>16.0</td>\n",
       "      <td>1.6</td>\n",
       "      <td>2.6</td>\n",
       "      <td>3.0</td>\n",
       "      <td>16.8</td>\n",
       "      <td>26.1</td>\n",
       "      <td>29.6</td>\n",
       "      <td>-0.8</td>\n",
       "      <td>12.1</td>\n",
       "      <td>18.9</td>\n",
       "      <td>50.0</td>\n",
       "      <td>52.0</td>\n",
       "      <td>52.0</td>\n",
       "      <td>14.1</td>\n",
       "      <td>20.7</td>\n",
       "      <td>24.3</td>\n",
       "      <td>16.5</td>\n",
       "      <td>23.2</td>\n",
       "      <td>26.2</td>\n",
       "      <td>16.3</td>\n",
       "      <td>23.0</td>\n",
       "      <td>26.1</td>\n",
       "      <td>15.6</td>\n",
       "      <td>24.8</td>\n",
       "      <td>28.4</td>\n",
       "      <td>12.8</td>\n",
       "      <td>10.2</td>\n",
       "      <td>13.8</td>\n",
       "      <td>0.0</td>\n",
       "      <td>12.3</td>\n",
       "      <td>1.159948</td>\n",
       "      <td>1.014129</td>\n",
       "      <td>FUSE</td>\n",
       "      <td>False</td>\n",
       "      <td>0.0</td>\n",
       "      <td>0.0</td>\n",
       "      <td>64.0</td>\n",
       "      <td>0.0</td>\n",
       "      <td>12KV (95%)</td>\n",
       "      <td>False</td>\n",
       "      <td>False</td>\n",
       "      <td>0.0</td>\n",
       "      <td>0.0</td>\n",
       "      <td>650.0</td>\n",
       "      <td>3</td>\n",
       "      <td>31</td>\n",
       "      <td>29</td>\n",
       "      <td>2</td>\n",
       "      <td>0</td>\n",
       "      <td>0</td>\n",
       "      <td>1</td>\n",
       "      <td>1.0</td>\n",
       "      <td>1.0</td>\n",
       "      <td>2.152778</td>\n",
       "      <td>-2.700000e+00</td>\n",
       "      <td>1</td>\n",
       "      <td>1</td>\n",
       "      <td>0.1</td>\n",
       "      <td>64.0</td>\n",
       "      <td>0.0</td>\n",
       "      <td>0.5</td>\n",
       "      <td>0.866025</td>\n",
       "      <td>False</td>\n",
       "      <td>Center</td>\n",
       "    </tr>\n",
       "  </tbody>\n",
       "</table>\n",
       "</div>"
      ],
      "text/plain": [
       "   PHASE_A  PHASE_B  PHASE_C  PHASE_T  LFS_CUSTS  MED_CUSTS  EMR_CUSTS  UTL_CUSTS  MAJ_CUSTS  GOV_CUSTS  LRT_CUSTS  WIREDOWN_PTH  WIREDOWN_PTP  TREEONWIRE_PTH  TREEONWIRE_PTP  BROKENPOLE  FIREEXPLOSION  DAMAGEDTRANS  PRIORITY CONFIDENCE  CUSTSTILLOUT     TTR  MAJOR  TORD_False  TORD_True  ACCOUNT_TYPE_COM  ACCOUNT_TYPE_CUS  ACCOUNT_TYPE_GOV  ACCOUNT_TYPE_IND  ACCOUNT_TYPE_RES  Day_flag  Hour_Sin  Hour_Cos  RANK_SUBSEQUENT_OTG  weekday  Weekend_flag Marker_Location  Outages_in_last_1hr  Outages_in_last_2hr  Outages_in_last_3hr  Outages_in_last_4hr  Outages_in_last_5hr  Outages_in_last_6hr  Outages_in_last_7hr  Outages_in_last_8hr  Outages_in_last_9hr  Outages_in_last_10hr  Min_Distance_service_Center  Nearest_service_center  cldCvrMin  cldCvrAvg  cldCvrMax  dewPtMin  dewPtAvg  dewPtMax  feelsLikeMin  feelsLikeAvg  feelsLikeMax  heatIndexMin  heatIndexAvg  heatIndexMax  mslPresMin  mslPresAvg  mslPresMax  precip  radSolarMin  radSolarAvg  radSolarMax  radSolarTot  relHumMin  relHumAvg  \\\n",
       "0     True    False    False    False        0.0        0.0        0.0        0.0        0.0        0.0        0.0         False         False           False           False       False          False          True     False          H             0  351.40    0.0         8.0        0.0             False             False             False             False             False     False  0.258819  0.965926                  1.0  Tuesday         False       Marker 25                    0                    0                    0                    0                    0                    2                    3                    4                    4                     4                     9.594646                     DSB       99.0      100.0      100.0      12.5      23.4      26.9           0.0          14.1          19.1          17.3          27.6          30.9      1006.5      1013.2      1021.3    1.31          0.0         29.7        154.9        711.9       77.4       84.0   \n",
       "1    False    False     True    False        0.0        0.0        0.0        0.0        0.0        0.0        0.0         False         False           False           False       False          False         False     False          H             0  188.82    0.0         3.0        0.0             False             False             False             False             False      True  0.965926 -0.258819                  2.0  Tuesday         False       Marker 41                    0                    0                    0                    0                    0                    1                    1                    1                    1                     1                    44.024088  Washington Court House      100.0      100.0      100.0      18.8      27.3      28.8           7.6          19.0          22.0          22.7          30.8          33.2      1004.4      1011.7      1020.8    1.39          0.0         29.4        140.0        705.1       80.9       86.9   \n",
       "2    False    False     True    False        0.0        0.0        0.0        0.0        0.0        0.0        0.0         False         False           False           False       False          False         False     False          H             0   87.47    0.0         2.0        0.0             False             False             False             False             False      True  0.965926 -0.258819                  3.0  Tuesday         False       Marker 13                    1                    1                    1                    1                    1                    2                    2                    2                    2                     2                    19.700468              Marysville      100.0      100.0      100.0      11.8      18.0      23.9          -1.6           6.7          16.4          16.2          22.0          27.3      1009.0      1016.1      1023.6    1.31          0.0         25.8        115.3        617.8       79.1       84.8   \n",
       "3    False    False     True    False        0.0        0.0        0.0        0.0        0.0        0.0        0.0         False         False           False           False       False          False         False     False          H             0   85.97    0.0         6.0        0.0              True             False             False             False             False      True  0.707107 -0.707107                  4.0  Tuesday         False       Marker 55                    0                    1                    2                    2                    2                    2                    2                    3                    3                     3                    16.515180                   Xenia      100.0      100.0      100.0      16.1      24.6      26.9           3.7          14.8          18.5          19.8          27.8          30.9      1005.6      1013.0      1021.8    1.36          0.0         28.9        150.0        694.7       82.6       88.0   \n",
       "4    False    False     True    False        0.0        0.0        0.0        0.0        0.0        0.0        0.0         False         False           False           False       False          False         False     False          H             0  154.60    0.0         1.0        0.0             False             False             False             False              True      True  0.500000 -0.866025                  6.0  Tuesday         False       Marker 26                    1                    2                    3                    4                    4                    4                    4                    4                    5                     5                     2.921356                     DSB      100.0      100.0      100.0      11.7      21.7      26.2          -0.8          12.1          18.9          16.8          26.1          29.6      1007.5      1014.1      1021.8    1.36          0.0         28.6        141.2        686.1       76.9       83.0   \n",
       "\n",
       "   relHumMax  sfcPresMin  sfcPresAvg  sfcPresMax  snowfall  spcHumMin  spcHumAvg  spcHumMax  tempMin  tempAvg  tempMax  windChillMin  windChillAvg  windChillMax  windDirAvg  windDir80mAvg  windDir100mAvg  windSpdMin  windSpdAvg  windSpdMax  windSpd80mMin  windSpd80mAvg  windSpd80mMax  windSpd100mMin  windSpd100mAvg  windSpd100mMax  wetBulbMin  wetBulbAvg  wetBulbMax  tempRange  windSpdRange  sfcPresRange  cldCvrRange  relHumRange  relHumRatio  sfcPresRatio DEVICETYPE  TOPFUSE  TOTCUST_A  TOTCUST_B  TOTCUST_C  TOTCUST_T      VOLTAGE  UNDERGD  NORMALLYOPEN  TOTKVA_A  TOTKVA_B  TOTKVA_C  Total_Crew_dispatched  Total_Crew_available  Line_crew  Service_crew  Substation_crew  Network_crew  Contractor  rank  rank_cd  Slope_outages  Slope_ROC_outages  max_ROC_outages  max_index_ROC  weight_ROC  Total_Customers  Total_Key_Customers  Month_Sin  Month_Cos   Pole Nearest_service_center_mod  \n",
       "0       90.5       972.7       979.1       986.8      10.8        1.7        2.8        3.1     17.3     27.6     30.9           0.0          14.1          19.1        52.0           54.0            54.0        14.3        20.3        23.3           16.9           22.7           25.7            16.6            22.5            25.5        16.1        26.2        29.2       13.6           9.0          14.1          1.0         13.1     1.169251      1.014496       FUSE    False       45.0        0.0        0.0        0.0  12KV (100%)    False         False     387.0       0.0       0.0                      0                    13         11             2                0             0           1   1.0      1.0       1.479751       7.105263e-01                2              5         1.0             45.0                  0.0        0.5   0.866025  False                     Center  \n",
       "1       91.0       967.4       974.7       983.0       0.5        2.3        3.2        3.4     22.7     30.8     33.2           7.6          19.0          22.0        54.0           56.0            56.0        13.8        18.2        21.1           16.0           20.2           23.1            15.8            20.0            23.0        21.5        29.5        31.3       10.5           7.3          15.6          0.0         10.1     1.124845      1.016126       FUSE    False        0.0        0.0        5.0        0.0  12KV (100%)    False         False       0.0       0.0      75.0                      2                    22         20             2                0             0           1   1.0      1.0       5.000000      -1.873501e-16                1              5         0.5              5.0                  0.0        0.5   0.866025  False                 Not_Center  \n",
       "2       89.3       961.0       967.8       975.0      18.6        1.7        2.2        2.8     16.2     22.0     27.3          -1.6           6.7          16.4        47.0           49.0            49.0        12.9        20.5        24.1           15.5           23.2           27.0            15.3            22.9            26.6        15.2        20.8        26.1       11.1          11.2          14.0          0.0         10.2     1.128951      1.014568       FUSE    False        0.0        0.0        3.0        0.0  12KV (100%)    False         False       0.0       0.0     100.0                      3                    23         21             2                0             0           1   1.0      1.0       5.000000      -1.873501e-16                1              5         0.5              3.0                  0.0        0.5   0.866025  False                 Not_Center  \n",
       "3       92.0       966.2       973.5       981.4       4.0        2.0        2.9        3.2     19.8     27.8     30.9           3.7          14.8          18.5        52.0           54.0            53.0        13.6        19.2        23.0           16.0           21.5           25.2            15.8            21.4            25.2        18.8        26.7        29.4       11.1           9.4          15.2          0.0          9.4     1.113801      1.015732       FUSE    False        0.0        0.0       10.0        0.0  12KV (100%)    False         False       0.0       0.0       0.0                      6                    29         27             2                0             0           1   1.0      1.0       2.875000      -2.500000e+00                1              1         0.1             10.0                  0.0        0.5   0.866025  False                 Not_Center  \n",
       "4       89.2       976.7       983.0       990.5      16.0        1.6        2.6        3.0     16.8     26.1     29.6          -0.8          12.1          18.9        50.0           52.0            52.0        14.1        20.7        24.3           16.5           23.2           26.2            16.3            23.0            26.1        15.6        24.8        28.4       12.8          10.2          13.8          0.0         12.3     1.159948      1.014129       FUSE    False        0.0        0.0       64.0        0.0   12KV (95%)    False         False       0.0       0.0     650.0                      3                    31         29             2                0             0           1   1.0      1.0       2.152778      -2.700000e+00                1              1         0.1             64.0                  0.0        0.5   0.866025  False                     Center  "
      ]
     },
     "metadata": {},
     "output_type": "display_data"
    }
   ],
   "source": [
    "################################################################################# USER DEFINED FIELDS ###########################################################################################\n",
    "#################################################################################################################################################################################################\n",
    "####### Load ADS using name and path\n",
    "\n",
    "load_ads = pd.read_csv('gs://aes-analytics-0002-curated/Outage_Restoration/DPL_Curated_Datasets/DPL_Master_dataset_storm_all_v2.3.csv')\n",
    "load_ads['TIME_OF_FIRST_CALL'] = pd.to_datetime(load_ads['TIME_OF_FIRST_CALL'], infer_datetime_format = True, errors = 'coerce')\n",
    "\n",
    "# Getting info for training dataset\n",
    "event_ = load_ads['EVENT']\n",
    "outage_id = load_ads['OUTAGE_ID']\n",
    "\n",
    "# Dropping unnecessary columns\n",
    "load_ads = load_ads.drop(columns= ['Unnamed: 0','OUTAGE_ID', 'CIRCUIT', 'TIME_OF_FIRST_CALL', 'DEVICE',\n",
    "                                   'STORM_TYPE','EVENT', 'DATE','DEVICESIZE'])\n",
    "print(load_ads.shape)\n",
    "display(load_ads.head())"
   ]
  },
  {
   "cell_type": "code",
   "execution_count": 29,
   "metadata": {
    "Collapsed": "false"
   },
   "outputs": [],
   "source": [
    "######################################################################## ALL USER DEFINED FUNCTION ARE LOGGED HERE #############################################################################\n",
    "################################################################################################################################################################################################\n",
    "\n",
    "# calculate rmse scores\n",
    "def rmse(pred_test, y_test):\n",
    "    return np.sqrt(((pred_test - y_test) ** 2).mean())\n",
    "\n",
    "# calculate mape scores\n",
    "def mean_absolute_percentage_error(y_true, y_pred): \n",
    "    y_true, y_pred = np.array(y_true), np.array(y_pred)\n",
    "    return np.mean(np.abs((y_true - y_pred) / y_true)) * 100\n",
    "\n",
    "# get names of all categorical data present in data\n",
    "def get_index_of_categorical_columns(df):\n",
    "    cols = df.columns\n",
    "    num_cols = df._get_numeric_data().columns\n",
    "    return list(set(cols) - set(num_cols))\n",
    "\n",
    "def do_union(lst1, lst2, lst3, lst4): \n",
    "    final_list = list(set(lst1) | set(lst2) | set(lst3) | set(lst4))\n",
    "    return final_list \n",
    "\n",
    "def segment(x):\n",
    "    if(x<=120):\n",
    "        return \"0-120\"\n",
    "    elif(x<=240):\n",
    "        return \"120-240\"\n",
    "    elif(x<=360):\n",
    "        return \"240-360\"\n",
    "    elif(x<=480):\n",
    "        return \"360-480\"\n",
    "    elif(x<=600):\n",
    "        return \"480-600\"\n",
    "    elif(x<=720):\n",
    "        return \"600-720\"\n",
    "    else:\n",
    "        return \">720\"\n",
    "    \n",
    "def segment_storm(x):\n",
    "    if(x<=120):\n",
    "        return \"0-120\"\n",
    "    elif(x<=240):\n",
    "        return \"120-240\"\n",
    "    elif(x<=360):\n",
    "        return \"240-360\"\n",
    "    elif(x<=480):\n",
    "        return \"360-480\"\n",
    "    elif(x<=600):\n",
    "        return \"480-600\"\n",
    "    elif(x<=720):\n",
    "        return \"600-720\"\n",
    "    elif(x<=840):\n",
    "        return \"720-840\"\n",
    "    elif(x<=960):\n",
    "        return \"840-960\"\n",
    "    elif(x<=1080):\n",
    "        return \"960-1080\"\n",
    "    elif(x<=1200):\n",
    "        return \"1080-1200\"\n",
    "    elif(x<=1320):\n",
    "        return \"1200-1320\"\n",
    "    elif(x<=1440):\n",
    "        return \"1320-1440\"\n",
    "    else:\n",
    "        return \">1440\"\n",
    "    \n",
    "def style_diag(data):\n",
    "    diag_mask = pd.DataFrame(\"\", index=data.index, columns=data.columns)\n",
    "    min_axis = min(diag_mask.shape)\n",
    "    diag_mask.iloc[range(min_axis), range(min_axis)] = 'background-color:#aed581'\n",
    "    return diag_mask\n",
    "\n",
    "def customer_metrics(y_test,y_test_pred):\n",
    "    df_pred = pd.DataFrame(data={'actualRaw': y_test, 'predictedRaw': y_test_pred})\n",
    "    df_pred['Actual_segment'] = df_pred['actualRaw'].apply(segment)\n",
    "    df_pred['Prediction_segment'] = df_pred['predictedRaw'].apply(segment)\n",
    "    business_KPI = df_pred[['Actual_segment','Prediction_segment']]\n",
    "\n",
    "    #conversion to percentage\n",
    "    business_KPI = pd.pivot_table(business_KPI, index='Actual_segment',columns=['Prediction_segment'], values='Actual_segment', aggfunc=lambda x: len(x))\n",
    "    business_KPI[\"total\"] =  business_KPI.sum(axis=1)\n",
    "    business_KPI.columns.name = 'Predicted_Values'\n",
    "    business_KPI.index.name = 'Actual_Values'\n",
    "\n",
    "    # Add the grand total row, summing all values in a column\n",
    "    business_KPI.loc['total', :] = business_KPI.sum()\n",
    "    business_KPI = business_KPI.round(0)\n",
    "    return business_KPI\n",
    "\n",
    "def customer_metrics_storm(y_test,y_test_pred):\n",
    "    df_pred = pd.DataFrame(data={'actualRaw': y_test, 'predictedRaw': y_test_pred})\n",
    "    df_pred['Actual_segment'] = df_pred['actualRaw'].apply(segment_storm)\n",
    "    df_pred['Prediction_segment'] = df_pred['predictedRaw'].apply(segment_storm)\n",
    "    business_KPI = df_pred[['Actual_segment','Prediction_segment']]\n",
    "\n",
    "    #conversion to percentage\n",
    "    business_KPI = pd.pivot_table(business_KPI, index='Actual_segment',columns=['Prediction_segment'], values='Actual_segment', aggfunc=lambda x: len(x))\n",
    "    business_KPI[\"total\"] =  business_KPI.sum(axis=1)\n",
    "    business_KPI.columns.name = 'Predicted_Values'\n",
    "    business_KPI.index.name = 'Actual_Values'\n",
    "\n",
    "    # Add the grand total row, summing all values in a column\n",
    "    business_KPI.loc['total', :] = business_KPI.sum()\n",
    "    business_KPI = business_KPI.round(0)\n",
    "    return business_KPI"
   ]
  },
  {
   "cell_type": "markdown",
   "metadata": {},
   "source": [
    "# Preprocessing Data "
   ]
  },
  {
   "cell_type": "markdown",
   "metadata": {},
   "source": [
    "## Dummifying columns with Categorical Values"
   ]
  },
  {
   "cell_type": "code",
   "execution_count": 30,
   "metadata": {
    "Collapsed": "false"
   },
   "outputs": [
    {
     "name": "stdout",
     "output_type": "stream",
     "text": [
      "['PHASE_A', 'PHASE_B', 'PHASE_C', 'PHASE_T', 'WIREDOWN_PTH', 'WIREDOWN_PTP', 'TREEONWIRE_PTH', 'TREEONWIRE_PTP', 'BROKENPOLE', 'FIREEXPLOSION', 'DAMAGEDTRANS', 'PRIORITY', 'CONFIDENCE', 'ACCOUNT_TYPE_COM', 'ACCOUNT_TYPE_CUS', 'ACCOUNT_TYPE_GOV', 'ACCOUNT_TYPE_IND', 'ACCOUNT_TYPE_RES', 'Day_flag', 'weekday', 'Weekend_flag', 'Marker_Location', 'Nearest_service_center', 'DEVICETYPE', 'TOPFUSE', 'VOLTAGE', 'UNDERGD', 'NORMALLYOPEN', 'Pole', 'Nearest_service_center_mod']\n",
      "(79979, 224)\n",
      "(79979, 224)\n"
     ]
    }
   ],
   "source": [
    "object_columns = load_ads.loc[:, (load_ads.dtypes == object) | (load_ads.dtypes == bool)]\n",
    "print(list(object_columns.columns))\n",
    "\n",
    "# Dummifying one hot code encoding\n",
    "ads = load_ads[:]\n",
    "ads = pd.get_dummies(ads, columns=['CONFIDENCE', 'weekday', 'Marker_Location', 'Nearest_service_center',\n",
    "                                   'DEVICETYPE','Nearest_service_center_mod','VOLTAGE'])\n",
    "print(ads.shape)\n",
    "\n",
    "# Dropping duplicate columns\n",
    "ads = ads.loc[:,~ads.columns.duplicated()]\n",
    "\n",
    "print(ads.shape)"
   ]
  },
  {
   "cell_type": "markdown",
   "metadata": {},
   "source": [
    "# Distribution and transformation of Y-variable"
   ]
  },
  {
   "cell_type": "markdown",
   "metadata": {},
   "source": [
    "## Target Variable Analysis: Is it Normal?"
   ]
  },
  {
   "cell_type": "code",
   "execution_count": 31,
   "metadata": {},
   "outputs": [
    {
     "data": {
      "image/png": "[encoded data removed]",
      "text/plain": [
       "<Figure size 1152x360 with 1 Axes>"
      ]
     },
     "metadata": {},
     "output_type": "display_data"
    },
    {
     "data": {
      "image/png": "[encoded data removed]",
      "text/plain": [
       "<Figure size 1152x360 with 1 Axes>"
      ]
     },
     "metadata": {},
     "output_type": "display_data"
    }
   ],
   "source": [
    "from scipy.stats import norm\n",
    "\n",
    "sns.set(rc={'figure.figsize':(16,5)})\n",
    "sns.set_style(\"white\")\n",
    "\n",
    "sns.distplot(ads['TTR'],fit=norm);\n",
    "fig = plt.figure()\n",
    "res = stats.probplot(ads['TTR'], plot=plt)"
   ]
  },
  {
   "cell_type": "markdown",
   "metadata": {},
   "source": [
    "#### **Log Transformation of Tanget Variable (TTR)**"
   ]
  },
  {
   "cell_type": "code",
   "execution_count": null,
   "metadata": {},
   "outputs": [],
   "source": [
    "# # Apply log e tranformation to the dataset\n",
    "# ads['TTR'] = np.log(ads['TTR'])\n",
    "# from scipy.stats import norm\n",
    "\n",
    "# sns.set(rc={'figure.figsize':(16,5)})\n",
    "# sns.set_style(\"white\")\n",
    "\n",
    "# sns.distplot(ads['TTR'],fit=norm);\n",
    "# fig = plt.figure()\n",
    "# res = stats.probplot(ads['TTR'], plot=plt)"
   ]
  },
  {
   "cell_type": "code",
   "execution_count": 32,
   "metadata": {
    "Collapsed": "false"
   },
   "outputs": [
    {
     "name": "stdout",
     "output_type": "stream",
     "text": [
      "CPU times: user 12.9 s, sys: 373 ms, total: 13.3 s\n",
      "Wall time: 1.85 s\n"
     ]
    },
    {
     "data": {
      "text/plain": [
       "LGBMRegressor(max_depth=15)"
      ]
     },
     "execution_count": 32,
     "metadata": {},
     "output_type": "execute_result"
    }
   ],
   "source": [
    "%%time\n",
    "\n",
    "#####################################################################\n",
    "#####################################################################\n",
    "#####################################################################\n",
    "## FEATURE SELECTION : MAX VOTING REGIME ##\n",
    "X = ads.drop(['TTR'],axis=1)\n",
    "y = ads['TTR']\n",
    "\n",
    "# ols = LinearRegression()\n",
    "# ols.fit(X.values, y.values)\n",
    "# pls = PLSRegression(n_components=15)\n",
    "# pls.fit(X.values, y.values)\n",
    "# rf = RandomForestRegressor(n_estimators=150, n_jobs = -1)\n",
    "# rf.fit(X,y)\n",
    "xg = lgb.LGBMRegressor(n_jobs=-1, max_depth=15)\n",
    "xg.fit(X,y)"
   ]
  },
  {
   "cell_type": "code",
   "execution_count": 33,
   "metadata": {},
   "outputs": [],
   "source": [
    "# ols_reg = pd.DataFrame({'Features': X.columns, 'Importance_Score_ols': ols.coef_}).sort_values(by='Importance_Score_ols',ascending=False)\n",
    "# pls_reg = pd.DataFrame({'Features': X.columns, 'Importance_Score_PLS': pls.coef_.ravel()}).sort_values(by='Importance_Score_PLS',ascending=False)\n",
    "# rftrees = pd.DataFrame({'Features': X.columns, 'Importance_Score_Random_Forest': rf.feature_importances_}).sort_values(by='Importance_Score_Random_Forest',ascending=False)\n",
    "xgboost = pd.DataFrame({'Features': X.columns, 'Importance_Score_XGBoost': xg.feature_importances_}).sort_values(by='Importance_Score_XGBoost',ascending=False)\n",
    "\n",
    "\n",
    "# ols_reg.reset_index(drop=True,inplace=True)\n",
    "# pls_reg.reset_index(drop=True,inplace=True)\n",
    "# rftrees.reset_index(drop=True,inplace=True)\n",
    "xgboost.reset_index(drop=True,inplace=True)\n",
    "\n",
    "# ols_reg = ols_reg.head(20)\n",
    "# pls_reg = pls_reg.head(20)\n",
    "# rftrees = rftrees.head(40)\n",
    "xgboost = xgboost.head(60)"
   ]
  },
  {
   "cell_type": "markdown",
   "metadata": {},
   "source": [
    "## **Feature Importance using Ordinary Least Square**"
   ]
  },
  {
   "cell_type": "code",
   "execution_count": null,
   "metadata": {},
   "outputs": [],
   "source": [
    "sns.set(rc={'figure.figsize':(18,5)})\n",
    "sns.set_style(\"white\")\n",
    "ax = sns.barplot(x=\"Importance_Score_ols\", y=\"Features\", data=ols_reg, palette = sns.diverging_palette(240, 10, n=9)).set_title('Feature Selection : Lasso')"
   ]
  },
  {
   "cell_type": "code",
   "execution_count": null,
   "metadata": {},
   "outputs": [],
   "source": [
    "display(ols_reg)"
   ]
  },
  {
   "cell_type": "markdown",
   "metadata": {},
   "source": [
    "## **Feature Importance using Partial Least Square**"
   ]
  },
  {
   "cell_type": "code",
   "execution_count": null,
   "metadata": {},
   "outputs": [],
   "source": [
    "sns.set(rc={'figure.figsize':(18,5)})\n",
    "sns.set_style(\"white\")\n",
    "ax = sns.barplot(x=\"Importance_Score_PLS\", y=\"Features\", data=pls_reg , palette = sns.diverging_palette(240, 10, n=9)).set_title('Feature Selection : PLS')"
   ]
  },
  {
   "cell_type": "code",
   "execution_count": null,
   "metadata": {},
   "outputs": [],
   "source": [
    "display(pls_reg)"
   ]
  },
  {
   "cell_type": "markdown",
   "metadata": {},
   "source": [
    "## **Feature Importance using XGBoost**"
   ]
  },
  {
   "cell_type": "code",
   "execution_count": 34,
   "metadata": {},
   "outputs": [
    {
     "data": {
      "image/png": "[encoded data removed]",
      "text/plain": [
       "<Figure size 1296x360 with 1 Axes>"
      ]
     },
     "metadata": {},
     "output_type": "display_data"
    }
   ],
   "source": [
    "sns.set(rc={'figure.figsize':(18,5)})\n",
    "sns.set_style(\"white\")\n",
    "ax = sns.barplot(x=\"Importance_Score_XGBoost\", y=\"Features\", data=xgboost, palette = sns.diverging_palette(240, 10, n=9)).set_title('Feature Selection : XGBoost')"
   ]
  },
  {
   "cell_type": "code",
   "execution_count": 35,
   "metadata": {},
   "outputs": [
    {
     "data": {
      "text/html": [
       "<div>\n",
       "<style scoped>\n",
       "    .dataframe tbody tr th:only-of-type {\n",
       "        vertical-align: middle;\n",
       "    }\n",
       "\n",
       "    .dataframe tbody tr th {\n",
       "        vertical-align: top;\n",
       "    }\n",
       "\n",
       "    .dataframe thead th {\n",
       "        text-align: right;\n",
       "    }\n",
       "</style>\n",
       "<table border=\"1\" class=\"dataframe\">\n",
       "  <thead>\n",
       "    <tr style=\"text-align: right;\">\n",
       "      <th></th>\n",
       "      <th>Features</th>\n",
       "      <th>Importance_Score_XGBoost</th>\n",
       "    </tr>\n",
       "  </thead>\n",
       "  <tbody>\n",
       "    <tr>\n",
       "      <th>0</th>\n",
       "      <td>TORD_False</td>\n",
       "      <td>194</td>\n",
       "    </tr>\n",
       "    <tr>\n",
       "      <th>1</th>\n",
       "      <td>Min_Distance_service_Center</td>\n",
       "      <td>102</td>\n",
       "    </tr>\n",
       "    <tr>\n",
       "      <th>2</th>\n",
       "      <td>rank_cd</td>\n",
       "      <td>92</td>\n",
       "    </tr>\n",
       "    <tr>\n",
       "      <th>3</th>\n",
       "      <td>Total_Customers</td>\n",
       "      <td>82</td>\n",
       "    </tr>\n",
       "    <tr>\n",
       "      <th>4</th>\n",
       "      <td>rank</td>\n",
       "      <td>78</td>\n",
       "    </tr>\n",
       "    <tr>\n",
       "      <th>5</th>\n",
       "      <td>Outages_in_last_1hr</td>\n",
       "      <td>76</td>\n",
       "    </tr>\n",
       "    <tr>\n",
       "      <th>6</th>\n",
       "      <td>RANK_SUBSEQUENT_OTG</td>\n",
       "      <td>75</td>\n",
       "    </tr>\n",
       "    <tr>\n",
       "      <th>7</th>\n",
       "      <td>sfcPresRange</td>\n",
       "      <td>51</td>\n",
       "    </tr>\n",
       "    <tr>\n",
       "      <th>8</th>\n",
       "      <td>precip</td>\n",
       "      <td>46</td>\n",
       "    </tr>\n",
       "    <tr>\n",
       "      <th>9</th>\n",
       "      <td>Pole</td>\n",
       "      <td>46</td>\n",
       "    </tr>\n",
       "    <tr>\n",
       "      <th>10</th>\n",
       "      <td>Outages_in_last_4hr</td>\n",
       "      <td>42</td>\n",
       "    </tr>\n",
       "    <tr>\n",
       "      <th>11</th>\n",
       "      <td>Outages_in_last_10hr</td>\n",
       "      <td>42</td>\n",
       "    </tr>\n",
       "    <tr>\n",
       "      <th>12</th>\n",
       "      <td>Total_Crew_dispatched</td>\n",
       "      <td>41</td>\n",
       "    </tr>\n",
       "    <tr>\n",
       "      <th>13</th>\n",
       "      <td>Nearest_service_center_mod_Center</td>\n",
       "      <td>40</td>\n",
       "    </tr>\n",
       "    <tr>\n",
       "      <th>14</th>\n",
       "      <td>mslPresMin</td>\n",
       "      <td>40</td>\n",
       "    </tr>\n",
       "    <tr>\n",
       "      <th>15</th>\n",
       "      <td>TREEONWIRE_PTH</td>\n",
       "      <td>39</td>\n",
       "    </tr>\n",
       "    <tr>\n",
       "      <th>16</th>\n",
       "      <td>Contractor</td>\n",
       "      <td>38</td>\n",
       "    </tr>\n",
       "    <tr>\n",
       "      <th>17</th>\n",
       "      <td>Total_Crew_available</td>\n",
       "      <td>38</td>\n",
       "    </tr>\n",
       "    <tr>\n",
       "      <th>18</th>\n",
       "      <td>windSpdRange</td>\n",
       "      <td>37</td>\n",
       "    </tr>\n",
       "    <tr>\n",
       "      <th>19</th>\n",
       "      <td>Outages_in_last_2hr</td>\n",
       "      <td>36</td>\n",
       "    </tr>\n",
       "    <tr>\n",
       "      <th>20</th>\n",
       "      <td>snowfall</td>\n",
       "      <td>36</td>\n",
       "    </tr>\n",
       "    <tr>\n",
       "      <th>21</th>\n",
       "      <td>BROKENPOLE</td>\n",
       "      <td>35</td>\n",
       "    </tr>\n",
       "    <tr>\n",
       "      <th>22</th>\n",
       "      <td>max_ROC_outages</td>\n",
       "      <td>33</td>\n",
       "    </tr>\n",
       "    <tr>\n",
       "      <th>23</th>\n",
       "      <td>Outages_in_last_6hr</td>\n",
       "      <td>33</td>\n",
       "    </tr>\n",
       "    <tr>\n",
       "      <th>24</th>\n",
       "      <td>Hour_Cos</td>\n",
       "      <td>32</td>\n",
       "    </tr>\n",
       "    <tr>\n",
       "      <th>25</th>\n",
       "      <td>Outages_in_last_9hr</td>\n",
       "      <td>31</td>\n",
       "    </tr>\n",
       "    <tr>\n",
       "      <th>26</th>\n",
       "      <td>Outages_in_last_3hr</td>\n",
       "      <td>30</td>\n",
       "    </tr>\n",
       "    <tr>\n",
       "      <th>27</th>\n",
       "      <td>windSpdMax</td>\n",
       "      <td>30</td>\n",
       "    </tr>\n",
       "    <tr>\n",
       "      <th>28</th>\n",
       "      <td>weight_ROC</td>\n",
       "      <td>30</td>\n",
       "    </tr>\n",
       "    <tr>\n",
       "      <th>29</th>\n",
       "      <td>tempRange</td>\n",
       "      <td>29</td>\n",
       "    </tr>\n",
       "    <tr>\n",
       "      <th>30</th>\n",
       "      <td>sfcPresMax</td>\n",
       "      <td>29</td>\n",
       "    </tr>\n",
       "    <tr>\n",
       "      <th>31</th>\n",
       "      <td>Service_crew</td>\n",
       "      <td>29</td>\n",
       "    </tr>\n",
       "    <tr>\n",
       "      <th>32</th>\n",
       "      <td>relHumMax</td>\n",
       "      <td>29</td>\n",
       "    </tr>\n",
       "    <tr>\n",
       "      <th>33</th>\n",
       "      <td>Hour_Sin</td>\n",
       "      <td>29</td>\n",
       "    </tr>\n",
       "    <tr>\n",
       "      <th>34</th>\n",
       "      <td>feelsLikeMax</td>\n",
       "      <td>28</td>\n",
       "    </tr>\n",
       "    <tr>\n",
       "      <th>35</th>\n",
       "      <td>cldCvrMin</td>\n",
       "      <td>27</td>\n",
       "    </tr>\n",
       "    <tr>\n",
       "      <th>36</th>\n",
       "      <td>Line_crew</td>\n",
       "      <td>27</td>\n",
       "    </tr>\n",
       "    <tr>\n",
       "      <th>37</th>\n",
       "      <td>windSpdAvg</td>\n",
       "      <td>26</td>\n",
       "    </tr>\n",
       "    <tr>\n",
       "      <th>38</th>\n",
       "      <td>TOTKVA_B</td>\n",
       "      <td>26</td>\n",
       "    </tr>\n",
       "    <tr>\n",
       "      <th>39</th>\n",
       "      <td>DAMAGEDTRANS</td>\n",
       "      <td>26</td>\n",
       "    </tr>\n",
       "    <tr>\n",
       "      <th>40</th>\n",
       "      <td>TREEONWIRE_PTP</td>\n",
       "      <td>25</td>\n",
       "    </tr>\n",
       "    <tr>\n",
       "      <th>41</th>\n",
       "      <td>cldCvrRange</td>\n",
       "      <td>25</td>\n",
       "    </tr>\n",
       "    <tr>\n",
       "      <th>42</th>\n",
       "      <td>Outages_in_last_5hr</td>\n",
       "      <td>24</td>\n",
       "    </tr>\n",
       "    <tr>\n",
       "      <th>43</th>\n",
       "      <td>mslPresMax</td>\n",
       "      <td>24</td>\n",
       "    </tr>\n",
       "    <tr>\n",
       "      <th>44</th>\n",
       "      <td>radSolarMax</td>\n",
       "      <td>24</td>\n",
       "    </tr>\n",
       "    <tr>\n",
       "      <th>45</th>\n",
       "      <td>dewPtMin</td>\n",
       "      <td>24</td>\n",
       "    </tr>\n",
       "    <tr>\n",
       "      <th>46</th>\n",
       "      <td>windSpd80mMax</td>\n",
       "      <td>24</td>\n",
       "    </tr>\n",
       "    <tr>\n",
       "      <th>47</th>\n",
       "      <td>TOTCUST_B</td>\n",
       "      <td>23</td>\n",
       "    </tr>\n",
       "    <tr>\n",
       "      <th>48</th>\n",
       "      <td>wetBulbMax</td>\n",
       "      <td>23</td>\n",
       "    </tr>\n",
       "    <tr>\n",
       "      <th>49</th>\n",
       "      <td>relHumMin</td>\n",
       "      <td>22</td>\n",
       "    </tr>\n",
       "    <tr>\n",
       "      <th>50</th>\n",
       "      <td>cldCvrAvg</td>\n",
       "      <td>22</td>\n",
       "    </tr>\n",
       "    <tr>\n",
       "      <th>51</th>\n",
       "      <td>tempMax</td>\n",
       "      <td>21</td>\n",
       "    </tr>\n",
       "    <tr>\n",
       "      <th>52</th>\n",
       "      <td>windSpd80mAvg</td>\n",
       "      <td>21</td>\n",
       "    </tr>\n",
       "    <tr>\n",
       "      <th>53</th>\n",
       "      <td>TOTKVA_A</td>\n",
       "      <td>21</td>\n",
       "    </tr>\n",
       "    <tr>\n",
       "      <th>54</th>\n",
       "      <td>Slope_ROC_outages</td>\n",
       "      <td>21</td>\n",
       "    </tr>\n",
       "    <tr>\n",
       "      <th>55</th>\n",
       "      <td>mslPresAvg</td>\n",
       "      <td>21</td>\n",
       "    </tr>\n",
       "    <tr>\n",
       "      <th>56</th>\n",
       "      <td>TOTKVA_C</td>\n",
       "      <td>21</td>\n",
       "    </tr>\n",
       "    <tr>\n",
       "      <th>57</th>\n",
       "      <td>Nearest_service_center_DSB</td>\n",
       "      <td>21</td>\n",
       "    </tr>\n",
       "    <tr>\n",
       "      <th>58</th>\n",
       "      <td>WIREDOWN_PTH</td>\n",
       "      <td>20</td>\n",
       "    </tr>\n",
       "    <tr>\n",
       "      <th>59</th>\n",
       "      <td>Nearest_service_center_Eaton</td>\n",
       "      <td>20</td>\n",
       "    </tr>\n",
       "  </tbody>\n",
       "</table>\n",
       "</div>"
      ],
      "text/plain": [
       "                             Features  Importance_Score_XGBoost\n",
       "0                          TORD_False                       194\n",
       "1         Min_Distance_service_Center                       102\n",
       "2                             rank_cd                        92\n",
       "3                     Total_Customers                        82\n",
       "4                                rank                        78\n",
       "5                 Outages_in_last_1hr                        76\n",
       "6                 RANK_SUBSEQUENT_OTG                        75\n",
       "7                        sfcPresRange                        51\n",
       "8                              precip                        46\n",
       "9                                Pole                        46\n",
       "10                Outages_in_last_4hr                        42\n",
       "11               Outages_in_last_10hr                        42\n",
       "12              Total_Crew_dispatched                        41\n",
       "13  Nearest_service_center_mod_Center                        40\n",
       "14                         mslPresMin                        40\n",
       "15                     TREEONWIRE_PTH                        39\n",
       "16                         Contractor                        38\n",
       "17               Total_Crew_available                        38\n",
       "18                       windSpdRange                        37\n",
       "19                Outages_in_last_2hr                        36\n",
       "20                           snowfall                        36\n",
       "21                         BROKENPOLE                        35\n",
       "22                    max_ROC_outages                        33\n",
       "23                Outages_in_last_6hr                        33\n",
       "24                           Hour_Cos                        32\n",
       "25                Outages_in_last_9hr                        31\n",
       "26                Outages_in_last_3hr                        30\n",
       "27                         windSpdMax                        30\n",
       "28                         weight_ROC                        30\n",
       "29                          tempRange                        29\n",
       "30                         sfcPresMax                        29\n",
       "31                       Service_crew                        29\n",
       "32                          relHumMax                        29\n",
       "33                           Hour_Sin                        29\n",
       "34                       feelsLikeMax                        28\n",
       "35                          cldCvrMin                        27\n",
       "36                          Line_crew                        27\n",
       "37                         windSpdAvg                        26\n",
       "38                           TOTKVA_B                        26\n",
       "39                       DAMAGEDTRANS                        26\n",
       "40                     TREEONWIRE_PTP                        25\n",
       "41                        cldCvrRange                        25\n",
       "42                Outages_in_last_5hr                        24\n",
       "43                         mslPresMax                        24\n",
       "44                        radSolarMax                        24\n",
       "45                           dewPtMin                        24\n",
       "46                      windSpd80mMax                        24\n",
       "47                          TOTCUST_B                        23\n",
       "48                         wetBulbMax                        23\n",
       "49                          relHumMin                        22\n",
       "50                          cldCvrAvg                        22\n",
       "51                            tempMax                        21\n",
       "52                      windSpd80mAvg                        21\n",
       "53                           TOTKVA_A                        21\n",
       "54                  Slope_ROC_outages                        21\n",
       "55                         mslPresAvg                        21\n",
       "56                           TOTKVA_C                        21\n",
       "57         Nearest_service_center_DSB                        21\n",
       "58                       WIREDOWN_PTH                        20\n",
       "59       Nearest_service_center_Eaton                        20"
      ]
     },
     "metadata": {},
     "output_type": "display_data"
    }
   ],
   "source": [
    "display(xgboost)"
   ]
  },
  {
   "cell_type": "markdown",
   "metadata": {},
   "source": [
    "## **Feature Importance using Random Forest**"
   ]
  },
  {
   "cell_type": "code",
   "execution_count": null,
   "metadata": {},
   "outputs": [],
   "source": [
    "sns.set(rc={'figure.figsize':(18,5)})\n",
    "sns.set_style(\"white\")\n",
    "ax = sns.barplot(x=\"Importance_Score_Random_Forest\", y=\"Features\", data=rftrees, palette = sns.diverging_palette(240, 10, n=9)).set_title('Feature Selection : Random Forest')"
   ]
  },
  {
   "cell_type": "code",
   "execution_count": null,
   "metadata": {},
   "outputs": [],
   "source": [
    "display(rftrees)"
   ]
  },
  {
   "cell_type": "markdown",
   "metadata": {},
   "source": [
    "## **Final Features Selected after Union (Max Voting Regime)**"
   ]
  },
  {
   "cell_type": "code",
   "execution_count": 36,
   "metadata": {},
   "outputs": [],
   "source": [
    "# final_features = pd.DataFrame()\n",
    "# final_features['XG Boost'] = xgboost.Features\n",
    "# final_features['Random Forest'] = rftrees.Features\n",
    "# final_features['OLS'] = ols_reg.Features\n",
    "# final_features['PLS'] = pls_reg.Features\n",
    "\n",
    "\n",
    "# display(final_features)\n",
    "\n",
    "# final_features = do_union(list(xgboost.Features),list(rftrees.Features), list(ols_reg.Features), list(pls_reg.Features))\n",
    "# print(\"/n Features selected:\")\n",
    "# print(len(final_features), \"No. of Features Selected\")\n",
    "# print(final_features)\n",
    "\n",
    "final_features = xgboost.Features.to_list()"
   ]
  },
  {
   "cell_type": "markdown",
   "metadata": {},
   "source": [
    "### **View Data-set after feature selection**"
   ]
  },
  {
   "cell_type": "code",
   "execution_count": null,
   "metadata": {},
   "outputs": [],
   "source": [
    "ads_v1 = ads[final_features]\n",
    "ads_v1['TTR'] = ads['TTR']\n",
    "display(ads_v1.head())"
   ]
  },
  {
   "cell_type": "markdown",
   "metadata": {},
   "source": [
    "### **Correlation Matrix of Selected Variables**"
   ]
  },
  {
   "cell_type": "code",
   "execution_count": null,
   "metadata": {},
   "outputs": [],
   "source": [
    "#whitegrid\n",
    "sns.set_style('whitegrid')\n",
    "#compute correlation matrix...\n",
    "corr_matrix=ads_v1.corr(method='spearman')\n",
    "#...and show it with a heatmap\n",
    "#first define the dimension\n",
    "plt.figure(figsize=(30,30))\n",
    "\n",
    "# Generate a mask for the upper triangle\n",
    "mask = np.zeros_like(corr_matrix, dtype=np.bool)\n",
    "mask[np.triu_indices_from(mask)] = True\n",
    "\n",
    "# Generate a custom diverging colormap\n",
    "cmap = sns.diverging_palette(220, 10, as_cmap=True)\n",
    "\n",
    "# Draw the heatmap with the mask and correct aspect ratio\n",
    "sns.heatmap(round(corr_matrix,2), mask=mask, cmap=cmap, center=0, vmax=1, vmin =-1, annot=True,\n",
    "            square=True, linewidths=.5, cbar_kws={\"shrink\": .5})"
   ]
  },
  {
   "cell_type": "markdown",
   "metadata": {},
   "source": [
    "### **BoxPlot of selected Variables**"
   ]
  },
  {
   "cell_type": "code",
   "execution_count": null,
   "metadata": {},
   "outputs": [],
   "source": [
    "sns.set(rc={'figure.figsize':(20,15)})\n",
    "sns.set_style(\"white\")\n",
    "for i, col in enumerate(list(ads_v1.columns.values)):\n",
    "    plt.subplot(20,5,i+1)\n",
    "    ads_v1.boxplot(col)\n",
    "    plt.grid()\n",
    "    plt.tight_layout()"
   ]
  },
  {
   "cell_type": "markdown",
   "metadata": {},
   "source": [
    "### **Distribution Plot of selected Variables**"
   ]
  },
  {
   "cell_type": "code",
   "execution_count": null,
   "metadata": {},
   "outputs": [],
   "source": [
    "sns.set(rc={'figure.figsize':(20,20)})\n",
    "sns.set_style(\"white\")\n",
    "for i, col in enumerate(list(ads_v1.columns.values)):\n",
    "    plt.subplot(20,5,i+1)\n",
    "    sns.distplot(ads_v1[col], color='b', kde=True, label='data')\n",
    "    plt.grid()\n",
    "    plt.tight_layout()"
   ]
  },
  {
   "cell_type": "markdown",
   "metadata": {},
   "source": [
    "# **Train-Test Split using sklearn**"
   ]
  },
  {
   "cell_type": "code",
   "execution_count": 88,
   "metadata": {},
   "outputs": [
    {
     "name": "stdout",
     "output_type": "stream",
     "text": [
      "\n",
      "\n",
      "\n",
      "\n",
      "63983 15996\n",
      "63983 15996\n",
      "\n",
      "\n",
      "\n",
      "\n"
     ]
    }
   ],
   "source": [
    "X = ads[final_features]\n",
    "X['Event'] = event_\n",
    "y = ads['TTR']\n",
    "X_train, X_test, y_train, y_test = train_test_split(X, y, test_size=0.2, random_state=42)\n",
    "X_train = X_train.drop(columns = ['Event'])\n",
    "event_ = X_test['Event']\n",
    "X_test = X_test.drop(columns = ['Event'])\n",
    "print('\\n')\n",
    "print('\\n')\n",
    "print(len(X_train),len(X_test))\n",
    "print(len(y_train),len(y_test))\n",
    "print('\\n')\n",
    "print('\\n')"
   ]
  },
  {
   "cell_type": "markdown",
   "metadata": {},
   "source": [
    "# **Building Baseline CatBoost Model**\n",
    "- CatBoost is an algorithm for gradient boosting on decision trees."
   ]
  },
  {
   "cell_type": "code",
   "execution_count": 38,
   "metadata": {},
   "outputs": [],
   "source": [
    "model_col = ['MODEL_NAME' , 'TRAIN_MSE', 'TRAIN_RMSE', 'TRAIN_MAE', 'TRAIN_MAPE', 'TRAIN_R2','TRAIN__Adj_R2', 'TEST_MSE', 'TEST_RMSE', 'TEST_MAE', 'TEST_MAPE', 'TEST_R2','Test__Adj_R2']\n",
    "model_result_df = pd.DataFrame(columns=model_col)\n",
    "data_train_list = pd.DataFrame()\n",
    "data_test_list = pd.DataFrame()\n",
    "i=0"
   ]
  },
  {
   "cell_type": "code",
   "execution_count": 39,
   "metadata": {},
   "outputs": [],
   "source": [
    "lgbm_base = lgb.LGBMRegressor()\n",
    "lgbm_base.fit(X_train, y_train)\n",
    "\n",
    "y_train_pred = lgbm_base.predict(X_train)\n",
    "# y_train_pred = np.exp(y_train_pred)\n",
    "\n",
    "y_test_pred = lgbm_base.predict(X_test)\n",
    "# y_test_pred = np.exp(y_test_pred)\n",
    "\n",
    "# y_train = np.exp(y_train)\n",
    "# y_test = np.exp(y_test)\n",
    "\n",
    "n = len(y_train)\n",
    "p = len(final_features)\n",
    "\n",
    "mse_train = mean_squared_error(y_train, y_train_pred)\n",
    "rmse_train = rmse(y_train,y_train_pred)\n",
    "mae_train = mean_absolute_error(y_train, y_train_pred)\n",
    "mape_train = mean_absolute_percentage_error(y_train,y_train_pred)\n",
    "r2_train = r2_score(y_train,y_train_pred)\n",
    "adj_r2_train = 1-(1-r2_train)*(n-1)/(n-p-1)\n",
    "                   \n",
    "mse_test = mean_squared_error(y_test, y_test_pred)\n",
    "rmse_test = rmse(y_test,y_test_pred)\n",
    "mae_test = mean_absolute_error(y_test, y_test_pred)\n",
    "mape_test = mean_absolute_percentage_error(y_test,y_test_pred)\n",
    "r2_test = r2_score(y_test,y_test_pred)\n",
    "adj_r2_test = 1-(1-r2_test)*(n-1)/(n-p-1)\n",
    "\n",
    "data_train = pd.DataFrame({'Model':'LGBM Baseline', 'Train_Predicted': list(y_train_pred),'Train_Actual': list(y_train) })\n",
    "data_train_list = data_train_list.append(data_train)\n",
    "data_train_list.reset_index(drop=True, inplace=True)\n",
    "\n",
    "data_test = pd.DataFrame({'Model':'LGBM Baseline', 'Test_Predicted': list(y_test_pred),'Test_Actual': list(y_test)})\n",
    "data_test_list = data_test_list.append(data_test)\n",
    "data_test_list.reset_index(drop=True, inplace=True)\n",
    "\n",
    "model_result_df.loc[i] = ['LGBM Baseline', mse_train, rmse_train, mae_train, mape_train, r2_train,adj_r2_train, mse_test, rmse_test, mae_test, mape_test, r2_test, adj_r2_test]\n",
    "i = i + 1"
   ]
  },
  {
   "cell_type": "code",
   "execution_count": 40,
   "metadata": {},
   "outputs": [
    {
     "data": {
      "text/html": [
       "<div>\n",
       "<style scoped>\n",
       "    .dataframe tbody tr th:only-of-type {\n",
       "        vertical-align: middle;\n",
       "    }\n",
       "\n",
       "    .dataframe tbody tr th {\n",
       "        vertical-align: top;\n",
       "    }\n",
       "\n",
       "    .dataframe thead th {\n",
       "        text-align: right;\n",
       "    }\n",
       "</style>\n",
       "<table border=\"1\" class=\"dataframe\">\n",
       "  <thead>\n",
       "    <tr style=\"text-align: right;\">\n",
       "      <th></th>\n",
       "      <th>MODEL_NAME</th>\n",
       "      <th>TRAIN_MSE</th>\n",
       "      <th>TRAIN_RMSE</th>\n",
       "      <th>TRAIN_MAE</th>\n",
       "      <th>TRAIN_MAPE</th>\n",
       "      <th>TRAIN_R2</th>\n",
       "      <th>TRAIN__Adj_R2</th>\n",
       "      <th>TEST_MSE</th>\n",
       "      <th>TEST_RMSE</th>\n",
       "      <th>TEST_MAE</th>\n",
       "      <th>TEST_MAPE</th>\n",
       "      <th>TEST_R2</th>\n",
       "      <th>Test__Adj_R2</th>\n",
       "    </tr>\n",
       "  </thead>\n",
       "  <tbody>\n",
       "    <tr>\n",
       "      <th>0</th>\n",
       "      <td>LGBM Baseline</td>\n",
       "      <td>92754.055761</td>\n",
       "      <td>304.555505</td>\n",
       "      <td>177.037737</td>\n",
       "      <td>119.0987</td>\n",
       "      <td>0.825369</td>\n",
       "      <td>0.825205</td>\n",
       "      <td>122148.07545</td>\n",
       "      <td>349.496889</td>\n",
       "      <td>191.184214</td>\n",
       "      <td>119.600012</td>\n",
       "      <td>0.764535</td>\n",
       "      <td>0.764314</td>\n",
       "    </tr>\n",
       "  </tbody>\n",
       "</table>\n",
       "</div>"
      ],
      "text/plain": [
       "      MODEL_NAME     TRAIN_MSE  TRAIN_RMSE   TRAIN_MAE  TRAIN_MAPE  TRAIN_R2  TRAIN__Adj_R2      TEST_MSE   TEST_RMSE    TEST_MAE   TEST_MAPE   TEST_R2  Test__Adj_R2\n",
       "0  LGBM Baseline  92754.055761  304.555505  177.037737    119.0987  0.825369       0.825205  122148.07545  349.496889  191.184214  119.600012  0.764535      0.764314"
      ]
     },
     "execution_count": 40,
     "metadata": {},
     "output_type": "execute_result"
    }
   ],
   "source": [
    "model_result_df.head()"
   ]
  },
  {
   "cell_type": "code",
   "execution_count": 41,
   "metadata": {},
   "outputs": [],
   "source": [
    "y_test_baseline = y_test\n",
    "y_test_pred_baseline = y_test_pred"
   ]
  },
  {
   "cell_type": "markdown",
   "metadata": {},
   "source": [
    "## **Random Forest Baseline: Actual vs Fitted PLot**"
   ]
  },
  {
   "cell_type": "code",
   "execution_count": 42,
   "metadata": {},
   "outputs": [
    {
     "data": {
      "text/plain": [
       "Text(0.5, 1.0, 'Actual vs Fitted : LGBM Baseline')"
      ]
     },
     "execution_count": 42,
     "metadata": {},
     "output_type": "execute_result"
    },
    {
     "data": {
      "image/png": "[encoded data removed]",
      "text/plain": [
       "<Figure size 1296x504 with 1 Axes>"
      ]
     },
     "metadata": {},
     "output_type": "display_data"
    }
   ],
   "source": [
    "sns.set(rc={'figure.figsize':(18,7)})\n",
    "sns.set_style(\"darkgrid\")\n",
    "\n",
    "ax = sns.regplot(x=\"Test_Actual\", y=\"Test_Predicted\", data=data_test_list[data_test_list.Model=='LGBM Baseline'])\n",
    "ax.set_xlim(0,7000)\n",
    "ax.set_ylim(0,7000)\n",
    "ax.set_title('Actual vs Fitted : LGBM Baseline')"
   ]
  },
  {
   "cell_type": "markdown",
   "metadata": {},
   "source": [
    "# **CATBoost Parameters**\n",
    "- n_estimators = number of trees in the foreset\n",
    "- max_features = max number of features considered for splitting a node\n",
    "- max_depth = max number of levels in each decision tree\n",
    "- min_samples_split = min number of data points placed in a node before the node is split\n",
    "- min_samples_leaf = min number of data points allowed in a leaf node\n",
    "- bootstrap = method for sampling data points (with or without replacement)"
   ]
  },
  {
   "cell_type": "code",
   "execution_count": 43,
   "metadata": {},
   "outputs": [
    {
     "name": "stdout",
     "output_type": "stream",
     "text": [
      "{'boosting_type': 'gbdt',\n",
      " 'class_weight': None,\n",
      " 'colsample_bytree': 1.0,\n",
      " 'importance_type': 'split',\n",
      " 'learning_rate': 0.1,\n",
      " 'max_depth': -1,\n",
      " 'min_child_samples': 20,\n",
      " 'min_child_weight': 0.001,\n",
      " 'min_split_gain': 0.0,\n",
      " 'n_estimators': 100,\n",
      " 'n_jobs': -1,\n",
      " 'num_leaves': 31,\n",
      " 'objective': None,\n",
      " 'random_state': None,\n",
      " 'reg_alpha': 0.0,\n",
      " 'reg_lambda': 0.0,\n",
      " 'silent': True,\n",
      " 'subsample': 1.0,\n",
      " 'subsample_for_bin': 200000,\n",
      " 'subsample_freq': 0}\n"
     ]
    }
   ],
   "source": [
    "pprint(lgbm_base.get_params())"
   ]
  },
  {
   "cell_type": "code",
   "execution_count": 62,
   "metadata": {},
   "outputs": [
    {
     "name": "stdout",
     "output_type": "stream",
     "text": [
      "{'importance_type': ['split', 'gain'],\n",
      " 'learning_rate': [0.01,\n",
      "                   0.042222222222222223,\n",
      "                   0.07444444444444444,\n",
      "                   0.10666666666666666,\n",
      "                   0.1388888888888889,\n",
      "                   0.1711111111111111,\n",
      "                   0.20333333333333334,\n",
      "                   0.23555555555555557,\n",
      "                   0.2677777777777778,\n",
      "                   0.3],\n",
      " 'max_bin': [100, 200, 250, 300, 500],\n",
      " 'max_depth': [-1, 3, 5, 7, 10, 12, 15, 17, 20],\n",
      " 'min_split_gain ': [0, 1, 2, 3],\n",
      " 'n_estimators': [100,\n",
      "                  252,\n",
      "                  405,\n",
      "                  557,\n",
      "                  710,\n",
      "                  863,\n",
      "                  1015,\n",
      "                  1168,\n",
      "                  1321,\n",
      "                  1473,\n",
      "                  1626,\n",
      "                  1778,\n",
      "                  1931,\n",
      "                  2084,\n",
      "                  2236,\n",
      "                  2389,\n",
      "                  2542,\n",
      "                  2694,\n",
      "                  2847,\n",
      "                  3000],\n",
      " 'num_leaves': [10, 13, 17, 20, 24, 27, 31, 35, 38, 42, 45, 49, 52, 56, 60],\n",
      " 'tree_learner': ['voting', 'serial']}\n"
     ]
    }
   ],
   "source": [
    "from sklearn.model_selection import RandomizedSearchCV\n",
    "\n",
    "importance_type = ['split', 'gain']\n",
    "max_bin  = [100, 200, 250, 300, 500]\n",
    "\n",
    "# Number of trees in random forest\n",
    "n_estimators = [int(x) for x in np.linspace(start = 100, stop = 3000, num = 20)]\n",
    "\n",
    "# Number of features to consider at every split\n",
    "learning_rate = [x for x in np.linspace(start = 0.01, stop = 0.3, num = 10)]\n",
    "\n",
    "# Maximum number of levels in tree\n",
    "max_depth = [-1, 3, 5, 7, 10, 12, 15, 17, 20]\n",
    "\n",
    "# Minimum number of samples required to split a node\n",
    "num_leaves = [int(x) for x in np.linspace(10, 60, num = 15)]\n",
    "\n",
    "# Minimum number of samples required at each leaf node\n",
    "loss_function = [\"MAE\", \"RMSE\"]\n",
    "\n",
    "# Method of selecting samples for training each tree\n",
    "min_split_gain  = [0, 1,2,3]\n",
    "\n",
    "eval_metric = [\"RMSE\", \"MAE\"]\n",
    "\n",
    "tree_learner = ['voting','serial']\n",
    "\n",
    "# Create the random grid\n",
    "random_grid = {'n_estimators': n_estimators,\n",
    "               'importance_type': importance_type,\n",
    "               'learning_rate': learning_rate,\n",
    "               'max_depth': max_depth,\n",
    "               'num_leaves': num_leaves,\n",
    "               'min_split_gain ': min_split_gain ,\n",
    "              'tree_learner': tree_learner,\n",
    "              'max_bin': max_bin}\n",
    "\n",
    "pprint(random_grid)"
   ]
  },
  {
   "cell_type": "markdown",
   "metadata": {},
   "source": [
    "# **Random Search Training**\n",
    "- The most important arguments in RandomizedSearchCV are n_iter, which controls the number of different combinations to try, and cv which is the number of folds to use for cross validation (we use 100 and 3 respectively)\n",
    "- More iterations will cover a wider search space and more cv folds reduces the chances of overfitting, but raising each will increase the run time. Machine learning is a field of trade-offs, and performance vs time is one of the most fundamental."
   ]
  },
  {
   "cell_type": "code",
   "execution_count": 63,
   "metadata": {},
   "outputs": [
    {
     "name": "stdout",
     "output_type": "stream",
     "text": [
      "Fitting 2 folds for each of 150 candidates, totalling 300 fits\n"
     ]
    },
    {
     "name": "stderr",
     "output_type": "stream",
     "text": [
      "[Parallel(n_jobs=-1)]: Using backend LokyBackend with 16 concurrent workers.\n",
      "[Parallel(n_jobs=-1)]: Done  40 tasks      | elapsed:  1.4min\n",
      "[Parallel(n_jobs=-1)]: Done 130 tasks      | elapsed:  3.6min\n",
      "[Parallel(n_jobs=-1)]: Done 256 tasks      | elapsed:  7.7min\n",
      "[Parallel(n_jobs=-1)]: Done 300 out of 300 | elapsed:  9.0min finished\n"
     ]
    },
    {
     "name": "stdout",
     "output_type": "stream",
     "text": [
      "[LightGBM] [Warning] min_split_gain is set=0.0, min_split_gain= will be ignored. Current value: min_split_gain=0.0\n",
      "[LightGBM] [Warning] Unknown parameter: 2\n",
      "[LightGBM] [Warning] min_split_gain is set=0.0, min_split_gain= will be ignored. Current value: min_split_gain=0.0\n",
      "[LightGBM] [Warning] Unknown parameter: 2\n",
      "[LightGBM] [Warning] Auto-choosing col-wise multi-threading, the overhead of testing was 0.008678 seconds.\n",
      "You can set `force_col_wise=true` to remove the overhead.\n",
      "[LightGBM] [Info] Total Bins 8906\n",
      "[LightGBM] [Info] Number of data points in the train set: 63983, number of used features: 60\n",
      "[LightGBM] [Info] Start training from score 399.653248\n",
      "CPU times: user 2min 6s, sys: 1.3 s, total: 2min 8s\n",
      "Wall time: 9min 7s\n"
     ]
    },
    {
     "data": {
      "text/plain": [
       "RandomizedSearchCV(cv=2, estimator=LGBMRegressor(silent=False), n_iter=150,\n",
       "                   n_jobs=-1,\n",
       "                   param_distributions={'importance_type': ['split', 'gain'],\n",
       "                                        'learning_rate': [0.01,\n",
       "                                                          0.042222222222222223,\n",
       "                                                          0.07444444444444444,\n",
       "                                                          0.10666666666666666,\n",
       "                                                          0.1388888888888889,\n",
       "                                                          0.1711111111111111,\n",
       "                                                          0.20333333333333334,\n",
       "                                                          0.23555555555555557,\n",
       "                                                          0.2677777777777778,\n",
       "                                                          0.3],\n",
       "                                        'max_bin': [100, 200, 250, 300, 500],\n",
       "                                        'max_depth': [-1, 3, 5, 7, 10, 12, 15,\n",
       "                                                      17, 20],\n",
       "                                        'min_split_gain ': [0, 1, 2, 3],\n",
       "                                        'n_estimators': [100, 252, 405, 557,\n",
       "                                                         710, 863, 1015, 1168,\n",
       "                                                         1321, 1473, 1626, 1778,\n",
       "                                                         1931, 2084, 2236, 2389,\n",
       "                                                         2542, 2694, 2847,\n",
       "                                                         3000],\n",
       "                                        'num_leaves': [10, 13, 17, 20, 24, 27,\n",
       "                                                       31, 35, 38, 42, 45, 49,\n",
       "                                                       52, 56, 60],\n",
       "                                        'tree_learner': ['voting', 'serial']},\n",
       "                   random_state=1234, scoring='neg_mean_absolute_error',\n",
       "                   verbose=5)"
      ]
     },
     "execution_count": 63,
     "metadata": {},
     "output_type": "execute_result"
    }
   ],
   "source": [
    "%%time\n",
    "\n",
    "# Use the random grid to search for best hyperparameters\n",
    "# First create the base model to tune\n",
    "lgbm_rs = lgb.LGBMRegressor(silent = False)\n",
    "\n",
    "# Random search of parameters, using 3 fold cross validation, \n",
    "# search across 100 different combinations, and use all available cores\n",
    "lgbm_rs_random = RandomizedSearchCV(estimator = lgbm_rs, param_distributions = random_grid, n_iter = 150, cv = 2,\n",
    "                                  verbose=5, scoring='neg_mean_absolute_error', random_state=1234, n_jobs = -1)\n",
    "\n",
    "# Fit the random search model\n",
    "lgbm_rs_random.fit(X_train, y_train)"
   ]
  },
  {
   "cell_type": "code",
   "execution_count": 69,
   "metadata": {},
   "outputs": [
    {
     "name": "stdout",
     "output_type": "stream",
     "text": [
      "{'tree_learner': 'voting', 'num_leaves': 45, 'n_estimators': 2694, 'min_split_gain ': 2, 'max_depth': -1, 'max_bin': 200, 'learning_rate': 0.01, 'importance_type': 'gain'}\n"
     ]
    }
   ],
   "source": [
    "print(lgbm_rs_random.best_params_)"
   ]
  },
  {
   "cell_type": "markdown",
   "metadata": {},
   "source": [
    "#### **Building Random Search Best Model**"
   ]
  },
  {
   "cell_type": "code",
   "execution_count": 70,
   "metadata": {},
   "outputs": [
    {
     "name": "stdout",
     "output_type": "stream",
     "text": [
      "[LightGBM] [Warning] min_split_gain is set=0.0, min_split_gain= will be ignored. Current value: min_split_gain=0.0\n",
      "[LightGBM] [Warning] Unknown parameter: 2\n"
     ]
    },
    {
     "ename": "KeyboardInterrupt",
     "evalue": "",
     "output_type": "error",
     "traceback": [
      "\u001b[0;31m---------------------------------------------------------------------------\u001b[0m",
      "\u001b[0;31mKeyboardInterrupt\u001b[0m                         Traceback (most recent call last)",
      "\u001b[0;32m<ipython-input-70-6c9db0b36014>\u001b[0m in \u001b[0;36m<module>\u001b[0;34m\u001b[0m\n\u001b[1;32m      1\u001b[0m \u001b[0mlgbm_rs\u001b[0m \u001b[0;34m=\u001b[0m \u001b[0mlgb\u001b[0m\u001b[0;34m.\u001b[0m\u001b[0mLGBMRegressor\u001b[0m\u001b[0;34m(\u001b[0m\u001b[0;34m)\u001b[0m\u001b[0;34m\u001b[0m\u001b[0;34m\u001b[0m\u001b[0m\n\u001b[1;32m      2\u001b[0m \u001b[0mlgbm_rs\u001b[0m\u001b[0;34m.\u001b[0m\u001b[0mset_params\u001b[0m\u001b[0;34m(\u001b[0m\u001b[0;34m**\u001b[0m\u001b[0mlgbm_rs_random\u001b[0m\u001b[0;34m.\u001b[0m\u001b[0mbest_params_\u001b[0m\u001b[0;34m)\u001b[0m\u001b[0;34m\u001b[0m\u001b[0;34m\u001b[0m\u001b[0m\n\u001b[0;32m----> 3\u001b[0;31m \u001b[0mlgbm_rs\u001b[0m\u001b[0;34m.\u001b[0m\u001b[0mfit\u001b[0m\u001b[0;34m(\u001b[0m\u001b[0mX_train\u001b[0m\u001b[0;34m,\u001b[0m \u001b[0my_train\u001b[0m\u001b[0;34m)\u001b[0m\u001b[0;34m\u001b[0m\u001b[0;34m\u001b[0m\u001b[0m\n\u001b[0m\u001b[1;32m      4\u001b[0m \u001b[0;34m\u001b[0m\u001b[0m\n\u001b[1;32m      5\u001b[0m \u001b[0my_train_pred\u001b[0m \u001b[0;34m=\u001b[0m \u001b[0mlgbm_rs\u001b[0m\u001b[0;34m.\u001b[0m\u001b[0mpredict\u001b[0m\u001b[0;34m(\u001b[0m\u001b[0mX_train\u001b[0m\u001b[0;34m)\u001b[0m\u001b[0;34m\u001b[0m\u001b[0;34m\u001b[0m\u001b[0m\n",
      "\u001b[0;32m/opt/conda/anaconda/lib/python3.7/site-packages/lightgbm/sklearn.py\u001b[0m in \u001b[0;36mfit\u001b[0;34m(self, X, y, sample_weight, init_score, eval_set, eval_names, eval_sample_weight, eval_init_score, eval_metric, early_stopping_rounds, verbose, feature_name, categorical_feature, callbacks, init_model)\u001b[0m\n\u001b[1;32m    777\u001b[0m                                        \u001b[0mverbose\u001b[0m\u001b[0;34m=\u001b[0m\u001b[0mverbose\u001b[0m\u001b[0;34m,\u001b[0m \u001b[0mfeature_name\u001b[0m\u001b[0;34m=\u001b[0m\u001b[0mfeature_name\u001b[0m\u001b[0;34m,\u001b[0m\u001b[0;34m\u001b[0m\u001b[0;34m\u001b[0m\u001b[0m\n\u001b[1;32m    778\u001b[0m                                        \u001b[0mcategorical_feature\u001b[0m\u001b[0;34m=\u001b[0m\u001b[0mcategorical_feature\u001b[0m\u001b[0;34m,\u001b[0m\u001b[0;34m\u001b[0m\u001b[0;34m\u001b[0m\u001b[0m\n\u001b[0;32m--> 779\u001b[0;31m                                        callbacks=callbacks, init_model=init_model)\n\u001b[0m\u001b[1;32m    780\u001b[0m         \u001b[0;32mreturn\u001b[0m \u001b[0mself\u001b[0m\u001b[0;34m\u001b[0m\u001b[0;34m\u001b[0m\u001b[0m\n\u001b[1;32m    781\u001b[0m \u001b[0;34m\u001b[0m\u001b[0m\n",
      "\u001b[0;32m/opt/conda/anaconda/lib/python3.7/site-packages/lightgbm/sklearn.py\u001b[0m in \u001b[0;36mfit\u001b[0;34m(self, X, y, sample_weight, init_score, group, eval_set, eval_names, eval_sample_weight, eval_class_weight, eval_init_score, eval_group, eval_metric, early_stopping_rounds, verbose, feature_name, categorical_feature, callbacks, init_model)\u001b[0m\n\u001b[1;32m    615\u001b[0m                               \u001b[0mevals_result\u001b[0m\u001b[0;34m=\u001b[0m\u001b[0mevals_result\u001b[0m\u001b[0;34m,\u001b[0m \u001b[0mfobj\u001b[0m\u001b[0;34m=\u001b[0m\u001b[0mself\u001b[0m\u001b[0;34m.\u001b[0m\u001b[0m_fobj\u001b[0m\u001b[0;34m,\u001b[0m \u001b[0mfeval\u001b[0m\u001b[0;34m=\u001b[0m\u001b[0meval_metrics_callable\u001b[0m\u001b[0;34m,\u001b[0m\u001b[0;34m\u001b[0m\u001b[0;34m\u001b[0m\u001b[0m\n\u001b[1;32m    616\u001b[0m                               \u001b[0mverbose_eval\u001b[0m\u001b[0;34m=\u001b[0m\u001b[0mverbose\u001b[0m\u001b[0;34m,\u001b[0m \u001b[0mfeature_name\u001b[0m\u001b[0;34m=\u001b[0m\u001b[0mfeature_name\u001b[0m\u001b[0;34m,\u001b[0m\u001b[0;34m\u001b[0m\u001b[0;34m\u001b[0m\u001b[0m\n\u001b[0;32m--> 617\u001b[0;31m                               callbacks=callbacks, init_model=init_model)\n\u001b[0m\u001b[1;32m    618\u001b[0m \u001b[0;34m\u001b[0m\u001b[0m\n\u001b[1;32m    619\u001b[0m         \u001b[0;32mif\u001b[0m \u001b[0mevals_result\u001b[0m\u001b[0;34m:\u001b[0m\u001b[0;34m\u001b[0m\u001b[0;34m\u001b[0m\u001b[0m\n",
      "\u001b[0;32m/opt/conda/anaconda/lib/python3.7/site-packages/lightgbm/engine.py\u001b[0m in \u001b[0;36mtrain\u001b[0;34m(params, train_set, num_boost_round, valid_sets, valid_names, fobj, feval, init_model, feature_name, categorical_feature, early_stopping_rounds, evals_result, verbose_eval, learning_rates, keep_training_booster, callbacks)\u001b[0m\n\u001b[1;32m    250\u001b[0m                                     evaluation_result_list=None))\n\u001b[1;32m    251\u001b[0m \u001b[0;34m\u001b[0m\u001b[0m\n\u001b[0;32m--> 252\u001b[0;31m         \u001b[0mbooster\u001b[0m\u001b[0;34m.\u001b[0m\u001b[0mupdate\u001b[0m\u001b[0;34m(\u001b[0m\u001b[0mfobj\u001b[0m\u001b[0;34m=\u001b[0m\u001b[0mfobj\u001b[0m\u001b[0;34m)\u001b[0m\u001b[0;34m\u001b[0m\u001b[0;34m\u001b[0m\u001b[0m\n\u001b[0m\u001b[1;32m    253\u001b[0m \u001b[0;34m\u001b[0m\u001b[0m\n\u001b[1;32m    254\u001b[0m         \u001b[0mevaluation_result_list\u001b[0m \u001b[0;34m=\u001b[0m \u001b[0;34m[\u001b[0m\u001b[0;34m]\u001b[0m\u001b[0;34m\u001b[0m\u001b[0;34m\u001b[0m\u001b[0m\n",
      "\u001b[0;32m/opt/conda/anaconda/lib/python3.7/site-packages/lightgbm/basic.py\u001b[0m in \u001b[0;36mupdate\u001b[0;34m(self, train_set, fobj)\u001b[0m\n\u001b[1;32m   2440\u001b[0m             _safe_call(_LIB.LGBM_BoosterUpdateOneIter(\n\u001b[1;32m   2441\u001b[0m                 \u001b[0mself\u001b[0m\u001b[0;34m.\u001b[0m\u001b[0mhandle\u001b[0m\u001b[0;34m,\u001b[0m\u001b[0;34m\u001b[0m\u001b[0;34m\u001b[0m\u001b[0m\n\u001b[0;32m-> 2442\u001b[0;31m                 ctypes.byref(is_finished)))\n\u001b[0m\u001b[1;32m   2443\u001b[0m             \u001b[0mself\u001b[0m\u001b[0;34m.\u001b[0m\u001b[0m__is_predicted_cur_iter\u001b[0m \u001b[0;34m=\u001b[0m \u001b[0;34m[\u001b[0m\u001b[0;32mFalse\u001b[0m \u001b[0;32mfor\u001b[0m \u001b[0m_\u001b[0m \u001b[0;32min\u001b[0m \u001b[0mrange_\u001b[0m\u001b[0;34m(\u001b[0m\u001b[0mself\u001b[0m\u001b[0;34m.\u001b[0m\u001b[0m__num_dataset\u001b[0m\u001b[0;34m)\u001b[0m\u001b[0;34m]\u001b[0m\u001b[0;34m\u001b[0m\u001b[0;34m\u001b[0m\u001b[0m\n\u001b[1;32m   2444\u001b[0m             \u001b[0;32mreturn\u001b[0m \u001b[0mis_finished\u001b[0m\u001b[0;34m.\u001b[0m\u001b[0mvalue\u001b[0m \u001b[0;34m==\u001b[0m \u001b[0;36m1\u001b[0m\u001b[0;34m\u001b[0m\u001b[0;34m\u001b[0m\u001b[0m\n",
      "\u001b[0;31mKeyboardInterrupt\u001b[0m: "
     ]
    }
   ],
   "source": [
    "lgbm_rs = lgb.LGBMRegressor()\n",
    "lgbm_rs.set_params(**lgbm_rs_random.best_params_)\n",
    "lgbm_rs.fit(X_train, y_train)\n",
    "\n",
    "y_train_pred = lgbm_rs.predict(X_train)\n",
    "y_train_pred = y_train_pred\n",
    "\n",
    "y_test_pred = lgbm_rs.predict(X_test)\n",
    "y_test_pred = y_test_pred\n",
    "\n",
    "n = len(y_train)\n",
    "p = len(final_features)\n",
    "\n",
    "mse_train = mean_squared_error(y_train, y_train_pred)\n",
    "rmse_train = rmse(y_train,y_train_pred)\n",
    "mae_train = mean_absolute_error(y_train, y_train_pred)\n",
    "mape_train = mean_absolute_percentage_error(y_train,y_train_pred)\n",
    "r2_train = r2_score(y_train,y_train_pred)\n",
    "adj_r2_train = 1-(1-r2_train)*(n-1)/(n-p-1)\n",
    "                   \n",
    "mse_test = mean_squared_error(y_test, y_test_pred)\n",
    "rmse_test = rmse(y_test,y_test_pred)\n",
    "mae_test = mean_absolute_error(y_test, y_test_pred)\n",
    "mape_test = mean_absolute_percentage_error(y_test,y_test_pred)\n",
    "r2_test = r2_score(y_test,y_test_pred)\n",
    "adj_r2_test = 1-(1-r2_test)*(n-1)/(n-p-1)\n",
    "\n",
    "data_train = pd.DataFrame({'Model':'LGBM Random Search', 'Train_Predicted': list(y_train_pred),'Train_Actual': list(y_train) })\n",
    "data_train_list = data_train_list.append(data_train)\n",
    "data_train_list.reset_index(drop=True, inplace=True)\n",
    "\n",
    "data_test = pd.DataFrame({'Model':'LGBM Random Search', 'Test_Predicted': list(y_test_pred),'Test_Actual': list(y_test)})\n",
    "data_test_list = data_test_list.append(data_test)\n",
    "data_test_list.reset_index(drop=True, inplace=True)\n",
    "\n",
    "model_result_df.loc[i] = ['LGBM Random Search', mse_train, rmse_train, mae_train, mape_train, r2_train,adj_r2_train, mse_test, rmse_test, mae_test, mape_test, r2_test, adj_r2_test]\n",
    "i = i + 1"
   ]
  },
  {
   "cell_type": "code",
   "execution_count": 66,
   "metadata": {},
   "outputs": [
    {
     "data": {
      "text/html": [
       "<div>\n",
       "<style scoped>\n",
       "    .dataframe tbody tr th:only-of-type {\n",
       "        vertical-align: middle;\n",
       "    }\n",
       "\n",
       "    .dataframe tbody tr th {\n",
       "        vertical-align: top;\n",
       "    }\n",
       "\n",
       "    .dataframe thead th {\n",
       "        text-align: right;\n",
       "    }\n",
       "</style>\n",
       "<table border=\"1\" class=\"dataframe\">\n",
       "  <thead>\n",
       "    <tr style=\"text-align: right;\">\n",
       "      <th></th>\n",
       "      <th>MODEL_NAME</th>\n",
       "      <th>TRAIN_MSE</th>\n",
       "      <th>TRAIN_RMSE</th>\n",
       "      <th>TRAIN_MAE</th>\n",
       "      <th>TRAIN_MAPE</th>\n",
       "      <th>TRAIN_R2</th>\n",
       "      <th>TRAIN__Adj_R2</th>\n",
       "      <th>TEST_MSE</th>\n",
       "      <th>TEST_RMSE</th>\n",
       "      <th>TEST_MAE</th>\n",
       "      <th>TEST_MAPE</th>\n",
       "      <th>TEST_R2</th>\n",
       "      <th>Test__Adj_R2</th>\n",
       "    </tr>\n",
       "  </thead>\n",
       "  <tbody>\n",
       "    <tr>\n",
       "      <th>0</th>\n",
       "      <td>LGBM Baseline</td>\n",
       "      <td>92754.055761</td>\n",
       "      <td>304.555505</td>\n",
       "      <td>177.037737</td>\n",
       "      <td>119.098700</td>\n",
       "      <td>0.825369</td>\n",
       "      <td>0.825205</td>\n",
       "      <td>122148.075450</td>\n",
       "      <td>349.496889</td>\n",
       "      <td>191.184214</td>\n",
       "      <td>119.600012</td>\n",
       "      <td>0.764535</td>\n",
       "      <td>0.764314</td>\n",
       "    </tr>\n",
       "    <tr>\n",
       "      <th>1</th>\n",
       "      <td>LGBM Random Search</td>\n",
       "      <td>53408.110625</td>\n",
       "      <td>231.101949</td>\n",
       "      <td>145.122462</td>\n",
       "      <td>106.904471</td>\n",
       "      <td>0.899447</td>\n",
       "      <td>0.899352</td>\n",
       "      <td>119002.403903</td>\n",
       "      <td>344.967250</td>\n",
       "      <td>185.974691</td>\n",
       "      <td>114.082243</td>\n",
       "      <td>0.770599</td>\n",
       "      <td>0.770384</td>\n",
       "    </tr>\n",
       "  </tbody>\n",
       "</table>\n",
       "</div>"
      ],
      "text/plain": [
       "           MODEL_NAME     TRAIN_MSE  TRAIN_RMSE   TRAIN_MAE  TRAIN_MAPE  TRAIN_R2  TRAIN__Adj_R2       TEST_MSE   TEST_RMSE    TEST_MAE   TEST_MAPE   TEST_R2  Test__Adj_R2\n",
       "0       LGBM Baseline  92754.055761  304.555505  177.037737  119.098700  0.825369       0.825205  122148.075450  349.496889  191.184214  119.600012  0.764535      0.764314\n",
       "1  LGBM Random Search  53408.110625  231.101949  145.122462  106.904471  0.899447       0.899352  119002.403903  344.967250  185.974691  114.082243  0.770599      0.770384"
      ]
     },
     "execution_count": 66,
     "metadata": {},
     "output_type": "execute_result"
    }
   ],
   "source": [
    "model_result_df.head()"
   ]
  },
  {
   "cell_type": "code",
   "execution_count": 67,
   "metadata": {},
   "outputs": [],
   "source": [
    "y_test_random_search = y_test\n",
    "y_test_pred_random_search = y_test_pred\n",
    "# y_train = np.log(y_train)\n",
    "# y_test = np.log(y_test)"
   ]
  },
  {
   "cell_type": "markdown",
   "metadata": {},
   "source": [
    "#### **Random Forest Random Search: Actual vs Fitted PLot**"
   ]
  },
  {
   "cell_type": "code",
   "execution_count": 68,
   "metadata": {},
   "outputs": [
    {
     "data": {
      "text/plain": [
       "Text(0.5, 1.0, 'Actual vs Fitted : CATB Random Search')"
      ]
     },
     "execution_count": 68,
     "metadata": {},
     "output_type": "execute_result"
    },
    {
     "data": {
      "image/png": "[encoded data removed]",
      "text/plain": [
       "<Figure size 1296x504 with 1 Axes>"
      ]
     },
     "metadata": {},
     "output_type": "display_data"
    }
   ],
   "source": [
    "sns.set(rc={'figure.figsize':(18,7)})\n",
    "sns.set_style(\"white\")\n",
    "ax = sns.regplot(x=\"Test_Actual\", y=\"Test_Predicted\", data=data_test_list[data_test_list.Model=='LGBM Random Search'], line_kws={\"color\": \"lightgreen\"})\n",
    "ax.set_xlim(0,7000)\n",
    "ax.set_ylim(0,7000)\n",
    "ax.set_title('Actual vs Fitted : CATB Random Search')"
   ]
  },
  {
   "cell_type": "markdown",
   "metadata": {},
   "source": [
    "# **Grid Search with Cross Validation**\n",
    "- Random search allowed us to narrow down the range for each hyperparameter\n",
    "- Now that we know where to concentrate our search, we can explicitly specify every combination of settings to try\n",
    "- We do this with GridSearchCV, a method that, instead of sampling randomly from a distribution, evaluates all combinations we define."
   ]
  },
  {
   "cell_type": "code",
   "execution_count": 71,
   "metadata": {},
   "outputs": [
    {
     "name": "stdout",
     "output_type": "stream",
     "text": [
      "{'tree_learner': 'voting', 'num_leaves': 45, 'n_estimators': 2694, 'min_split_gain ': 2, 'max_depth': -1, 'max_bin': 200, 'learning_rate': 0.01, 'importance_type': 'gain'}\n"
     ]
    }
   ],
   "source": [
    "print(lgbm_rs_random.best_params_)"
   ]
  },
  {
   "cell_type": "code",
   "execution_count": 82,
   "metadata": {},
   "outputs": [
    {
     "name": "stdout",
     "output_type": "stream",
     "text": [
      "{'importance_type': ['gain'],\n",
      " 'learning_rate': [0.01, 0.023333333333333334, 0.03666666666666667, 0.05],\n",
      " 'max_bin': [200],\n",
      " 'max_depth': [-1, 2, 4],\n",
      " 'n_estimators': [2000, 2250, 2500, 2750, 3000],\n",
      " 'num_leaves': [40, 46, 53, 60]}\n"
     ]
    }
   ],
   "source": [
    "importance_type = ['gain']\n",
    "max_bin  = [200]\n",
    "\n",
    "# Number of trees in random forest\n",
    "n_estimators = [int(x) for x in np.linspace(start = 2000, stop = 3000, num = 5)]\n",
    "\n",
    "# Number of features to consider at every split\n",
    "learning_rate = [x for x in np.linspace(start = 0.01, stop = 0.05, num = 4)]\n",
    "\n",
    "# Maximum number of levels in tree\n",
    "max_depth = [-1, 2, 4]\n",
    "\n",
    "# Minimum number of samples required to split a node\n",
    "num_leaves = [int(x) for x in np.linspace(40, 60, num = 4)]\n",
    "\n",
    "# Create the random grid\n",
    "random_grid = {'n_estimators': n_estimators,\n",
    "               'importance_type': importance_type,\n",
    "               'learning_rate': learning_rate,\n",
    "               'max_depth': max_depth,\n",
    "               'num_leaves': num_leaves,\n",
    "              'max_bin': max_bin}\n",
    "\n",
    "pprint(random_grid)"
   ]
  },
  {
   "cell_type": "code",
   "execution_count": null,
   "metadata": {},
   "outputs": [
    {
     "name": "stdout",
     "output_type": "stream",
     "text": [
      "Fitting 2 folds for each of 240 candidates, totalling 480 fits\n"
     ]
    },
    {
     "name": "stderr",
     "output_type": "stream",
     "text": [
      "[Parallel(n_jobs=-1)]: Using backend LokyBackend with 16 concurrent workers.\n",
      "[Parallel(n_jobs=-1)]: Done  40 tasks      | elapsed:  5.6min\n",
      "[Parallel(n_jobs=-1)]: Done 130 tasks      | elapsed: 12.6min\n",
      "[Parallel(n_jobs=-1)]: Done 256 tasks      | elapsed: 24.4min\n",
      "[Parallel(n_jobs=-1)]: Done 418 tasks      | elapsed: 41.0min\n",
      "[Parallel(n_jobs=-1)]: Done 480 out of 480 | elapsed: 44.3min finished\n"
     ]
    },
    {
     "data": {
      "text/plain": [
       "GridSearchCV(cv=2, estimator=LGBMRegressor(), n_jobs=-1,\n",
       "             param_grid={'importance_type': ['gain'],\n",
       "                         'learning_rate': [0.01, 0.023333333333333334,\n",
       "                                           0.03666666666666667, 0.05],\n",
       "                         'max_bin': [200], 'max_depth': [-1, 2, 4],\n",
       "                         'n_estimators': [2000, 2250, 2500, 2750, 3000],\n",
       "                         'num_leaves': [40, 46, 53, 60]},\n",
       "             scoring='neg_mean_absolute_error', verbose=5)"
      ]
     },
     "execution_count": 84,
     "metadata": {},
     "output_type": "execute_result"
    }
   ],
   "source": [
    "from sklearn.model_selection import GridSearchCV\n",
    "\n",
    "# First create the base model to tune\n",
    "lgbm_gs = lgb.LGBMRegressor()\n",
    "\n",
    "# Random search of parameters, using 3 fold cross validation, \n",
    "# search across 100 different combinations, and use all available cores\n",
    "lgbm_gs_p = GridSearchCV(estimator = lgbm_gs, param_grid = random_grid, cv = 2,\n",
    "                                  verbose=5, scoring='neg_mean_absolute_error', n_jobs = -1)\n",
    "\n",
    "# Fit the random search model\n",
    "lgbm_gs_p.fit(X_train, y_train)"
   ]
  },
  {
   "cell_type": "code",
   "execution_count": 86,
   "metadata": {},
   "outputs": [
    {
     "name": "stdout",
     "output_type": "stream",
     "text": [
      "{'importance_type': 'gain', 'learning_rate': 0.01, 'max_bin': 200, 'max_depth': -1, 'n_estimators': 3000, 'num_leaves': 60}\n"
     ]
    }
   ],
   "source": [
    "print(lgbm_gs_p.best_params_)"
   ]
  },
  {
   "cell_type": "markdown",
   "metadata": {},
   "source": [
    "{'importance_type': 'gain', 'learning_rate': 0.01, 'max_bin': 200, 'max_depth': -1, 'n_estimators': 3000, 'num_leaves': 60}"
   ]
  },
  {
   "cell_type": "markdown",
   "metadata": {},
   "source": [
    "#### **Building Grid Search Best Model**"
   ]
  },
  {
   "cell_type": "code",
   "execution_count": 92,
   "metadata": {},
   "outputs": [],
   "source": [
    "lgbm_gs = lgb.LGBMRegressor(tree_learner = 'voting',min_split_gain = 2)\n",
    "lgbm_gs.set_params(**lgbm_gs_p.best_params_)\n",
    "lgbm_gs.fit(X_train, y_train)\n",
    "\n",
    "y_train_pred = lgbm_gs.predict(X_train)\n",
    "y_train_pred = y_train_pred\n",
    "\n",
    "y_test_pred = lgbm_gs.predict(X_test)\n",
    "y_test_pred = y_test_pred\n",
    "\n",
    "n = len(y_train)\n",
    "p = len(final_features)\n",
    "\n",
    "mse_train = mean_squared_error(y_train, y_train_pred)\n",
    "rmse_train = rmse(y_train,y_train_pred)\n",
    "mae_train = mean_absolute_error(y_train, y_train_pred)\n",
    "mape_train = mean_absolute_percentage_error(y_train,y_train_pred)\n",
    "r2_train = r2_score(y_train,y_train_pred)\n",
    "adj_r2_train = 1-(1-r2_train)*(n-1)/(n-p-1)\n",
    "                   \n",
    "mse_test = mean_squared_error(y_test, y_test_pred)\n",
    "rmse_test = rmse(y_test,y_test_pred)\n",
    "mae_test = mean_absolute_error(y_test, y_test_pred)\n",
    "mape_test = mean_absolute_percentage_error(y_test,y_test_pred)\n",
    "r2_test = r2_score(y_test,y_test_pred)\n",
    "adj_r2_test = 1-(1-r2_test)*(n-1)/(n-p-1)\n",
    "\n",
    "data_train = pd.DataFrame({'Model':'LGBM Grid Search', 'Train_Predicted': list(y_train_pred),'Train_Actual': list(y_train) })\n",
    "data_train_list = data_train_list.append(data_train)\n",
    "data_train_list.reset_index(drop=True, inplace=True)\n",
    "\n",
    "data_test = pd.DataFrame({'Model':'LGBM Grid Search', 'Test_Predicted': list(y_test_pred),'Test_Actual': list(y_test)})\n",
    "data_test_list = data_test_list.append(data_test)\n",
    "data_test_list.reset_index(drop=True, inplace=True)\n",
    "\n",
    "model_result_df.loc[i] = ['LGBM Grid Search', mse_train, rmse_train, mae_train, mape_train, r2_train,adj_r2_train, mse_test, rmse_test, mae_test, mape_test, r2_test, adj_r2_test]\n",
    "i = i + 1"
   ]
  },
  {
   "cell_type": "code",
   "execution_count": 93,
   "metadata": {},
   "outputs": [
    {
     "data": {
      "text/html": [
       "<div>\n",
       "<style scoped>\n",
       "    .dataframe tbody tr th:only-of-type {\n",
       "        vertical-align: middle;\n",
       "    }\n",
       "\n",
       "    .dataframe tbody tr th {\n",
       "        vertical-align: top;\n",
       "    }\n",
       "\n",
       "    .dataframe thead th {\n",
       "        text-align: right;\n",
       "    }\n",
       "</style>\n",
       "<table border=\"1\" class=\"dataframe\">\n",
       "  <thead>\n",
       "    <tr style=\"text-align: right;\">\n",
       "      <th></th>\n",
       "      <th>MODEL_NAME</th>\n",
       "      <th>TRAIN_MSE</th>\n",
       "      <th>TRAIN_RMSE</th>\n",
       "      <th>TRAIN_MAE</th>\n",
       "      <th>TRAIN_MAPE</th>\n",
       "      <th>TRAIN_R2</th>\n",
       "      <th>TRAIN__Adj_R2</th>\n",
       "      <th>TEST_MSE</th>\n",
       "      <th>TEST_RMSE</th>\n",
       "      <th>TEST_MAE</th>\n",
       "      <th>TEST_MAPE</th>\n",
       "      <th>TEST_R2</th>\n",
       "      <th>Test__Adj_R2</th>\n",
       "    </tr>\n",
       "  </thead>\n",
       "  <tbody>\n",
       "    <tr>\n",
       "      <th>0</th>\n",
       "      <td>LGBM Baseline</td>\n",
       "      <td>92754.055761</td>\n",
       "      <td>304.555505</td>\n",
       "      <td>177.037737</td>\n",
       "      <td>119.098700</td>\n",
       "      <td>0.825369</td>\n",
       "      <td>0.825205</td>\n",
       "      <td>122148.075450</td>\n",
       "      <td>349.496889</td>\n",
       "      <td>191.184214</td>\n",
       "      <td>119.600012</td>\n",
       "      <td>0.764535</td>\n",
       "      <td>0.764314</td>\n",
       "    </tr>\n",
       "    <tr>\n",
       "      <th>1</th>\n",
       "      <td>LGBM Random Search</td>\n",
       "      <td>53408.110625</td>\n",
       "      <td>231.101949</td>\n",
       "      <td>145.122462</td>\n",
       "      <td>106.904471</td>\n",
       "      <td>0.899447</td>\n",
       "      <td>0.899352</td>\n",
       "      <td>119002.403903</td>\n",
       "      <td>344.967250</td>\n",
       "      <td>185.974691</td>\n",
       "      <td>114.082243</td>\n",
       "      <td>0.770599</td>\n",
       "      <td>0.770384</td>\n",
       "    </tr>\n",
       "    <tr>\n",
       "      <th>2</th>\n",
       "      <td>LGBM Grid Search</td>\n",
       "      <td>41672.784998</td>\n",
       "      <td>204.139131</td>\n",
       "      <td>131.672354</td>\n",
       "      <td>100.994450</td>\n",
       "      <td>0.921541</td>\n",
       "      <td>0.921468</td>\n",
       "      <td>118868.925363</td>\n",
       "      <td>344.773731</td>\n",
       "      <td>184.894154</td>\n",
       "      <td>112.907538</td>\n",
       "      <td>0.770856</td>\n",
       "      <td>0.770641</td>\n",
       "    </tr>\n",
       "    <tr>\n",
       "      <th>3</th>\n",
       "      <td>LGBM Grid Search</td>\n",
       "      <td>41672.784998</td>\n",
       "      <td>204.139131</td>\n",
       "      <td>131.672354</td>\n",
       "      <td>100.994450</td>\n",
       "      <td>0.921541</td>\n",
       "      <td>0.921468</td>\n",
       "      <td>118868.925363</td>\n",
       "      <td>344.773731</td>\n",
       "      <td>184.894154</td>\n",
       "      <td>112.907538</td>\n",
       "      <td>0.770856</td>\n",
       "      <td>0.770641</td>\n",
       "    </tr>\n",
       "  </tbody>\n",
       "</table>\n",
       "</div>"
      ],
      "text/plain": [
       "           MODEL_NAME     TRAIN_MSE  TRAIN_RMSE   TRAIN_MAE  TRAIN_MAPE  TRAIN_R2  TRAIN__Adj_R2       TEST_MSE   TEST_RMSE    TEST_MAE   TEST_MAPE   TEST_R2  Test__Adj_R2\n",
       "0       LGBM Baseline  92754.055761  304.555505  177.037737  119.098700  0.825369       0.825205  122148.075450  349.496889  191.184214  119.600012  0.764535      0.764314\n",
       "1  LGBM Random Search  53408.110625  231.101949  145.122462  106.904471  0.899447       0.899352  119002.403903  344.967250  185.974691  114.082243  0.770599      0.770384\n",
       "2    LGBM Grid Search  41672.784998  204.139131  131.672354  100.994450  0.921541       0.921468  118868.925363  344.773731  184.894154  112.907538  0.770856      0.770641\n",
       "3    LGBM Grid Search  41672.784998  204.139131  131.672354  100.994450  0.921541       0.921468  118868.925363  344.773731  184.894154  112.907538  0.770856      0.770641"
      ]
     },
     "execution_count": 93,
     "metadata": {},
     "output_type": "execute_result"
    }
   ],
   "source": [
    "model_result_df"
   ]
  },
  {
   "cell_type": "code",
   "execution_count": null,
   "metadata": {},
   "outputs": [],
   "source": [
    "data_train_list.to_csv('gs://aes-datahub-0002-curated/Outage_Restoration/DPL_Curated_Datasets/Train_Data_DPL_DataRobo_RF_Ckt_lvl_OT_10292020_1.csv')\n",
    "data_test_list.to_csv('gs://aes-datahub-0002-curated/Outage_Restoration/DPL_Curated_Datasets/Test_Data_DPL_Datarobo_RF_Ckt_lvl_OT_10292020_1.csv')"
   ]
  },
  {
   "cell_type": "code",
   "execution_count": 94,
   "metadata": {},
   "outputs": [],
   "source": [
    "y_test_grid_search = y_test\n",
    "y_test_pred_grid_search = y_test_pred\n"
   ]
  },
  {
   "cell_type": "markdown",
   "metadata": {},
   "source": [
    "#### **Random Forest Grid Search: Actual vs Fitted Plot**"
   ]
  },
  {
   "cell_type": "code",
   "execution_count": 96,
   "metadata": {},
   "outputs": [
    {
     "data": {
      "text/plain": [
       "Text(0.5, 1.0, 'Actual vs Fitted : Random Forest Grid Search CV')"
      ]
     },
     "execution_count": 96,
     "metadata": {},
     "output_type": "execute_result"
    },
    {
     "data": {
      "image/png": "[encoded data removed]",
      "text/plain": [
       "<Figure size 1296x360 with 1 Axes>"
      ]
     },
     "metadata": {},
     "output_type": "display_data"
    }
   ],
   "source": [
    "sns.set(rc={'figure.figsize':(18,5)})\n",
    "sns.set_style(\"white\")\n",
    "ax = sns.regplot(x=\"Test_Actual\", y=\"Test_Predicted\", data=data_test_list[data_test_list.Model=='LGBM Grid Search'], line_kws={\"color\": \"lightblue\"})\n",
    "ax.set_xlim(0,7000)\n",
    "ax.set_ylim(0,7000)\n",
    "ax.set_title('Actual vs Fitted : Random Forest Grid Search CV')"
   ]
  },
  {
   "cell_type": "code",
   "execution_count": null,
   "metadata": {},
   "outputs": [],
   "source": [
    "data_train_list.to_csv('gs://aes-datahub-0002-curated/Outage_Restoration/DPL_Curated_Datasets/Train_Data_DPL_2.3_modified_Catboost20201122.csv')\n",
    "data_test_list.to_csv('gs://aes-datahub-0002-curated/Outage_Restoration/DPL_Curated_Datasets/Train_Data_DPL_2.3_modified_Catboost_20201122.csv')"
   ]
  },
  {
   "cell_type": "markdown",
   "metadata": {},
   "source": [
    "# **Selecting the best model**"
   ]
  },
  {
   "cell_type": "code",
   "execution_count": null,
   "metadata": {},
   "outputs": [],
   "source": [
    "model_result_df"
   ]
  },
  {
   "cell_type": "markdown",
   "metadata": {},
   "source": [
    "## **Model business metric** Storm + Bluesky"
   ]
  },
  {
   "cell_type": "code",
   "execution_count": null,
   "metadata": {},
   "outputs": [],
   "source": [
    "y_test_pred = y_test_pred_random_search\n",
    "y_test = y_test_random_search\n",
    "\n",
    "business_KPI = customer_metrics(y_test,y_test_pred)\n",
    "# y_train = np.log(y_train)\n",
    "# y_test = np.log(y_test)\n",
    "# y_test_pred = np.log(y_test_pred)\n",
    "\n",
    "df_percentage = np.round(business_KPI*100/business_KPI.iloc[-1, -1], 1)\n",
    "df_percentage = df_percentage.fillna(0)\n",
    "df_percentage = df_percentage.astype(str) + \"%\"\n",
    "df_percentage"
   ]
  },
  {
   "cell_type": "markdown",
   "metadata": {},
   "source": [
    "## Splitting the metric in Storm and Blue sky events"
   ]
  },
  {
   "cell_type": "code",
   "execution_count": null,
   "metadata": {},
   "outputs": [],
   "source": [
    "df_result = pd.DataFrame(data={'y_test': y_test, 'y_test_pred': y_test_pred , 'EVENT': event_})\n",
    "# df_result.to_csv('gs://aes-datahub-0002-curated/Outage_Restoration/DPL_Curated_Datasets/Testdata_DPL_Datarobo_RF_Ckt_lvl_10292020_1.csv')\n",
    "model_col = ['EVENT' , 'TEST_MSE', 'TEST_RMSE', 'TEST_MAE', 'TEST_MAPE']\n",
    "best_model_result_df = pd.DataFrame(columns=model_col)\n",
    "i=0"
   ]
  },
  {
   "cell_type": "code",
   "execution_count": null,
   "metadata": {},
   "outputs": [],
   "source": [
    "mse_test = mean_squared_error(df_result.y_test, df_result.y_test_pred)\n",
    "rmse_test = rmse(df_result.y_test, df_result.y_test_pred)\n",
    "mae_test = mean_absolute_error(df_result.y_test, df_result.y_test_pred)\n",
    "mape_test = mean_absolute_percentage_error(df_result.y_test, df_result.y_test_pred)\n",
    "best_model_result_df.loc[i] = ['XGboost Random Search All', mse_test, rmse_test, mae_test, mape_test]\n",
    "i = i + 1\n",
    "\n",
    "mse_test = mean_squared_error(df_result[df_result.EVENT == 'STORM'].y_test, df_result[df_result.EVENT == 'STORM'].y_test_pred)\n",
    "rmse_test = rmse(df_result[df_result.EVENT == 'STORM'].y_test, df_result[df_result.EVENT == 'STORM'].y_test_pred)\n",
    "mae_test = mean_absolute_error(df_result[df_result.EVENT == 'STORM'].y_test, df_result[df_result.EVENT == 'STORM'].y_test_pred)\n",
    "mape_test = mean_absolute_percentage_error(df_result[df_result.EVENT == 'STORM'].y_test, df_result[df_result.EVENT == 'STORM'].y_test_pred)\n",
    "best_model_result_df.loc[i] = ['XGboost Random Search All',mse_test, rmse_test, mae_test, mape_test]\n",
    "i = i + 1\n",
    "\n",
    "mse_test = mean_squared_error(df_result[df_result.EVENT == 'BLUE SKY'].y_test, df_result[df_result.EVENT == 'BLUE SKY'].y_test_pred)\n",
    "rmse_test = rmse(df_result[df_result.EVENT == 'BLUE SKY'].y_test, df_result[df_result.EVENT == 'BLUE SKY'].y_test_pred)\n",
    "mae_test = mean_absolute_error(df_result[df_result.EVENT == 'BLUE SKY'].y_test, df_result[df_result.EVENT == 'BLUE SKY'].y_test_pred)\n",
    "mape_test = mean_absolute_percentage_error(df_result[df_result.EVENT == 'BLUE SKY'].y_test, df_result[df_result.EVENT == 'BLUE SKY'].y_test_pred)\n",
    "best_model_result_df.loc[i] = ['XGboost Random Search All', mse_test, rmse_test, mae_test, mape_test]\n",
    "i = i + 1\n",
    "\n",
    "best_model_result_df"
   ]
  },
  {
   "cell_type": "markdown",
   "metadata": {},
   "source": [
    "### Residual plot"
   ]
  },
  {
   "cell_type": "markdown",
   "metadata": {},
   "source": [
    "#### Storm + Bluesky"
   ]
  },
  {
   "cell_type": "code",
   "execution_count": null,
   "metadata": {},
   "outputs": [],
   "source": [
    "sns.set(rc={'figure.figsize':(18,5)})\n",
    "sns.set_style(\"white\")\n",
    "ax = sns.regplot(x=\"y_test\", y=\"y_test_pred\", data=df_result, line_kws={\"color\": \"lightblue\"})\n",
    "ax.set_xlim(0,7000)\n",
    "ax.set_ylim(0,7000)\n",
    "ax.set_title('Actual vs Fitted : Random Forest Baseline')\n",
    "ax.set(xlabel='Actual TTR', ylabel='Predicted TTR')"
   ]
  },
  {
   "cell_type": "markdown",
   "metadata": {},
   "source": [
    "#### Storm"
   ]
  },
  {
   "cell_type": "code",
   "execution_count": null,
   "metadata": {},
   "outputs": [],
   "source": [
    "sns.set(rc={'figure.figsize':(18,5)})\n",
    "sns.set_style(\"white\")\n",
    "ax = sns.regplot(x=\"y_test\", y=\"y_test_pred\", data=df_result[df_result.EVENT == 'STORM'], line_kws={\"color\": \"lightblue\"})\n",
    "ax.set_xlim(0,7000)\n",
    "ax.set_ylim(0,7000)\n",
    "ax.set_title('Actual vs Fitted : Random Forest Baseline')\n",
    "ax.set(xlabel='Actual TTR', ylabel='Predicted TTR')"
   ]
  },
  {
   "cell_type": "markdown",
   "metadata": {},
   "source": [
    "#### Bluesky"
   ]
  },
  {
   "cell_type": "code",
   "execution_count": null,
   "metadata": {},
   "outputs": [],
   "source": [
    "sns.set(rc={'figure.figsize':(18,5)})\n",
    "sns.set_style(\"white\")\n",
    "ax = sns.regplot(x=\"y_test\", y=\"y_test_pred\", data=df_result[df_result.EVENT == 'BLUE SKY'], line_kws={\"color\": \"lightblue\"})\n",
    "ax.set_xlim(0,1500)\n",
    "ax.set_ylim(0,1500)\n",
    "ax.set_title('Actual vs Fitted : Random Forest Baseline')\n",
    "ax.set(xlabel='Actual TTR', ylabel='Predicted TTR')"
   ]
  },
  {
   "cell_type": "markdown",
   "metadata": {},
   "source": [
    "## Business metrics for Storm Events"
   ]
  },
  {
   "cell_type": "code",
   "execution_count": null,
   "metadata": {},
   "outputs": [],
   "source": [
    "business_KPI = customer_metrics_storm(df_result[df_result.EVENT == 'STORM'].y_test, df_result[df_result.EVENT == 'STORM'].y_test_pred)\n",
    "df_percentage = np.round(business_KPI*100/business_KPI.iloc[-1, -1], 1)\n",
    "df_percentage = df_percentage.fillna(0)\n",
    "df_percentage = df_percentage.astype(str) + \"%\"\n",
    "df_percentage.loc[['0-120','120-240','240-360','360-480','480-600','600-720','720-840','840-960','960-1080','1080-1200','1200-1320','1320-1440','>1440'],\n",
    "                  ['0-120','120-240','240-360','360-480','480-600','600-720','720-840','840-960','960-1080','1080-1200','1200-1320','1320-1440','>1440']]"
   ]
  },
  {
   "cell_type": "markdown",
   "metadata": {},
   "source": [
    "## Business metrics for Blue sky Events"
   ]
  },
  {
   "cell_type": "code",
   "execution_count": null,
   "metadata": {},
   "outputs": [],
   "source": [
    "business_KPI = customer_metrics(df_result[df_result.EVENT == 'BLUE SKY'].y_test, df_result[df_result.EVENT == 'BLUE SKY'].y_test_pred)\n",
    "df_percentage = np.round(business_KPI*100/business_KPI.iloc[-1, -1], 1)\n",
    "df_percentage = df_percentage.fillna(0)\n",
    "df_percentage = df_percentage.astype(str) + \"%\"\n",
    "df_percentage"
   ]
  },
  {
   "cell_type": "markdown",
   "metadata": {},
   "source": [
    "## **Saving Model Object using Pickle File**"
   ]
  },
  {
   "cell_type": "code",
   "execution_count": null,
   "metadata": {},
   "outputs": [],
   "source": [
    "import gcsfs\n",
    "\n",
    "fs = gcsfs.GCSFileSystem(project='aes-datahub-0002')\n",
    "fs.ls('aes-datahub-0002-curated/Outage_Restoration/Historical_Data/PickleFiles')\n",
    "with fs.open('aes-datahub-0002-curated/Outage_Restoration/Historical_Data/PickleFiles/DPL_ADSv2.3_modified_Catboost11232020_base.pkl', 'wb') as f:\n",
    "    pickle.dump(cat_base, f)\n",
    "    \n",
    "fs = gcsfs.GCSFileSystem(project='aes-datahub-0002')\n",
    "fs.ls('aes-datahub-0002-curated/Outage_Restoration/Historical_Data/PickleFiles')\n",
    "with fs.open('aes-datahub-0002-curated/Outage_Restoration/Historical_Data/PickleFiles/DPL_ADSv2.3_modified_Catboost11232020_RS.pkl', 'wb') as f:\n",
    "    pickle.dump(cat_rs, f)"
   ]
  },
  {
   "cell_type": "markdown",
   "metadata": {},
   "source": [
    "## **Load Model Object using Pickle File**"
   ]
  },
  {
   "cell_type": "code",
   "execution_count": null,
   "metadata": {},
   "outputs": [],
   "source": [
    "import gcsfs\n",
    "\n",
    "fs = gcsfs.GCSFileSystem(project='aes-datahub-0002')\n",
    "\n",
    "with fs.open('aes-datahub-0002-curated/Outage_Restoration/Historical_Data/PickleFiles/DPL_ADSv2.3_modified_Catboost11232020_RS.pkl', 'rb') as f:\n",
    "    rf_model = pickle.load(f)"
   ]
  },
  {
   "cell_type": "markdown",
   "metadata": {},
   "source": [
    "# **Nov 15th Out of Sample Validation**"
   ]
  },
  {
   "cell_type": "code",
   "execution_count": 97,
   "metadata": {},
   "outputs": [],
   "source": [
    "import pandas as pd\n",
    "import numpy as np\n",
    "from dateutil.parser import parse\n",
    "from datetime import datetime\n",
    "from datetime import date\n",
    "import csv\n",
    "import matplotlib.pyplot as plt\n",
    "import math\n",
    "import regex as re\n",
    "from scipy.stats import linregress\n",
    "import seaborn as sns\n",
    "plt.style.use('fivethirtyeight')\n",
    "import warnings\n",
    "from IPython.display import display_html\n",
    "warnings.filterwarnings('ignore')\n",
    "%matplotlib inline"
   ]
  },
  {
   "cell_type": "markdown",
   "metadata": {},
   "source": [
    "### Reading Dataset"
   ]
  },
  {
   "cell_type": "code",
   "execution_count": 98,
   "metadata": {},
   "outputs": [],
   "source": [
    "df_all = pd.read_csv('gs://aes-analytics-0002-curated/DPL/Backfilling/DPL_outage_20201115.csv')"
   ]
  },
  {
   "cell_type": "code",
   "execution_count": 99,
   "metadata": {},
   "outputs": [],
   "source": [
    "def feature_add(group):\n",
    "    group = group.reset_index(drop = True)\n",
    "    x = [group.Outages_in_last_1hr[0],group.Outages_in_last_2hr[0],group.Outages_in_last_3hr[0],group.Outages_in_last_4hr[0],group.Outages_in_last_5hr[0]\n",
    "        ,group.Outages_in_last_6hr[0],group.Outages_in_last_7hr[0],group.Outages_in_last_8hr[0],group.Outages_in_last_9hr[0],group.Outages_in_last_10hr[0]]\n",
    "    y = [1,2,3,4,5,6,7,8,9,10]\n",
    "    slope, intercept, r_value, p_value, std_err = linregress(x, y)\n",
    "    group['Slope_outages'] = slope\n",
    "    \n",
    "    ROC = [abs(group.Outages_in_last_1hr[0] - group.Outages_in_last_2hr[0]),abs(group.Outages_in_last_2hr[0] - group.Outages_in_last_3hr[0]),\n",
    "           abs(group.Outages_in_last_3hr[0] - group.Outages_in_last_4hr[0]),abs(group.Outages_in_last_4hr[0] - group.Outages_in_last_5hr[0]),\n",
    "           abs(group.Outages_in_last_5hr[0] - group.Outages_in_last_6hr[0]),abs(group.Outages_in_last_6hr[0] - group.Outages_in_last_7hr[0]),\n",
    "           abs(group.Outages_in_last_7hr[0] - group.Outages_in_last_8hr[0]),abs(group.Outages_in_last_8hr[0] - group.Outages_in_last_9hr[0]),\n",
    "           abs(group.Outages_in_last_9hr[0] - group.Outages_in_last_10hr[0])]\n",
    "    y = [1,2,3,4,5,6,7,8,9]\n",
    "    slope, intercept, r_value, p_value, std_err = linregress(ROC, y)\n",
    "    group['Slope_ROC_outages'] = slope\n",
    "    \n",
    "    group['max_ROC_outages'] = max(ROC)\n",
    "    group['max_index_ROC'] = 1+ROC.index(max(ROC))    \n",
    "    group['weight_ROC'] = group['max_ROC_outages'] * group['max_index_ROC']*0.1\n",
    "    return group\n",
    "\n",
    "df_all = df_all.groupby(['OUTAGE_ID'], as_index = False).apply(feature_add).reset_index(drop = True)\n",
    "\n",
    "df_all['TIME_OF_FIRST_CALL'] = pd.to_datetime(df_all['TIME_OF_FIRST_CALL'], errors = 'coerce')\n",
    "df_all.sort_values(by=['TIME_OF_FIRST_CALL'], inplace = True)\n",
    "\n",
    "# Total Customers\n",
    "df_all['Total_Customers'] = df_all['TOTCUST_A'] + df_all['TOTCUST_B'] + df_all['TOTCUST_C']\n",
    "\n",
    "# Total Key Customers\n",
    "df_all['Total_Key_Customers'] = df_all['LFS_CUSTS'] + df_all['MED_CUSTS'] + df_all['EMR_CUSTS'] + df_all['UTL_CUSTS'] + df_all['MAJ_CUSTS'] + df_all['GOV_CUSTS'] + df_all['LRT_CUSTS']\n",
    "\n",
    "# Month Cycle Capture\n",
    "df_all['Month_Sin'] = np.sin(df_all.TIME_OF_FIRST_CALL.dt.month*(2.*np.pi/24))\n",
    "df_all['Month_Cos'] = np.cos(df_all.TIME_OF_FIRST_CALL.dt.month*(2.*np.pi/24))\n",
    "df_all['Month_Sin'] = np.sin(df_all.TIME_OF_FIRST_CALL.dt.month*(2.*np.pi/24))\n",
    "df_all['Month_Cos'] = np.cos(df_all.TIME_OF_FIRST_CALL.dt.month*(2.*np.pi/24))\n",
    "\n",
    "# Pole Related Causes\n",
    "df_all['Pole'] = df_all['WIREDOWN_PTH'] +  df_all['WIREDOWN_PTP'] + df_all['TREEONWIRE_PTH'] + df_all['TREEONWIRE_PTP'] + df_all['BROKENPOLE']\n",
    "\n",
    "# Accounting for busiest service centers location\n",
    "df_all['Nearest_service_center_mod'] = df_all.Nearest_service_center.apply(lambda x: \"Center\" if ( (x== 'DSB') | (x== 'North Dayton') ) else \"Not_Center\")"
   ]
  },
  {
   "cell_type": "markdown",
   "metadata": {},
   "source": [
    "### Dummifying Categorical Variables"
   ]
  },
  {
   "cell_type": "code",
   "execution_count": 100,
   "metadata": {
    "Collapsed": "false"
   },
   "outputs": [
    {
     "name": "stdout",
     "output_type": "stream",
     "text": [
      "['CIRCUIT', 'DEVICE', 'SORTNUMBER', 'OUTAGE_NAME', 'CONFIDENCE', 'REMARKS', 'ANALYZER', 'DATETIMEADDED', 'ECD', 'LASTUPDATE', 'Day_flag', 'DATE', 'weekday', 'Weekend_flag', 'Nearest_service_center', 'Marker_Location', 'DEVICETYPE', 'DEVICESIZE', 'TOPFUSE', 'VOLTAGE', 'UNDERGD', 'NORMALLYOPEN', 'timestampInit', 'Nearest_service_center_mod']\n",
      "(757, 343)\n",
      "(757, 333)\n"
     ]
    }
   ],
   "source": [
    "object_columns = df_all.loc[:, (df_all.dtypes == object) | (df_all.dtypes == bool)]\n",
    "print(list(object_columns.columns))\n",
    "\n",
    "# Dummifying one hot code encoding\n",
    "df_all = pd.get_dummies(df_all, columns=['CONFIDENCE', 'weekday', 'Marker_Location', 'Nearest_service_center',\n",
    "                                   'DEVICETYPE','Nearest_service_center_mod','VOLTAGE'])\n",
    "print(df_all.shape)\n",
    "\n",
    "# Dropping duplicate columns\n",
    "df_all = df_all.loc[:,~df_all.columns.duplicated()]\n",
    "\n",
    "print(df_all.shape)"
   ]
  },
  {
   "cell_type": "markdown",
   "metadata": {},
   "source": [
    "### Running on Nov 15th Events"
   ]
  },
  {
   "cell_type": "code",
   "execution_count": 102,
   "metadata": {},
   "outputs": [],
   "source": [
    "df_all['Marker_Location_Marker 53'] = 0\n",
    "df_all['weekday_Monday'] = 0\n",
    "\n",
    "\n",
    "# Selecting Required Features\n",
    "ads_15 = df_all[final_features]\n",
    "\n",
    "\n",
    "# Running Predictions\n",
    "y_pred_15_base = lgbm_gs.predict(ads_15)\n",
    "# y_pred_15 = np.exp(y_pred_15)"
   ]
  },
  {
   "cell_type": "markdown",
   "metadata": {},
   "source": [
    "### Adding Aligned Business Layer"
   ]
  },
  {
   "cell_type": "code",
   "execution_count": 103,
   "metadata": {},
   "outputs": [],
   "source": [
    "def business_layer_add_addtional_time(predicted_values):\n",
    "    '''\n",
    "    Input - Prediction of Outages in minutes\n",
    "    Output - If predicted values are less than 1440 min\n",
    "    Add 45 mins to predictions, Else Add 360 mins to predictions\n",
    "    '''\n",
    "    new_pred_values = []\n",
    "    for i in range(len(predicted_values)):\n",
    "        if predicted_values[i] <= 1440:\n",
    "            new_pred_values.append(predicted_values[i] + 45)\n",
    "        elif predicted_values[i] > 1440:\n",
    "            new_pred_values.append(predicted_values[i] + 360)\n",
    "        else :\n",
    "            new_pred_values.append(predicted_values[i])\n",
    "    return new_pred_values\n",
    "\n",
    "Y_TEST_PRED_base = business_layer_add_addtional_time(y_pred_15_base)\n",
    "\n",
    "df_all['New_Model_Predictions_base'] = Y_TEST_PRED_base"
   ]
  },
  {
   "cell_type": "markdown",
   "metadata": {},
   "source": [
    "### Predictions Distribution without business layer"
   ]
  },
  {
   "cell_type": "code",
   "execution_count": 104,
   "metadata": {},
   "outputs": [
    {
     "data": {
      "image/png": "[encoded data removed]",
      "text/plain": [
       "<Figure size 432x288 with 1 Axes>"
      ]
     },
     "metadata": {
      "needs_background": "light"
     },
     "output_type": "display_data"
    }
   ],
   "source": [
    "plt.boxplot(Y_TEST_PRED_base)\n",
    "plt.show()"
   ]
  },
  {
   "cell_type": "code",
   "execution_count": 105,
   "metadata": {},
   "outputs": [
    {
     "name": "stderr",
     "output_type": "stream",
     "text": [
      "No handles with labels found to put in legend.\n"
     ]
    },
    {
     "data": {
      "text/plain": [
       "Text(0.5, 1.0, 'Actual vs Fitted : CATB Baseline')"
      ]
     },
     "execution_count": 105,
     "metadata": {},
     "output_type": "execute_result"
    },
    {
     "data": {
      "image/png": "[encoded data removed]",
      "text/plain": [
       "<Figure size 1296x504 with 1 Axes>"
      ]
     },
     "metadata": {},
     "output_type": "display_data"
    }
   ],
   "source": [
    "sns.set(rc={'figure.figsize':(18,7)})\n",
    "sns.set_style(\"darkgrid\")\n",
    "\n",
    "ax = sns.regplot(x=\"TTR_Actual\", y=\"New_Model_Predictions_base\", data=results_all)\n",
    "# ax = sns.regplot(x=\"TTR_Actual\", y=\"TTR_TCMS\", data=results_all, color = \"red\")\n",
    "ax.legend()\n",
    "ax.set_title('Actual vs Fitted : CATB Baseline')"
   ]
  },
  {
   "cell_type": "code",
   "execution_count": 58,
   "metadata": {},
   "outputs": [
    {
     "data": {
      "text/plain": [
       "37"
      ]
     },
     "execution_count": 58,
     "metadata": {},
     "output_type": "execute_result"
    }
   ],
   "source": [
    "len(results_all[results_all.TTR_TCMS >= results_all.TTR_Actual])"
   ]
  },
  {
   "cell_type": "code",
   "execution_count": 108,
   "metadata": {},
   "outputs": [
    {
     "data": {
      "text/plain": [
       "74"
      ]
     },
     "execution_count": 108,
     "metadata": {},
     "output_type": "execute_result"
    }
   ],
   "source": [
    "len(results_all[results_all.New_Model_Predictions_base >= results_all.TTR_Actual])"
   ]
  },
  {
   "cell_type": "code",
   "execution_count": 60,
   "metadata": {},
   "outputs": [
    {
     "data": {
      "text/plain": [
       "115"
      ]
     },
     "execution_count": 60,
     "metadata": {},
     "output_type": "execute_result"
    }
   ],
   "source": [
    "len(results_all[results_all.TTR_TCMS >= results_all.New_Model_Predictions_base])"
   ]
  },
  {
   "cell_type": "code",
   "execution_count": 61,
   "metadata": {},
   "outputs": [
    {
     "data": {
      "text/plain": [
       "284"
      ]
     },
     "execution_count": 61,
     "metadata": {},
     "output_type": "execute_result"
    }
   ],
   "source": [
    "len(results_all[results_all.TTR_Actual >= results_all.New_Model_Predictions_base])"
   ]
  },
  {
   "cell_type": "markdown",
   "metadata": {},
   "source": [
    "### Getting 15th Diagnostic Results"
   ]
  },
  {
   "cell_type": "code",
   "execution_count": 107,
   "metadata": {},
   "outputs": [
    {
     "name": "stdout",
     "output_type": "stream",
     "text": [
      "Current Model MAE:  1476.1319407008084\n",
      "Current Model RMSE:  1617.1795344985064\n",
      "\n",
      " New Model base MAE:  994.1091081263828\n",
      "New Model base RMSE:  1203.9147683898634\n",
      "\n",
      " TCMS Model MAE:  962.3605226480837\n",
      "TCMS Model RMSE:  1218.001545660926\n"
     ]
    }
   ],
   "source": [
    "# Reading diagnostic table\n",
    "diag_15 = pd.read_csv('gs://aes-analytics-0002-curated/DPL/Backfilling/Diagnostic_15th.csv')\n",
    "diag_15 = diag_15[['OUTAGE_ID', 'TTR_TCMS','TIME_OF_FIRST_CALL', 'DATETIMERELEASED','ERT', 'TTR_Actual', 'TTR_Model',]]\n",
    "\n",
    "# Combining Results\n",
    "results_all = pd.merge(df_all[['OUTAGE_ID', 'New_Model_Predictions_base']], diag_15, how='inner', on='OUTAGE_ID')\n",
    "\n",
    "# Comparison\n",
    "print('Current Model MAE: ', mean_absolute_error(results_all.TTR_Actual, results_all.TTR_Model))\n",
    "print('Current Model RMSE: ', rmse(results_all.TTR_Actual, results_all.TTR_Model))\n",
    "\n",
    "print('\\n','New Model base MAE: ', mean_absolute_error(results_all.TTR_Actual, results_all.New_Model_Predictions_base))\n",
    "print('New Model base RMSE: ', rmse(results_all.TTR_Actual, results_all.New_Model_Predictions_base))\n",
    "\n",
    "results_all_mo = results_all.dropna()\n",
    "print('\\n','TCMS Model MAE: ', mean_absolute_error(results_all_mo.TTR_Actual, results_all_mo.TTR_TCMS))\n",
    "print('TCMS Model RMSE: ', rmse(results_all_mo.TTR_Actual, results_all_mo.TTR_TCMS))"
   ]
  },
  {
   "cell_type": "code",
   "execution_count": null,
   "metadata": {},
   "outputs": [],
   "source": [
    "results_all.sort_values(by='New_Model_Predictions_base')"
   ]
  },
  {
   "cell_type": "code",
   "execution_count": null,
   "metadata": {},
   "outputs": [],
   "source": [
    "import warnings\n",
    "import logging\n",
    "import datetime\n",
    "import pandas as pd\n",
    "import numpy as np\n",
    "from pandas.io import gbq\n",
    "\n",
    "PROJECT_ID = 'aes-analytics-0002'\n",
    "DATASET = 'mds_outage_restoration'\n",
    "TABLE = 'DPL_New_Model_15_3'\n",
    "\n",
    "results_all['TTR_Model'] = results_all['New_Model_Predictions_base']\n",
    "results_all.drop(columns=['New_Model_Predictions_base'], inplace = True)"
   ]
  },
  {
   "cell_type": "code",
   "execution_count": null,
   "metadata": {},
   "outputs": [],
   "source": [
    "results_all.to_gbq(\"\"\"{dataset}.{output_tbl}\"\"\".format(dataset=DATASET, output_tbl=TABLE),\n",
    "           project_id=PROJECT_ID, chunksize=None, reauth=False, if_exists='replace',\n",
    "           auth_local_webserver=False, table_schema=None, location=None,\n",
    "           progress_bar=True, credentials=None)"
   ]
  },
  {
   "cell_type": "markdown",
   "metadata": {},
   "source": [
    "## **Load Model Object using Pickle File**"
   ]
  },
  {
   "cell_type": "code",
   "execution_count": null,
   "metadata": {},
   "outputs": [],
   "source": [
    "df_all = pd.read_csv('gs://aes-datahub-0002-curated/Outage_Restoration/DPL_Curated_Datasets/DPL_circuitLevel_Master_dataset_v1.3.csv')\n",
    "df_all = df_all[df_all.columns[:63]]\n",
    "df_all['DATETIMESTART'] = pd.to_datetime(df_all['DATETIMESTART'], infer_datetime_format = True, errors = 'coerce')\n",
    "df_all = df_all[df_all.DATETIMESTART.dt.year == 2020]\n",
    "df_all['DATE'] = df_all['DATE'].str[:10]\n",
    "\n",
    "df_weather = pd.read_csv('gs://aes-datahub-0002-curated/Outage_Restoration/DPL_Curated_Datasets/DPL_all_marker_weather_data_2020.csv')\n",
    "df_weather['timestamp'] = df_weather['timestamp'].str[:10]\n",
    "\n",
    "df_all = pd.merge(df_all, df_weather, left_on = ['DATE','Marker_Location'], right_on = ['timestamp','Location'], how = 'inner')\n",
    "\n",
    "df_all['tempRange'] = df_all['tempMax'] - df_all['tempMin']\n",
    "df_all['windSpdRange'] = df_all['windSpdMax'] - df_all['windSpdMin']\n",
    "df_all['sfcPresRange'] = df_all['sfcPresMax'] - df_all['sfcPresMin']\n",
    "df_all['cldCvrRange'] = df_all['cldCvrMax'] - df_all['cldCvrMin']\n",
    "df_all['relHumRange'] = df_all['relHumMax'] - df_all['relHumMin']\n",
    "\n",
    "df_all['relHumRatio'] = df_all['relHumMax'] / df_all['relHumMin']\n",
    "df_all['sfcPresRatio'] = df_all['sfcPresMax'] / df_all['sfcPresMin']\n",
    "df_all['Nearest_service_center_Washington Court House'] = 0\n",
    "df_all['Nearest_service_center_Eaton'] = 0\n",
    "df_all['Nearest_service_center_Marysville'] = 0\n",
    "df_all['weekday_Tuesday'] = 0\n",
    "df_all['Marker_Location_Marker 15'] = 0\n",
    "df_all['Marker_Location_Marker 4'] = 0\n",
    "df_all['Marker_Location_Marker 18'] = 0\n",
    "df_all['Marker_Location_Marker 11'] = 0\n",
    "df_all['Marker_Location_Marker 15'] = 0\n",
    "df_all['Marker_Location_Marker 17'] = 0\n",
    "df_all['Marker_Location_Marker 8'] = 0\n",
    "df_all['Marker_Location_Marker 7'] = 0\n",
    "df_all['Marker_Location_Marker 14'] = 0\n",
    "df_all['Marker_Location_Marker 39'] = 0\n",
    "df_all['Marker_Location_Marker 21'] = 0\n",
    "df_all['Marker_Location_Marker 33'] = 0"
   ]
  },
  {
   "cell_type": "code",
   "execution_count": null,
   "metadata": {},
   "outputs": [],
   "source": [
    "event_ = df_all['EVENT']\n",
    "df_all.shape"
   ]
  },
  {
   "cell_type": "code",
   "execution_count": null,
   "metadata": {},
   "outputs": [],
   "source": [
    "df_all[df_all['EVENT'] == 'STORM'].shape"
   ]
  },
  {
   "cell_type": "code",
   "execution_count": null,
   "metadata": {},
   "outputs": [],
   "source": [
    "X = df_all[final_features]\n",
    "y = df_all.TTR\n",
    "\n",
    "y_test_pred = rf_model.predict(X)\n",
    "\n",
    "df_result = pd.DataFrame(data={'y_test': y, 'y_test_pred': y_test_pred , 'EVENT': event_})\n",
    "\n",
    "model_col = ['EVENT' , 'TEST_MSE', 'TEST_RMSE', 'TEST_MAE', 'TEST_MAPE', 'R2_Score']\n",
    "validation_result_df = pd.DataFrame(columns=model_col)\n",
    "i=0"
   ]
  },
  {
   "cell_type": "code",
   "execution_count": null,
   "metadata": {},
   "outputs": [],
   "source": [
    "mse_test = mean_squared_error(df_result.y_test, df_result.y_test_pred)\n",
    "rmse_test = rmse(df_result.y_test, df_result.y_test_pred)\n",
    "mae_test = mean_absolute_error(df_result.y_test, df_result.y_test_pred)\n",
    "mape_test = mean_absolute_percentage_error(df_result.y_test, df_result.y_test_pred)\n",
    "r2_test = r2_score(df_result.y_test, df_result.y_test_pred)\n",
    "\n",
    "validation_result_df.loc[i] = ['2020 Validation Storm + Blue sky', mse_test, rmse_test, mae_test, mape_test, r2_test]\n",
    "i = i + 1\n",
    "\n",
    "mse_test = mean_squared_error(df_result[df_result.EVENT == 'STORM'].y_test, df_result[df_result.EVENT == 'STORM'].y_test_pred)\n",
    "rmse_test = rmse(df_result[df_result.EVENT == 'STORM'].y_test, df_result[df_result.EVENT == 'STORM'].y_test_pred)\n",
    "mae_test = mean_absolute_error(df_result[df_result.EVENT == 'STORM'].y_test, df_result[df_result.EVENT == 'STORM'].y_test_pred)\n",
    "mape_test = mean_absolute_percentage_error(df_result[df_result.EVENT == 'STORM'].y_test, df_result[df_result.EVENT == 'STORM'].y_test_pred)\n",
    "r2_test = r2_score(df_result[df_result.EVENT == 'STORM'].y_test, df_result[df_result.EVENT == 'STORM'].y_test_pred)\n",
    "validation_result_df.loc[i] = ['2020 Validation Storm', mse_test, rmse_test, mae_test, mape_test, r2_test]\n",
    "i = i + 1\n",
    "\n",
    "mse_test = mean_squared_error(df_result[df_result.EVENT == 'BLUE SKY'].y_test, df_result[df_result.EVENT == 'BLUE SKY'].y_test_pred)\n",
    "rmse_test = rmse(df_result[df_result.EVENT == 'BLUE SKY'].y_test, df_result[df_result.EVENT == 'BLUE SKY'].y_test_pred)\n",
    "mae_test = mean_absolute_error(df_result[df_result.EVENT == 'BLUE SKY'].y_test, df_result[df_result.EVENT == 'BLUE SKY'].y_test_pred)\n",
    "mape_test = mean_absolute_percentage_error(df_result[df_result.EVENT == 'BLUE SKY'].y_test, df_result[df_result.EVENT == 'BLUE SKY'].y_test_pred)\n",
    "r2_test = r2_score(df_result[df_result.EVENT == 'BLUE SKY'].y_test, df_result[df_result.EVENT == 'BLUE SKY'].y_test_pred)\n",
    "validation_result_df.loc[i] = ['2020 Validation Blue sky', mse_test, rmse_test, mae_test, mape_test, r2_test]\n",
    "i = i + 1\n",
    "\n",
    "validation_result_df"
   ]
  },
  {
   "cell_type": "markdown",
   "metadata": {},
   "source": [
    "## Business metrics for Storm + Blue sky Events"
   ]
  },
  {
   "cell_type": "code",
   "execution_count": null,
   "metadata": {},
   "outputs": [],
   "source": [
    "business_KPI = customer_metrics(df_result.y_test, df_result.y_test_pred)\n",
    "df_percentage = np.round(business_KPI*100/business_KPI.iloc[-1, -1], 1)\n",
    "df_percentage = df_percentage.fillna(0)\n",
    "df_percentage = df_percentage.astype(str) + \"%\"\n",
    "df_percentage"
   ]
  },
  {
   "cell_type": "markdown",
   "metadata": {},
   "source": [
    "## Business metrics for Storm Events"
   ]
  },
  {
   "cell_type": "code",
   "execution_count": null,
   "metadata": {},
   "outputs": [],
   "source": [
    "business_KPI = customer_metrics_storm(df_result[df_result.EVENT == 'STORM'].y_test, df_result[df_result.EVENT == 'STORM'].y_test_pred)\n",
    "df_percentage = np.round(business_KPI*100/business_KPI.iloc[-1, -1], 1)\n",
    "df_percentage = df_percentage.fillna(0)\n",
    "df_percentage = df_percentage.astype(str) + \"%\"\n",
    "df_percentage\n",
    "# df_percentage.loc[['0-120','120-240','240-360','360-480','480-600','1080-1200','>1440'],['0-120','120-240',]]"
   ]
  },
  {
   "cell_type": "markdown",
   "metadata": {},
   "source": [
    "## Business metrics for Blue sky Events"
   ]
  },
  {
   "cell_type": "code",
   "execution_count": null,
   "metadata": {},
   "outputs": [],
   "source": [
    "business_KPI = customer_metrics(df_result[df_result.EVENT == 'BLUE SKY'].y_test, df_result[df_result.EVENT == 'BLUE SKY'].y_test_pred)\n",
    "df_percentage = np.round(business_KPI*100/business_KPI.iloc[-1, -1], 1)\n",
    "df_percentage = df_percentage.fillna(0)\n",
    "df_percentage = df_percentage.astype(str) + \"%\"\n",
    "df_percentage"
   ]
  },
  {
   "cell_type": "markdown",
   "metadata": {},
   "source": [
    "### Residual plot"
   ]
  },
  {
   "cell_type": "markdown",
   "metadata": {},
   "source": [
    "#### Storm + Bluesky"
   ]
  },
  {
   "cell_type": "code",
   "execution_count": null,
   "metadata": {},
   "outputs": [],
   "source": [
    "sns.set(rc={'figure.figsize':(18,5)})\n",
    "sns.set_style(\"white\")\n",
    "ax = sns.regplot(x=\"y_test\", y=\"y_test_pred\", data=df_result, line_kws={\"color\": \"lightblue\"})\n",
    "ax.set_xlim(0,800)\n",
    "ax.set_ylim(0,800)\n",
    "ax.set_title('Actual vs Fitted : Random Forest Baseline')\n",
    "ax.set(xlabel='Actual TTR', ylabel='Predicted TTR')"
   ]
  },
  {
   "cell_type": "markdown",
   "metadata": {},
   "source": [
    "#### Storm"
   ]
  },
  {
   "cell_type": "code",
   "execution_count": null,
   "metadata": {},
   "outputs": [],
   "source": [
    "sns.set(rc={'figure.figsize':(18,5)})\n",
    "sns.set_style(\"white\")\n",
    "\n",
    "ax = sns.regplot(x=\"y_test\", y=\"y_test_pred\", data=df_result[df_result.EVENT == 'STORM'], line_kws={\"color\": \"lightblue\"})\n",
    "ax.set_xlim(0,800)\n",
    "ax.set_ylim(0,800)\n",
    "ax.set_title('Actual vs Fitted : Random Forest Baseline')\n",
    "ax.set(xlabel='Actual TTR', ylabel='Predicted TTR')"
   ]
  },
  {
   "cell_type": "markdown",
   "metadata": {},
   "source": [
    "#### Bluesky"
   ]
  },
  {
   "cell_type": "code",
   "execution_count": null,
   "metadata": {},
   "outputs": [],
   "source": [
    "sns.set(rc={'figure.figsize':(18,5)})\n",
    "sns.set_style(\"white\")\n",
    "ax = sns.regplot(x=\"y_test\", y=\"y_test_pred\", data=df_result[df_result.EVENT == 'BLUE SKY'], line_kws={\"color\": \"lightblue\"})\n",
    "ax.set_xlim(0,800)\n",
    "ax.set_ylim(0,800)\n",
    "ax.set_title('Actual vs Fitted : Random Forest Baseline')\n",
    "ax.set(xlabel='Actual TTR', ylabel='Predicted TTR')"
   ]
  },
  {
   "cell_type": "code",
   "execution_count": null,
   "metadata": {},
   "outputs": [],
   "source": [
    "df_result.to_csv('gs://aes-datahub-0002-curated/Outage_Restoration/DPL_Curated_Datasets/Datarobo_RF_Model_2020_Results_Ckt_lvl_OT_1.csv')"
   ]
  }
 ],
 "metadata": {
  "kernelspec": {
   "display_name": "Python 3",
   "language": "python",
   "name": "python3"
  },
  "language_info": {
   "codemirror_mode": {
    "name": "ipython",
    "version": 3
   },
   "file_extension": ".py",
   "mimetype": "text/x-python",
   "name": "python",
   "nbconvert_exporter": "python",
   "pygments_lexer": "ipython3",
   "version": "3.7.1"
  },
  "toc": {
   "base_numbering": 1,
   "nav_menu": {},
   "number_sections": true,
   "sideBar": true,
   "skip_h1_title": false,
   "title_cell": "Table of Contents",
   "title_sidebar": "Contents",
   "toc_cell": false,
   "toc_position": {},
   "toc_section_display": true,
   "toc_window_display": true
  },
  "varInspector": {
   "cols": {
    "lenName": 16,
    "lenType": 16,
    "lenVar": 40
   },
   "kernels_config": {
    "python": {
     "delete_cmd_postfix": "",
     "delete_cmd_prefix": "del ",
     "library": "var_list.py",
     "varRefreshCmd": "print(var_dic_list())"
    },
    "r": {
     "delete_cmd_postfix": ") ",
     "delete_cmd_prefix": "rm(",
     "library": "var_list.r",
     "varRefreshCmd": "cat(var_dic_list()) "
    }
   },
   "types_to_exclude": [
    "module",
    "function",
    "builtin_function_or_method",
    "instance",
    "_Feature"
   ],
   "window_display": false
  }
 },
 "nbformat": 4,
 "nbformat_minor": 4
}
